{
 "cells": [
  {
   "cell_type": "markdown",
   "id": "613bae22-5138-407f-85c3-89e00a8d7ab3",
   "metadata": {},
   "source": [
    "# <center>Introduction to Pandas</center>"
   ]
  },
  {
   "cell_type": "markdown",
   "id": "0da111db-60cb-47ad-a223-c265611d022d",
   "metadata": {},
   "source": [
    "Covered in this chapter:\n",
    "\n",
    "1) What is Pandas?<br>\n",
    "2) Why use Pandas?<br>\n",
    "3) What is a DataFrame?<br>\n",
    "4) How to Install Pandas<br>\n",
    "5) How to Import Pandas (as PD!!)<br>\n",
    "6) How to Create a DataFrame from a Dictionary<br>\n",
    "7) How to Display a DataFrame<br>\n",
    "8) How to Save a DataFrame to CSV<br>\n",
    "9) How to Create a DataFrame from a CSV File<br>\n",
    "10) How to Create a DataFrame from a JSON File<br>\n",
    "11) How to Add a Column to a DataFrame<br>\n",
    "12) How to Grab a Specific Column of a DataFrame<br>\n",
    "13) How to Convert a Column to a List<br>\n",
    "14) How to Grab a Specific Row of a DataFrame"
   ]
  },
  {
   "cell_type": "markdown",
   "id": "20e7eff2-8416-4384-923b-4a8ebe0fa5f4",
   "metadata": {},
   "source": [
    "In this chapter, we will begin learning about Pandas, a powerful Python library used for working with tabular data. Throughout this chapter, you will learn about the basics of Pandas, why its useful, how to install it, and how to use it to perform basic tasks."
   ]
  },
  {
   "cell_type": "code",
   "execution_count": null,
   "id": "35f79947-1d1b-46f3-b912-cf6f4530e7b4",
   "metadata": {},
   "outputs": [],
   "source": []
  }
 ],
 "metadata": {
  "kernelspec": {
   "display_name": "Python 3 (ipykernel)",
   "language": "python",
   "name": "python3"
  },
  "language_info": {
   "codemirror_mode": {
    "name": "ipython",
    "version": 3
   },
   "file_extension": ".py",
   "mimetype": "text/x-python",
   "name": "python",
   "nbconvert_exporter": "python",
   "pygments_lexer": "ipython3",
   "version": "3.9.12"
  }
 },
 "nbformat": 4,
 "nbformat_minor": 5
}
