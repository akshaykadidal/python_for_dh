{
 "cells": [
  {
   "cell_type": "markdown",
   "id": "613bae22-5138-407f-85c3-89e00a8d7ab3",
   "metadata": {},
   "source": [
    "# <center>Searching for Data</center>"
   ]
  },
  {
   "cell_type": "markdown",
   "id": "21928968-147e-43d1-86b7-21befc415493",
   "metadata": {},
   "source": [
    "Covered in this chapter:\n",
    "\n",
    "1) How to find Strings with Specific Features<br>\n",
    "2) Finding Strings without Certain Features<br>\n",
    "3) Larger Pandas Queries with RegEx<br>\n",
    "4) How and When to use the Filter() Function<br>\n",
    "5) How and When to use the Query() Function<br>\n",
    "6) What is the Purpose of Groupby()<br>\n",
    "7) What are Pandas Group Objects<br>\n",
    "8) How to Analyze Group Objects Quantitatively<br>\n",
    "9) How to work with Multiple Groupings at Once<br>"
   ]
  },
  {
   "cell_type": "code",
   "execution_count": null,
   "id": "368b7b8b-acae-448d-bf24-ea9c115dfbb8",
   "metadata": {},
   "outputs": [],
   "source": []
  }
 ],
 "metadata": {
  "kernelspec": {
   "display_name": "Python 3 (ipykernel)",
   "language": "python",
   "name": "python3"
  },
  "language_info": {
   "codemirror_mode": {
    "name": "ipython",
    "version": 3
   },
   "file_extension": ".py",
   "mimetype": "text/x-python",
   "name": "python",
   "nbconvert_exporter": "python",
   "pygments_lexer": "ipython3",
   "version": "3.9.12"
  }
 },
 "nbformat": 4,
 "nbformat_minor": 5
}
