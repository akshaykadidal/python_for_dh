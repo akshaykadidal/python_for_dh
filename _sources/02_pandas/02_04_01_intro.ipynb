{
 "cells": [
  {
   "cell_type": "markdown",
   "id": "613bae22-5138-407f-85c3-89e00a8d7ab3",
   "metadata": {},
   "source": [
    "# Advanced Pandas"
   ]
  },
  {
   "cell_type": "markdown",
   "id": "46885edd-2777-4ad8-a472-2e61eefbc700",
   "metadata": {},
   "source": [
    "Covered in this chapter:\n",
    "\n",
    "1) Key Ways to Plot Data in Pandas<br>\n",
    "2) How to Create a Bar or Barh Graph<br>\n",
    "3) How to Create a Pie Chart<br>\n",
    "4) How to Plot Data in a Scatter Plot\n",
    "5) How to Get Network Data from Pandas to NetworkX<br>\n",
    "6) How to Graph the Data<br>\n",
    "7) How to Customize the Graph<br>\n",
    "8) How to Work with Time Series Data\n",
    "9) How to Work with NaN in Time Series Data\n",
    "10) How to Convert Floats and Ints into Time Series Data\n",
    "11) How to Plot Time Series Data"
   ]
  },
  {
   "cell_type": "code",
   "execution_count": null,
   "id": "9aa14f35-4f60-4f63-afd6-828ec309cd53",
   "metadata": {},
   "outputs": [],
   "source": []
  }
 ],
 "metadata": {
  "kernelspec": {
   "display_name": "Python 3 (ipykernel)",
   "language": "python",
   "name": "python3"
  },
  "language_info": {
   "codemirror_mode": {
    "name": "ipython",
    "version": 3
   },
   "file_extension": ".py",
   "mimetype": "text/x-python",
   "name": "python",
   "nbconvert_exporter": "python",
   "pygments_lexer": "ipython3",
   "version": "3.9.12"
  }
 },
 "nbformat": 4,
 "nbformat_minor": 5
}
