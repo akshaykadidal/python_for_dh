{
 "cells": [
  {
   "cell_type": "markdown",
   "id": "613bae22-5138-407f-85c3-89e00a8d7ab3",
   "metadata": {},
   "source": [
    "# <center>Working with Data in Pandas</center>"
   ]
  },
  {
   "cell_type": "markdown",
   "id": "c8e971f4-a16f-4839-a443-ac19bfd4e6e6",
   "metadata": {},
   "source": [
    "Covered in this chapter:\n",
    "\n",
    "1) How to Find Column Names<br>\n",
    "2) How to Get a Quick Sense of the Dataset<br>\n",
    "3) How to Grab a Specific Range of Rows<br>\n",
    "4) How to Get a Quick Quantitative Understanding of the Dataset<br>\n",
    "5) How to Find Specific Information in the Dataset<br>\n",
    "6) How to use Or in a DataFrame query<br>\n",
    "7) How to Sort Data by Single Column<br>\n",
    "8) How to Reverse Sort Data by Single Column<br>\n",
    "9) How to Sort Data by Multiple Columns<br>\n",
    "10) How to Sort Data by Multiple Columns with Different Values Organized Differently<br>\n",
    "11) How to Drop a Column in the DataFrame<br>\n",
    "12) How to Remove Rows that have NaN in any Column<br>\n",
    "13) How to Remove Rows that have NaN in a Specific Column<br>\n",
    "14) How to Convert DataFrame Data Types (from Float to Int)"
   ]
  },
  {
   "cell_type": "code",
   "execution_count": null,
   "id": "e601f7c1-4d48-4ec1-942a-23eb569b1636",
   "metadata": {},
   "outputs": [],
   "source": []
  }
 ],
 "metadata": {
  "kernelspec": {
   "display_name": "Python 3 (ipykernel)",
   "language": "python",
   "name": "python3"
  },
  "language_info": {
   "codemirror_mode": {
    "name": "ipython",
    "version": 3
   },
   "file_extension": ".py",
   "mimetype": "text/x-python",
   "name": "python",
   "nbconvert_exporter": "python",
   "pygments_lexer": "ipython3",
   "version": "3.9.12"
  }
 },
 "nbformat": 4,
 "nbformat_minor": 5
}
