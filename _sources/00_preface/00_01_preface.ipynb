{
 "cells": [
  {
   "cell_type": "markdown",
   "id": "6e804c4a-d233-4cd3-a0f2-e973af937cde",
   "metadata": {},
   "source": [
    "# Preface"
   ]
  },
  {
   "cell_type": "markdown",
   "id": "f0a805ff-3986-4916-951c-c65da2065fa0",
   "metadata": {},
   "source": [
    "I designed this textbook to serve two functions. First, it is designed to function as a primary to Python for humanists (or, more generally, those without coding experience or a background in computer science). In this regard, readers will acquire a basic understanding of necessary background information, such as data and data structures, as well as the basics of Python.\n",
    "\n",
    "Second, this textbook is designed to not only provide the reader with a basic understanding of Python and how to use it, but how to apply it specifically to humanities-based problems. The book particularly explores applying Python in data analysis with Pandas, natural language processing (NLP) with spaCy, topic modeling with Gensim (for LDA topic modeling) and Top2Vec (for modern topic modeling).\n",
    "\n",
    "When I first began programming around 2015, there were not many resources available to humanists who wanted to learn to code. [The Programming Historian](https://programminghistorian.org) was one of the few websites specifically designed for humanists. Today, it is an invaluable resource."
   ]
  }
 ],
 "metadata": {
  "kernelspec": {
   "display_name": "Python 3 (ipykernel)",
   "language": "python",
   "name": "python3"
  },
  "language_info": {
   "codemirror_mode": {
    "name": "ipython",
    "version": 3
   },
   "file_extension": ".py",
   "mimetype": "text/x-python",
   "name": "python",
   "nbconvert_exporter": "python",
   "pygments_lexer": "ipython3",
   "version": "3.9.7"
  }
 },
 "nbformat": 4,
 "nbformat_minor": 5
}
