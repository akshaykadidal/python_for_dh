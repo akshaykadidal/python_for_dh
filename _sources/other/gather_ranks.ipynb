{
 "cells": [
  {
   "cell_type": "code",
   "execution_count": 20,
   "id": "13566556-45e1-4eda-b86a-20520ba76566",
   "metadata": {},
   "outputs": [],
   "source": [
    "import pandas as pd\n",
    "import glob"
   ]
  },
  {
   "cell_type": "code",
   "execution_count": 22,
   "id": "2ba73c76-0a2e-4aee-b474-25c209d7f667",
   "metadata": {},
   "outputs": [
    {
     "data": {
      "text/plain": [
       "3"
      ]
     },
     "execution_count": 22,
     "metadata": {},
     "output_type": "execute_result"
    }
   ],
   "source": [
    "files = glob.glob(\"../data/military-*.csv\")\n",
    "len(files)"
   ]
  },
  {
   "cell_type": "code",
   "execution_count": 29,
   "id": "e0202e47-02dd-48a3-8bd7-545e5e45853a",
   "metadata": {},
   "outputs": [
    {
     "data": {
      "text/plain": [
       "317"
      ]
     },
     "execution_count": 29,
     "metadata": {},
     "output_type": "execute_result"
    }
   ],
   "source": [
    "ranks = []\n",
    "for file in files:\n",
    "    df = pd.read_csv(file)\n",
    "    for idx, row in df.iterrows():\n",
    "        for column in row:\n",
    "            if pd.isnull(column) == False:\n",
    "                column = column.replace(\"/\", \", \").replace(\"\\n\", \", \").replace(\"(\", \"\").replace(\")\", \"\")\n",
    "                options = column.split(\",\")\n",
    "                for option in options:\n",
    "                        ranks.append(option.strip())\n",
    "ranks = list(set(ranks))\n",
    "ranks.sort()\n",
    "len(ranks)"
   ]
  },
  {
   "cell_type": "code",
   "execution_count": 31,
   "id": "f914d9aa-e525-477c-a5a5-7d55ff4f5358",
   "metadata": {},
   "outputs": [],
   "source": [
    "with open(\"../data/military_ranks.txt\", \"w\", encoding=\"utf-8\") as f:\n",
    "    f.write(\"\\n\".join(ranks))"
   ]
  },
  {
   "cell_type": "code",
   "execution_count": null,
   "id": "677b3c01-c6c0-4a72-bd99-6b154532cdb4",
   "metadata": {},
   "outputs": [],
   "source": []
  }
 ],
 "metadata": {
  "kernelspec": {
   "display_name": "Python 3 (ipykernel)",
   "language": "python",
   "name": "python3"
  },
  "language_info": {
   "codemirror_mode": {
    "name": "ipython",
    "version": 3
   },
   "file_extension": ".py",
   "mimetype": "text/x-python",
   "name": "python",
   "nbconvert_exporter": "python",
   "pygments_lexer": "ipython3",
   "version": "3.9.12"
  }
 },
 "nbformat": 4,
 "nbformat_minor": 5
}
