{
 "cells": [
  {
   "cell_type": "markdown",
   "id": "15257c06-3315-4001-b4ee-1050e05179b1",
   "metadata": {},
   "source": [
    "# <center>Producing Dynamic Graphs with PyVis</center>"
   ]
  },
  {
   "cell_type": "markdown",
   "id": "4667f181-900a-4c3b-af25-7a2d03cd0133",
   "metadata": {},
   "source": [
    "[PyVis](https://pyvis.readthedocs.io/en/latest/index.html) is a powerful Python library that is capable of outputting an HTML file which contains the data and JavaScript necessary for users to view and engage with network data. It has a fairly large community and is well-supported. One of its largest advantages over NetworkX and Matplotlib is in the dynamic nature of the graphs.\n",
    "\n",
    "Dynamic graphs, or those that can be manipulated by a user in some capacity, are better suited than static graphs for networks that a large or more complex.\n",
    "\n",
    "There are other libraries for doing similar steps as laid out here. Bokeh is a suitable alternative. The main issue with Bokeh is that it has a steep learning curve and, while it certainly offers greater flexibility and customization options than PyVis, it can be challenging for those newer to Python. As we will see, you can produce quality, dynamic network graphs with PyVis in just a few lines of Python code. For this reason, I am opting to focus on PyVis in this section.\n",
    "\n",
    "You can install PyVis via `pip` by running in the command line:\n",
    "\n",
    "```\n",
    "pip install pyvis\n",
    "```\n",
    "\n",
    "This should install PyVis on your system."
   ]
  },
  {
   "cell_type": "markdown",
   "id": "64a81760-af71-47dc-9e00-c7af202a3048",
   "metadata": {},
   "source": [
    "## The Basics of PyVis"
   ]
  },
  {
   "cell_type": "markdown",
   "id": "422f0bd6-c9bd-4ebc-bc90-d9917d7d8059",
   "metadata": {},
   "source": [
    "Once you have installed PyVis, you will want to import the Network class. We can do so with the following line."
   ]
  },
  {
   "cell_type": "code",
   "execution_count": 1,
   "id": "19a0f150-3988-4ef9-94ac-3c4b596b9437",
   "metadata": {},
   "outputs": [],
   "source": [
    "from pyvis.network import Network"
   ]
  },
  {
   "cell_type": "markdown",
   "id": "35d5c07f-8de6-416d-b6e3-c83cee9916e9",
   "metadata": {},
   "source": [
    "The Network class holds all of the data that will be used to create the graph. Since we are working within a Jupyter Notebook, we will want to set the keyword argument `notebook` to `True`. This will ensure that when we create our network graph, it will not only output as an HTML file, but also load within the notebook.\n",
    "\n",
    "We can create a Network object and load it into memory with the following command."
   ]
  },
  {
   "cell_type": "code",
   "execution_count": 2,
   "id": "b97821e0-3b9f-469a-ad5b-91c919d5d7d7",
   "metadata": {},
   "outputs": [
    {
     "name": "stdout",
     "output_type": "stream",
     "text": [
      "Local cdn resources have problems on chrome/safari when used in jupyter-notebook. \n"
     ]
    }
   ],
   "source": [
    "net = Network(notebook=True)"
   ]
  },
  {
   "cell_type": "markdown",
   "id": "a2361183-557d-4e92-af83-27e5509271a5",
   "metadata": {},
   "source": [
    "Again, we will work with the same toy data here."
   ]
  },
  {
   "cell_type": "code",
   "execution_count": 3,
   "id": "73d11c44-10ba-4e70-b0b0-5f16fe3637e3",
   "metadata": {},
   "outputs": [],
   "source": [
    "rels = [\n",
    "    \n",
    "    [\"Fred\", \"George\"],\n",
    "    [\"Harry\", \"Rita\"],\n",
    "    [\"Fred\", \"Ginny\"],\n",
    "    [\"Tom\", \"Ginny\"],\n",
    "    [\"Harry\", \"Ginny\"]\n",
    "    \n",
    "]"
   ]
  },
  {
   "cell_type": "markdown",
   "id": "b8ac5d83-3063-40df-85f6-68a9bca40167",
   "metadata": {},
   "source": [
    "In PyVis, we want to create each node in the graph individually and then populate the edge between the two nodes in the relationship. Therefore, we will want to iterate over each relationship with a `for` loop. We will use the `.add_node` method for each node in the graph and the `.add_edge()` method to create an edge between the two nodes."
   ]
  },
  {
   "cell_type": "code",
   "execution_count": 4,
   "id": "184f9bf3-9937-4e35-9d84-9303f81221a5",
   "metadata": {},
   "outputs": [],
   "source": [
    "for rel in rels:\n",
    "    source, dest = rel\n",
    "    net.add_node(source)\n",
    "    net.add_node(dest)\n",
    "    net.add_edge(source, dest)"
   ]
  },
  {
   "cell_type": "markdown",
   "id": "d7596fcc-5593-4e45-a80d-347091fd8f16",
   "metadata": {},
   "source": [
    "Once we have populated the Network class with all our date, we can visualize it with theo method `.show()`. This will take a single argument, a string that will be the file created."
   ]
  },
  {
   "cell_type": "code",
   "execution_count": 47,
   "id": "b8c47521-b7c7-4884-bc41-b99df26b7262",
   "metadata": {},
   "outputs": [],
   "source": [
    "net.save_graph(\"simple_graph.html\")"
   ]
  },
  {
   "cell_type": "code",
   "execution_count": 3,
   "id": "5f68512f-e830-442d-b724-32e6b78a10b1",
   "metadata": {},
   "outputs": [
    {
     "data": {
      "text/html": [
       "<html>\n",
       "    <head>\n",
       "        <meta charset=\"utf-8\">\n",
       "        \n",
       "            <script src=\"lib/bindings/utils.js\"></script>\n",
       "            <link rel=\"stylesheet\" href=\"https://cdnjs.cloudflare.com/ajax/libs/vis-network/9.1.2/dist/dist/vis-network.min.css\" integrity=\"sha512-WgxfT5LWjfszlPHXRmBWHkV2eceiWTOBvrKCNbdgDYTHrT2AeLCGbF4sZlZw3UMN3WtL0tGUoIAKsu8mllg/XA==\" crossorigin=\"anonymous\" referrerpolicy=\"no-referrer\" />\n",
       "            <script src=\"https://cdnjs.cloudflare.com/ajax/libs/vis-network/9.1.2/dist/vis-network.min.js\" integrity=\"sha512-LnvoEWDFrqGHlHmDD2101OrLcbsfkrzoSpvtSQtxK3RMnRV0eOkhhBN2dXHKRrUU8p2DGRTk35n4O8nWSVe1mQ==\" crossorigin=\"anonymous\" referrerpolicy=\"no-referrer\"></script>\n",
       "            \n",
       "        \n",
       "<center>\n",
       "<h1></h1>\n",
       "</center>\n",
       "\n",
       "<!-- <link rel=\"stylesheet\" href=\"../node_modules/vis/dist/vis.min.css\" type=\"text/css\" />\n",
       "<script type=\"text/javascript\" src=\"../node_modules/vis/dist/vis.js\"> </script>-->\n",
       "        <link\n",
       "          href=\"https://cdn.jsdelivr.net/npm/bootstrap@5.0.0-beta3/dist/css/bootstrap.min.css\"\n",
       "          rel=\"stylesheet\"\n",
       "          integrity=\"sha384-eOJMYsd53ii+scO/bJGFsiCZc+5NDVN2yr8+0RDqr0Ql0h+rP48ckxlpbzKgwra6\"\n",
       "          crossorigin=\"anonymous\"\n",
       "        />\n",
       "        <script\n",
       "          src=\"https://cdn.jsdelivr.net/npm/bootstrap@5.0.0-beta3/dist/js/bootstrap.bundle.min.js\"\n",
       "          integrity=\"sha384-JEW9xMcG8R+pH31jmWH6WWP0WintQrMb4s7ZOdauHnUtxwoG2vI5DkLtS3qm9Ekf\"\n",
       "          crossorigin=\"anonymous\"\n",
       "        ></script>\n",
       "\n",
       "\n",
       "        <center>\n",
       "          <h1></h1>\n",
       "        </center>\n",
       "        <style type=\"text/css\">\n",
       "\n",
       "             #mynetwork {\n",
       "                 width: 100%;\n",
       "                 height: 500px;\n",
       "                 background-color: #ffffff;\n",
       "                 border: 1px solid lightgray;\n",
       "                 position: relative;\n",
       "                 float: left;\n",
       "             }\n",
       "\n",
       "             \n",
       "\n",
       "             \n",
       "\n",
       "             \n",
       "        </style>\n",
       "    </head>\n",
       "\n",
       "\n",
       "    <body>\n",
       "        <div class=\"card\" style=\"width: 100%\">\n",
       "            \n",
       "            \n",
       "            <div id=\"mynetwork\" class=\"card-body\"></div>\n",
       "        </div>\n",
       "\n",
       "        \n",
       "        \n",
       "\n",
       "        <script type=\"text/javascript\">\n",
       "\n",
       "              // initialize global variables.\n",
       "              var edges;\n",
       "              var nodes;\n",
       "              var allNodes;\n",
       "              var allEdges;\n",
       "              var nodeColors;\n",
       "              var originalNodes;\n",
       "              var network;\n",
       "              var container;\n",
       "              var options, data;\n",
       "              var filter = {\n",
       "                  item : '',\n",
       "                  property : '',\n",
       "                  value : []\n",
       "              };\n",
       "\n",
       "              \n",
       "\n",
       "              \n",
       "\n",
       "              // This method is responsible for drawing the graph, returns the drawn network\n",
       "              function drawGraph() {\n",
       "                  var container = document.getElementById('mynetwork');\n",
       "\n",
       "                  \n",
       "\n",
       "                  // parsing and collecting nodes and edges from the python\n",
       "                  nodes = new vis.DataSet([{\"color\": \"#97c2fc\", \"id\": \"Fred\", \"label\": \"Fred\", \"shape\": \"dot\"}, {\"color\": \"#97c2fc\", \"id\": \"George\", \"label\": \"George\", \"shape\": \"dot\"}, {\"color\": \"#97c2fc\", \"id\": \"Harry\", \"label\": \"Harry\", \"shape\": \"dot\"}, {\"color\": \"#97c2fc\", \"id\": \"Rita\", \"label\": \"Rita\", \"shape\": \"dot\"}, {\"color\": \"#97c2fc\", \"id\": \"Ginny\", \"label\": \"Ginny\", \"shape\": \"dot\"}, {\"color\": \"#97c2fc\", \"id\": \"Tom\", \"label\": \"Tom\", \"shape\": \"dot\"}]);\n",
       "                  edges = new vis.DataSet([{\"from\": \"Fred\", \"to\": \"George\"}, {\"from\": \"Harry\", \"to\": \"Rita\"}, {\"from\": \"Fred\", \"to\": \"Ginny\"}, {\"from\": \"Tom\", \"to\": \"Ginny\"}, {\"from\": \"Harry\", \"to\": \"Ginny\"}]);\n",
       "\n",
       "                  nodeColors = {};\n",
       "                  allNodes = nodes.get({ returnType: \"Object\" });\n",
       "                  for (nodeId in allNodes) {\n",
       "                    nodeColors[nodeId] = allNodes[nodeId].color;\n",
       "                  }\n",
       "                  allEdges = edges.get({ returnType: \"Object\" });\n",
       "                  // adding nodes and edges to the graph\n",
       "                  data = {nodes: nodes, edges: edges};\n",
       "\n",
       "                  var options = {\n",
       "    \"configure\": {\n",
       "        \"enabled\": false\n",
       "    },\n",
       "    \"edges\": {\n",
       "        \"color\": {\n",
       "            \"inherit\": true\n",
       "        },\n",
       "        \"smooth\": {\n",
       "            \"enabled\": true,\n",
       "            \"type\": \"dynamic\"\n",
       "        }\n",
       "    },\n",
       "    \"interaction\": {\n",
       "        \"dragNodes\": true,\n",
       "        \"hideEdgesOnDrag\": false,\n",
       "        \"hideNodesOnDrag\": false\n",
       "    },\n",
       "    \"physics\": {\n",
       "        \"enabled\": true,\n",
       "        \"stabilization\": {\n",
       "            \"enabled\": true,\n",
       "            \"fit\": true,\n",
       "            \"iterations\": 1000,\n",
       "            \"onlyDynamicEdges\": false,\n",
       "            \"updateInterval\": 50\n",
       "        }\n",
       "    }\n",
       "};\n",
       "\n",
       "                  \n",
       "\n",
       "\n",
       "                  \n",
       "\n",
       "                  network = new vis.Network(container, data, options);\n",
       "\n",
       "                  \n",
       "\n",
       "                  \n",
       "\n",
       "                  \n",
       "\n",
       "\n",
       "                  \n",
       "\n",
       "                  return network;\n",
       "\n",
       "              }\n",
       "              drawGraph();\n",
       "        </script>\n",
       "    </body>\n",
       "</html>"
      ],
      "text/plain": [
       "<IPython.core.display.HTML object>"
      ]
     },
     "execution_count": 3,
     "metadata": {},
     "output_type": "execute_result"
    }
   ],
   "source": [
    "from IPython.display import HTML\n",
    "HTML(filename=\"simple_graph.html\")"
   ]
  },
  {
   "cell_type": "markdown",
   "id": "9a8ea6dd-e6a9-47bb-aa26-cb3d95a611a6",
   "metadata": {},
   "source": [
    "In the graph above, try to interact with the data. You will notice that you can drag-and-drop nodes. You can zoom in and out in the graph. This is a good demonstration of the power PyVis has over NetworkX and Matplotlib."
   ]
  },
  {
   "cell_type": "code",
   "execution_count": null,
   "id": "46693987-1259-4c7d-9f48-e4dfef84fd9f",
   "metadata": {},
   "outputs": [],
   "source": []
  }
 ],
 "metadata": {
  "kernelspec": {
   "display_name": "Python 3 (ipykernel)",
   "language": "python",
   "name": "python3"
  },
  "language_info": {
   "codemirror_mode": {
    "name": "ipython",
    "version": 3
   },
   "file_extension": ".py",
   "mimetype": "text/x-python",
   "name": "python",
   "nbconvert_exporter": "python",
   "pygments_lexer": "ipython3",
   "version": "3.9.12"
  }
 },
 "nbformat": 4,
 "nbformat_minor": 5
}
