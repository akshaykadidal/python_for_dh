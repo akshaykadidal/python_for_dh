{
 "cells": [
  {
   "cell_type": "markdown",
   "id": "15257c06-3315-4001-b4ee-1050e05179b1",
   "metadata": {},
   "source": [
    "# <center>Producing Dynamic Graphs with PyVis</center>"
   ]
  },
  {
   "cell_type": "code",
   "execution_count": null,
   "id": "19a0f150-3988-4ef9-94ac-3c4b596b9437",
   "metadata": {},
   "outputs": [],
   "source": []
  }
 ],
 "metadata": {
  "kernelspec": {
   "display_name": "Python 3 (ipykernel)",
   "language": "python",
   "name": "python3"
  },
  "language_info": {
   "codemirror_mode": {
    "name": "ipython",
    "version": 3
   },
   "file_extension": ".py",
   "mimetype": "text/x-python",
   "name": "python",
   "nbconvert_exporter": "python",
   "pygments_lexer": "ipython3",
   "version": "3.9.7"
  }
 },
 "nbformat": 4,
 "nbformat_minor": 5
}
