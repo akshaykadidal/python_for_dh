{
 "cells": [
  {
   "cell_type": "markdown",
   "id": "15257c06-3315-4001-b4ee-1050e05179b1",
   "metadata": {},
   "source": [
    "# <center>Producing Dynamic Graphs with PyVis</center>"
   ]
  },
  {
   "cell_type": "markdown",
   "id": "4667f181-900a-4c3b-af25-7a2d03cd0133",
   "metadata": {},
   "source": [
    "[PyVis](https://pyvis.readthedocs.io/en/latest/index.html) is a powerful Python library that is capable of outputting an HTML file which contains the data and JavaScript necessary for users to view and engage with network data. It has a fairly large community and is well-supported. One of its largest advantages over NetworkX and Matplotlib is in the dynamic nature of the graphs.\n",
    "\n",
    "Dynamic graphs, or those that can be manipulated by a user in some capacity, are better suited than static graphs for networks that a large or more complex."
   ]
  },
  {
   "cell_type": "markdown",
   "id": "64a81760-af71-47dc-9e00-c7af202a3048",
   "metadata": {},
   "source": [
    "## The Basics of PyVis"
   ]
  },
  {
   "cell_type": "markdown",
   "id": "422f0bd6-c9bd-4ebc-bc90-d9917d7d8059",
   "metadata": {},
   "source": [
    "Once you have installed PyVis, you will want to import the Network class. We can do so with the following line."
   ]
  },
  {
   "cell_type": "code",
   "execution_count": 1,
   "id": "19a0f150-3988-4ef9-94ac-3c4b596b9437",
   "metadata": {},
   "outputs": [],
   "source": [
    "from pyvis.network import Network"
   ]
  },
  {
   "cell_type": "markdown",
   "id": "35d5c07f-8de6-416d-b6e3-c83cee9916e9",
   "metadata": {},
   "source": [
    "The Network class holds all of the data that will be used to create the graph. Since we are working within a Jupyter Notebook, we will want to set the keyword argument `notebook` to `True`. This will ensure that when we create our network graph, it will not only output as an HTML file, but also load within the notebook.\n",
    "\n",
    "We can create a Network object and load it into memory with the following command."
   ]
  },
  {
   "cell_type": "code",
   "execution_count": 2,
   "id": "b97821e0-3b9f-469a-ad5b-91c919d5d7d7",
   "metadata": {},
   "outputs": [
    {
     "name": "stdout",
     "output_type": "stream",
     "text": [
      "Local cdn resources have problems on chrome/safari when used in jupyter-notebook. \n"
     ]
    }
   ],
   "source": [
    "net = Network(notebook=True)"
   ]
  },
  {
   "cell_type": "markdown",
   "id": "a2361183-557d-4e92-af83-27e5509271a5",
   "metadata": {},
   "source": [
    "Again, we will work with the same toy data here."
   ]
  },
  {
   "cell_type": "code",
   "execution_count": 3,
   "id": "73d11c44-10ba-4e70-b0b0-5f16fe3637e3",
   "metadata": {},
   "outputs": [],
   "source": [
    "rels = [\n",
    "    \n",
    "    [\"Fred\", \"George\"],\n",
    "    [\"Harry\", \"Rita\"],\n",
    "    [\"Fred\", \"Ginny\"],\n",
    "    [\"Tom\", \"Ginny\"],\n",
    "    [\"Harry\", \"Ginny\"]\n",
    "    \n",
    "]"
   ]
  },
  {
   "cell_type": "markdown",
   "id": "b8ac5d83-3063-40df-85f6-68a9bca40167",
   "metadata": {},
   "source": [
    "In PyVis, we want to create each node in the graph individually and then populate the edge between the two nodes in the relationship. Therefore, we will want to iterate over each relationship with a `for` loop. We will use the `.add_node` method for each node in the graph and the `.add_edge()` method to create an edge between the two nodes."
   ]
  },
  {
   "cell_type": "code",
   "execution_count": 4,
   "id": "184f9bf3-9937-4e35-9d84-9303f81221a5",
   "metadata": {},
   "outputs": [],
   "source": [
    "for rel in rels:\n",
    "    source, dest = rel\n",
    "    net.add_node(source)\n",
    "    net.add_node(dest)\n",
    "    net.add_edge(source, dest)"
   ]
  },
  {
   "cell_type": "markdown",
   "id": "d7596fcc-5593-4e45-a80d-347091fd8f16",
   "metadata": {},
   "source": [
    "Once we have populated the Network class with all our date, we can visualize it with theo method `.show()`. This will take a single argument, a string that will be the file created."
   ]
  },
  {
   "cell_type": "code",
   "execution_count": 5,
   "id": "b8c47521-b7c7-4884-bc41-b99df26b7262",
   "metadata": {},
   "outputs": [
    {
     "data": {
      "text/html": [
       "\n",
       "        <iframe\n",
       "            width=\"100%\"\n",
       "            height=\"600px\"\n",
       "            src=\"simple_graph.html\"\n",
       "            frameborder=\"0\"\n",
       "            allowfullscreen\n",
       "            \n",
       "        ></iframe>\n",
       "        "
      ],
      "text/plain": [
       "<IPython.lib.display.IFrame at 0x7f9e6a542f10>"
      ]
     },
     "execution_count": 5,
     "metadata": {},
     "output_type": "execute_result"
    }
   ],
   "source": [
    "net.show(\"simple_graph.html\")"
   ]
  },
  {
   "cell_type": "code",
   "execution_count": 16,
   "id": "5f68512f-e830-442d-b724-32e6b78a10b1",
   "metadata": {},
   "outputs": [],
   "source": [
    "# from IPython.display import HTML\n",
    "# HTML(filename=\"simple_graph.html\")"
   ]
  },
  {
   "cell_type": "markdown",
   "id": "9a8ea6dd-e6a9-47bb-aa26-cb3d95a611a6",
   "metadata": {},
   "source": [
    "In the graph above, try to interact with the data. You will notice that you can drag-and-drop nodes. You can zoom in and out in the graph. This is a good demonstration of the power PyVis has over NetworkX and Matplotlib."
   ]
  },
  {
   "cell_type": "markdown",
   "id": "d766ca25-0696-41e8-8b24-c930d2cb8b79",
   "metadata": {},
   "source": [
    "## Adding a Selection Menu"
   ]
  },
  {
   "cell_type": "code",
   "execution_count": 23,
   "id": "d93a22fc-ee62-48c2-8377-8d8f3ad329c0",
   "metadata": {},
   "outputs": [
    {
     "name": "stdout",
     "output_type": "stream",
     "text": [
      "Local cdn resources have problems on chrome/safari when used in jupyter-notebook. \n"
     ]
    }
   ],
   "source": [
    "selection_net = Network(notebook=True, select_menu=True)\n",
    "for rel in rels:\n",
    "    source, dest = rel\n",
    "    selection_net.add_node(source)\n",
    "    selection_net.add_node(dest)\n",
    "    selection_net.add_edge(source, dest)\n",
    "selection_net.save_graph(\"simple_graph_selection.html\")"
   ]
  },
  {
   "cell_type": "code",
   "execution_count": 24,
   "id": "60ad4e2f-07de-4ab9-a63d-f151f0088b08",
   "metadata": {},
   "outputs": [
    {
     "data": {
      "text/html": [
       "<html>\n",
       "    <head>\n",
       "        <meta charset=\"utf-8\">\n",
       "        \n",
       "            <script src=\"lib/bindings/utils.js\"></script>\n",
       "            <link rel=\"stylesheet\" href=\"https://cdnjs.cloudflare.com/ajax/libs/vis-network/9.1.2/dist/dist/vis-network.min.css\" integrity=\"sha512-WgxfT5LWjfszlPHXRmBWHkV2eceiWTOBvrKCNbdgDYTHrT2AeLCGbF4sZlZw3UMN3WtL0tGUoIAKsu8mllg/XA==\" crossorigin=\"anonymous\" referrerpolicy=\"no-referrer\" />\n",
       "            <script src=\"https://cdnjs.cloudflare.com/ajax/libs/vis-network/9.1.2/dist/vis-network.min.js\" integrity=\"sha512-LnvoEWDFrqGHlHmDD2101OrLcbsfkrzoSpvtSQtxK3RMnRV0eOkhhBN2dXHKRrUU8p2DGRTk35n4O8nWSVe1mQ==\" crossorigin=\"anonymous\" referrerpolicy=\"no-referrer\"></script>\n",
       "            \n",
       "                <link href=\"lib/tom-select/tom-select.css\" rel=\"stylesheet\">\n",
       "                <script src=\"lib/tom-select/tom-select.complete.min.js\"></script>\n",
       "            \n",
       "        \n",
       "<center>\n",
       "<h1></h1>\n",
       "</center>\n",
       "\n",
       "<!-- <link rel=\"stylesheet\" href=\"../node_modules/vis/dist/vis.min.css\" type=\"text/css\" />\n",
       "<script type=\"text/javascript\" src=\"../node_modules/vis/dist/vis.js\"> </script>-->\n",
       "        <link\n",
       "          href=\"https://cdn.jsdelivr.net/npm/bootstrap@5.0.0-beta3/dist/css/bootstrap.min.css\"\n",
       "          rel=\"stylesheet\"\n",
       "          integrity=\"sha384-eOJMYsd53ii+scO/bJGFsiCZc+5NDVN2yr8+0RDqr0Ql0h+rP48ckxlpbzKgwra6\"\n",
       "          crossorigin=\"anonymous\"\n",
       "        />\n",
       "        <script\n",
       "          src=\"https://cdn.jsdelivr.net/npm/bootstrap@5.0.0-beta3/dist/js/bootstrap.bundle.min.js\"\n",
       "          integrity=\"sha384-JEW9xMcG8R+pH31jmWH6WWP0WintQrMb4s7ZOdauHnUtxwoG2vI5DkLtS3qm9Ekf\"\n",
       "          crossorigin=\"anonymous\"\n",
       "        ></script>\n",
       "\n",
       "\n",
       "        <center>\n",
       "          <h1></h1>\n",
       "        </center>\n",
       "        <style type=\"text/css\">\n",
       "\n",
       "             #mynetwork {\n",
       "                 width: 100%;\n",
       "                 height: 500px;\n",
       "                 background-color: #ffffff;\n",
       "                 border: 1px solid lightgray;\n",
       "                 position: relative;\n",
       "                 float: left;\n",
       "             }\n",
       "\n",
       "             \n",
       "\n",
       "             \n",
       "\n",
       "             \n",
       "        </style>\n",
       "    </head>\n",
       "\n",
       "\n",
       "    <body>\n",
       "        <div class=\"card\" style=\"width: 100%\">\n",
       "            \n",
       "                <div id=\"select-menu\" class=\"card-header\">\n",
       "                    <div class=\"row no-gutters\">\n",
       "                        <div class=\"col-10 pb-2\">\n",
       "                            <select\n",
       "                            class=\"form-select\"\n",
       "                            aria-label=\"Default select example\"\n",
       "                            onchange=\"selectNode([value]);\"\n",
       "                            id=\"select-node\"\n",
       "                            placeholder=\"Select node...\"\n",
       "                            >\n",
       "                                <option selected>Select a Node by ID</option>\n",
       "                                \n",
       "                                    <option value=\"Fred\">Fred</option>\n",
       "                                \n",
       "                                    <option value=\"George\">George</option>\n",
       "                                \n",
       "                                    <option value=\"Harry\">Harry</option>\n",
       "                                \n",
       "                                    <option value=\"Rita\">Rita</option>\n",
       "                                \n",
       "                                    <option value=\"Ginny\">Ginny</option>\n",
       "                                \n",
       "                                    <option value=\"Tom\">Tom</option>\n",
       "                                \n",
       "                            </select>\n",
       "                        </div>\n",
       "                        <div class=\"col-2 pb-2\">\n",
       "                            <button type=\"button\" class=\"btn btn-primary btn-block\" onclick=\"neighbourhoodHighlight({nodes: []});\">Reset Selection</button>\n",
       "                        </div>\n",
       "                    </div>\n",
       "                </div>\n",
       "            \n",
       "            \n",
       "            <div id=\"mynetwork\" class=\"card-body\"></div>\n",
       "        </div>\n",
       "\n",
       "        \n",
       "        \n",
       "\n",
       "        <script type=\"text/javascript\">\n",
       "\n",
       "              // initialize global variables.\n",
       "              var edges;\n",
       "              var nodes;\n",
       "              var allNodes;\n",
       "              var allEdges;\n",
       "              var nodeColors;\n",
       "              var originalNodes;\n",
       "              var network;\n",
       "              var container;\n",
       "              var options, data;\n",
       "              var filter = {\n",
       "                  item : '',\n",
       "                  property : '',\n",
       "                  value : []\n",
       "              };\n",
       "\n",
       "              \n",
       "                  new TomSelect(\"#select-node\",{\n",
       "                      create: false,\n",
       "                      sortField: {\n",
       "                          field: \"text\",\n",
       "                          direction: \"asc\"\n",
       "                      }\n",
       "                  });\n",
       "              \n",
       "\n",
       "              \n",
       "\n",
       "              // This method is responsible for drawing the graph, returns the drawn network\n",
       "              function drawGraph() {\n",
       "                  var container = document.getElementById('mynetwork');\n",
       "\n",
       "                  \n",
       "\n",
       "                  // parsing and collecting nodes and edges from the python\n",
       "                  nodes = new vis.DataSet([{\"color\": \"#97c2fc\", \"id\": \"Fred\", \"label\": \"Fred\", \"shape\": \"dot\"}, {\"color\": \"#97c2fc\", \"id\": \"George\", \"label\": \"George\", \"shape\": \"dot\"}, {\"color\": \"#97c2fc\", \"id\": \"Harry\", \"label\": \"Harry\", \"shape\": \"dot\"}, {\"color\": \"#97c2fc\", \"id\": \"Rita\", \"label\": \"Rita\", \"shape\": \"dot\"}, {\"color\": \"#97c2fc\", \"id\": \"Ginny\", \"label\": \"Ginny\", \"shape\": \"dot\"}, {\"color\": \"#97c2fc\", \"id\": \"Tom\", \"label\": \"Tom\", \"shape\": \"dot\"}]);\n",
       "                  edges = new vis.DataSet([{\"from\": \"Fred\", \"to\": \"George\"}, {\"from\": \"Harry\", \"to\": \"Rita\"}, {\"from\": \"Fred\", \"to\": \"Ginny\"}, {\"from\": \"Tom\", \"to\": \"Ginny\"}, {\"from\": \"Harry\", \"to\": \"Ginny\"}]);\n",
       "\n",
       "                  nodeColors = {};\n",
       "                  allNodes = nodes.get({ returnType: \"Object\" });\n",
       "                  for (nodeId in allNodes) {\n",
       "                    nodeColors[nodeId] = allNodes[nodeId].color;\n",
       "                  }\n",
       "                  allEdges = edges.get({ returnType: \"Object\" });\n",
       "                  // adding nodes and edges to the graph\n",
       "                  data = {nodes: nodes, edges: edges};\n",
       "\n",
       "                  var options = {\n",
       "    \"configure\": {\n",
       "        \"enabled\": false\n",
       "    },\n",
       "    \"edges\": {\n",
       "        \"color\": {\n",
       "            \"inherit\": true\n",
       "        },\n",
       "        \"smooth\": {\n",
       "            \"enabled\": true,\n",
       "            \"type\": \"dynamic\"\n",
       "        }\n",
       "    },\n",
       "    \"interaction\": {\n",
       "        \"dragNodes\": true,\n",
       "        \"hideEdgesOnDrag\": false,\n",
       "        \"hideNodesOnDrag\": false\n",
       "    },\n",
       "    \"physics\": {\n",
       "        \"enabled\": true,\n",
       "        \"stabilization\": {\n",
       "            \"enabled\": true,\n",
       "            \"fit\": true,\n",
       "            \"iterations\": 1000,\n",
       "            \"onlyDynamicEdges\": false,\n",
       "            \"updateInterval\": 50\n",
       "        }\n",
       "    }\n",
       "};\n",
       "\n",
       "                  \n",
       "\n",
       "\n",
       "                  \n",
       "\n",
       "                  network = new vis.Network(container, data, options);\n",
       "\n",
       "                  \n",
       "\n",
       "                  \n",
       "                    network.on(\"selectNode\", neighbourhoodHighlight);\n",
       "                  \n",
       "\n",
       "                  \n",
       "\n",
       "\n",
       "                  \n",
       "\n",
       "                  return network;\n",
       "\n",
       "              }\n",
       "              drawGraph();\n",
       "        </script>\n",
       "    </body>\n",
       "</html>"
      ],
      "text/plain": [
       "<IPython.core.display.HTML object>"
      ]
     },
     "execution_count": 24,
     "metadata": {},
     "output_type": "execute_result"
    }
   ],
   "source": [
    "# from IPython.display import HTML\n",
    "HTML(filename=\"simple_graph_selection.html\")"
   ]
  },
  {
   "cell_type": "markdown",
   "id": "d3dd2cba-4176-4e0f-bbaf-c54634e6b1f9",
   "metadata": {},
   "source": [
    "## Creating Filters"
   ]
  },
  {
   "cell_type": "code",
   "execution_count": 9,
   "id": "055beb91-04f1-4c07-bad3-bb94bd4f288a",
   "metadata": {},
   "outputs": [
    {
     "name": "stdout",
     "output_type": "stream",
     "text": [
      "Local cdn resources have problems on chrome/safari when used in jupyter-notebook. \n"
     ]
    },
    {
     "data": {
      "text/html": [
       "\n",
       "        <iframe\n",
       "            width=\"100%\"\n",
       "            height=\"600px\"\n",
       "            src=\"simple_graph_filter.html\"\n",
       "            frameborder=\"0\"\n",
       "            allowfullscreen\n",
       "            \n",
       "        ></iframe>\n",
       "        "
      ],
      "text/plain": [
       "<IPython.lib.display.IFrame at 0x7f9e845d5190>"
      ]
     },
     "execution_count": 9,
     "metadata": {},
     "output_type": "execute_result"
    }
   ],
   "source": [
    "filter_net = Network(notebook=True, filter_menu=True, select_menu=True)\n",
    "for rel in rels:\n",
    "    source, dest = rel\n",
    "    filter_net.add_node(source)\n",
    "    filter_net.add_node(dest)\n",
    "    filter_net.add_edge(source, dest)\n",
    "filter_net.show(\"simple_graph_filter.html\")"
   ]
  },
  {
   "cell_type": "code",
   "execution_count": null,
   "id": "11946358-a3f6-47a3-9a75-18de7adb7310",
   "metadata": {},
   "outputs": [],
   "source": []
  },
  {
   "cell_type": "markdown",
   "id": "c65029a8-aed2-41db-b4e5-c4a0184c4cc9",
   "metadata": {},
   "source": [
    "## Adding Metadata to Nodes"
   ]
  },
  {
   "cell_type": "code",
   "execution_count": 10,
   "id": "9e2d19c0-5549-4cf7-97f8-ac6d6f047299",
   "metadata": {},
   "outputs": [],
   "source": [
    "import pandas as pd"
   ]
  },
  {
   "cell_type": "code",
   "execution_count": 11,
   "id": "c08db2ba-ef27-4fbe-8192-7a214d642e3a",
   "metadata": {},
   "outputs": [],
   "source": [
    "schools = {\"school\": [\"USF\", \"USF\", \"UF\", \"USF\", \"UF\", \"UNC\"], \"name\": [\"Tom\", \"Ginny\", \"Harry\", \"Rita\", \"Fred\", \"George\"]}\n",
    "df = pd.DataFrame(schools)"
   ]
  },
  {
   "cell_type": "code",
   "execution_count": 12,
   "id": "6e22aadb-20ed-418f-8296-7388ff81b92c",
   "metadata": {},
   "outputs": [
    {
     "name": "stdout",
     "output_type": "stream",
     "text": [
      "Local cdn resources have problems on chrome/safari when used in jupyter-notebook. \n"
     ]
    },
    {
     "data": {
      "text/html": [
       "\n",
       "        <iframe\n",
       "            width=\"100%\"\n",
       "            height=\"600px\"\n",
       "            src=\"simple_graph_selection.html\"\n",
       "            frameborder=\"0\"\n",
       "            allowfullscreen\n",
       "            \n",
       "        ></iframe>\n",
       "        "
      ],
      "text/plain": [
       "<IPython.lib.display.IFrame at 0x7f9e3b3bb820>"
      ]
     },
     "execution_count": 12,
     "metadata": {},
     "output_type": "execute_result"
    }
   ],
   "source": [
    "metadata_net = Network(notebook=True, filter_menu=True)\n",
    "for rel in rels:\n",
    "    source, dest = rel\n",
    "    metadata_net.add_node(source)\n",
    "    metadata_net.add_node(dest)\n",
    "    metadata_net.add_edge(source, dest)\n",
    "for node in metadata_net.nodes:\n",
    "    school = df.loc[df.name==str(node[\"label\"])].school.tolist()[0]\n",
    "    node[\"school\"] = school\n",
    "    if school == \"USF\":\n",
    "        node[\"color\"] = \"blue\"\n",
    "    elif school==\"UF\":\n",
    "        node[\"color\"] = \"red\"\n",
    "metadata_net.show(\"simple_graph_selection.html\")"
   ]
  },
  {
   "cell_type": "code",
   "execution_count": null,
   "id": "46693987-1259-4c7d-9f48-e4dfef84fd9f",
   "metadata": {},
   "outputs": [],
   "source": []
  }
 ],
 "metadata": {
  "kernelspec": {
   "display_name": "Python 3 (ipykernel)",
   "language": "python",
   "name": "python3"
  },
  "language_info": {
   "codemirror_mode": {
    "name": "ipython",
    "version": 3
   },
   "file_extension": ".py",
   "mimetype": "text/x-python",
   "name": "python",
   "nbconvert_exporter": "python",
   "pygments_lexer": "ipython3",
   "version": "3.9.12"
  }
 },
 "nbformat": 4,
 "nbformat_minor": 5
}
