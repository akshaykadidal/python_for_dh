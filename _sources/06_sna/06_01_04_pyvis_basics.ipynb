{
 "cells": [
  {
   "cell_type": "markdown",
   "id": "15257c06-3315-4001-b4ee-1050e05179b1",
   "metadata": {},
   "source": [
    "# <center>Producing Dynamic Graphs with PyVis</center>"
   ]
  },
  {
   "cell_type": "code",
   "execution_count": 2,
   "id": "19a0f150-3988-4ef9-94ac-3c4b596b9437",
   "metadata": {},
   "outputs": [],
   "source": [
    "from pyvis.network import Network"
   ]
  },
  {
   "cell_type": "code",
   "execution_count": 9,
   "id": "b97821e0-3b9f-469a-ad5b-91c919d5d7d7",
   "metadata": {},
   "outputs": [
    {
     "name": "stdout",
     "output_type": "stream",
     "text": [
      "Local cdn resources have problems on chrome/safari when used in jupyter-notebook. \n"
     ]
    }
   ],
   "source": [
    "net = Network(notebook=True)"
   ]
  },
  {
   "cell_type": "code",
   "execution_count": 10,
   "id": "73d11c44-10ba-4e70-b0b0-5f16fe3637e3",
   "metadata": {},
   "outputs": [],
   "source": [
    "rels = [\n",
    "    \n",
    "    [\"Fred\", \"George\"],\n",
    "    [\"Harry\", \"Rita\"],\n",
    "    [\"Fred\", \"Ginny\"],\n",
    "    [\"Tom\", \"Ginny\"],\n",
    "    [\"Harry\", \"Ginny\"]\n",
    "    \n",
    "]"
   ]
  },
  {
   "cell_type": "code",
   "execution_count": 11,
   "id": "184f9bf3-9937-4e35-9d84-9303f81221a5",
   "metadata": {},
   "outputs": [],
   "source": [
    "for rel in rels:\n",
    "    source, dest = rel\n",
    "    net.add_node(source)\n",
    "    net.add_node(dest)\n",
    "    net.add_edge(source, dest)"
   ]
  },
  {
   "cell_type": "code",
   "execution_count": 12,
   "id": "b8c47521-b7c7-4884-bc41-b99df26b7262",
   "metadata": {},
   "outputs": [
    {
     "data": {
      "text/html": [
       "\n",
       "        <iframe\n",
       "            width=\"100%\"\n",
       "            height=\"600px\"\n",
       "            src=\"../data/sample_graph.html\"\n",
       "            frameborder=\"0\"\n",
       "            allowfullscreen\n",
       "            \n",
       "        ></iframe>\n",
       "        "
      ],
      "text/plain": [
       "<IPython.lib.display.IFrame at 0x7f74a5c030a0>"
      ]
     },
     "execution_count": 12,
     "metadata": {},
     "output_type": "execute_result"
    }
   ],
   "source": [
    "net.show(\"../data/sample_graph.html\")"
   ]
  },
  {
   "cell_type": "code",
   "execution_count": null,
   "id": "04e1e571-35fb-40df-9651-20da9c35d4cd",
   "metadata": {},
   "outputs": [],
   "source": []
  },
  {
   "cell_type": "code",
   "execution_count": null,
   "id": "377e54be-8e47-4627-97cd-8f59b6b676e4",
   "metadata": {},
   "outputs": [],
   "source": []
  },
  {
   "cell_type": "code",
   "execution_count": null,
   "id": "5db98980-d1c4-4121-b084-5a7e21f4afe7",
   "metadata": {},
   "outputs": [],
   "source": []
  },
  {
   "cell_type": "code",
   "execution_count": null,
   "id": "634fed12-356e-4fb0-a195-33cac1789ddf",
   "metadata": {},
   "outputs": [],
   "source": []
  },
  {
   "cell_type": "code",
   "execution_count": null,
   "id": "018ab2b8-393c-4fa0-a539-dbd3cf753e49",
   "metadata": {},
   "outputs": [],
   "source": []
  },
  {
   "cell_type": "code",
   "execution_count": null,
   "id": "cad8b460-07b2-4ae8-a32c-2421f793f659",
   "metadata": {},
   "outputs": [],
   "source": []
  },
  {
   "cell_type": "code",
   "execution_count": null,
   "id": "ac964f3f-877b-456a-bd0c-f4f14c342578",
   "metadata": {},
   "outputs": [],
   "source": []
  }
 ],
 "metadata": {
  "kernelspec": {
   "display_name": "Python 3 (ipykernel)",
   "language": "python",
   "name": "python3"
  },
  "language_info": {
   "codemirror_mode": {
    "name": "ipython",
    "version": 3
   },
   "file_extension": ".py",
   "mimetype": "text/x-python",
   "name": "python",
   "nbconvert_exporter": "python",
   "pygments_lexer": "ipython3",
   "version": "3.9.7"
  }
 },
 "nbformat": 4,
 "nbformat_minor": 5
}
