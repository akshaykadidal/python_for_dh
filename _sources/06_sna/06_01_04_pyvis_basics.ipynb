{
 "cells": [
  {
   "cell_type": "markdown",
   "id": "15257c06-3315-4001-b4ee-1050e05179b1",
   "metadata": {},
   "source": [
    "# <center>Producing Dynamic Graphs with PyVis</center>"
   ]
  },
  {
   "cell_type": "markdown",
   "id": "4667f181-900a-4c3b-af25-7a2d03cd0133",
   "metadata": {},
   "source": [
    "[PyVis](https://pyvis.readthedocs.io/en/latest/index.html) is a powerful Python library that is capable of outputting an HTML file which contains the data and JavaScript necessary for users to view and engage with network data. It has a fairly large community and is well-supported. One of its largest advantages over NetworkX and Matplotlib is in the dynamic nature of the graphs.\n",
    "\n",
    "Dynamic graphs, or those that can be manipulated by a user in some capacity, are better suited than static graphs for networks that a large or more complex."
   ]
  },
  {
   "cell_type": "markdown",
   "id": "64a81760-af71-47dc-9e00-c7af202a3048",
   "metadata": {},
   "source": [
    "## The Basics of PyVis"
   ]
  },
  {
   "cell_type": "markdown",
   "id": "422f0bd6-c9bd-4ebc-bc90-d9917d7d8059",
   "metadata": {},
   "source": [
    "Once you have installed PyVis, you will want to import the Network class. We can do so with the following line."
   ]
  },
  {
   "cell_type": "code",
   "execution_count": 1,
   "id": "19a0f150-3988-4ef9-94ac-3c4b596b9437",
   "metadata": {},
   "outputs": [],
   "source": [
    "from pyvis.network import Network"
   ]
  },
  {
   "cell_type": "markdown",
   "id": "35d5c07f-8de6-416d-b6e3-c83cee9916e9",
   "metadata": {},
   "source": [
    "The Network class holds all of the data that will be used to create the graph. Since we are working within a Jupyter Notebook, we will want to set the keyword argument `notebook` to `True`. This will ensure that when we create our network graph, it will not only output as an HTML file, but also load within the notebook.\n",
    "\n",
    "We can create a Network object and load it into memory with the following command."
   ]
  },
  {
   "cell_type": "code",
   "execution_count": 2,
   "id": "b97821e0-3b9f-469a-ad5b-91c919d5d7d7",
   "metadata": {},
   "outputs": [
    {
     "name": "stdout",
     "output_type": "stream",
     "text": [
      "Local cdn resources have problems on chrome/safari when used in jupyter-notebook. \n"
     ]
    }
   ],
   "source": [
    "net = Network(notebook=True)"
   ]
  },
  {
   "cell_type": "markdown",
   "id": "a2361183-557d-4e92-af83-27e5509271a5",
   "metadata": {},
   "source": [
    "Again, we will work with the same toy data here."
   ]
  },
  {
   "cell_type": "code",
   "execution_count": 3,
   "id": "73d11c44-10ba-4e70-b0b0-5f16fe3637e3",
   "metadata": {},
   "outputs": [],
   "source": [
    "rels = [\n",
    "    \n",
    "    [\"Fred\", \"George\"],\n",
    "    [\"Harry\", \"Rita\"],\n",
    "    [\"Fred\", \"Ginny\"],\n",
    "    [\"Tom\", \"Ginny\"],\n",
    "    [\"Harry\", \"Ginny\"]\n",
    "    \n",
    "]"
   ]
  },
  {
   "cell_type": "markdown",
   "id": "b8ac5d83-3063-40df-85f6-68a9bca40167",
   "metadata": {},
   "source": [
    "In PyVis, we want to create each node in the graph individually and then populate the edge between the two nodes in the relationship. Therefore, we will want to iterate over each relationship with a `for` loop. We will use the `.add_node` method for each node in the graph and the `.add_edge()` method to create an edge between the two nodes."
   ]
  },
  {
   "cell_type": "code",
   "execution_count": 4,
   "id": "184f9bf3-9937-4e35-9d84-9303f81221a5",
   "metadata": {},
   "outputs": [],
   "source": [
    "for rel in rels:\n",
    "    source, dest = rel\n",
    "    net.add_node(source)\n",
    "    net.add_node(dest)\n",
    "    net.add_edge(source, dest)"
   ]
  },
  {
   "cell_type": "markdown",
   "id": "d7596fcc-5593-4e45-a80d-347091fd8f16",
   "metadata": {},
   "source": [
    "Once we have populated the Network class with all our date, we can visualize it with theo method `.show()`. This will take a single argument, a string that will be the file created."
   ]
  },
  {
   "cell_type": "code",
   "execution_count": 12,
   "id": "b8c47521-b7c7-4884-bc41-b99df26b7262",
   "metadata": {},
   "outputs": [
    {
     "data": {
      "text/html": [
       "\n",
       "        <iframe\n",
       "            width=\"100%\"\n",
       "            height=\"600px\"\n",
       "            src=\"simple_graph.html\"\n",
       "            frameborder=\"0\"\n",
       "            allowfullscreen\n",
       "            \n",
       "        ></iframe>\n",
       "        "
      ],
      "text/plain": [
       "<IPython.lib.display.IFrame at 0x7f6ecb58b700>"
      ]
     },
     "execution_count": 12,
     "metadata": {},
     "output_type": "execute_result"
    }
   ],
   "source": [
    "net.show(\"simple_graph.html\")"
   ]
  },
  {
   "cell_type": "code",
   "execution_count": 11,
   "id": "5f68512f-e830-442d-b724-32e6b78a10b1",
   "metadata": {},
   "outputs": [],
   "source": [
    "# from IPython.display import HTML\n",
    "# HTML(filename=\"simple_graph.html\")"
   ]
  },
  {
   "cell_type": "markdown",
   "id": "9a8ea6dd-e6a9-47bb-aa26-cb3d95a611a6",
   "metadata": {},
   "source": [
    "In the graph above, try to interact with the data. You will notice that you can drag-and-drop nodes. You can zoom in and out in the graph. This is a good demonstration of the power PyVis has over NetworkX and Matplotlib."
   ]
  },
  {
   "cell_type": "markdown",
   "id": "d3dd2cba-4176-4e0f-bbaf-c54634e6b1f9",
   "metadata": {},
   "source": [
    "## Creating Filters"
   ]
  }
 ],
 "metadata": {
  "kernelspec": {
   "display_name": "Python 3 (ipykernel)",
   "language": "python",
   "name": "python3"
  },
  "language_info": {
   "codemirror_mode": {
    "name": "ipython",
    "version": 3
   },
   "file_extension": ".py",
   "mimetype": "text/x-python",
   "name": "python",
   "nbconvert_exporter": "python",
   "pygments_lexer": "ipython3",
   "version": "3.9.12"
  }
 },
 "nbformat": 4,
 "nbformat_minor": 5
}
