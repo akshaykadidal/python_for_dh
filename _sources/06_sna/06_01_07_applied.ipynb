{
 "cells": [
  {
   "cell_type": "markdown",
   "id": "b899b5cb-e954-4a20-a346-1ba90b702b1a",
   "metadata": {},
   "source": [
    "# SNA on Humanities Data"
   ]
  },
  {
   "cell_type": "markdown",
   "id": "c0363c9e-7919-4a95-b7c5-944a61c36214",
   "metadata": {},
   "source": [
    "# Introduction"
   ]
  },
  {
   "cell_type": "markdown",
   "id": "0f4c2208-374c-471c-be80-6b57b2ec382f",
   "metadata": {},
   "source": [
    "In this section, we will apply the skills we have learned about SNA on real humanities data. Again, we will be working with the Volume 7 Dataset from the South African TRC. Unlike the last chapter on Topic Modeling, we will not be interested in how the descriptions of violence cluster together. Instead, we will be interested in exploring victim relationships to specific organizations in their description. It is important to note here, that we do not in this approach know the relationship between the victim and the organization. There is equal possibility that they were a member or victim of the organization."
   ]
  },
  {
   "cell_type": "markdown",
   "id": "f1e8b360-4d50-4934-bf3f-8328ee6430d4",
   "metadata": {},
   "source": [
    "## Examining the Data"
   ]
  },
  {
   "cell_type": "code",
   "execution_count": 50,
   "id": "d9d7daed-5d39-4e5c-9d62-63c88cbf0ff3",
   "metadata": {},
   "outputs": [],
   "source": [
    "import pandas as pd\n",
    "import random"
   ]
  },
  {
   "cell_type": "code",
   "execution_count": 75,
   "id": "84b5d73c-f9c1-4af0-99e9-1a1d4cd93e1f",
   "metadata": {},
   "outputs": [],
   "source": [
    "df = pd.read_csv(\"../data/trc.csv\")\n",
    "# df = df.dropna()\n",
    "df = df[:1000]\n",
    "df = df[[\"Last\", \"First\", \"Description\",\"ORG\", \"Place\"]]"
   ]
  },
  {
   "cell_type": "code",
   "execution_count": 76,
   "id": "c63387f8-4a37-47e6-9ff5-3820ca68cd1c",
   "metadata": {},
   "outputs": [
    {
     "data": {
      "text/html": [
       "<div>\n",
       "<style scoped>\n",
       "    .dataframe tbody tr th:only-of-type {\n",
       "        vertical-align: middle;\n",
       "    }\n",
       "\n",
       "    .dataframe tbody tr th {\n",
       "        vertical-align: top;\n",
       "    }\n",
       "\n",
       "    .dataframe thead th {\n",
       "        text-align: right;\n",
       "    }\n",
       "</style>\n",
       "<table border=\"1\" class=\"dataframe\">\n",
       "  <thead>\n",
       "    <tr style=\"text-align: right;\">\n",
       "      <th></th>\n",
       "      <th>Last</th>\n",
       "      <th>First</th>\n",
       "      <th>Description</th>\n",
       "      <th>ORG</th>\n",
       "      <th>Place</th>\n",
       "    </tr>\n",
       "  </thead>\n",
       "  <tbody>\n",
       "    <tr>\n",
       "      <th>0</th>\n",
       "      <td>AARON</td>\n",
       "      <td>Thabo Simon</td>\n",
       "      <td>An ANCYL member who was shot and severely inju...</td>\n",
       "      <td>ANC|ANCYL|Police|SAP</td>\n",
       "      <td>Bethulie</td>\n",
       "    </tr>\n",
       "    <tr>\n",
       "      <th>1</th>\n",
       "      <td>ABBOTT</td>\n",
       "      <td>Montaigne</td>\n",
       "      <td>A member of the SADF who was severely injured ...</td>\n",
       "      <td>SADF</td>\n",
       "      <td>Messina</td>\n",
       "    </tr>\n",
       "    <tr>\n",
       "      <th>2</th>\n",
       "      <td>ABRAHAM</td>\n",
       "      <td>Nzaliseko Christopher</td>\n",
       "      <td>A COSAS supporter who was kicked and beaten wi...</td>\n",
       "      <td>COSAS|Police</td>\n",
       "      <td>Mdantsane</td>\n",
       "    </tr>\n",
       "    <tr>\n",
       "      <th>3</th>\n",
       "      <td>ABRAHAMS</td>\n",
       "      <td>Achmat Fardiel</td>\n",
       "      <td>Was shot and blinded in one eye by members of ...</td>\n",
       "      <td>SAP</td>\n",
       "      <td>Athlone</td>\n",
       "    </tr>\n",
       "    <tr>\n",
       "      <th>4</th>\n",
       "      <td>ABRAHAMS</td>\n",
       "      <td>Annalene Mildred</td>\n",
       "      <td>Was shot and injured by members of the SAP in ...</td>\n",
       "      <td>Police|SAP</td>\n",
       "      <td>Robertson</td>\n",
       "    </tr>\n",
       "    <tr>\n",
       "      <th>...</th>\n",
       "      <td>...</td>\n",
       "      <td>...</td>\n",
       "      <td>...</td>\n",
       "      <td>...</td>\n",
       "      <td>...</td>\n",
       "    </tr>\n",
       "    <tr>\n",
       "      <th>995</th>\n",
       "      <td>CELE</td>\n",
       "      <td>Nompumelelo Iris ‘Magwaza’</td>\n",
       "      <td>An ANC district organiser for southern Natal w...</td>\n",
       "      <td>ANC</td>\n",
       "      <td>Ndwedwe</td>\n",
       "    </tr>\n",
       "    <tr>\n",
       "      <th>996</th>\n",
       "      <td>CELE</td>\n",
       "      <td>Nomvula Eunice</td>\n",
       "      <td>Her home was burnt down by IFP supporters in U...</td>\n",
       "      <td>ANC</td>\n",
       "      <td>Umbumbulu</td>\n",
       "    </tr>\n",
       "    <tr>\n",
       "      <th>997</th>\n",
       "      <td>CELE</td>\n",
       "      <td>Nonhlanhla Evelina</td>\n",
       "      <td>An IFP supporter who was killed by ANC support...</td>\n",
       "      <td>ANC</td>\n",
       "      <td>Umzimkulu</td>\n",
       "    </tr>\n",
       "    <tr>\n",
       "      <th>998</th>\n",
       "      <td>CELE</td>\n",
       "      <td>Nozimpahla</td>\n",
       "      <td>Her home was burnt down by IFP supporters on 2...</td>\n",
       "      <td>NaN</td>\n",
       "      <td>Sonkombo</td>\n",
       "    </tr>\n",
       "    <tr>\n",
       "      <th>999</th>\n",
       "      <td>DLAMINI</td>\n",
       "      <td>Cedric Bongani</td>\n",
       "      <td>An ANC supporter who was shot dead by IFP supp...</td>\n",
       "      <td>ANC</td>\n",
       "      <td>Durban</td>\n",
       "    </tr>\n",
       "  </tbody>\n",
       "</table>\n",
       "<p>1000 rows × 5 columns</p>\n",
       "</div>"
      ],
      "text/plain": [
       "         Last                       First  \\\n",
       "0       AARON                 Thabo Simon   \n",
       "1      ABBOTT                   Montaigne   \n",
       "2     ABRAHAM       Nzaliseko Christopher   \n",
       "3    ABRAHAMS              Achmat Fardiel   \n",
       "4    ABRAHAMS            Annalene Mildred   \n",
       "..        ...                         ...   \n",
       "995      CELE  Nompumelelo Iris ‘Magwaza’   \n",
       "996      CELE              Nomvula Eunice   \n",
       "997      CELE          Nonhlanhla Evelina   \n",
       "998      CELE                  Nozimpahla   \n",
       "999   DLAMINI              Cedric Bongani   \n",
       "\n",
       "                                           Description                   ORG  \\\n",
       "0    An ANCYL member who was shot and severely inju...  ANC|ANCYL|Police|SAP   \n",
       "1    A member of the SADF who was severely injured ...                  SADF   \n",
       "2    A COSAS supporter who was kicked and beaten wi...          COSAS|Police   \n",
       "3    Was shot and blinded in one eye by members of ...                   SAP   \n",
       "4    Was shot and injured by members of the SAP in ...            Police|SAP   \n",
       "..                                                 ...                   ...   \n",
       "995  An ANC district organiser for southern Natal w...                   ANC   \n",
       "996  Her home was burnt down by IFP supporters in U...                   ANC   \n",
       "997  An IFP supporter who was killed by ANC support...                   ANC   \n",
       "998  Her home was burnt down by IFP supporters on 2...                   NaN   \n",
       "999  An ANC supporter who was shot dead by IFP supp...                   ANC   \n",
       "\n",
       "         Place  \n",
       "0     Bethulie  \n",
       "1      Messina  \n",
       "2    Mdantsane  \n",
       "3      Athlone  \n",
       "4    Robertson  \n",
       "..         ...  \n",
       "995    Ndwedwe  \n",
       "996  Umbumbulu  \n",
       "997  Umzimkulu  \n",
       "998   Sonkombo  \n",
       "999     Durban  \n",
       "\n",
       "[1000 rows x 5 columns]"
      ]
     },
     "execution_count": 76,
     "metadata": {},
     "output_type": "execute_result"
    }
   ],
   "source": [
    "df"
   ]
  },
  {
   "cell_type": "code",
   "execution_count": 77,
   "id": "15639064-4851-4ebf-a9e5-d8656d6804e9",
   "metadata": {},
   "outputs": [
    {
     "name": "stdout",
     "output_type": "stream",
     "text": [
      "[{'name': '0_Thabo Simon AARON', 'color': 'green', 'place': 'Bethulie'}]\n",
      "[{'source': 'ANC', 'target': '0_Thabo Simon AARON', 'place': 'Bethulie'}]\n",
      "2172\n"
     ]
    }
   ],
   "source": [
    "nodes = []\n",
    "edge_list = []\n",
    "found_orgs = []\n",
    "for idx, row in df.iterrows():\n",
    "    node_id = f\"{idx}_{row.First} {row.Last}\"\n",
    "\n",
    "    place = row.Place\n",
    "    nodes.append(({\"name\": node_id, \"color\": \"green\", \"place\": place}))\n",
    "    if pd.isnull(row.ORG) == False:\n",
    "        orgs = row.ORG.split(\"|\")\n",
    "        for org in orgs:\n",
    "            if org not in found_orgs:\n",
    "                color = \"#\"+''.join([random.choice('0123456789ABCDEF') for j in range(6)])\n",
    "                nodes.append({\"name\": org, \"color\": color})\n",
    "            edge_list.append({\"source\": org, \"target\": node_id, \"place\": place})\n",
    "print(nodes[:1])\n",
    "print(edge_list[:1])\n",
    "print(len(nodes))"
   ]
  },
  {
   "cell_type": "code",
   "execution_count": 78,
   "id": "3120e3be-270b-4fc8-8290-6f34ab6fb304",
   "metadata": {},
   "outputs": [
    {
     "data": {
      "text/html": [
       "<div>\n",
       "<style scoped>\n",
       "    .dataframe tbody tr th:only-of-type {\n",
       "        vertical-align: middle;\n",
       "    }\n",
       "\n",
       "    .dataframe tbody tr th {\n",
       "        vertical-align: top;\n",
       "    }\n",
       "\n",
       "    .dataframe thead th {\n",
       "        text-align: right;\n",
       "    }\n",
       "</style>\n",
       "<table border=\"1\" class=\"dataframe\">\n",
       "  <thead>\n",
       "    <tr style=\"text-align: right;\">\n",
       "      <th></th>\n",
       "      <th>name</th>\n",
       "      <th>color</th>\n",
       "      <th>place</th>\n",
       "    </tr>\n",
       "  </thead>\n",
       "  <tbody>\n",
       "    <tr>\n",
       "      <th>0</th>\n",
       "      <td>0_Thabo Simon AARON</td>\n",
       "      <td>green</td>\n",
       "      <td>Bethulie</td>\n",
       "    </tr>\n",
       "  </tbody>\n",
       "</table>\n",
       "</div>"
      ],
      "text/plain": [
       "                  name  color     place\n",
       "0  0_Thabo Simon AARON  green  Bethulie"
      ]
     },
     "execution_count": 78,
     "metadata": {},
     "output_type": "execute_result"
    }
   ],
   "source": [
    "node_df = pd.DataFrame(nodes)\n",
    "node_df.to_csv(\"../data/nodes.csv\", index=False)\n",
    "node_df.head(1)"
   ]
  },
  {
   "cell_type": "code",
   "execution_count": 79,
   "id": "d6eea2ea-5568-402b-b450-94bfa030bc2c",
   "metadata": {},
   "outputs": [
    {
     "data": {
      "text/html": [
       "<div>\n",
       "<style scoped>\n",
       "    .dataframe tbody tr th:only-of-type {\n",
       "        vertical-align: middle;\n",
       "    }\n",
       "\n",
       "    .dataframe tbody tr th {\n",
       "        vertical-align: top;\n",
       "    }\n",
       "\n",
       "    .dataframe thead th {\n",
       "        text-align: right;\n",
       "    }\n",
       "</style>\n",
       "<table border=\"1\" class=\"dataframe\">\n",
       "  <thead>\n",
       "    <tr style=\"text-align: right;\">\n",
       "      <th></th>\n",
       "      <th>source</th>\n",
       "      <th>target</th>\n",
       "      <th>place</th>\n",
       "    </tr>\n",
       "  </thead>\n",
       "  <tbody>\n",
       "    <tr>\n",
       "      <th>0</th>\n",
       "      <td>ANC</td>\n",
       "      <td>0_Thabo Simon AARON</td>\n",
       "      <td>Bethulie</td>\n",
       "    </tr>\n",
       "  </tbody>\n",
       "</table>\n",
       "</div>"
      ],
      "text/plain": [
       "  source               target     place\n",
       "0    ANC  0_Thabo Simon AARON  Bethulie"
      ]
     },
     "execution_count": 79,
     "metadata": {},
     "output_type": "execute_result"
    }
   ],
   "source": [
    "edge_df = pd.DataFrame(edge_list)\n",
    "edge_df.to_csv(\"../data/edges.csv\", index=False)\n",
    "edge_df.head(1)"
   ]
  },
  {
   "cell_type": "code",
   "execution_count": null,
   "id": "b09ce55c-4a5f-4b67-907b-7b08b0ab8ded",
   "metadata": {},
   "outputs": [],
   "source": []
  },
  {
   "cell_type": "code",
   "execution_count": null,
   "id": "2440ed66-64b9-4a34-893b-4280d3394e8c",
   "metadata": {},
   "outputs": [],
   "source": []
  },
  {
   "cell_type": "code",
   "execution_count": null,
   "id": "e6d288e8-758b-49d8-8712-ec960d0fee98",
   "metadata": {},
   "outputs": [],
   "source": []
  }
 ],
 "metadata": {
  "kernelspec": {
   "display_name": "Python 3 (ipykernel)",
   "language": "python",
   "name": "python3"
  },
  "language_info": {
   "codemirror_mode": {
    "name": "ipython",
    "version": 3
   },
   "file_extension": ".py",
   "mimetype": "text/x-python",
   "name": "python",
   "nbconvert_exporter": "python",
   "pygments_lexer": "ipython3",
   "version": "3.9.12"
  }
 },
 "nbformat": 4,
 "nbformat_minor": 5
}
