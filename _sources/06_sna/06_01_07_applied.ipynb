{
 "cells": [
  {
   "cell_type": "markdown",
   "id": "b899b5cb-e954-4a20-a346-1ba90b702b1a",
   "metadata": {},
   "source": [
    "# <center>Applying SNA on Humanities Data</center>"
   ]
  },
  {
   "cell_type": "markdown",
   "id": "c0363c9e-7919-4a95-b7c5-944a61c36214",
   "metadata": {},
   "source": [
    "# Introduction"
   ]
  },
  {
   "cell_type": "markdown",
   "id": "0f4c2208-374c-471c-be80-6b57b2ec382f",
   "metadata": {},
   "source": [
    "In this section, we will apply the skills we have learned about SNA on real humanities data. Again, we will be working with the Volume 7 Dataset from the South African TRC. Unlike the last chapter on Topic Modeling, we will not be interested in how the descriptions of violence cluster together. Instead, we will be interested in exploring victim relationships to specific organizations in their description. It is important to note here, that we do not in this approach know the relationship between the victim and the organization. There is equal possibility that they were a member or victim of the organization."
   ]
  },
  {
   "cell_type": "markdown",
   "id": "f1e8b360-4d50-4934-bf3f-8328ee6430d4",
   "metadata": {},
   "source": [
    "## Examining the Data"
   ]
  },
  {
   "cell_type": "code",
   "execution_count": 2,
   "id": "d9d7daed-5d39-4e5c-9d62-63c88cbf0ff3",
   "metadata": {},
   "outputs": [],
   "source": [
    "import pandas as pd"
   ]
  },
  {
   "cell_type": "code",
   "execution_count": 54,
   "id": "84b5d73c-f9c1-4af0-99e9-1a1d4cd93e1f",
   "metadata": {},
   "outputs": [],
   "source": [
    "df = pd.read_csv(\"../data/trc.csv\")\n",
    "# df = df[[\"Last\", \"First\", \"Description\",\"ORG\", \"Place\"]]"
   ]
  },
  {
   "cell_type": "code",
   "execution_count": 55,
   "id": "c63387f8-4a37-47e6-9ff5-3820ca68cd1c",
   "metadata": {},
   "outputs": [
    {
     "data": {
      "text/html": [
       "<div>\n",
       "<style scoped>\n",
       "    .dataframe tbody tr th:only-of-type {\n",
       "        vertical-align: middle;\n",
       "    }\n",
       "\n",
       "    .dataframe tbody tr th {\n",
       "        vertical-align: top;\n",
       "    }\n",
       "\n",
       "    .dataframe thead th {\n",
       "        text-align: right;\n",
       "    }\n",
       "</style>\n",
       "<table border=\"1\" class=\"dataframe\">\n",
       "  <thead>\n",
       "    <tr style=\"text-align: right;\">\n",
       "      <th></th>\n",
       "      <th>ObjectId</th>\n",
       "      <th>Last</th>\n",
       "      <th>First</th>\n",
       "      <th>Description</th>\n",
       "      <th>Place</th>\n",
       "      <th>Yr</th>\n",
       "      <th>Homeland</th>\n",
       "      <th>Province</th>\n",
       "      <th>Long</th>\n",
       "      <th>Lat</th>\n",
       "      <th>HRV</th>\n",
       "      <th>ORG</th>\n",
       "    </tr>\n",
       "  </thead>\n",
       "  <tbody>\n",
       "    <tr>\n",
       "      <th>0</th>\n",
       "      <td>1</td>\n",
       "      <td>AARON</td>\n",
       "      <td>Thabo Simon</td>\n",
       "      <td>An ANCYL member who was shot and severely inju...</td>\n",
       "      <td>Bethulie</td>\n",
       "      <td>1991.0</td>\n",
       "      <td>NaN</td>\n",
       "      <td>Orange Free State</td>\n",
       "      <td>25.97552</td>\n",
       "      <td>-30.503290</td>\n",
       "      <td>shoot|injure</td>\n",
       "      <td>ANC|ANCYL|Police|SAP</td>\n",
       "    </tr>\n",
       "    <tr>\n",
       "      <th>1</th>\n",
       "      <td>2</td>\n",
       "      <td>ABBOTT</td>\n",
       "      <td>Montaigne</td>\n",
       "      <td>A member of the SADF who was severely injured ...</td>\n",
       "      <td>Messina</td>\n",
       "      <td>1987.0</td>\n",
       "      <td>NaN</td>\n",
       "      <td>Transvaal</td>\n",
       "      <td>30.039597</td>\n",
       "      <td>-22.351308</td>\n",
       "      <td>injure</td>\n",
       "      <td>SADF</td>\n",
       "    </tr>\n",
       "    <tr>\n",
       "      <th>2</th>\n",
       "      <td>3</td>\n",
       "      <td>ABRAHAM</td>\n",
       "      <td>Nzaliseko Christopher</td>\n",
       "      <td>A COSAS supporter who was kicked and beaten wi...</td>\n",
       "      <td>Mdantsane</td>\n",
       "      <td>1985.0</td>\n",
       "      <td>Ciskei</td>\n",
       "      <td>Cape of Good Hope</td>\n",
       "      <td>27.6708791</td>\n",
       "      <td>-32.958623</td>\n",
       "      <td>beat</td>\n",
       "      <td>COSAS|Police</td>\n",
       "    </tr>\n",
       "    <tr>\n",
       "      <th>3</th>\n",
       "      <td>4</td>\n",
       "      <td>ABRAHAMS</td>\n",
       "      <td>Achmat Fardiel</td>\n",
       "      <td>Was shot and blinded in one eye by members of ...</td>\n",
       "      <td>Athlone</td>\n",
       "      <td>1985.0</td>\n",
       "      <td>NaN</td>\n",
       "      <td>Cape of Good Hope</td>\n",
       "      <td>18.50214</td>\n",
       "      <td>-33.967220</td>\n",
       "      <td>shoot|blind</td>\n",
       "      <td>SAP</td>\n",
       "    </tr>\n",
       "    <tr>\n",
       "      <th>4</th>\n",
       "      <td>5</td>\n",
       "      <td>ABRAHAMS</td>\n",
       "      <td>Annalene Mildred</td>\n",
       "      <td>Was shot and injured by members of the SAP in ...</td>\n",
       "      <td>Robertson</td>\n",
       "      <td>1990.0</td>\n",
       "      <td>NaN</td>\n",
       "      <td>Cape of Good Hope</td>\n",
       "      <td>19.883611</td>\n",
       "      <td>-33.802220</td>\n",
       "      <td>shoot|injure</td>\n",
       "      <td>Police|SAP</td>\n",
       "    </tr>\n",
       "    <tr>\n",
       "      <th>...</th>\n",
       "      <td>...</td>\n",
       "      <td>...</td>\n",
       "      <td>...</td>\n",
       "      <td>...</td>\n",
       "      <td>...</td>\n",
       "      <td>...</td>\n",
       "      <td>...</td>\n",
       "      <td>...</td>\n",
       "      <td>...</td>\n",
       "      <td>...</td>\n",
       "      <td>...</td>\n",
       "      <td>...</td>\n",
       "    </tr>\n",
       "    <tr>\n",
       "      <th>20829</th>\n",
       "      <td>20888</td>\n",
       "      <td>XUZA</td>\n",
       "      <td>Mandla</td>\n",
       "      <td>Was severely injured when he was stoned by a f...</td>\n",
       "      <td>Carletonville</td>\n",
       "      <td>1991.0</td>\n",
       "      <td>NaN</td>\n",
       "      <td>Transvaal</td>\n",
       "      <td>27.397673</td>\n",
       "      <td>-26.360943</td>\n",
       "      <td>injure|stone</td>\n",
       "      <td>ANC</td>\n",
       "    </tr>\n",
       "    <tr>\n",
       "      <th>20830</th>\n",
       "      <td>20889</td>\n",
       "      <td>YAKA</td>\n",
       "      <td>Mbangomuni</td>\n",
       "      <td>An IFP supporter and acting induna who was sho...</td>\n",
       "      <td>Mvutshini</td>\n",
       "      <td>1993.0</td>\n",
       "      <td>KwaZulu</td>\n",
       "      <td>Natal</td>\n",
       "      <td>30.28172</td>\n",
       "      <td>-30.868900</td>\n",
       "      <td>shoot</td>\n",
       "      <td>NaN</td>\n",
       "    </tr>\n",
       "    <tr>\n",
       "      <th>20831</th>\n",
       "      <td>20890</td>\n",
       "      <td>YALI</td>\n",
       "      <td>Khayalethu</td>\n",
       "      <td>Was shot by members of the SAP in Lingelihle, ...</td>\n",
       "      <td>Cradock</td>\n",
       "      <td>1986.0</td>\n",
       "      <td>NaN</td>\n",
       "      <td>Cape of Good Hope</td>\n",
       "      <td>25.619176</td>\n",
       "      <td>-32.164221</td>\n",
       "      <td>shoot</td>\n",
       "      <td>SAP</td>\n",
       "    </tr>\n",
       "    <tr>\n",
       "      <th>20832</th>\n",
       "      <td>20891</td>\n",
       "      <td>YALO</td>\n",
       "      <td>Bikiwe</td>\n",
       "      <td>An IFP supporter whose house and possessions w...</td>\n",
       "      <td>Port Shepstone</td>\n",
       "      <td>1994.0</td>\n",
       "      <td>NaN</td>\n",
       "      <td>Natal</td>\n",
       "      <td>30.4297304</td>\n",
       "      <td>-30.752126</td>\n",
       "      <td>destroy</td>\n",
       "      <td>ANC</td>\n",
       "    </tr>\n",
       "    <tr>\n",
       "      <th>20833</th>\n",
       "      <td>20892</td>\n",
       "      <td>YALOLO-BOOYSEN</td>\n",
       "      <td>Geoffrey Yali</td>\n",
       "      <td>An ANC supporter and youth activist who was to...</td>\n",
       "      <td>George</td>\n",
       "      <td>1986.0</td>\n",
       "      <td>NaN</td>\n",
       "      <td>Cape of Good Hope</td>\n",
       "      <td>22.459722</td>\n",
       "      <td>-33.964440</td>\n",
       "      <td>torture|detain|torture</td>\n",
       "      <td>ANC|SAP</td>\n",
       "    </tr>\n",
       "  </tbody>\n",
       "</table>\n",
       "<p>20834 rows × 12 columns</p>\n",
       "</div>"
      ],
      "text/plain": [
       "       ObjectId            Last                  First  \\\n",
       "0             1           AARON            Thabo Simon   \n",
       "1             2          ABBOTT              Montaigne   \n",
       "2             3         ABRAHAM  Nzaliseko Christopher   \n",
       "3             4        ABRAHAMS         Achmat Fardiel   \n",
       "4             5        ABRAHAMS       Annalene Mildred   \n",
       "...         ...             ...                    ...   \n",
       "20829     20888            XUZA                 Mandla   \n",
       "20830     20889            YAKA             Mbangomuni   \n",
       "20831     20890            YALI             Khayalethu   \n",
       "20832     20891            YALO                 Bikiwe   \n",
       "20833     20892  YALOLO-BOOYSEN          Geoffrey Yali   \n",
       "\n",
       "                                             Description           Place  \\\n",
       "0      An ANCYL member who was shot and severely inju...        Bethulie   \n",
       "1      A member of the SADF who was severely injured ...         Messina   \n",
       "2      A COSAS supporter who was kicked and beaten wi...       Mdantsane   \n",
       "3      Was shot and blinded in one eye by members of ...         Athlone   \n",
       "4      Was shot and injured by members of the SAP in ...       Robertson   \n",
       "...                                                  ...             ...   \n",
       "20829  Was severely injured when he was stoned by a f...   Carletonville   \n",
       "20830  An IFP supporter and acting induna who was sho...       Mvutshini   \n",
       "20831  Was shot by members of the SAP in Lingelihle, ...         Cradock   \n",
       "20832  An IFP supporter whose house and possessions w...  Port Shepstone   \n",
       "20833  An ANC supporter and youth activist who was to...          George   \n",
       "\n",
       "           Yr Homeland           Province        Long        Lat  \\\n",
       "0      1991.0      NaN  Orange Free State    25.97552 -30.503290   \n",
       "1      1987.0      NaN          Transvaal   30.039597 -22.351308   \n",
       "2      1985.0   Ciskei  Cape of Good Hope  27.6708791 -32.958623   \n",
       "3      1985.0      NaN  Cape of Good Hope    18.50214 -33.967220   \n",
       "4      1990.0      NaN  Cape of Good Hope   19.883611 -33.802220   \n",
       "...       ...      ...                ...         ...        ...   \n",
       "20829  1991.0      NaN          Transvaal   27.397673 -26.360943   \n",
       "20830  1993.0  KwaZulu              Natal    30.28172 -30.868900   \n",
       "20831  1986.0      NaN  Cape of Good Hope   25.619176 -32.164221   \n",
       "20832  1994.0      NaN              Natal  30.4297304 -30.752126   \n",
       "20833  1986.0      NaN  Cape of Good Hope   22.459722 -33.964440   \n",
       "\n",
       "                          HRV                   ORG  \n",
       "0                shoot|injure  ANC|ANCYL|Police|SAP  \n",
       "1                      injure                  SADF  \n",
       "2                        beat          COSAS|Police  \n",
       "3                 shoot|blind                   SAP  \n",
       "4                shoot|injure            Police|SAP  \n",
       "...                       ...                   ...  \n",
       "20829            injure|stone                   ANC  \n",
       "20830                   shoot                   NaN  \n",
       "20831                   shoot                   SAP  \n",
       "20832                 destroy                   ANC  \n",
       "20833  torture|detain|torture               ANC|SAP  \n",
       "\n",
       "[20834 rows x 12 columns]"
      ]
     },
     "execution_count": 55,
     "metadata": {},
     "output_type": "execute_result"
    }
   ],
   "source": [
    "df"
   ]
  },
  {
   "cell_type": "code",
   "execution_count": 8,
   "id": "2af43ca0-acb5-4cbc-8304-fd0baab2a874",
   "metadata": {},
   "outputs": [],
   "source": [
    "from pyvis.network import Network\n",
    "import networkx as nx"
   ]
  },
  {
   "cell_type": "code",
   "execution_count": 56,
   "id": "15639064-4851-4ebf-a9e5-d8656d6804e9",
   "metadata": {},
   "outputs": [
    {
     "name": "stdout",
     "output_type": "stream",
     "text": [
      "[('0_Thabo Simon AARON', {'color': 'green', 'place': 'Bethulie'})]\n",
      "[('0_Thabo Simon AARON', 'ANC', {'place': 'Bethulie', 'homeland': None})]\n"
     ]
    }
   ],
   "source": [
    "nodes = []\n",
    "edge_list = []\n",
    "df = df[:1000]\n",
    "for idx, row in df.iterrows():\n",
    "    node_id = f\"{idx}_{row.First} {row.Last}\"\n",
    "    place = None\n",
    "    if pd.isnull(row.Place) == False:\n",
    "        place = row.Place\n",
    "    homeland = None\n",
    "    if pd.isnull(row.Homeland) == False:\n",
    "        homeland = row.Homeland\n",
    "    nodes.append((node_id, {\"color\": \"green\", \"place\": place}))\n",
    "    if pd.isnull(row.ORG) == False:\n",
    "        orgs = row.ORG.split(\"|\")\n",
    "        for org in orgs:\n",
    "            if (org, {\"color\": \"blue\"}) not in nodes:\n",
    "                nodes.append((org, {\"color\": \"blue\"}))\n",
    "            edge_list.append((node_id, org, {\"place\": place, \"homeland\": homeland}))\n",
    "print(nodes[:1])\n",
    "print(edge_list[:1])"
   ]
  },
  {
   "cell_type": "code",
   "execution_count": 57,
   "id": "b893eba0-bd59-408d-95ab-63f85031f0c8",
   "metadata": {},
   "outputs": [],
   "source": [
    "G = nx.Graph()\n",
    "G.add_nodes_from(nodes)\n",
    "G.add_edges_from(edge_list)"
   ]
  },
  {
   "cell_type": "code",
   "execution_count": null,
   "id": "4f466747-1f4a-412e-b7e6-4cacce1221a4",
   "metadata": {},
   "outputs": [],
   "source": []
  },
  {
   "cell_type": "code",
   "execution_count": null,
   "id": "8667b186-8ed4-42b0-a705-d6d3bfa8a5a6",
   "metadata": {},
   "outputs": [],
   "source": []
  },
  {
   "cell_type": "code",
   "execution_count": 58,
   "id": "9c71fdb5-a4f8-4627-b16d-b87e503e8513",
   "metadata": {},
   "outputs": [
    {
     "name": "stdout",
     "output_type": "stream",
     "text": [
      "Local cdn resources have problems on chrome/safari when used in jupyter-notebook. \n"
     ]
    }
   ],
   "source": [
    "net = Network(notebook=True, filter_menu=True, select_menu=True)\n",
    "net.from_nx(G)\n",
    "net.toggle_physics(False)\n",
    "net.show_buttons(filter_=['physics'])"
   ]
  },
  {
   "cell_type": "code",
   "execution_count": 59,
   "id": "e9fdc0bb-6719-4f39-b859-f391c023f489",
   "metadata": {},
   "outputs": [],
   "source": [
    "net.save_graph(\"trc_graph.html\")"
   ]
  },
  {
   "cell_type": "code",
   "execution_count": 19,
   "id": "7dff6443-5bda-4af9-adc1-7196b89b3321",
   "metadata": {},
   "outputs": [
    {
     "name": "stdout",
     "output_type": "stream",
     "text": [
      "Local cdn resources have problems on chrome/safari when used in jupyter-notebook. \n"
     ]
    }
   ],
   "source": [
    "net = Network(notebook=True, filter_menu=True, select_menu=True)\n",
    "net.barnes_hut()\n",
    "small_df = df[:100]\n",
    "for idx, row in small_df.iterrows():\n",
    "    node_id = f\"{idx}_{row.First} {row.Last}\"\n",
    "    place = None\n",
    "    if pd.isnull(row.Place) == False:\n",
    "        place = row.Place\n",
    "    net.add_node(node_id, place=place, title=node_id)\n",
    "    if pd.isnull(row.ORG) == False:\n",
    "        orgs = row.ORG.split(\"|\")\n",
    "        for org in orgs:\n",
    "            if org not in [node.title for node in net.get_nodes()]:\n",
    "                net.add_node(org, color=\"red\", title=org)\n",
    "            net.add_edge(node_id, org, place=place)"
   ]
  },
  {
   "cell_type": "code",
   "execution_count": 20,
   "id": "bd3119e3-8fe5-4df9-be8d-f971ddf7b869",
   "metadata": {},
   "outputs": [],
   "source": [
    "net.toggle_physics(False)\n",
    "net.show_buttons(filter_=['physics'])\n",
    "net.save_graph(\"trc_graph.html\")"
   ]
  },
  {
   "cell_type": "code",
   "execution_count": 21,
   "id": "aa3c373b-f676-4c9a-93cc-17dd15c7df4c",
   "metadata": {},
   "outputs": [
    {
     "data": {
      "text/html": [
       "\n",
       "        <iframe\n",
       "            width=\"1000\"\n",
       "            height=\"1000\"\n",
       "            src=\"trc_graph.html\"\n",
       "            frameborder=\"0\"\n",
       "            allowfullscreen\n",
       "            \n",
       "        ></iframe>\n",
       "        "
      ],
      "text/plain": [
       "<IPython.lib.display.IFrame at 0x7f3ca1552370>"
      ]
     },
     "execution_count": 21,
     "metadata": {},
     "output_type": "execute_result"
    }
   ],
   "source": [
    "from IPython.display import IFrame\n",
    "IFrame(\"trc_graph.html\", width=1000, height=1000)"
   ]
  },
  {
   "cell_type": "markdown",
   "id": "efabbea2-1665-49e8-9091-09cf3828210b",
   "metadata": {},
   "source": [
    "## Adding Colors to Nodes"
   ]
  },
  {
   "cell_type": "markdown",
   "id": "f63e43ca-9e77-4711-9ebd-607bd90fd762",
   "metadata": {},
   "source": [
    "## Adding Metadata to Nodes"
   ]
  },
  {
   "cell_type": "code",
   "execution_count": null,
   "id": "5207bc3c-8162-46f1-88e1-7a4712afdeb3",
   "metadata": {},
   "outputs": [],
   "source": []
  }
 ],
 "metadata": {
  "kernelspec": {
   "display_name": "Python 3 (ipykernel)",
   "language": "python",
   "name": "python3"
  },
  "language_info": {
   "codemirror_mode": {
    "name": "ipython",
    "version": 3
   },
   "file_extension": ".py",
   "mimetype": "text/x-python",
   "name": "python",
   "nbconvert_exporter": "python",
   "pygments_lexer": "ipython3",
   "version": "3.9.12"
  }
 },
 "nbformat": 4,
 "nbformat_minor": 5
}
