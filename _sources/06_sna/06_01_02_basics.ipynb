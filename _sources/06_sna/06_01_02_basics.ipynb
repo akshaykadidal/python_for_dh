{
 "cells": [
  {
   "cell_type": "markdown",
   "id": "35738fd3-d0b8-46cb-91ee-221b7c4fdd35",
   "metadata": {},
   "source": [
    "# <center>The Basic Concepts of Social Network Analysis</center>"
   ]
  },
  {
   "cell_type": "markdown",
   "id": "67edb63b-3651-430e-aace-59f58bdab739",
   "metadata": {},
   "source": [
    "## Introduction"
   ]
  },
  {
   "cell_type": "markdown",
   "id": "1cd7a5ee-a976-4dff-be87-0391097f1bca",
   "metadata": {},
   "source": [
    "In this chapter, we will shift away from NLP and examine **Social network analysis** (SNA). SNA is the process by which researchers study the networks of social relationships. These can be familial (parents to children), social (friends), etc. The goal of SNA is to reveal insights about a network or group of individuals by studying them collectively and often through visualization methods.\n",
    "\n",
    "Visualized social networks are often studied through **graphs**, or visual representations of relationships. These graphs today stem often from **graph theory**, a branch of mathematics. In graph theory, math is used to study graph-based problems. Believe it or not, we are all beneficiaries of this discipline. Have you ever used Google Maps to go from `point A` to `point B`? This is graph theory at play. Behind the application is a complex set of relationships that allow Google to recommend certain paths over others to ensure that you have the fastest (or least expensive) route.\n",
    "\n",
    "This chapter will not cover all the complexities of SNA, rather give enough of the basic terminology and concepts to see how it works via Python. The chief goal of this chapter is to introduce the process by which we can perform SNA through structured data."
   ]
  },
  {
   "cell_type": "markdown",
   "id": "83a11c89-3b4f-4a41-adff-ee1a9f375c12",
   "metadata": {},
   "source": [
    "## Basic Terminology"
   ]
  },
  {
   "cell_type": "markdown",
   "id": "9d3cf3a3-28b0-4eca-a0b9-99197812f1e3",
   "metadata": {},
   "source": [
    "In a graph, there are a collection of **nodes**. These are dots in the graph that represent each piece of data. In a social network graph, each node would be a person or some kind of entity that a researcher wishes to map. Other entities may include things like businesses or agencies.\n",
    "\n",
    "In order to understand how different nodes relate to one another, we represent the relationships between them with **edges**. In a graph, these edges look like lines.\n",
    "\n",
    "Because graphs are often drawn with mathematics, it is important to know the **force** of a graph. Force in network theory is the direction of movement between two nodes. If we are mapping how characters move to different places in a graph, all people and places would receive a node in a graph. We would then inflict force with the person doing the movement towards the place. This would position the nodes in a particular way in a graph.\n",
    "\n",
    "In a network graph, we can often map multi-modal networks, or networks where different types of relationships are overlapping. Often, we can do this in a graph by representing each type of relationship as a separate edge color.\n",
    "\n",
    "Graphs are a useful way to explore complex relationships because in a single image, we can glean information that would otherwise be missed. We can examine our data quantitatively, meaning we can see the frequency that certain nodes appear in our data and, more importantly, the frequency with which that node relates to other nodes in the graph. We could, of course, extract this information for a node relatively easily with Pandas, but a graph let's us see many different relationships between many different pieces of data all in a single image. For these reasons, it is often useful to be familiar with SNA generally and generally how to map nodal relationships in Python."
   ]
  },
  {
   "cell_type": "markdown",
   "id": "de4a460b-3106-442d-9c7b-c32c02ea11bc",
   "metadata": {},
   "source": [
    "## SNA Libraries in Python"
   ]
  },
  {
   "cell_type": "markdown",
   "id": "66e7cd2f-3a26-4c59-a36e-d2153e607c36",
   "metadata": {},
   "source": [
    "Python has several libraries for performing SNA. In this chapter, we will look closely at two: NetworkX (and Matplotlib to visualize the graph) and PyVis. Each has its strengths and weaknesses."
   ]
  }
 ],
 "metadata": {
  "kernelspec": {
   "display_name": "Python 3 (ipykernel)",
   "language": "python",
   "name": "python3"
  },
  "language_info": {
   "codemirror_mode": {
    "name": "ipython",
    "version": 3
   },
   "file_extension": ".py",
   "mimetype": "text/x-python",
   "name": "python",
   "nbconvert_exporter": "python",
   "pygments_lexer": "ipython3",
   "version": "3.9.7"
  }
 },
 "nbformat": 4,
 "nbformat_minor": 5
}
