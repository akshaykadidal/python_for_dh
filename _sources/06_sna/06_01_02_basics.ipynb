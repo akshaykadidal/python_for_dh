{
 "cells": [
  {
   "cell_type": "markdown",
   "id": "35738fd3-d0b8-46cb-91ee-221b7c4fdd35",
   "metadata": {},
   "source": [
    "# <center>The Basic Concepts of Social Network Analysis</center>"
   ]
  },
  {
   "cell_type": "code",
   "execution_count": null,
   "id": "390cc283-140a-461c-89d6-2eaa34b4f16e",
   "metadata": {},
   "outputs": [],
   "source": []
  }
 ],
 "metadata": {
  "kernelspec": {
   "display_name": "Python 3 (ipykernel)",
   "language": "python",
   "name": "python3"
  },
  "language_info": {
   "codemirror_mode": {
    "name": "ipython",
    "version": 3
   },
   "file_extension": ".py",
   "mimetype": "text/x-python",
   "name": "python",
   "nbconvert_exporter": "python",
   "pygments_lexer": "ipython3",
   "version": "3.9.7"
  }
 },
 "nbformat": 4,
 "nbformat_minor": 5
}
