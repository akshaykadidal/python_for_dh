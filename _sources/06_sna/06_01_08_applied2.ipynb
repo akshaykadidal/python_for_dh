{
 "cells": [
  {
   "cell_type": "markdown",
   "id": "b899b5cb-e954-4a20-a346-1ba90b702b1a",
   "metadata": {},
   "source": [
    "# SNA on Humanities Data: Creating the Graph"
   ]
  },
  {
   "cell_type": "code",
   "execution_count": 1,
   "id": "3713facf-9d6b-4b55-9346-acb80a33f9d7",
   "metadata": {},
   "outputs": [],
   "source": [
    "import pandas as pd"
   ]
  },
  {
   "cell_type": "code",
   "execution_count": 2,
   "id": "8b2d906e-5a19-4772-aa86-fc07e2a5012b",
   "metadata": {},
   "outputs": [],
   "source": [
    "nodes_df = pd.read_csv(\"../data/nodes.csv\")\n",
    "edges_df = pd.read_csv(\"../data/edges.csv\")"
   ]
  },
  {
   "cell_type": "code",
   "execution_count": 3,
   "id": "8fddf1bc-874b-4fc9-ae68-48bffdc5c325",
   "metadata": {},
   "outputs": [
    {
     "data": {
      "text/html": [
       "<div>\n",
       "<style scoped>\n",
       "    .dataframe tbody tr th:only-of-type {\n",
       "        vertical-align: middle;\n",
       "    }\n",
       "\n",
       "    .dataframe tbody tr th {\n",
       "        vertical-align: top;\n",
       "    }\n",
       "\n",
       "    .dataframe thead th {\n",
       "        text-align: right;\n",
       "    }\n",
       "</style>\n",
       "<table border=\"1\" class=\"dataframe\">\n",
       "  <thead>\n",
       "    <tr style=\"text-align: right;\">\n",
       "      <th></th>\n",
       "      <th>name</th>\n",
       "      <th>color</th>\n",
       "      <th>place</th>\n",
       "    </tr>\n",
       "  </thead>\n",
       "  <tbody>\n",
       "    <tr>\n",
       "      <th>0</th>\n",
       "      <td>0_Thabo Simon AARON</td>\n",
       "      <td>green</td>\n",
       "      <td>Bethulie</td>\n",
       "    </tr>\n",
       "  </tbody>\n",
       "</table>\n",
       "</div>"
      ],
      "text/plain": [
       "                  name  color     place\n",
       "0  0_Thabo Simon AARON  green  Bethulie"
      ]
     },
     "execution_count": 3,
     "metadata": {},
     "output_type": "execute_result"
    }
   ],
   "source": [
    "nodes_df.head(1)"
   ]
  },
  {
   "cell_type": "code",
   "execution_count": 4,
   "id": "3176d388-7d98-45af-b251-db0c4ba56847",
   "metadata": {},
   "outputs": [
    {
     "data": {
      "text/html": [
       "<div>\n",
       "<style scoped>\n",
       "    .dataframe tbody tr th:only-of-type {\n",
       "        vertical-align: middle;\n",
       "    }\n",
       "\n",
       "    .dataframe tbody tr th {\n",
       "        vertical-align: top;\n",
       "    }\n",
       "\n",
       "    .dataframe thead th {\n",
       "        text-align: right;\n",
       "    }\n",
       "</style>\n",
       "<table border=\"1\" class=\"dataframe\">\n",
       "  <thead>\n",
       "    <tr style=\"text-align: right;\">\n",
       "      <th></th>\n",
       "      <th>source</th>\n",
       "      <th>target</th>\n",
       "      <th>place</th>\n",
       "    </tr>\n",
       "  </thead>\n",
       "  <tbody>\n",
       "    <tr>\n",
       "      <th>0</th>\n",
       "      <td>ANC</td>\n",
       "      <td>0_Thabo Simon AARON</td>\n",
       "      <td>Bethulie</td>\n",
       "    </tr>\n",
       "  </tbody>\n",
       "</table>\n",
       "</div>"
      ],
      "text/plain": [
       "  source               target     place\n",
       "0    ANC  0_Thabo Simon AARON  Bethulie"
      ]
     },
     "execution_count": 4,
     "metadata": {},
     "output_type": "execute_result"
    }
   ],
   "source": [
    "edges_df.head(1)"
   ]
  },
  {
   "cell_type": "code",
   "execution_count": 5,
   "id": "4700eba5-bd11-4559-956c-7085ec37d65b",
   "metadata": {},
   "outputs": [],
   "source": [
    "nodes = []\n",
    "edges = []\n",
    "for idx, row in nodes_df.iterrows():\n",
    "    nodes.append((row[\"name\"], {\"color\": row.color, \"place\": row.place, \"title\": row[\"name\"]}))\n",
    "for idx, row in edges_df.iterrows():\n",
    "    edges.append((row.source.strip(), row.target, {\"place\": row.place}))"
   ]
  },
  {
   "cell_type": "code",
   "execution_count": null,
   "id": "7a0e6bb7-58c3-4833-bc21-e910d7ffe601",
   "metadata": {},
   "outputs": [],
   "source": []
  },
  {
   "cell_type": "code",
   "execution_count": null,
   "id": "06b59785-6317-49fc-9131-53bb0642924a",
   "metadata": {},
   "outputs": [],
   "source": []
  },
  {
   "cell_type": "code",
   "execution_count": null,
   "id": "18343883-7df3-4432-bdbb-3f63730876ec",
   "metadata": {},
   "outputs": [],
   "source": []
  },
  {
   "cell_type": "code",
   "execution_count": 6,
   "id": "2af43ca0-acb5-4cbc-8304-fd0baab2a874",
   "metadata": {},
   "outputs": [],
   "source": [
    "from pyvis.network import Network\n",
    "import networkx as nx"
   ]
  },
  {
   "cell_type": "code",
   "execution_count": null,
   "id": "15639064-4851-4ebf-a9e5-d8656d6804e9",
   "metadata": {},
   "outputs": [],
   "source": []
  },
  {
   "cell_type": "code",
   "execution_count": null,
   "id": "b09ce55c-4a5f-4b67-907b-7b08b0ab8ded",
   "metadata": {},
   "outputs": [],
   "source": []
  },
  {
   "cell_type": "code",
   "execution_count": 7,
   "id": "b893eba0-bd59-408d-95ab-63f85031f0c8",
   "metadata": {},
   "outputs": [],
   "source": [
    "G = nx.Graph()\n",
    "G.add_nodes_from(nodes)\n",
    "G.add_edges_from(edges)"
   ]
  },
  {
   "cell_type": "code",
   "execution_count": 8,
   "id": "4f466747-1f4a-412e-b7e6-4cacce1221a4",
   "metadata": {},
   "outputs": [
    {
     "data": {
      "text/plain": [
       "array([-0.15405589,  0.00438501])"
      ]
     },
     "execution_count": 8,
     "metadata": {},
     "output_type": "execute_result"
    }
   ],
   "source": [
    "pos = nx.spring_layout(G)\n",
    "pos['2_Nzaliseko Christopher ABRAHAM']"
   ]
  },
  {
   "cell_type": "code",
   "execution_count": 9,
   "id": "9c71fdb5-a4f8-4627-b16d-b87e503e8513",
   "metadata": {},
   "outputs": [
    {
     "name": "stdout",
     "output_type": "stream",
     "text": [
      "Local cdn resources have problems on chrome/safari when used in jupyter-notebook. \n",
      "1021\n"
     ]
    },
    {
     "data": {
      "text/html": [
       "\n",
       "        <iframe\n",
       "            width=\"100%\"\n",
       "            height=\"600px\"\n",
       "            src=\"trc_graph.html\"\n",
       "            frameborder=\"0\"\n",
       "            allowfullscreen\n",
       "            \n",
       "        ></iframe>\n",
       "        "
      ],
      "text/plain": [
       "<IPython.lib.display.IFrame at 0x7f94f7f204c0>"
      ]
     },
     "metadata": {},
     "output_type": "display_data"
    }
   ],
   "source": [
    "net = Network(notebook=True, select_menu=True, filter_menu=True, height=1000)\n",
    "net.from_nx(G)\n",
    "\n",
    "print(len(net.nodes))\n",
    "\n",
    "neighbor_map = net.get_adj_list()\n",
    "\n",
    "# add neighbor data to node hover data\n",
    "for node in net.nodes:\n",
    "    x, y = pos[node[\"title\"]]\n",
    "    node[\"x\"] = x*10000\n",
    "    node[\"y\"] = y*10000\n",
    "    # node[\"title\"] += \" Neighbors:\\n\" + \"\\n\".join(neighbor_map[node[\"id\"]])\n",
    "    node[\"value\"] = len(neighbor_map[node[\"id\"]])\n",
    "# net.force_atlas_2based()\n",
    "net.toggle_physics(False)\n",
    "display(net.show(\"trc_graph.html\"))"
   ]
  },
  {
   "cell_type": "markdown",
   "id": "efabbea2-1665-49e8-9091-09cf3828210b",
   "metadata": {},
   "source": [
    "## Adding Colors to Nodes"
   ]
  },
  {
   "cell_type": "markdown",
   "id": "f63e43ca-9e77-4711-9ebd-607bd90fd762",
   "metadata": {},
   "source": [
    "## Adding Metadata to Nodes"
   ]
  },
  {
   "cell_type": "code",
   "execution_count": 155,
   "id": "5207bc3c-8162-46f1-88e1-7a4712afdeb3",
   "metadata": {},
   "outputs": [],
   "source": [
    "# net.to_json()"
   ]
  },
  {
   "cell_type": "code",
   "execution_count": 10,
   "id": "95a08899-29a3-4234-a72f-0d9396ba315b",
   "metadata": {},
   "outputs": [
    {
     "data": {
      "text/html": [
       "\n",
       "        <iframe\n",
       "            width=\"100%\"\n",
       "            height=\"600px\"\n",
       "            src=\"trc_graph.html\"\n",
       "            frameborder=\"0\"\n",
       "            allowfullscreen\n",
       "            \n",
       "        ></iframe>\n",
       "        "
      ],
      "text/plain": [
       "<IPython.lib.display.IFrame at 0x7f94f7f20e20>"
      ]
     },
     "metadata": {},
     "output_type": "display_data"
    }
   ],
   "source": [
    "display(net.show(\"trc_graph.html\"))"
   ]
  },
  {
   "cell_type": "code",
   "execution_count": null,
   "id": "9bf25e5f-6ede-43e8-bfa5-c9ab8175eb24",
   "metadata": {},
   "outputs": [],
   "source": []
  }
 ],
 "metadata": {
  "kernelspec": {
   "display_name": "Python 3 (ipykernel)",
   "language": "python",
   "name": "python3"
  },
  "language_info": {
   "codemirror_mode": {
    "name": "ipython",
    "version": 3
   },
   "file_extension": ".py",
   "mimetype": "text/x-python",
   "name": "python",
   "nbconvert_exporter": "python",
   "pygments_lexer": "ipython3",
   "version": "3.9.12"
  }
 },
 "nbformat": 4,
 "nbformat_minor": 5
}
