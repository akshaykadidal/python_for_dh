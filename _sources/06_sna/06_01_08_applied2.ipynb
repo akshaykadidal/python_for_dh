{
 "cells": [
  {
   "cell_type": "markdown",
   "id": "b899b5cb-e954-4a20-a346-1ba90b702b1a",
   "metadata": {},
   "source": [
    "# SNA on Humanities Data: Creating the Graph"
   ]
  },
  {
   "cell_type": "markdown",
   "id": "4a465e56-dcc1-4f22-800e-7b91c10d4c46",
   "metadata": {},
   "source": [
    "Now that we have created our node data and edge data, let's go ahead and load them via Pandas."
   ]
  },
  {
   "cell_type": "code",
   "execution_count": 1,
   "id": "3713facf-9d6b-4b55-9346-acb80a33f9d7",
   "metadata": {},
   "outputs": [],
   "source": [
    "import pandas as pd"
   ]
  },
  {
   "cell_type": "code",
   "execution_count": 2,
   "id": "8b2d906e-5a19-4772-aa86-fc07e2a5012b",
   "metadata": {},
   "outputs": [],
   "source": [
    "nodes_df = pd.read_csv(\"../data/nodes.csv\")\n",
    "edges_df = pd.read_csv(\"../data/edges.csv\")"
   ]
  },
  {
   "cell_type": "code",
   "execution_count": 3,
   "id": "8fddf1bc-874b-4fc9-ae68-48bffdc5c325",
   "metadata": {},
   "outputs": [
    {
     "data": {
      "text/html": [
       "<div>\n",
       "<style scoped>\n",
       "    .dataframe tbody tr th:only-of-type {\n",
       "        vertical-align: middle;\n",
       "    }\n",
       "\n",
       "    .dataframe tbody tr th {\n",
       "        vertical-align: top;\n",
       "    }\n",
       "\n",
       "    .dataframe thead th {\n",
       "        text-align: right;\n",
       "    }\n",
       "</style>\n",
       "<table border=\"1\" class=\"dataframe\">\n",
       "  <thead>\n",
       "    <tr style=\"text-align: right;\">\n",
       "      <th></th>\n",
       "      <th>name</th>\n",
       "      <th>color</th>\n",
       "      <th>place</th>\n",
       "    </tr>\n",
       "  </thead>\n",
       "  <tbody>\n",
       "    <tr>\n",
       "      <th>0</th>\n",
       "      <td>0_Thabo Simon AARON</td>\n",
       "      <td>green</td>\n",
       "      <td>Bethulie</td>\n",
       "    </tr>\n",
       "  </tbody>\n",
       "</table>\n",
       "</div>"
      ],
      "text/plain": [
       "                  name  color     place\n",
       "0  0_Thabo Simon AARON  green  Bethulie"
      ]
     },
     "execution_count": 3,
     "metadata": {},
     "output_type": "execute_result"
    }
   ],
   "source": [
    "nodes_df.head(1)"
   ]
  },
  {
   "cell_type": "code",
   "execution_count": 4,
   "id": "3176d388-7d98-45af-b251-db0c4ba56847",
   "metadata": {},
   "outputs": [
    {
     "data": {
      "text/html": [
       "<div>\n",
       "<style scoped>\n",
       "    .dataframe tbody tr th:only-of-type {\n",
       "        vertical-align: middle;\n",
       "    }\n",
       "\n",
       "    .dataframe tbody tr th {\n",
       "        vertical-align: top;\n",
       "    }\n",
       "\n",
       "    .dataframe thead th {\n",
       "        text-align: right;\n",
       "    }\n",
       "</style>\n",
       "<table border=\"1\" class=\"dataframe\">\n",
       "  <thead>\n",
       "    <tr style=\"text-align: right;\">\n",
       "      <th></th>\n",
       "      <th>source</th>\n",
       "      <th>target</th>\n",
       "      <th>place</th>\n",
       "    </tr>\n",
       "  </thead>\n",
       "  <tbody>\n",
       "    <tr>\n",
       "      <th>0</th>\n",
       "      <td>ANC</td>\n",
       "      <td>0_Thabo Simon AARON</td>\n",
       "      <td>Bethulie</td>\n",
       "    </tr>\n",
       "  </tbody>\n",
       "</table>\n",
       "</div>"
      ],
      "text/plain": [
       "  source               target     place\n",
       "0    ANC  0_Thabo Simon AARON  Bethulie"
      ]
     },
     "execution_count": 4,
     "metadata": {},
     "output_type": "execute_result"
    }
   ],
   "source": [
    "edges_df.head(1)"
   ]
  },
  {
   "cell_type": "markdown",
   "id": "104f89ba-4574-4531-a1b5-9332c0ed9df7",
   "metadata": {},
   "source": [
    "With this data, we can now construct a node list and edge list with just a few lines of Python. In the code below, we will be iterating over each DataFrame and creating lists of nodes and lists of edges sin the format that NetworkX expects. Remember, NetworkX wants to see each node in a node list rendered like this:\n",
    "\n",
    "```\n",
    "(NODE_ID, {METADATA})\n",
    "```\n",
    "\n",
    "Each edge in the edge list should be rendered like this:\n",
    "\n",
    "```\n",
    "(EDGE_SOURCE, EDGE_TARGET, {METADATA})\n",
    "```\n",
    "\n",
    "Remember, that these must be tuples and the meta data must be stored in the final index with each key being an attribute and each value being the value of that attribute."
   ]
  },
  {
   "cell_type": "code",
   "execution_count": 5,
   "id": "4700eba5-bd11-4559-956c-7085ec37d65b",
   "metadata": {},
   "outputs": [],
   "source": [
    "nodes = []\n",
    "edges = []\n",
    "for idx, row in nodes_df.iterrows():\n",
    "    nodes.append((row[\"name\"], {\"color\": row.color, \"place\": row.place, \"title\": row[\"name\"]}))\n",
    "for idx, row in edges_df.iterrows():\n",
    "    edges.append((row.source.strip(), row.target, {\"place\": row.place}))"
   ]
  },
  {
   "cell_type": "code",
   "execution_count": 6,
   "id": "7a0e6bb7-58c3-4833-bc21-e910d7ffe601",
   "metadata": {},
   "outputs": [
    {
     "data": {
      "text/plain": [
       "('0_Thabo Simon AARON',\n",
       " {'color': 'green', 'place': 'Bethulie', 'title': '0_Thabo Simon AARON'})"
      ]
     },
     "execution_count": 6,
     "metadata": {},
     "output_type": "execute_result"
    }
   ],
   "source": [
    "nodes[0]"
   ]
  },
  {
   "cell_type": "code",
   "execution_count": 7,
   "id": "06b59785-6317-49fc-9131-53bb0642924a",
   "metadata": {},
   "outputs": [
    {
     "data": {
      "text/plain": [
       "('ANC', '0_Thabo Simon AARON', {'place': 'Bethulie'})"
      ]
     },
     "execution_count": 7,
     "metadata": {},
     "output_type": "execute_result"
    }
   ],
   "source": [
    "edges[0]"
   ]
  },
  {
   "cell_type": "markdown",
   "id": "fed6cd62-203c-49c3-ac51-1e844e7ea0fb",
   "metadata": {},
   "source": [
    "## Building the Network"
   ]
  },
  {
   "cell_type": "code",
   "execution_count": 8,
   "id": "2af43ca0-acb5-4cbc-8304-fd0baab2a874",
   "metadata": {},
   "outputs": [],
   "source": [
    "from pyvis.network import Network\n",
    "import networkx as nx"
   ]
  },
  {
   "cell_type": "markdown",
   "id": "b234bf58-ad47-4679-8bf3-7bbb00bfbac9",
   "metadata": {},
   "source": [
    "Now that we have our data structured correctly, we can begin constructing our network with NetworkX. We will first create our `Graph` class (`G`) and then add the nodes from our list of nodes and our edges from our list of edges. "
   ]
  },
  {
   "cell_type": "code",
   "execution_count": 9,
   "id": "b893eba0-bd59-408d-95ab-63f85031f0c8",
   "metadata": {},
   "outputs": [],
   "source": [
    "G = nx.Graph()\n",
    "G.add_nodes_from(nodes)\n",
    "G.add_edges_from(edges)"
   ]
  },
  {
   "cell_type": "markdown",
   "id": "403633ba-6a43-47c6-ba47-1e613cc71350",
   "metadata": {},
   "source": [
    "When working with larger datasets, calculating the physics can often be time consuming when the PyVis HTML graph loads. For this reason, it can be useful to calculate the placement of the x and y coordinates beforehand. NetworkX gives us the ability to do this by leveraging the method of the algorithm we wish to use. In our case, we will use the `spring_layout()`. This method will take a single argument, the graph that we want to process. In our case, this is `G`.\n",
    "\n",
    "This will return a list of lists. Each sublist will be x and y coordinates."
   ]
  },
  {
   "cell_type": "code",
   "execution_count": 10,
   "id": "4f466747-1f4a-412e-b7e6-4cacce1221a4",
   "metadata": {},
   "outputs": [
    {
     "data": {
      "text/plain": [
       "array([ 0.15706733, -0.01991105])"
      ]
     },
     "execution_count": 10,
     "metadata": {},
     "output_type": "execute_result"
    }
   ],
   "source": [
    "pos = nx.spring_layout(G)\n",
    "pos['2_Nzaliseko Christopher ABRAHAM']"
   ]
  },
  {
   "cell_type": "markdown",
   "id": "c27d8e87-f78a-4093-8bb9-3aac9a503f5c",
   "metadata": {},
   "source": [
    "## Visualizing the Network"
   ]
  },
  {
   "cell_type": "markdown",
   "id": "cc82fb14-898f-4284-b225-28ddc215c8d1",
   "metadata": {},
   "source": [
    "First, we want to create our PyVis graph. We will be setting `notebook` to `True` because we are working within a Notebook."
   ]
  },
  {
   "cell_type": "code",
   "execution_count": 11,
   "id": "9c71fdb5-a4f8-4627-b16d-b87e503e8513",
   "metadata": {},
   "outputs": [
    {
     "name": "stdout",
     "output_type": "stream",
     "text": [
      "Local cdn resources have problems on chrome/safari when used in jupyter-notebook. \n"
     ]
    }
   ],
   "source": [
    "net = Network(notebook=True)\n",
    "net.from_nx(G)"
   ]
  },
  {
   "cell_type": "markdown",
   "id": "86974dc4-8ed2-4a2a-b5ae-bfae842e591c",
   "metadata": {},
   "source": [
    "Let's first take a look at the first node in our graph. We can access this individual's node by grabbing index 0 in the `nodes` attribute of our `net` object."
   ]
  },
  {
   "cell_type": "code",
   "execution_count": 12,
   "id": "15bd87cf-b195-41d0-9de3-d13477495fa1",
   "metadata": {},
   "outputs": [
    {
     "data": {
      "text/plain": [
       "{'color': 'green',\n",
       " 'place': 'Bethulie',\n",
       " 'title': '0_Thabo Simon AARON',\n",
       " 'size': 10,\n",
       " 'id': '0_Thabo Simon AARON',\n",
       " 'label': '0_Thabo Simon AARON',\n",
       " 'shape': 'dot'}"
      ]
     },
     "execution_count": 12,
     "metadata": {},
     "output_type": "execute_result"
    }
   ],
   "source": [
    "net.nodes[0]"
   ]
  },
  {
   "cell_type": "markdown",
   "id": "51941065-91a0-4a95-8127-219f579a7e77",
   "metadata": {},
   "source": [
    "Now we want this node to have an x and a y coordinate as attributes and we want this data to come from the `pos` object above which contains the data about each node's position in the graph. To manually add these attributes to our nodes, we can use a `for` loop and create a new key of `x` and `y` and add those to each node."
   ]
  },
  {
   "cell_type": "code",
   "execution_count": 13,
   "id": "12885cda-a0f9-4e9c-aee2-053131e3e076",
   "metadata": {},
   "outputs": [],
   "source": [
    "for node in net.nodes:\n",
    "    x, y = pos[node[\"id\"]]\n",
    "    node[\"x\"] = x*10000\n",
    "    node[\"y\"] = y*10000"
   ]
  },
  {
   "cell_type": "code",
   "execution_count": 14,
   "id": "29c0aabb-3508-4002-b978-6fa834e64cd1",
   "metadata": {},
   "outputs": [
    {
     "data": {
      "text/plain": [
       "{'color': 'green',\n",
       " 'place': 'Bethulie',\n",
       " 'title': '0_Thabo Simon AARON',\n",
       " 'size': 10,\n",
       " 'id': '0_Thabo Simon AARON',\n",
       " 'label': '0_Thabo Simon AARON',\n",
       " 'shape': 'dot',\n",
       " 'x': 220.5653302371502,\n",
       " 'y': 175.43811351060867}"
      ]
     },
     "execution_count": 14,
     "metadata": {},
     "output_type": "execute_result"
    }
   ],
   "source": [
    "net.nodes[0]"
   ]
  },
  {
   "cell_type": "markdown",
   "id": "e787a777-064f-4ada-af63-da38af06d648",
   "metadata": {},
   "source": [
    "Now that we have our PyVis graph created and assigned x and y coordinates, we can start to do some more advanced things. I can use `get_adj_list()` to create a dictionary of all nodes. Each key will be a unique node id. The values will be sets (lists with only unique items in each index) that correspond to the nodes to which they are connected. Because the purpose of this graph is to visualize relationships between people and organizations, set will include only organizations referenced in that individual's description."
   ]
  },
  {
   "cell_type": "code",
   "execution_count": 15,
   "id": "9bf25e5f-6ede-43e8-bfa5-c9ab8175eb24",
   "metadata": {},
   "outputs": [],
   "source": [
    "neighbor_map = net.get_adj_list()"
   ]
  },
  {
   "cell_type": "code",
   "execution_count": 16,
   "id": "a5ac7aa9-548f-4f1f-af1a-be92a19e3aa0",
   "metadata": {},
   "outputs": [
    {
     "data": {
      "text/plain": [
       "{'ANC', 'ANCYL', 'Police', 'SAP'}"
      ]
     },
     "execution_count": 16,
     "metadata": {},
     "output_type": "execute_result"
    }
   ],
   "source": [
    "neighbor_map[\"0_Thabo Simon AARON\"]"
   ]
  },
  {
   "cell_type": "markdown",
   "id": "3c50a6df-faad-4c61-8a1a-ce1c5c644fe9",
   "metadata": {},
   "source": [
    "In the PyVis official documentation, this data is used to generate a title that will pop up when an individual hovers over it. It is modified slightly to replace the `<br>` HTML tag with `\\n`."
   ]
  },
  {
   "cell_type": "code",
   "execution_count": 17,
   "id": "9fd86c67-5fca-4490-9cd8-f3fe3991a2b6",
   "metadata": {},
   "outputs": [],
   "source": [
    "for node in net.nodes:\n",
    "    node[\"title\"] += \" Neighbors:\\n\" + \"\\n\".join(neighbor_map[node[\"id\"]])"
   ]
  },
  {
   "cell_type": "code",
   "execution_count": 18,
   "id": "ef524ea9-432a-458b-8b92-9be01b6b1781",
   "metadata": {},
   "outputs": [
    {
     "data": {
      "text/plain": [
       "{'color': 'green',\n",
       " 'place': 'Bethulie',\n",
       " 'title': '0_Thabo Simon AARON Neighbors:\\nSAP\\nANCYL\\nPolice\\nANC',\n",
       " 'size': 10,\n",
       " 'id': '0_Thabo Simon AARON',\n",
       " 'label': '0_Thabo Simon AARON',\n",
       " 'shape': 'dot',\n",
       " 'x': 220.5653302371502,\n",
       " 'y': 175.43811351060867}"
      ]
     },
     "execution_count": 18,
     "metadata": {},
     "output_type": "execute_result"
    }
   ],
   "source": [
    "net.nodes[0]"
   ]
  },
  {
   "cell_type": "markdown",
   "id": "7595bfe0-252b-4472-b712-3165a6a07f6b",
   "metadata": {},
   "source": [
    "The number of connections in our graph also tells us the relative importance of a node. Remember, we have all individuals connected to organizations; we do not have individuals connected to other individuals. This means the organizations in our graph will have a larger number of connections. What if we wanted to use that information to increase the size of each node in the graph based on the number of unique connections? For this, we can set a node's value based on the length of connections found in the `neighbor_map`."
   ]
  },
  {
   "cell_type": "code",
   "execution_count": 19,
   "id": "c27c10a2-93ea-4139-b29e-d16c6cf192d2",
   "metadata": {},
   "outputs": [],
   "source": [
    "for node in net.nodes:\n",
    "    node[\"value\"] = len(neighbor_map[node[\"id\"]])"
   ]
  },
  {
   "cell_type": "code",
   "execution_count": 20,
   "id": "85923302-8acc-45bc-864d-ceef9ed7e172",
   "metadata": {},
   "outputs": [
    {
     "data": {
      "text/plain": [
       "{'color': 'green',\n",
       " 'place': 'Bethulie',\n",
       " 'title': '0_Thabo Simon AARON Neighbors:\\nSAP\\nANCYL\\nPolice\\nANC',\n",
       " 'size': 10,\n",
       " 'id': '0_Thabo Simon AARON',\n",
       " 'label': '0_Thabo Simon AARON',\n",
       " 'shape': 'dot',\n",
       " 'x': 220.5653302371502,\n",
       " 'y': 175.43811351060867,\n",
       " 'value': 4}"
      ]
     },
     "execution_count": 20,
     "metadata": {},
     "output_type": "execute_result"
    }
   ],
   "source": [
    "net.nodes[0]"
   ]
  },
  {
   "cell_type": "markdown",
   "id": "36c71e11-10ab-43a3-8ac0-091c606cb652",
   "metadata": {},
   "source": [
    "Now that we have all of our data, we can now visualize it all. Because we already calculated the physics of our graph, we do not want to enable Physics, so we will set that to False."
   ]
  },
  {
   "cell_type": "code",
   "execution_count": 23,
   "id": "95b02c6c-cdda-42c6-8a08-7ba8f75e9d8e",
   "metadata": {},
   "outputs": [],
   "source": [
    "net.toggle_physics(False)\n",
    "net.save_graph(\"trc_graph.html\")"
   ]
  },
  {
   "cell_type": "markdown",
   "id": "ed98fa99-0936-4946-b050-1c611a2eb82a",
   "metadata": {},
   "source": [
    "The generated graph may be a bit difficult to interpret as the default window is quite zoomed  out. This is because there are a lot of nodes in our graph that do not have any connections. A graph is a visual representation of mathematical relationships between nodes. The weaker nodes, or those with fewer connections, appear further away from the center of the graph. Likewise, stronger clusters, or those collection of nodes with the highest number of connections, will appear closer to the center. The gravity of these larger nodes push the smaller nodes with fewer connections further away in a `spring` loaded graph.\n",
    "\n",
    "Because this is a dynamic graph, you can zoom in to examine the cluster if you are viewing this textbook online."
   ]
  },
  {
   "cell_type": "markdown",
   "id": "b47054d2-df83-4b0b-9691-9b72d0003645",
   "metadata": {},
   "source": [
    "## Adding Menus"
   ]
  },
  {
   "cell_type": "markdown",
   "id": "d7f1a060-a255-4425-8672-16b7232e4877",
   "metadata": {},
   "source": [
    "Finding and isolating specific nodes in a large graph can be a bit difficult as well. What if you wanted to see where a specific node appeared? You would need to keep searching until you found that node. PyVis offers a solution to this problem with two types of menus. The first is a `Select Menu`. This allows you to select a specific node in the graph and highlight it. Depending on the graph size, it may take a few seconds for this visualization to take place. You can create a select menu with your graph by passing a keyword argument of `select_menu` and setting it to `True` when you first create your PyVis graph and call the `Network` class, like so:\n",
    "\n",
    "```\n",
    "net = Network(select_menu=True)\n",
    "```\n",
    "\n",
    "Note, if you are using a Jupyer Notebook to analyze your graph, this menu will appear but your graph data will not. This is due to the extra layer of JavaScript found within the HTML file. In order to visualize this graph, you will need to open it as a separate HTML file. The code below would create the same graph as above, but with a Select Menu."
   ]
  },
  {
   "cell_type": "code",
   "execution_count": null,
   "id": "ba7f6156-0bdf-4d7d-bb77-c61974781b30",
   "metadata": {},
   "outputs": [],
   "source": [
    "net = Network(select_menu=True)\n",
    "net.from_nx(G)\n",
    "neighbor_map = net.get_adj_list()\n",
    "for node in net.nodes:\n",
    "    x, y = pos[node[\"id\"]]\n",
    "    node[\"x\"] = x*10000\n",
    "    node[\"y\"] = y*10000\n",
    "    node[\"title\"] += \" Neighbors:\\n\" + \"\\n\".join(neighbor_map[node[\"id\"]])\n",
    "    node[\"value\"] = len(neighbor_map[node[\"id\"]])\n",
    "net.toggle_physics(False)\n",
    "net.save_graph(\"trc_graph_select.html\")"
   ]
  },
  {
   "cell_type": "markdown",
   "id": "00134a59-3976-45b4-b790-fbcbd4e3c1fe",
   "metadata": {},
   "source": [
    "When you open the generated HTML file, you will see this:\n",
    "\n",
    "```{figure} ../images/pyvis_select.png\n",
    "Demonstration of Network Graph with a Select Menu\n",
    "```\n",
    "You can the select a node in the graph and highlight that particular node. Let's say I wanted to see all nodes connected to the ANC in the graph. I would select `ANC`. The graph will then highlight that particular node and its connections.\n",
    "\n",
    "```{figure} ../images/pyvis_select2.png\n",
    "*Demonstration of Selecting Item in Select Menu*\n",
    "```\n",
    "\n",
    "PyVis also offers a way to filter the graph with a Filter Menu. The filter menu allows you to find nodes or edges that have specific metadata. In the previous notebook, we made sure that our nodes and edges contained metadata about the place that was connected to it. This means that we can isolate the relevant edges or nodes in the graph with this metadata. Again, this makes it a lot easier to find relevant material and identify patterns in your data that may not be so easy to do as raw data. We can create a `Filter Menu` by passing a keyword argument `filter_menu` when we create the `Network` class and setting it to `True`."
   ]
  },
  {
   "cell_type": "code",
   "execution_count": null,
   "id": "e6e57f5d-bf93-4368-920e-6ace59f8f3d7",
   "metadata": {},
   "outputs": [],
   "source": [
    "net = Network(select_menu=True, filter_menu=True)\n",
    "net.from_nx(G)\n",
    "neighbor_map = net.get_adj_list()\n",
    "for node in net.nodes:\n",
    "    x, y = pos[node[\"id\"]]\n",
    "    node[\"x\"] = x*10000\n",
    "    node[\"y\"] = y*10000\n",
    "    node[\"title\"] += \" Neighbors:\\n\" + \"\\n\".join(neighbor_map[node[\"id\"]])\n",
    "    node[\"value\"] = len(neighbor_map[node[\"id\"]])\n",
    "net.toggle_physics(False)\n",
    "net.save_graph(\"trc_graph_select_filter.html\")"
   ]
  },
  {
   "cell_type": "markdown",
   "id": "a9130579-a531-49d1-965a-47892c2312b4",
   "metadata": {},
   "source": [
    "When you open the HTML file that is created, you will see the following graph:\n",
    "\n",
    "```{figure} ../images/pyvis_filter.png\n",
    "Demonstration of Filter Menu in the Application.\n",
    "```\n",
    "\n",
    "Notice the addition of the Filter Menu below the Select Menu. You can select between nodes or edges as the item to filter and then select which piece of metadata. In our case, we want to filter by `place`. We then select the place that we want to isolate and view. In our case, let's view `Durban`. We can then press `Filter` and view the results.\n",
    "\n",
    "```{figure} ../images/pyvis_filter2.png\n",
    "Demonstration of Selecting Filters in the Filter Menu\n",
    "```"
   ]
  },
  {
   "cell_type": "markdown",
   "id": "f539a48a-0e13-4386-a3a0-78e1e93525f2",
   "metadata": {},
   "source": [
    "## Conclusion"
   ]
  },
  {
   "cell_type": "markdown",
   "id": "0c9e7fa2-0b43-45f5-a361-46fd945be8f2",
   "metadata": {},
   "source": [
    "Applying SNA to humanities data is not always the right solution to the problem, but if you are dealing with many pieces of data that are interconnected with different types of relationships, it can offer you a great way to quickly get a sense of patterns that you may otherwise miss. As a humanist, you can then use this information to generate questions or perhaps have a specific collection of sources or nodes that you can explore more closely. This chapter has not covered all aspects of SNA nor all the libraries for performing it via Python, but you should have a strong enough basis to begin applying it to your own data with minor modifications."
   ]
  },
  {
   "cell_type": "code",
   "execution_count": null,
   "id": "fb2476e9-8ae2-4e4b-81d6-564df7fa0822",
   "metadata": {},
   "outputs": [],
   "source": []
  }
 ],
 "metadata": {
  "kernelspec": {
   "display_name": "Python 3 (ipykernel)",
   "language": "python",
   "name": "python3"
  },
  "language_info": {
   "codemirror_mode": {
    "name": "ipython",
    "version": 3
   },
   "file_extension": ".py",
   "mimetype": "text/x-python",
   "name": "python",
   "nbconvert_exporter": "python",
   "pygments_lexer": "ipython3",
   "version": "3.8.5"
  }
 },
 "nbformat": 4,
 "nbformat_minor": 5
}
