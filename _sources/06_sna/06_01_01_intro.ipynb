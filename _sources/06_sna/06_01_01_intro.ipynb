{
 "cells": [
  {
   "cell_type": "markdown",
   "id": "31f0f5c6-e0f4-45ab-a1a4-20419a0711b5",
   "metadata": {},
   "source": [
    "# Social Network Analysis"
   ]
  },
  {
   "cell_type": "markdown",
   "id": "6687d0d9-ff78-47c7-a032-18fb43c837f2",
   "metadata": {},
   "source": [
    "In this chapter, we will shift away from NLP and examine **Social network analysis** (SNA). SNA is the process by which researchers study the networks of social relationships. These can be familial (parents to children), social (friends), etc. The goal of SNA is to reveal insights about a network or group of individuals by studying them collectively and often through visualization methods."
   ]
  },
  {
   "cell_type": "code",
   "execution_count": null,
   "id": "ff08a12c-cff8-4537-a561-33bace1c1ba2",
   "metadata": {},
   "outputs": [],
   "source": []
  }
 ],
 "metadata": {
  "kernelspec": {
   "display_name": "Python 3 (ipykernel)",
   "language": "python",
   "name": "python3"
  },
  "language_info": {
   "codemirror_mode": {
    "name": "ipython",
    "version": 3
   },
   "file_extension": ".py",
   "mimetype": "text/x-python",
   "name": "python",
   "nbconvert_exporter": "python",
   "pygments_lexer": "ipython3",
   "version": "3.9.12"
  }
 },
 "nbformat": 4,
 "nbformat_minor": 5
}
