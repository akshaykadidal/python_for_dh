{
 "cells": [
  {
   "cell_type": "markdown",
   "id": "31f0f5c6-e0f4-45ab-a1a4-20419a0711b5",
   "metadata": {},
   "source": [
    "# <center>Social Network Analysis in Python</center>"
   ]
  },
  {
   "cell_type": "code",
   "execution_count": null,
   "id": "ac70d7fc-72fd-4a0a-9d3f-9499f9704459",
   "metadata": {},
   "outputs": [],
   "source": []
  }
 ],
 "metadata": {
  "kernelspec": {
   "display_name": "Python 3 (ipykernel)",
   "language": "python",
   "name": "python3"
  },
  "language_info": {
   "codemirror_mode": {
    "name": "ipython",
    "version": 3
   },
   "file_extension": ".py",
   "mimetype": "text/x-python",
   "name": "python",
   "nbconvert_exporter": "python",
   "pygments_lexer": "ipython3",
   "version": "3.9.7"
  }
 },
 "nbformat": 4,
 "nbformat_minor": 5
}
