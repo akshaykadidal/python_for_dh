{
 "cells": [
  {
   "cell_type": "markdown",
   "id": "b899b5cb-e954-4a20-a346-1ba90b702b1a",
   "metadata": {},
   "source": [
    "# <center>Applying SNA on Humanities Data</center>"
   ]
  },
  {
   "cell_type": "markdown",
   "id": "c0363c9e-7919-4a95-b7c5-944a61c36214",
   "metadata": {},
   "source": [
    "# Introduction"
   ]
  },
  {
   "cell_type": "markdown",
   "id": "0f4c2208-374c-471c-be80-6b57b2ec382f",
   "metadata": {},
   "source": [
    "In this section, we will apply the skills we have learned about SNA on real humanities data. Again, we will be working with the Volume 7 Dataset from the South African TRC. Unlike the last chapter on Topic Modeling, we will not be interested in how the descriptions of violence cluster together. Instead, we will be interested in exploring victim relationships to specific organizations in their description. It is important to note here, that we do not in this approach know the relationship between the victim and the organization. There is equal possibility that they were a member or victim of the organization."
   ]
  },
  {
   "cell_type": "code",
   "execution_count": null,
   "id": "008574ad-d608-4d2e-9a8f-51c3f38e3fc2",
   "metadata": {},
   "outputs": [],
   "source": []
  }
 ],
 "metadata": {
  "kernelspec": {
   "display_name": "Python 3 (ipykernel)",
   "language": "python",
   "name": "python3"
  },
  "language_info": {
   "codemirror_mode": {
    "name": "ipython",
    "version": 3
   },
   "file_extension": ".py",
   "mimetype": "text/x-python",
   "name": "python",
   "nbconvert_exporter": "python",
   "pygments_lexer": "ipython3",
   "version": "3.9.7"
  }
 },
 "nbformat": 4,
 "nbformat_minor": 5
}
