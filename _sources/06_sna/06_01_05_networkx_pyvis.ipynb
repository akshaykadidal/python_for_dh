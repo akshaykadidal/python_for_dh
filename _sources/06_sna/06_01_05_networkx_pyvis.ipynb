{
 "cells": [
  {
   "cell_type": "markdown",
   "id": "29b63028-e476-4840-bfa8-933ab4a392a8",
   "metadata": {
    "tags": []
   },
   "source": [
    "## NetworkX and PyVis"
   ]
  },
  {
   "cell_type": "markdown",
   "id": "9d888a94-ea5c-443d-8aa3-a69bfe1063a7",
   "metadata": {},
   "source": [
    "While this works, we don't have all the advantages that NetworkX afforded us. PyVis, it is important to note, while useful, is primarily a wrapper for producing JavaScript graphs. It is not as robust as NetworkX when it comes to handling and querying complex network relationships. We cannot generate, for example, metrics for things like centrality. For these reasons, it is best to combine the best of NetworkX and PyVis by first passing your network data to NetworkX, creating the graph, and then passing the NetworkX graph to PyVis for conversion to an interactive graph.\n",
    "\n"
   ]
  },
  {
   "cell_type": "code",
   "execution_count": 52,
   "id": "bdd0cd67-4b47-4bb0-ac64-f2cc88f73572",
   "metadata": {},
   "outputs": [],
   "source": [
    "import networkx as nx"
   ]
  },
  {
   "cell_type": "code",
   "execution_count": 69,
   "id": "c04c2fe5-ec4f-40a7-8879-3d4dee925693",
   "metadata": {},
   "outputs": [],
   "source": [
    "G = nx.Graph()\n",
    "rels = [\n",
    "    \n",
    "    [\"Fred\", \"George\"],\n",
    "    [\"Harry\", \"Rita\"],\n",
    "    [\"Fred\", \"Ginny\"],\n",
    "    [\"Tom\", \"Ginny\"],\n",
    "    [\"Harry\", \"Ginny\"],\n",
    "    [\"Harry\", \"George\"],\n",
    "    [\"Frank\", \"Ginny\"],\n",
    "    [\"Marge\", \"Rita\"],\n",
    "    [\"Fred\", \"Rita\"]\n",
    "    \n",
    "]\n",
    "G.add_edges_from(rels)"
   ]
  },
  {
   "cell_type": "code",
   "execution_count": null,
   "id": "cd5142f9-0a29-41c6-8d5e-1fee795ea762",
   "metadata": {},
   "outputs": [],
   "source": []
  },
  {
   "cell_type": "code",
   "execution_count": 71,
   "id": "8ba45046-7414-4635-98a0-57bfe14ff1f4",
   "metadata": {},
   "outputs": [],
   "source": [
    "net = Network()"
   ]
  },
  {
   "cell_type": "code",
   "execution_count": 72,
   "id": "226dfcc0-e9e2-4504-8a4c-4c095e3a4669",
   "metadata": {},
   "outputs": [],
   "source": [
    "net.from_nx(G)"
   ]
  },
  {
   "cell_type": "code",
   "execution_count": null,
   "id": "17d5b0b6-77ed-4e2f-885a-f3fdbb20f320",
   "metadata": {},
   "outputs": [],
   "source": []
  },
  {
   "cell_type": "code",
   "execution_count": 74,
   "id": "be2d18b7-1a03-43e3-9380-4d6fc6e009e0",
   "metadata": {},
   "outputs": [],
   "source": [
    "net.save_graph(\"networkx-pyvis.html\")"
   ]
  },
  {
   "cell_type": "code",
   "execution_count": 78,
   "id": "5a20b5a0-fada-4627-bc03-f49b15908053",
   "metadata": {},
   "outputs": [
    {
     "data": {
      "text/html": [
       "<html>\n",
       "    <head>\n",
       "        <meta charset=\"utf-8\">\n",
       "        \n",
       "            <script src=\"lib/bindings/utils.js\"></script>\n",
       "            <link rel=\"stylesheet\" href=\"https://cdnjs.cloudflare.com/ajax/libs/vis-network/9.1.2/dist/dist/vis-network.min.css\" integrity=\"sha512-WgxfT5LWjfszlPHXRmBWHkV2eceiWTOBvrKCNbdgDYTHrT2AeLCGbF4sZlZw3UMN3WtL0tGUoIAKsu8mllg/XA==\" crossorigin=\"anonymous\" referrerpolicy=\"no-referrer\" />\n",
       "            <script src=\"https://cdnjs.cloudflare.com/ajax/libs/vis-network/9.1.2/dist/vis-network.min.js\" integrity=\"sha512-LnvoEWDFrqGHlHmDD2101OrLcbsfkrzoSpvtSQtxK3RMnRV0eOkhhBN2dXHKRrUU8p2DGRTk35n4O8nWSVe1mQ==\" crossorigin=\"anonymous\" referrerpolicy=\"no-referrer\"></script>\n",
       "            \n",
       "        \n",
       "<center>\n",
       "<h1></h1>\n",
       "</center>\n",
       "\n",
       "<!-- <link rel=\"stylesheet\" href=\"../node_modules/vis/dist/vis.min.css\" type=\"text/css\" />\n",
       "<script type=\"text/javascript\" src=\"../node_modules/vis/dist/vis.js\"> </script>-->\n",
       "        <link\n",
       "          href=\"https://cdn.jsdelivr.net/npm/bootstrap@5.0.0-beta3/dist/css/bootstrap.min.css\"\n",
       "          rel=\"stylesheet\"\n",
       "          integrity=\"sha384-eOJMYsd53ii+scO/bJGFsiCZc+5NDVN2yr8+0RDqr0Ql0h+rP48ckxlpbzKgwra6\"\n",
       "          crossorigin=\"anonymous\"\n",
       "        />\n",
       "        <script\n",
       "          src=\"https://cdn.jsdelivr.net/npm/bootstrap@5.0.0-beta3/dist/js/bootstrap.bundle.min.js\"\n",
       "          integrity=\"sha384-JEW9xMcG8R+pH31jmWH6WWP0WintQrMb4s7ZOdauHnUtxwoG2vI5DkLtS3qm9Ekf\"\n",
       "          crossorigin=\"anonymous\"\n",
       "        ></script>\n",
       "\n",
       "\n",
       "        <center>\n",
       "          <h1></h1>\n",
       "        </center>\n",
       "        <style type=\"text/css\">\n",
       "\n",
       "             #mynetwork {\n",
       "                 width: 100%;\n",
       "                 height: 500px;\n",
       "                 background-color: #ffffff;\n",
       "                 border: 1px solid lightgray;\n",
       "                 position: relative;\n",
       "                 float: left;\n",
       "             }\n",
       "\n",
       "             \n",
       "\n",
       "             \n",
       "\n",
       "             \n",
       "        </style>\n",
       "    </head>\n",
       "\n",
       "\n",
       "    <body>\n",
       "        <div class=\"card\" style=\"width: 100%\">\n",
       "            \n",
       "            \n",
       "            <div id=\"mynetwork\" class=\"card-body\"></div>\n",
       "        </div>\n",
       "\n",
       "        \n",
       "        \n",
       "\n",
       "        <script type=\"text/javascript\">\n",
       "\n",
       "              // initialize global variables.\n",
       "              var edges;\n",
       "              var nodes;\n",
       "              var allNodes;\n",
       "              var allEdges;\n",
       "              var nodeColors;\n",
       "              var originalNodes;\n",
       "              var network;\n",
       "              var container;\n",
       "              var options, data;\n",
       "              var filter = {\n",
       "                  item : '',\n",
       "                  property : '',\n",
       "                  value : []\n",
       "              };\n",
       "\n",
       "              \n",
       "\n",
       "              \n",
       "\n",
       "              // This method is responsible for drawing the graph, returns the drawn network\n",
       "              function drawGraph() {\n",
       "                  var container = document.getElementById('mynetwork');\n",
       "\n",
       "                  \n",
       "\n",
       "                  // parsing and collecting nodes and edges from the python\n",
       "                  nodes = new vis.DataSet([{\"color\": \"#97c2fc\", \"id\": \"Fred\", \"label\": \"Fred\", \"shape\": \"dot\", \"size\": 10}, {\"color\": \"#97c2fc\", \"id\": \"George\", \"label\": \"George\", \"shape\": \"dot\", \"size\": 10}, {\"color\": \"#97c2fc\", \"id\": \"Ginny\", \"label\": \"Ginny\", \"shape\": \"dot\", \"size\": 10}, {\"color\": \"#97c2fc\", \"id\": \"Rita\", \"label\": \"Rita\", \"shape\": \"dot\", \"size\": 10}, {\"color\": \"#97c2fc\", \"id\": \"Harry\", \"label\": \"Harry\", \"shape\": \"dot\", \"size\": 10}, {\"color\": \"#97c2fc\", \"id\": \"Marge\", \"label\": \"Marge\", \"shape\": \"dot\", \"size\": 10}, {\"color\": \"#97c2fc\", \"id\": \"Tom\", \"label\": \"Tom\", \"shape\": \"dot\", \"size\": 10}, {\"color\": \"#97c2fc\", \"id\": \"Frank\", \"label\": \"Frank\", \"shape\": \"dot\", \"size\": 10}]);\n",
       "                  edges = new vis.DataSet([{\"from\": \"Fred\", \"to\": \"George\", \"width\": 1}, {\"from\": \"Fred\", \"to\": \"Ginny\", \"width\": 1}, {\"from\": \"Fred\", \"to\": \"Rita\", \"width\": 1}, {\"from\": \"George\", \"to\": \"Harry\", \"width\": 1}, {\"from\": \"Harry\", \"to\": \"Rita\", \"width\": 1}, {\"from\": \"Harry\", \"to\": \"Ginny\", \"width\": 1}, {\"from\": \"Rita\", \"to\": \"Marge\", \"width\": 1}, {\"from\": \"Ginny\", \"to\": \"Tom\", \"width\": 1}, {\"from\": \"Ginny\", \"to\": \"Frank\", \"width\": 1}]);\n",
       "\n",
       "                  nodeColors = {};\n",
       "                  allNodes = nodes.get({ returnType: \"Object\" });\n",
       "                  for (nodeId in allNodes) {\n",
       "                    nodeColors[nodeId] = allNodes[nodeId].color;\n",
       "                  }\n",
       "                  allEdges = edges.get({ returnType: \"Object\" });\n",
       "                  // adding nodes and edges to the graph\n",
       "                  data = {nodes: nodes, edges: edges};\n",
       "\n",
       "                  var options = {\n",
       "    \"configure\": {\n",
       "        \"enabled\": false\n",
       "    },\n",
       "    \"edges\": {\n",
       "        \"color\": {\n",
       "            \"inherit\": true\n",
       "        },\n",
       "        \"smooth\": {\n",
       "            \"enabled\": true,\n",
       "            \"type\": \"dynamic\"\n",
       "        }\n",
       "    },\n",
       "    \"interaction\": {\n",
       "        \"dragNodes\": true,\n",
       "        \"hideEdgesOnDrag\": false,\n",
       "        \"hideNodesOnDrag\": false\n",
       "    },\n",
       "    \"physics\": {\n",
       "        \"enabled\": true,\n",
       "        \"stabilization\": {\n",
       "            \"enabled\": true,\n",
       "            \"fit\": true,\n",
       "            \"iterations\": 1000,\n",
       "            \"onlyDynamicEdges\": false,\n",
       "            \"updateInterval\": 50\n",
       "        }\n",
       "    }\n",
       "};\n",
       "\n",
       "                  \n",
       "\n",
       "\n",
       "                  \n",
       "\n",
       "                  network = new vis.Network(container, data, options);\n",
       "\n",
       "                  \n",
       "\n",
       "                  \n",
       "\n",
       "                  \n",
       "\n",
       "\n",
       "                  \n",
       "\n",
       "                  return network;\n",
       "\n",
       "              }\n",
       "              drawGraph();\n",
       "        </script>\n",
       "    </body>\n",
       "</html>"
      ],
      "text/plain": [
       "<IPython.core.display.HTML object>"
      ]
     },
     "execution_count": 78,
     "metadata": {},
     "output_type": "execute_result"
    }
   ],
   "source": [
    "HTML(filename=\"networkx-pyvis.html\")"
   ]
  },
  {
   "cell_type": "markdown",
   "id": "97a6c7bf-c5e0-4f16-87eb-1e6bd12cd868",
   "metadata": {
    "tags": []
   },
   "source": [
    "## Adding Metadata to Nodes"
   ]
  },
  {
   "cell_type": "code",
   "execution_count": 10,
   "id": "91d363c3-0378-40df-a16f-a4f18bd3bed2",
   "metadata": {},
   "outputs": [],
   "source": [
    "import pandas as pd"
   ]
  },
  {
   "cell_type": "code",
   "execution_count": 11,
   "id": "7243ce17-5a41-4bae-ae4c-6f4fd6bbee20",
   "metadata": {},
   "outputs": [],
   "source": [
    "schools = {\"school\": [\"USF\", \"USF\", \"UF\", \"USF\", \"UF\", \"UNC\"], \"name\": [\"Tom\", \"Ginny\", \"Harry\", \"Rita\", \"Fred\", \"George\"]}\n",
    "df = pd.DataFrame(schools)"
   ]
  },
  {
   "cell_type": "code",
   "execution_count": 29,
   "id": "75ff0924-0dad-4c22-a2f6-ab2c731170a9",
   "metadata": {},
   "outputs": [
    {
     "name": "stdout",
     "output_type": "stream",
     "text": [
      "Local cdn resources have problems on chrome/safari when used in jupyter-notebook. \n"
     ]
    }
   ],
   "source": [
    "metadata_net = Network(notebook=True, filter_menu=True)\n",
    "for rel in rels:\n",
    "    source, dest = rel\n",
    "    metadata_net.add_node(source)\n",
    "    metadata_net.add_node(dest)\n",
    "    metadata_net.add_edge(source, dest)\n",
    "for node in metadata_net.nodes:\n",
    "    school = df.loc[df.name==str(node[\"label\"])].school.tolist()[0]\n",
    "    node[\"school\"] = school\n",
    "    if school == \"USF\":\n",
    "        node[\"color\"] = \"blue\"\n",
    "    elif school==\"UF\":\n",
    "        node[\"color\"] = \"red\"\n",
    "# metadata_net.show(\"simple_graph_selection.html\")"
   ]
  }
 ],
 "metadata": {
  "kernelspec": {
   "display_name": "Python 3 (ipykernel)",
   "language": "python",
   "name": "python3"
  },
  "language_info": {
   "codemirror_mode": {
    "name": "ipython",
    "version": 3
   },
   "file_extension": ".py",
   "mimetype": "text/x-python",
   "name": "python",
   "nbconvert_exporter": "python",
   "pygments_lexer": "ipython3",
   "version": "3.9.12"
  },
  "toc-autonumbering": false
 },
 "nbformat": 4,
 "nbformat_minor": 5
}
