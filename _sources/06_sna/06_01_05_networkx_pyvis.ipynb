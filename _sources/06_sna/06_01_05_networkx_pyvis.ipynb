{
 "cells": [
  {
   "cell_type": "markdown",
   "id": "29b63028-e476-4840-bfa8-933ab4a392a8",
   "metadata": {
    "tags": []
   },
   "source": [
    "# NetworkX and PyVis"
   ]
  },
  {
   "cell_type": "markdown",
   "id": "9d888a94-ea5c-443d-8aa3-a69bfe1063a7",
   "metadata": {},
   "source": [
    "While this works, we don't have all the advantages that NetworkX afforded us. PyVis, it is important to note, while useful, is primarily a wrapper for producing JavaScript graphs. It is not as robust as NetworkX when it comes to handling and querying complex network relationships. We cannot generate, for example, metrics for things like centrality. For these reasons, it is best to combine the best of NetworkX and PyVis by first passing your network data to NetworkX, creating the graph, and then passing the NetworkX graph to PyVis for conversion to an interactive graph.\n",
    "\n"
   ]
  },
  {
   "cell_type": "code",
   "execution_count": 52,
   "id": "bdd0cd67-4b47-4bb0-ac64-f2cc88f73572",
   "metadata": {},
   "outputs": [],
   "source": [
    "import networkx as nx"
   ]
  },
  {
   "cell_type": "markdown",
   "id": "a4f84256-4c9b-4e81-84e3-6e3552d53bb8",
   "metadata": {},
   "source": [
    "Just as we did in the previous section, we will create a NetworkX `nx.Graph()` and populate it with our relationships."
   ]
  },
  {
   "cell_type": "code",
   "execution_count": 69,
   "id": "c04c2fe5-ec4f-40a7-8879-3d4dee925693",
   "metadata": {},
   "outputs": [],
   "source": [
    "G = nx.Graph()\n",
    "rels = [\n",
    "    \n",
    "    [\"Fred\", \"George\"],\n",
    "    [\"Harry\", \"Rita\"],\n",
    "    [\"Fred\", \"Ginny\"],\n",
    "    [\"Tom\", \"Ginny\"],\n",
    "    [\"Harry\", \"Ginny\"],\n",
    "    [\"Harry\", \"George\"],\n",
    "    [\"Frank\", \"Ginny\"],\n",
    "    [\"Marge\", \"Rita\"],\n",
    "    [\"Fred\", \"Rita\"]\n",
    "    \n",
    "]\n",
    "G.add_edges_from(rels)"
   ]
  },
  {
   "cell_type": "markdown",
   "id": "37f4b419-f9f8-46b0-be87-792ab5d38b4c",
   "metadata": {},
   "source": [
    "Now that we have our NetworkX Graph, we can create a PyVis `Network` class."
   ]
  },
  {
   "cell_type": "code",
   "execution_count": 71,
   "id": "8ba45046-7414-4635-98a0-57bfe14ff1f4",
   "metadata": {},
   "outputs": [],
   "source": [
    "net = Network()"
   ]
  },
  {
   "cell_type": "markdown",
   "id": "3ca89fa1-e930-4eda-ad18-50045725e8e8",
   "metadata": {},
   "source": [
    "Using the `from_nx()` method, which will take a single argument, our NetworkX `Graph`, or `G`."
   ]
  },
  {
   "cell_type": "code",
   "execution_count": 72,
   "id": "226dfcc0-e9e2-4504-8a4c-4c095e3a4669",
   "metadata": {},
   "outputs": [],
   "source": [
    "net.from_nx(G)"
   ]
  },
  {
   "cell_type": "markdown",
   "id": "89233d79-8b74-41ae-851f-30450f0a0c6c",
   "metadata": {},
   "source": [
    "With the data now populated, we can save and view our PyVis `Network`."
   ]
  },
  {
   "cell_type": "code",
   "execution_count": 74,
   "id": "be2d18b7-1a03-43e3-9380-4d6fc6e009e0",
   "metadata": {},
   "outputs": [],
   "source": [
    "net.save_graph(\"networkx-pyvis.html\")"
   ]
  },
  {
   "cell_type": "code",
   "execution_count": 5,
   "id": "5a20b5a0-fada-4627-bc03-f49b15908053",
   "metadata": {},
   "outputs": [
    {
     "data": {
      "text/html": [
       "<html>\n",
       "    <head>\n",
       "        <meta charset=\"utf-8\">\n",
       "        \n",
       "            <script src=\"lib/bindings/utils.js\"></script>\n",
       "            <link rel=\"stylesheet\" href=\"https://cdnjs.cloudflare.com/ajax/libs/vis-network/9.1.2/dist/dist/vis-network.min.css\" integrity=\"sha512-WgxfT5LWjfszlPHXRmBWHkV2eceiWTOBvrKCNbdgDYTHrT2AeLCGbF4sZlZw3UMN3WtL0tGUoIAKsu8mllg/XA==\" crossorigin=\"anonymous\" referrerpolicy=\"no-referrer\" />\n",
       "            <script src=\"https://cdnjs.cloudflare.com/ajax/libs/vis-network/9.1.2/dist/vis-network.min.js\" integrity=\"sha512-LnvoEWDFrqGHlHmDD2101OrLcbsfkrzoSpvtSQtxK3RMnRV0eOkhhBN2dXHKRrUU8p2DGRTk35n4O8nWSVe1mQ==\" crossorigin=\"anonymous\" referrerpolicy=\"no-referrer\"></script>\n",
       "            \n",
       "        \n",
       "<center>\n",
       "<h1></h1>\n",
       "</center>\n",
       "\n",
       "<!-- <link rel=\"stylesheet\" href=\"../node_modules/vis/dist/vis.min.css\" type=\"text/css\" />\n",
       "<script type=\"text/javascript\" src=\"../node_modules/vis/dist/vis.js\"> </script>-->\n",
       "        <link\n",
       "          href=\"https://cdn.jsdelivr.net/npm/bootstrap@5.0.0-beta3/dist/css/bootstrap.min.css\"\n",
       "          rel=\"stylesheet\"\n",
       "          integrity=\"sha384-eOJMYsd53ii+scO/bJGFsiCZc+5NDVN2yr8+0RDqr0Ql0h+rP48ckxlpbzKgwra6\"\n",
       "          crossorigin=\"anonymous\"\n",
       "        />\n",
       "        <script\n",
       "          src=\"https://cdn.jsdelivr.net/npm/bootstrap@5.0.0-beta3/dist/js/bootstrap.bundle.min.js\"\n",
       "          integrity=\"sha384-JEW9xMcG8R+pH31jmWH6WWP0WintQrMb4s7ZOdauHnUtxwoG2vI5DkLtS3qm9Ekf\"\n",
       "          crossorigin=\"anonymous\"\n",
       "        ></script>\n",
       "\n",
       "\n",
       "        <center>\n",
       "          <h1></h1>\n",
       "        </center>\n",
       "        <style type=\"text/css\">\n",
       "\n",
       "             #mynetwork {\n",
       "                 width: 100%;\n",
       "                 height: 500px;\n",
       "                 background-color: #ffffff;\n",
       "                 border: 1px solid lightgray;\n",
       "                 position: relative;\n",
       "                 float: left;\n",
       "             }\n",
       "\n",
       "             \n",
       "\n",
       "             \n",
       "\n",
       "             \n",
       "        </style>\n",
       "    </head>\n",
       "\n",
       "\n",
       "    <body>\n",
       "        <div class=\"card\" style=\"width: 100%\">\n",
       "            \n",
       "            \n",
       "            <div id=\"mynetwork\" class=\"card-body\"></div>\n",
       "        </div>\n",
       "\n",
       "        \n",
       "        \n",
       "\n",
       "        <script type=\"text/javascript\">\n",
       "\n",
       "              // initialize global variables.\n",
       "              var edges;\n",
       "              var nodes;\n",
       "              var allNodes;\n",
       "              var allEdges;\n",
       "              var nodeColors;\n",
       "              var originalNodes;\n",
       "              var network;\n",
       "              var container;\n",
       "              var options, data;\n",
       "              var filter = {\n",
       "                  item : '',\n",
       "                  property : '',\n",
       "                  value : []\n",
       "              };\n",
       "\n",
       "              \n",
       "\n",
       "              \n",
       "\n",
       "              // This method is responsible for drawing the graph, returns the drawn network\n",
       "              function drawGraph() {\n",
       "                  var container = document.getElementById('mynetwork');\n",
       "\n",
       "                  \n",
       "\n",
       "                  // parsing and collecting nodes and edges from the python\n",
       "                  nodes = new vis.DataSet([{\"color\": \"#97c2fc\", \"id\": \"Fred\", \"label\": \"Fred\", \"shape\": \"dot\", \"size\": 10}, {\"color\": \"#97c2fc\", \"id\": \"George\", \"label\": \"George\", \"shape\": \"dot\", \"size\": 10}, {\"color\": \"#97c2fc\", \"id\": \"Ginny\", \"label\": \"Ginny\", \"shape\": \"dot\", \"size\": 10}, {\"color\": \"#97c2fc\", \"id\": \"Rita\", \"label\": \"Rita\", \"shape\": \"dot\", \"size\": 10}, {\"color\": \"#97c2fc\", \"id\": \"Harry\", \"label\": \"Harry\", \"shape\": \"dot\", \"size\": 10}, {\"color\": \"#97c2fc\", \"id\": \"Marge\", \"label\": \"Marge\", \"shape\": \"dot\", \"size\": 10}, {\"color\": \"#97c2fc\", \"id\": \"Tom\", \"label\": \"Tom\", \"shape\": \"dot\", \"size\": 10}, {\"color\": \"#97c2fc\", \"id\": \"Frank\", \"label\": \"Frank\", \"shape\": \"dot\", \"size\": 10}]);\n",
       "                  edges = new vis.DataSet([{\"from\": \"Fred\", \"to\": \"George\", \"width\": 1}, {\"from\": \"Fred\", \"to\": \"Ginny\", \"width\": 1}, {\"from\": \"Fred\", \"to\": \"Rita\", \"width\": 1}, {\"from\": \"George\", \"to\": \"Harry\", \"width\": 1}, {\"from\": \"Harry\", \"to\": \"Rita\", \"width\": 1}, {\"from\": \"Harry\", \"to\": \"Ginny\", \"width\": 1}, {\"from\": \"Rita\", \"to\": \"Marge\", \"width\": 1}, {\"from\": \"Ginny\", \"to\": \"Tom\", \"width\": 1}, {\"from\": \"Ginny\", \"to\": \"Frank\", \"width\": 1}]);\n",
       "\n",
       "                  nodeColors = {};\n",
       "                  allNodes = nodes.get({ returnType: \"Object\" });\n",
       "                  for (nodeId in allNodes) {\n",
       "                    nodeColors[nodeId] = allNodes[nodeId].color;\n",
       "                  }\n",
       "                  allEdges = edges.get({ returnType: \"Object\" });\n",
       "                  // adding nodes and edges to the graph\n",
       "                  data = {nodes: nodes, edges: edges};\n",
       "\n",
       "                  var options = {\n",
       "    \"configure\": {\n",
       "        \"enabled\": false\n",
       "    },\n",
       "    \"edges\": {\n",
       "        \"color\": {\n",
       "            \"inherit\": true\n",
       "        },\n",
       "        \"smooth\": {\n",
       "            \"enabled\": true,\n",
       "            \"type\": \"dynamic\"\n",
       "        }\n",
       "    },\n",
       "    \"interaction\": {\n",
       "        \"dragNodes\": true,\n",
       "        \"hideEdgesOnDrag\": false,\n",
       "        \"hideNodesOnDrag\": false\n",
       "    },\n",
       "    \"physics\": {\n",
       "        \"enabled\": true,\n",
       "        \"stabilization\": {\n",
       "            \"enabled\": true,\n",
       "            \"fit\": true,\n",
       "            \"iterations\": 1000,\n",
       "            \"onlyDynamicEdges\": false,\n",
       "            \"updateInterval\": 50\n",
       "        }\n",
       "    }\n",
       "};\n",
       "\n",
       "                  \n",
       "\n",
       "\n",
       "                  \n",
       "\n",
       "                  network = new vis.Network(container, data, options);\n",
       "\n",
       "                  \n",
       "\n",
       "                  \n",
       "\n",
       "                  \n",
       "\n",
       "\n",
       "                  \n",
       "\n",
       "                  return network;\n",
       "\n",
       "              }\n",
       "              drawGraph();\n",
       "        </script>\n",
       "    </body>\n",
       "</html>"
      ],
      "text/plain": [
       "<IPython.core.display.HTML object>"
      ]
     },
     "execution_count": 5,
     "metadata": {},
     "output_type": "execute_result"
    }
   ],
   "source": [
    "HTML(filename=\"networkx-pyvis.html\")"
   ]
  },
  {
   "cell_type": "markdown",
   "id": "9a757a65-67a5-4fc1-a350-dcb47039cbba",
   "metadata": {},
   "source": [
    "Notice that our graph is rendered precisely just as it had been with  NetworkX and Matplotlib, but now that same data is dynamic. In other words, we were able to leverage the best of NetworkX and PyVis with this approach."
   ]
  }
 ],
 "metadata": {
  "kernelspec": {
   "display_name": "Python 3 (ipykernel)",
   "language": "python",
   "name": "python3"
  },
  "language_info": {
   "codemirror_mode": {
    "name": "ipython",
    "version": 3
   },
   "file_extension": ".py",
   "mimetype": "text/x-python",
   "name": "python",
   "nbconvert_exporter": "python",
   "pygments_lexer": "ipython3",
   "version": "3.9.12"
  },
  "toc-autonumbering": false
 },
 "nbformat": 4,
 "nbformat_minor": 5
}
