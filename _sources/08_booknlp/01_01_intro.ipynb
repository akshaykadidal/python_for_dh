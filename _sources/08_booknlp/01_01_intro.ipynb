{
 "cells": [
  {
   "cell_type": "markdown",
   "id": "7e910ae4-1fb2-47e3-a01c-e8a0b41a3841",
   "metadata": {},
   "source": [
    "# Text Analysis with BookNLP"
   ]
  },
  {
   "cell_type": "markdown",
   "id": "ba5e3040-94dc-4b31-821b-644f9300e018",
   "metadata": {},
   "source": [
    "In this chapter, we will learn about BookNLP, a powerful Python library for text analysis on large text documents, namely works of fiction. We will learn about the core aspects of BookNLP, how to process texts with it, and how to interpret the output files that it produces. Finally, we will create a few functions for better interpreting the results of the output files."
   ]
  }
 ],
 "metadata": {
  "kernelspec": {
   "display_name": "Python 3 (ipykernel)",
   "language": "python",
   "name": "python3"
  },
  "language_info": {
   "codemirror_mode": {
    "name": "ipython",
    "version": 3
   },
   "file_extension": ".py",
   "mimetype": "text/x-python",
   "name": "python",
   "nbconvert_exporter": "python",
   "pygments_lexer": "ipython3",
   "version": "3.9.12"
  }
 },
 "nbformat": 4,
 "nbformat_minor": 5
}
