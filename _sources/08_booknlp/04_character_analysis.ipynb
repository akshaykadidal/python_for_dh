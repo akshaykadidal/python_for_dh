{
 "cells": [
  {
   "cell_type": "markdown",
   "id": "dominant-celebration",
   "metadata": {},
   "source": [
    "# Character Analysis"
   ]
  },
  {
   "cell_type": "markdown",
   "id": "dependent-greeting",
   "metadata": {},
   "source": [
    "This section is dedicated to analyzing the characters contained within the .book file. As you may recall from the last section, this is a JSON file. A lot of what I will cover here, can be found in the BookNLP repository, specifically in the Google Colab Jupyter Notebook. I am, however, making some modifications to the code there to make it a bit more useful for varying circumstances. I will specifically show you how to use this restructured data to pose narrow questions about characters in a text.\n",
    "\n",
    "The following functions and imports will be necessary for this chapter. They allow us to load up the JSON data from the .book file and count the occurrences of certain things found within the .book file."
   ]
  },
  {
   "cell_type": "code",
   "execution_count": 4,
   "id": "regional-place",
   "metadata": {},
   "outputs": [],
   "source": [
    "import json\n",
    "from collections import Counter"
   ]
  },
  {
   "cell_type": "code",
   "execution_count": 5,
   "id": "cultural-medicine",
   "metadata": {},
   "outputs": [],
   "source": [
    "def proc(filename):\n",
    "    with open(filename) as file:\n",
    "        data=json.load(file)\n",
    "    return data"
   ]
  },
  {
   "cell_type": "code",
   "execution_count": 6,
   "id": "b3a5be76-9d26-4815-871d-d268d5a462cc",
   "metadata": {},
   "outputs": [],
   "source": [
    "def get_counter_from_dependency_list(dep_list):\n",
    "    counter=Counter()\n",
    "    for token in dep_list:\n",
    "        term=token[\"w\"]\n",
    "        tokenGlobalIndex=token[\"i\"]\n",
    "        counter[term]+=1\n",
    "    return counter"
   ]
  },
  {
   "cell_type": "markdown",
   "id": "ethical-tourist",
   "metadata": {},
   "source": [
    "Now that we have successfully created these functions, let's go ahead and load up our JSON data from the .book file. We can do this with the function above that we created called \"proc\". Essentially, this loads and parses the JSON file for us using the JSON library that comes standard with Python."
   ]
  },
  {
   "cell_type": "code",
   "execution_count": 7,
   "id": "secure-radiation",
   "metadata": {},
   "outputs": [],
   "source": [
    "data=proc(\"data/harry_potter/harry_potter.book\")"
   ]
  },
  {
   "cell_type": "markdown",
   "id": "palestinian-movement",
   "metadata": {},
   "source": [
    "Now that we have loaded the data, we can start to analyze it!"
   ]
  },
  {
   "cell_type": "markdown",
   "id": "previous-physiology",
   "metadata": {},
   "source": [
    "## Analyzing the Characters (From BookNLP Repo)"
   ]
  },
  {
   "cell_type": "markdown",
   "id": "black-frame",
   "metadata": {},
   "source": [
    "If you have had a chance to look at the Google Colab notebook provided by BookNLP, this function will look similar. I have made some modifications to the code presented there so that we can do a bit more with it. In the notebook, the original code printed off character data. My modifications and the fact that I have structured it as a function, allow us to do a bit more. We can actually begin analyzing the characters.\n",
    "\n",
    "I have kept my function's code as close to the original as possible so that it can be better understood within the documentation."
   ]
  },
  {
   "cell_type": "code",
   "execution_count": 8,
   "id": "animal-governor",
   "metadata": {},
   "outputs": [],
   "source": [
    "def create_character_data(data, printTop):\n",
    "    character_data = {}\n",
    "    for character in data[\"characters\"]:\n",
    "\n",
    "        agentList=character[\"agent\"]\n",
    "        patientList=character[\"patient\"]\n",
    "        possList=character[\"poss\"]\n",
    "        modList=character[\"mod\"]\n",
    "\n",
    "        character_id=character[\"id\"]\n",
    "        count=character[\"count\"]\n",
    "\n",
    "        referential_gender_distribution=referential_gender_prediction=\"unknown\"\n",
    "\n",
    "        if character[\"g\"] is not None and character[\"g\"] != \"unknown\":\n",
    "            referential_gender_distribution=character[\"g\"][\"inference\"]\n",
    "            referential_gender=character[\"g\"][\"argmax\"]\n",
    "\n",
    "        mentions=character[\"mentions\"]\n",
    "        proper_mentions=mentions[\"proper\"]\n",
    "        max_proper_mention=\"\"\n",
    "        \n",
    "        #Let's create some empty lists that we can append to.\n",
    "        poss_items = []\n",
    "        agent_items = []\n",
    "        patient_items = []\n",
    "        mod_items = []\n",
    "    \n",
    "        # just print out information about named characters\n",
    "        if len(mentions[\"proper\"]) > 0:\n",
    "            max_proper_mention=mentions[\"proper\"][0][\"n\"]\n",
    "            for k, v in get_counter_from_dependency_list(possList).most_common(printTop):\n",
    "                poss_items.append((v,k))\n",
    "                \n",
    "            for k, v in get_counter_from_dependency_list(agentList).most_common(printTop):\n",
    "                agent_items.append((v,k))     \n",
    "\n",
    "            for k, v in get_counter_from_dependency_list(patientList).most_common(printTop):\n",
    "                patient_items.append((v,k))     \n",
    "\n",
    "            for k, v in get_counter_from_dependency_list(modList).most_common(printTop):\n",
    "                mod_items.append((v,k))  \n",
    "\n",
    "            \n",
    "            \n",
    "            \n",
    "            # print(character_id, count, max_proper_mention, referential_gender)\n",
    "            character_data[character_id] = {\"id\": character_id,\n",
    "                                  \"count\": count,\n",
    "                                  \"max_proper_mention\": max_proper_mention,\n",
    "                                  \"referential_gender\": referential_gender,\n",
    "                                  \"possList\": poss_items,\n",
    "                                  \"agentList\": agent_items,\n",
    "                                  \"patientList\": patient_items,\n",
    "                                  \"modList\": mod_items\n",
    "                                 }\n",
    "                                \n",
    "    return character_data"
   ]
  },
  {
   "cell_type": "markdown",
   "id": "e322e694-fdb8-4ab0-81aa-2129563bd054",
   "metadata": {},
   "source": [
    "This function expects two arguments:\n",
    "\n",
    "- the data that we created above, i.e. the original .book JSON data\n",
    "- printTop which will be the number of items you seek to return about the character\n",
    "\n",
    "Let's go ahead and create some character_data now that will retain the top 10 items connected to each character. If you want to see all possible things connected to the character, simply set this item to a very high number, e.g. 20000. This is not the cleanest, but it allowed me to keep this function as simple as possible.\n",
    "\n",
    "This function will return a new data file that will be a dictionary where each unique id is a key and the corresponding character data will be populated as its value (also structured as a dictionary). I have kept the keys of this nested dictionary identical to the original Google Colab file."
   ]
  },
  {
   "cell_type": "code",
   "execution_count": 9,
   "id": "cfff6968-0ede-46eb-ba4a-38b71e07a99f",
   "metadata": {},
   "outputs": [],
   "source": [
    "character_data = create_character_data(data, 10)"
   ]
  },
  {
   "cell_type": "markdown",
   "id": "3c8ae25e-2e2d-4f99-b2d0-aab121595c52",
   "metadata": {},
   "source": [
    "Now that we have created this character data, let's take a look at the main Harry Potter id (which is 98)."
   ]
  },
  {
   "cell_type": "code",
   "execution_count": 11,
   "id": "77e08138-ff6f-494e-a713-8ce2a43f6af6",
   "metadata": {},
   "outputs": [
    {
     "name": "stdout",
     "output_type": "stream",
     "text": [
      "{'id': 98, 'count': 2029, 'max_proper_mention': 'Harry', 'referential_gender': 'he/him/his', 'possList': [(19, 'head'), (15, 'eyes'), (12, 'parents'), (12, 'cupboard'), (10, 'life'), (10, 'hand'), (9, 'aunt'), (8, 'mind'), (7, 'heart'), (7, 'uncle')], 'agentList': [(91, 'said'), (46, 'had'), (39, 'know'), (22, 'felt'), (22, 'saw'), (21, 'got'), (21, 'going'), (21, 'thought'), (18, 'heard'), (18, 'looked')], 'patientList': [(10, 'told'), (5, 'take'), (5, 'asked'), (4, 'kill'), (4, 'reminded'), (4, 'stop'), (4, 'got'), (4, 'tell'), (3, 'took'), (3, 'saw')], 'modList': [(8, 'sure'), (5, 'able'), (4, 'famous'), (3, 'glad'), (2, 'name'), (2, 'special'), (2, 'surprised'), (2, 'baby'), (2, 'stupid'), (2, 'afraid')]}\n"
     ]
    }
   ],
   "source": [
    "print (character_data[98])"
   ]
  },
  {
   "cell_type": "markdown",
   "id": "e3383c88-abff-4734-8584-82d36309e6ba",
   "metadata": {},
   "source": [
    "Notice that we can now see the main gender, verbs, possession items, etc. connected to Harry Potter. Having the data structured in this manner allows us to more easily start posing some questions to the original .book file."
   ]
  },
  {
   "cell_type": "markdown",
   "id": "35fd96b3-8d94-46b1-bb78-b59b229bd3d2",
   "metadata": {},
   "source": [
    "## Parsing Verb Usage"
   ]
  },
  {
   "cell_type": "markdown",
   "id": "ef28c6df-9a6a-4035-b52e-98608cb0cc20",
   "metadata": {},
   "source": [
    "One of those questions can be about verb usage. I have created a brand new function that allows you to explore how certain verbs are used within the text based on the new character data file we just created. It expects one argument: the new character data file. We can pass an additional keyword argument that should be a list. This list will contain one or two of the following items:\n",
    "\n",
    "- agent - the doer of the action\n",
    "- patient - the recipient of the action\n",
    "\n",
    "Again, this function is not something I would put in production. I have designed it to be easier to read so that you can do something similar and grab data you may find relevant for your own project or research."
   ]
  },
  {
   "cell_type": "code",
   "execution_count": 21,
   "id": "f50f8f81-b0fd-454a-a7fd-49864129d2f2",
   "metadata": {},
   "outputs": [],
   "source": [
    "def find_verb_usage(data, analysis=[\"agent\", \"patient\"]):\n",
    "    new_analysis = []\n",
    "    for item in analysis:\n",
    "        if item == \"agent\":\n",
    "            new_analysis.append(\"agentList\")\n",
    "        elif item == \"patient\":\n",
    "            new_analysis.append(\"patientList\")\n",
    "    main_agents = {}\n",
    "    main_patients = {}\n",
    "    for character in character_data:\n",
    "        temp_data = character_data[character]\n",
    "        for item in new_analysis:\n",
    "            for verb in temp_data[item]:\n",
    "                verb = verb[1].lower()\n",
    "                if item == \"agentList\":\n",
    "                    if verb not in main_agents:\n",
    "                        main_agents[verb] = [(character, temp_data[\"max_proper_mention\"])]\n",
    "                    else:\n",
    "                        main_agents[verb].append((character, temp_data[\"max_proper_mention\"]))\n",
    "                elif item == \"patientList\":\n",
    "                    if verb not in main_patients:\n",
    "                        main_patients[verb] = [(character, temp_data[\"max_proper_mention\"])]\n",
    "                    else:\n",
    "                        main_patients[verb].append((character, temp_data[\"max_proper_mention\"]))\n",
    "    verb_usage = {\"agent\": main_agents,\n",
    "                 \"patient\": main_patients}\n",
    "    return verb_usage"
   ]
  },
  {
   "cell_type": "markdown",
   "id": "fa383aec-eeb5-4e20-a136-92e8c95d0297",
   "metadata": {},
   "source": [
    "Essentially, this function will read in the character data file that we created above and create a new dictionary that has two keys: agent and patient. Within each will be the verbs used in the text. These will be matched to a list of the characters connected to those verbs. Let's go ahead and create this verb data now."
   ]
  },
  {
   "cell_type": "code",
   "execution_count": 22,
   "id": "b4239b12-2ca2-41c9-b998-21d67a190c86",
   "metadata": {},
   "outputs": [],
   "source": [
    "verb_data = find_verb_usage(data)"
   ]
  },
  {
   "cell_type": "markdown",
   "id": "0b015be1-f473-4950-b556-2926a80e9791",
   "metadata": {},
   "source": [
    "By restructuring the data around the verbs, you can analyze the characters in a verb-centric manner. Let's say I was interested in what characters were the agents of the verb \"reared\". I could go into the dictionary at the agent key and look for the key of reared within the agent verbs. My output is the tuple of (character_id, most frequent name for that character). In this case: Firenze the centaur."
   ]
  },
  {
   "cell_type": "code",
   "execution_count": 24,
   "id": "091574fa-7645-4fc2-804a-36a300966b2a",
   "metadata": {},
   "outputs": [
    {
     "data": {
      "text/plain": [
       "[(352, 'Firenze')]"
      ]
     },
     "execution_count": 24,
     "metadata": {},
     "output_type": "execute_result"
    }
   ],
   "source": [
    "verb_data[\"agent\"][\"reared\"]"
   ]
  },
  {
   "cell_type": "markdown",
   "id": "52442bd9-7097-4eb9-b694-9d332fce417a",
   "metadata": {},
   "source": [
    "It is important to note two things here, however. First, our verbs are not lemmatized. I intentionally left this as the case because in some circumstances understanding how a verb is used is important. You may, for example, be interested in how \"said\" functioned in the next, not both \"said\" and \"say\". If you wanted to modify the code above, therefore, you could go into the tokens file to find that verb's lemma.\n",
    "\n",
    "Another thing to note is that we are only seeing the results from the top-10 in this scenario. If you want to see how verbs area used by all characters, create a new character data file and make your top-n equal to a larger number."
   ]
  },
  {
   "cell_type": "code",
   "execution_count": null,
   "id": "16ac753c-7a2c-4b02-a6e5-fdcf03d8a657",
   "metadata": {},
   "outputs": [],
   "source": []
  }
 ],
 "metadata": {
  "kernelspec": {
   "display_name": "Python 3 (ipykernel)",
   "language": "python",
   "name": "python3"
  },
  "language_info": {
   "codemirror_mode": {
    "name": "ipython",
    "version": 3
   },
   "file_extension": ".py",
   "mimetype": "text/x-python",
   "name": "python",
   "nbconvert_exporter": "python",
   "pygments_lexer": "ipython3",
   "version": "3.9.12"
  }
 },
 "nbformat": 4,
 "nbformat_minor": 5
}
