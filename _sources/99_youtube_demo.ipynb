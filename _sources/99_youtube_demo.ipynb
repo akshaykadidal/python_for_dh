{
 "cells": [
  {
   "cell_type": "code",
   "execution_count": 1,
   "metadata": {},
   "outputs": [],
   "source": [
    "str8 = \"Hello my name is William Mattingly\""
   ]
  },
  {
   "cell_type": "code",
   "execution_count": 2,
   "metadata": {},
   "outputs": [
    {
     "name": "stdout",
     "output_type": "stream",
     "text": [
      "Hello my name is William Mattingly\n"
     ]
    }
   ],
   "source": [
    "print (str8)"
   ]
  },
  {
   "cell_type": "code",
   "execution_count": 3,
   "metadata": {},
   "outputs": [
    {
     "name": "stdout",
     "output_type": "stream",
     "text": [
      "Hello\n"
     ]
    }
   ],
   "source": [
    "print (\"Hello\")"
   ]
  },
  {
   "cell_type": "code",
   "execution_count": 4,
   "metadata": {},
   "outputs": [],
   "source": [
    "str8 = \"asdfasdadsfasdf\""
   ]
  },
  {
   "cell_type": "code",
   "execution_count": 5,
   "metadata": {},
   "outputs": [
    {
     "name": "stdout",
     "output_type": "stream",
     "text": [
      "asdfasdadsfasdf\n"
     ]
    }
   ],
   "source": [
    "print (str8)"
   ]
  },
  {
   "cell_type": "code",
   "execution_count": 6,
   "metadata": {},
   "outputs": [
    {
     "ename": "NameError",
     "evalue": "name 'STR8' is not defined",
     "output_type": "error",
     "traceback": [
      "\u001b[1;31m---------------------------------------------------------------------------\u001b[0m",
      "\u001b[1;31mNameError\u001b[0m                                 Traceback (most recent call last)",
      "\u001b[1;32m<ipython-input-6-954f985e0931>\u001b[0m in \u001b[0;36m<module>\u001b[1;34m\u001b[0m\n\u001b[1;32m----> 1\u001b[1;33m \u001b[0mprint\u001b[0m \u001b[1;33m(\u001b[0m\u001b[0mSTR8\u001b[0m\u001b[1;33m)\u001b[0m\u001b[1;33m\u001b[0m\u001b[1;33m\u001b[0m\u001b[0m\n\u001b[0m",
      "\u001b[1;31mNameError\u001b[0m: name 'STR8' is not defined"
     ]
    }
   ],
   "source": [
    "print (STR8)"
   ]
  },
  {
   "cell_type": "code",
   "execution_count": 7,
   "metadata": {},
   "outputs": [],
   "source": [
    "STR8 = \"This is a new string.\""
   ]
  },
  {
   "cell_type": "code",
   "execution_count": 8,
   "metadata": {},
   "outputs": [
    {
     "name": "stdout",
     "output_type": "stream",
     "text": [
      "This is a new string.\n"
     ]
    }
   ],
   "source": [
    "print (STR8)"
   ]
  },
  {
   "cell_type": "code",
   "execution_count": 9,
   "metadata": {},
   "outputs": [],
   "source": [
    "string1 = \"This is some text.\""
   ]
  },
  {
   "cell_type": "code",
   "execution_count": 11,
   "metadata": {},
   "outputs": [
    {
     "name": "stdout",
     "output_type": "stream",
     "text": [
      "This is some text.\n"
     ]
    }
   ],
   "source": [
    "print (string1)"
   ]
  },
  {
   "cell_type": "code",
   "execution_count": 12,
   "metadata": {},
   "outputs": [],
   "source": [
    "string2 = 'This is another bit of text.'"
   ]
  },
  {
   "cell_type": "code",
   "execution_count": 13,
   "metadata": {},
   "outputs": [
    {
     "name": "stdout",
     "output_type": "stream",
     "text": [
      "This is another bit of text.\n"
     ]
    }
   ],
   "source": [
    "print (string2)"
   ]
  },
  {
   "cell_type": "code",
   "execution_count": 14,
   "metadata": {},
   "outputs": [],
   "source": [
    "string3  = \"\"\"\n",
    "This is a third kind of string.\n",
    "\n",
    "\"\"\""
   ]
  },
  {
   "cell_type": "code",
   "execution_count": 15,
   "metadata": {},
   "outputs": [
    {
     "name": "stdout",
     "output_type": "stream",
     "text": [
      "\n",
      "This is a third kind of string.\n",
      "\n",
      "\n"
     ]
    }
   ],
   "source": [
    "print (string3)"
   ]
  },
  {
   "cell_type": "code",
   "execution_count": 17,
   "metadata": {},
   "outputs": [],
   "source": [
    "string4 = \"This is a bad string\""
   ]
  },
  {
   "cell_type": "code",
   "execution_count": 18,
   "metadata": {},
   "outputs": [
    {
     "name": "stdout",
     "output_type": "stream",
     "text": [
      "This is a bad string\n"
     ]
    }
   ],
   "source": [
    "print (string4)"
   ]
  },
  {
   "cell_type": "code",
   "execution_count": 19,
   "metadata": {},
   "outputs": [],
   "source": [
    "int1 = 1"
   ]
  },
  {
   "cell_type": "code",
   "execution_count": 20,
   "metadata": {},
   "outputs": [
    {
     "name": "stdout",
     "output_type": "stream",
     "text": [
      "1\n"
     ]
    }
   ],
   "source": [
    "print (int1)"
   ]
  },
  {
   "cell_type": "code",
   "execution_count": 21,
   "metadata": {},
   "outputs": [],
   "source": [
    "float1 = 1.1"
   ]
  },
  {
   "cell_type": "code",
   "execution_count": 22,
   "metadata": {},
   "outputs": [
    {
     "name": "stdout",
     "output_type": "stream",
     "text": [
      "1.1\n"
     ]
    }
   ],
   "source": [
    "print (float1)"
   ]
  },
  {
   "cell_type": "code",
   "execution_count": 23,
   "metadata": {},
   "outputs": [],
   "source": [
    "boolean1 = True"
   ]
  },
  {
   "cell_type": "code",
   "execution_count": 24,
   "metadata": {},
   "outputs": [
    {
     "name": "stdout",
     "output_type": "stream",
     "text": [
      "True\n"
     ]
    }
   ],
   "source": [
    "print (boolean1)"
   ]
  },
  {
   "cell_type": "code",
   "execution_count": 25,
   "metadata": {},
   "outputs": [],
   "source": [
    "boolean2 = False"
   ]
  },
  {
   "cell_type": "code",
   "execution_count": 26,
   "metadata": {},
   "outputs": [
    {
     "name": "stdout",
     "output_type": "stream",
     "text": [
      "False\n"
     ]
    }
   ],
   "source": [
    "print (boolean2)"
   ]
  },
  {
   "cell_type": "code",
   "execution_count": 30,
   "metadata": {},
   "outputs": [],
   "source": [
    "name = \"William Mattingly... william mattingly...\""
   ]
  },
  {
   "cell_type": "code",
   "execution_count": 28,
   "metadata": {},
   "outputs": [
    {
     "name": "stdout",
     "output_type": "stream",
     "text": [
      "WILLIAM MATTINGLY\n"
     ]
    }
   ],
   "source": [
    "print (name.upper())"
   ]
  },
  {
   "cell_type": "code",
   "execution_count": 29,
   "metadata": {},
   "outputs": [
    {
     "name": "stdout",
     "output_type": "stream",
     "text": [
      "william mattingly\n"
     ]
    }
   ],
   "source": [
    "print (name.lower())"
   ]
  },
  {
   "cell_type": "code",
   "execution_count": 31,
   "metadata": {},
   "outputs": [
    {
     "name": "stdout",
     "output_type": "stream",
     "text": [
      "William Mattingly... william mattingly...\n"
     ]
    }
   ],
   "source": [
    "print (name)"
   ]
  },
  {
   "cell_type": "code",
   "execution_count": 32,
   "metadata": {},
   "outputs": [],
   "source": [
    "name2 = \"william\""
   ]
  },
  {
   "cell_type": "code",
   "execution_count": 33,
   "metadata": {},
   "outputs": [
    {
     "name": "stdout",
     "output_type": "stream",
     "text": [
      "William\n"
     ]
    }
   ],
   "source": [
    "print (name2.capitalize())"
   ]
  },
  {
   "cell_type": "code",
   "execution_count": 37,
   "metadata": {},
   "outputs": [
    {
     "name": "stdout",
     "output_type": "stream",
     "text": [
      "will is not my name.\n"
     ]
    }
   ],
   "source": [
    "print (name2.replace(\"iam\",\" is not my name.\"))"
   ]
  },
  {
   "cell_type": "code",
   "execution_count": 38,
   "metadata": {},
   "outputs": [
    {
     "name": "stdout",
     "output_type": "stream",
     "text": [
      "william\n"
     ]
    }
   ],
   "source": [
    "print (name2)"
   ]
  },
  {
   "cell_type": "code",
   "execution_count": 39,
   "metadata": {},
   "outputs": [],
   "source": [
    "name2 = name2.replace(\"iam\", \" is not my name.\")"
   ]
  },
  {
   "cell_type": "code",
   "execution_count": 40,
   "metadata": {},
   "outputs": [
    {
     "name": "stdout",
     "output_type": "stream",
     "text": [
      "will is not my name.\n"
     ]
    }
   ],
   "source": [
    "print (name2)"
   ]
  },
  {
   "cell_type": "code",
   "execution_count": 41,
   "metadata": {},
   "outputs": [],
   "source": [
    "name2 = name2.capitalize()"
   ]
  },
  {
   "cell_type": "code",
   "execution_count": 42,
   "metadata": {},
   "outputs": [
    {
     "name": "stdout",
     "output_type": "stream",
     "text": [
      "Will is not my name.\n"
     ]
    }
   ],
   "source": [
    "print (name2)"
   ]
  },
  {
   "cell_type": "code",
   "execution_count": 43,
   "metadata": {},
   "outputs": [],
   "source": [
    "name1 = 'William is my name.'"
   ]
  },
  {
   "cell_type": "code",
   "execution_count": 50,
   "metadata": {},
   "outputs": [
    {
     "name": "stdout",
     "output_type": "stream",
     "text": [
      "Tom is my name.\n",
      "tom is my name.\n",
      "TOM IS MY NAME.\n"
     ]
    }
   ],
   "source": [
    "name3 = name1.replace(\"William\", \"Tom\")\n",
    "print (name3)\n",
    "name3 = name3.lower()\n",
    "print (name3)\n",
    "name3 = name3.upper()\n",
    "print (name3)"
   ]
  },
  {
   "cell_type": "code",
   "execution_count": 55,
   "metadata": {},
   "outputs": [
    {
     "name": "stdout",
     "output_type": "stream",
     "text": [
      " William Mattingly    \n"
     ]
    }
   ],
   "source": [
    "name5 = \" William Mattingly    \"\n",
    "print (name5)"
   ]
  },
  {
   "cell_type": "code",
   "execution_count": 56,
   "metadata": {},
   "outputs": [
    {
     "data": {
      "text/plain": [
       "' William Mattingly    '"
      ]
     },
     "execution_count": 56,
     "metadata": {},
     "output_type": "execute_result"
    }
   ],
   "source": [
    "name5"
   ]
  },
  {
   "cell_type": "code",
   "execution_count": 57,
   "metadata": {},
   "outputs": [
    {
     "name": "stdout",
     "output_type": "stream",
     "text": [
      "William Mattingly\n"
     ]
    }
   ],
   "source": [
    "name5 = name5.strip()\n",
    "print (name5)"
   ]
  },
  {
   "cell_type": "code",
   "execution_count": 58,
   "metadata": {},
   "outputs": [
    {
     "data": {
      "text/plain": [
       "'William Mattingly'"
      ]
     },
     "execution_count": 58,
     "metadata": {},
     "output_type": "execute_result"
    }
   ],
   "source": [
    "name5"
   ]
  },
  {
   "cell_type": "code",
   "execution_count": 59,
   "metadata": {},
   "outputs": [
    {
     "name": "stdout",
     "output_type": "stream",
     "text": [
      "['William', 'Mattingly...', 'william', 'mattingly...']\n"
     ]
    }
   ],
   "source": [
    "name5 = name.split()\n",
    "print (name5)"
   ]
  },
  {
   "cell_type": "code",
   "execution_count": 64,
   "metadata": {},
   "outputs": [
    {
     "name": "stdout",
     "output_type": "stream",
     "text": [
      "W\n"
     ]
    }
   ],
   "source": [
    "name6 = \"William James Mattingly\"\n",
    "print (name6.split(\"i\")[0])"
   ]
  },
  {
   "cell_type": "code",
   "execution_count": 65,
   "metadata": {},
   "outputs": [],
   "source": [
    "num1 = 1\n",
    "num2 = 2"
   ]
  },
  {
   "cell_type": "code",
   "execution_count": 66,
   "metadata": {},
   "outputs": [
    {
     "name": "stdout",
     "output_type": "stream",
     "text": [
      "3\n"
     ]
    }
   ],
   "source": [
    "print (num1+num2)"
   ]
  },
  {
   "cell_type": "code",
   "execution_count": 67,
   "metadata": {},
   "outputs": [
    {
     "name": "stdout",
     "output_type": "stream",
     "text": [
      "-1\n"
     ]
    }
   ],
   "source": [
    "print (num1-num2)"
   ]
  },
  {
   "cell_type": "code",
   "execution_count": 68,
   "metadata": {},
   "outputs": [
    {
     "name": "stdout",
     "output_type": "stream",
     "text": [
      "2\n"
     ]
    }
   ],
   "source": [
    "print (num1*num2)"
   ]
  },
  {
   "cell_type": "code",
   "execution_count": 69,
   "metadata": {},
   "outputs": [
    {
     "name": "stdout",
     "output_type": "stream",
     "text": [
      "1\n"
     ]
    }
   ],
   "source": [
    "print (num1%num2)"
   ]
  },
  {
   "cell_type": "code",
   "execution_count": 70,
   "metadata": {},
   "outputs": [
    {
     "name": "stdout",
     "output_type": "stream",
     "text": [
      "0\n"
     ]
    }
   ],
   "source": [
    "print (num1//num2)"
   ]
  },
  {
   "cell_type": "code",
   "execution_count": 71,
   "metadata": {},
   "outputs": [
    {
     "name": "stdout",
     "output_type": "stream",
     "text": [
      "56\n"
     ]
    }
   ],
   "source": [
    "print (7*8)"
   ]
  },
  {
   "cell_type": "code",
   "execution_count": 74,
   "metadata": {},
   "outputs": [
    {
     "name": "stdout",
     "output_type": "stream",
     "text": [
      "3\n"
     ]
    }
   ],
   "source": [
    "print (7//2)"
   ]
  },
  {
   "cell_type": "code",
   "execution_count": 75,
   "metadata": {},
   "outputs": [
    {
     "name": "stdout",
     "output_type": "stream",
     "text": [
      "1\n"
     ]
    }
   ],
   "source": [
    "print (7%2)"
   ]
  },
  {
   "cell_type": "code",
   "execution_count": 80,
   "metadata": {},
   "outputs": [],
   "source": [
    "list1 = [\"one\", 1, 1.0, [1, 2, 3]]"
   ]
  },
  {
   "cell_type": "code",
   "execution_count": 81,
   "metadata": {},
   "outputs": [
    {
     "name": "stdout",
     "output_type": "stream",
     "text": [
      "['one', 1, 1.0, [1, 2, 3]]\n"
     ]
    }
   ],
   "source": [
    "print (list1)"
   ]
  },
  {
   "cell_type": "code",
   "execution_count": 82,
   "metadata": {},
   "outputs": [],
   "source": [
    "tuple2 = (\"one\", 1, 1.1)"
   ]
  },
  {
   "cell_type": "code",
   "execution_count": 83,
   "metadata": {},
   "outputs": [
    {
     "name": "stdout",
     "output_type": "stream",
     "text": [
      "('one', 1, 1.1)\n"
     ]
    }
   ],
   "source": [
    "print (tuple2)"
   ]
  },
  {
   "cell_type": "code",
   "execution_count": 84,
   "metadata": {},
   "outputs": [],
   "source": [
    "list1.append(500)"
   ]
  },
  {
   "cell_type": "code",
   "execution_count": 85,
   "metadata": {},
   "outputs": [
    {
     "name": "stdout",
     "output_type": "stream",
     "text": [
      "['one', 1, 1.0, [1, 2, 3], 500]\n"
     ]
    }
   ],
   "source": [
    "print (list1)"
   ]
  },
  {
   "cell_type": "code",
   "execution_count": 87,
   "metadata": {},
   "outputs": [
    {
     "ename": "AttributeError",
     "evalue": "'tuple' object has no attribute 'append'",
     "output_type": "error",
     "traceback": [
      "\u001b[1;31m---------------------------------------------------------------------------\u001b[0m",
      "\u001b[1;31mAttributeError\u001b[0m                            Traceback (most recent call last)",
      "\u001b[1;32m<ipython-input-87-e216d909c2b3>\u001b[0m in \u001b[0;36m<module>\u001b[1;34m\u001b[0m\n\u001b[1;32m----> 1\u001b[1;33m \u001b[0mtuple2\u001b[0m\u001b[1;33m.\u001b[0m\u001b[0mappend\u001b[0m\u001b[1;33m(\u001b[0m\u001b[1;36m500\u001b[0m\u001b[1;33m)\u001b[0m\u001b[1;33m\u001b[0m\u001b[1;33m\u001b[0m\u001b[0m\n\u001b[0m",
      "\u001b[1;31mAttributeError\u001b[0m: 'tuple' object has no attribute 'append'"
     ]
    }
   ],
   "source": [
    "tuple2.append(500)"
   ]
  },
  {
   "cell_type": "code",
   "execution_count": 95,
   "metadata": {},
   "outputs": [],
   "source": [
    "set1 = {1, 2, 3, 4, 1.0, \"one\"}"
   ]
  },
  {
   "cell_type": "code",
   "execution_count": 96,
   "metadata": {},
   "outputs": [
    {
     "name": "stdout",
     "output_type": "stream",
     "text": [
      "{1, 2, 3, 4, 'one'}\n"
     ]
    }
   ],
   "source": [
    "print (set1)"
   ]
  },
  {
   "cell_type": "code",
   "execution_count": 97,
   "metadata": {},
   "outputs": [
    {
     "name": "stdout",
     "output_type": "stream",
     "text": [
      "{'hello': 'hallo'}\n"
     ]
    }
   ],
   "source": [
    "dict1 = {\"hello\": \"hallo\"}\n",
    "print (dict1)"
   ]
  },
  {
   "cell_type": "code",
   "execution_count": 106,
   "metadata": {},
   "outputs": [],
   "source": [
    "dict2 = {\"names\": [\"tina\", \"jerry\", \"bob\", \"marge\"], \"ages\": [20, 22, 23, 24]}"
   ]
  },
  {
   "cell_type": "code",
   "execution_count": 99,
   "metadata": {},
   "outputs": [
    {
     "name": "stdout",
     "output_type": "stream",
     "text": [
      "{'names': ['tina', 'jerry', 'bob', 'marge']}\n"
     ]
    }
   ],
   "source": [
    "print (dict2)"
   ]
  },
  {
   "cell_type": "code",
   "execution_count": 100,
   "metadata": {},
   "outputs": [],
   "source": [
    "str8 = \"This is a string.\""
   ]
  },
  {
   "cell_type": "code",
   "execution_count": 103,
   "metadata": {},
   "outputs": [
    {
     "name": "stdout",
     "output_type": "stream",
     "text": [
      "h\n"
     ]
    }
   ],
   "source": [
    "print (str8[1])"
   ]
  },
  {
   "cell_type": "code",
   "execution_count": 104,
   "metadata": {},
   "outputs": [
    {
     "name": "stdout",
     "output_type": "stream",
     "text": [
      "one\n"
     ]
    }
   ],
   "source": [
    "print (list1[0])"
   ]
  },
  {
   "cell_type": "code",
   "execution_count": 105,
   "metadata": {},
   "outputs": [
    {
     "name": "stdout",
     "output_type": "stream",
     "text": [
      "1\n"
     ]
    }
   ],
   "source": [
    "print (list1[1])"
   ]
  },
  {
   "cell_type": "code",
   "execution_count": 112,
   "metadata": {},
   "outputs": [
    {
     "name": "stdout",
     "output_type": "stream",
     "text": [
      "[20, 22, 23, 24]\n"
     ]
    }
   ],
   "source": [
    "print (dict2[\"ages\"])"
   ]
  },
  {
   "cell_type": "code",
   "execution_count": 113,
   "metadata": {},
   "outputs": [],
   "source": [
    "names = [\"tom\", \"marge\", \"bob\", \"cindy\"]"
   ]
  },
  {
   "cell_type": "code",
   "execution_count": 116,
   "metadata": {},
   "outputs": [
    {
     "name": "stdout",
     "output_type": "stream",
     "text": [
      "Tom\n",
      "Marge\n",
      "Bob\n",
      "Cindy\n"
     ]
    }
   ],
   "source": [
    "for name in names:\n",
    "    name = name.capitalize()\n",
    "    print (name)"
   ]
  },
  {
   "cell_type": "code",
   "execution_count": 121,
   "metadata": {},
   "outputs": [
    {
     "name": "stdout",
     "output_type": "stream",
     "text": [
      "0\n",
      "1\n",
      "2\n",
      "3\n",
      "4\n",
      "5\n",
      "6\n",
      "7\n",
      "8\n",
      "9\n"
     ]
    }
   ],
   "source": [
    "x=0\n",
    "while x != 10:\n",
    "    print (x)\n",
    "    x=x+1"
   ]
  },
  {
   "cell_type": "code",
   "execution_count": 124,
   "metadata": {},
   "outputs": [
    {
     "name": "stdout",
     "output_type": "stream",
     "text": [
      "x is not 0\n"
     ]
    }
   ],
   "source": [
    "x=1\n",
    "if x == 0:\n",
    "    print (\"x is 0\")\n",
    "else:\n",
    "    print (\"x is not 0\")"
   ]
  },
  {
   "cell_type": "code",
   "execution_count": 125,
   "metadata": {},
   "outputs": [],
   "source": [
    "names = [\"tom\", \"bob\", \"marge\", \"cindy\"]"
   ]
  },
  {
   "cell_type": "code",
   "execution_count": 129,
   "metadata": {},
   "outputs": [
    {
     "name": "stdout",
     "output_type": "stream",
     "text": [
      "Jerry was found\n"
     ]
    }
   ],
   "source": [
    "if \"jerry\" in names:\n",
    "    print (\"Jerry was found\")\n",
    "else:\n",
    "    names.append(\"jerry\")"
   ]
  },
  {
   "cell_type": "code",
   "execution_count": 128,
   "metadata": {},
   "outputs": [
    {
     "name": "stdout",
     "output_type": "stream",
     "text": [
      "['tom', 'bob', 'marge', 'cindy', 'jerry']\n"
     ]
    }
   ],
   "source": [
    "print (names)"
   ]
  },
  {
   "cell_type": "code",
   "execution_count": 138,
   "metadata": {},
   "outputs": [
    {
     "name": "stdout",
     "output_type": "stream",
     "text": [
      "Cindy in names\n"
     ]
    }
   ],
   "source": [
    "if \"bill\" in names:\n",
    "    print (\"Bill is in names\")\n",
    "elif \"cindy\" in names:\n",
    "    print (\"Cindy in names\")\n",
    "elif \"suzzy\" in names:\n",
    "    print (\"Suzzy in names\")\n",
    "else:\n",
    "    print (\"Neither found.\")"
   ]
  },
  {
   "cell_type": "code",
   "execution_count": 133,
   "metadata": {},
   "outputs": [
    {
     "name": "stdout",
     "output_type": "stream",
     "text": [
      "Bill is not in names\n"
     ]
    }
   ],
   "source": [
    "if \"bill\" not in names:\n",
    "    print (\"Bill is not in names\")"
   ]
  },
  {
   "cell_type": "code",
   "execution_count": 144,
   "metadata": {},
   "outputs": [],
   "source": [
    "def multiply_three(x):\n",
    "    x = x*3\n",
    "    return x\n",
    "\n",
    "y = multiply_three(6)"
   ]
  },
  {
   "cell_type": "code",
   "execution_count": 145,
   "metadata": {},
   "outputs": [
    {
     "name": "stdout",
     "output_type": "stream",
     "text": [
      "1\n"
     ]
    }
   ],
   "source": [
    "print (x)"
   ]
  },
  {
   "cell_type": "code",
   "execution_count": 146,
   "metadata": {},
   "outputs": [
    {
     "name": "stdout",
     "output_type": "stream",
     "text": [
      "18\n"
     ]
    }
   ],
   "source": [
    "print (y)"
   ]
  },
  {
   "cell_type": "code",
   "execution_count": 149,
   "metadata": {},
   "outputs": [
    {
     "name": "stdout",
     "output_type": "stream",
     "text": [
      "11\n"
     ]
    }
   ],
   "source": [
    "def add_two(x, y):\n",
    "    result =  x+y\n",
    "    return result\n",
    "\n",
    "n = add_two(5, 6)\n",
    "print (n)"
   ]
  },
  {
   "cell_type": "code",
   "execution_count": 151,
   "metadata": {},
   "outputs": [
    {
     "name": "stdout",
     "output_type": "stream",
     "text": [
      "William Smith\n"
     ]
    }
   ],
   "source": [
    "def add_surname(first_name, last_name=\"Mattingly\"):\n",
    "    print (first_name, last_name)\n",
    "\n",
    "add_surname(\"William\", \"Smith\")"
   ]
  },
  {
   "cell_type": "code",
   "execution_count": 152,
   "metadata": {},
   "outputs": [
    {
     "name": "stdout",
     "output_type": "stream",
     "text": [
      "William\n",
      "Marge\n",
      "Kyle\n",
      "Sally\n"
     ]
    }
   ],
   "source": [
    "def print_names(*names):\n",
    "    for name in names:\n",
    "        print (name)\n",
    "\n",
    "print_names(\"William\", \"Marge\", \"Kyle\", \"Sally\")"
   ]
  },
  {
   "cell_type": "code",
   "execution_count": 155,
   "metadata": {},
   "outputs": [
    {
     "name": "stdout",
     "output_type": "stream",
     "text": [
      "<__main__.Emperor object at 0x00000261667B7BE0>\n"
     ]
    }
   ],
   "source": [
    "class Emperor():\n",
    "    def __init__(self, name, birth, coronation, death):\n",
    "        self.name = name\n",
    "        self.birth = birth\n",
    "        self.coron = coronation\n",
    "        self.death = death\n",
    "    def birth_date(self):\n",
    "        print (f\"{self.name} was born in {self.birth}\")\n",
    "\n",
    "charlemagne = Emperor(\"Charlemagne\", 742, 800, 814)\n",
    "print (charlemagne)"
   ]
  },
  {
   "cell_type": "code",
   "execution_count": 156,
   "metadata": {},
   "outputs": [
    {
     "name": "stdout",
     "output_type": "stream",
     "text": [
      "{'name': 'Charlemagne', 'birth': 742, 'coron': 800, 'death': 814}\n"
     ]
    }
   ],
   "source": [
    "print (vars(charlemagne))"
   ]
  },
  {
   "cell_type": "code",
   "execution_count": 157,
   "metadata": {},
   "outputs": [
    {
     "name": "stdout",
     "output_type": "stream",
     "text": [
      "Charlemagne was born in 742\n"
     ]
    }
   ],
   "source": [
    "charlemagne.birth_date()"
   ]
  },
  {
   "cell_type": "code",
   "execution_count": 158,
   "metadata": {},
   "outputs": [
    {
     "name": "stdout",
     "output_type": "stream",
     "text": [
      "Requirement already satisfied: pandas in c:\\users\\wma22\\anaconda3\\lib\\site-packages (1.1.3)\n",
      "Requirement already satisfied: numpy>=1.15.4 in c:\\users\\wma22\\anaconda3\\lib\\site-packages (from pandas) (1.21.5)\n",
      "Requirement already satisfied: pytz>=2017.2 in c:\\users\\wma22\\anaconda3\\lib\\site-packages (from pandas) (2020.1)\n",
      "Requirement already satisfied: python-dateutil>=2.7.3 in c:\\users\\wma22\\anaconda3\\lib\\site-packages (from pandas) (2.8.1)\n",
      "Requirement already satisfied: six>=1.5 in c:\\users\\wma22\\anaconda3\\lib\\site-packages (from python-dateutil>=2.7.3->pandas) (1.15.0)\n"
     ]
    }
   ],
   "source": [
    "!pip install pandas"
   ]
  },
  {
   "cell_type": "code",
   "execution_count": 159,
   "metadata": {},
   "outputs": [
    {
     "name": "stdout",
     "output_type": "stream",
     "text": [
      "Requirement already satisfied: requests in c:\\users\\wma22\\anaconda3\\lib\\site-packages (2.24.0)\n",
      "Requirement already satisfied: idna<3,>=2.5 in c:\\users\\wma22\\anaconda3\\lib\\site-packages (from requests) (2.10)\n",
      "Requirement already satisfied: urllib3!=1.25.0,!=1.25.1,<1.26,>=1.21.1 in c:\\users\\wma22\\anaconda3\\lib\\site-packages (from requests) (1.25.11)\n",
      "Requirement already satisfied: certifi>=2017.4.17 in c:\\users\\wma22\\anaconda3\\lib\\site-packages (from requests) (2020.6.20)\n",
      "Requirement already satisfied: chardet<4,>=3.0.2 in c:\\users\\wma22\\anaconda3\\lib\\site-packages (from requests) (3.0.4)\n"
     ]
    }
   ],
   "source": [
    "!pip install requests"
   ]
  },
  {
   "cell_type": "code",
   "execution_count": 161,
   "metadata": {},
   "outputs": [
    {
     "name": "stdout",
     "output_type": "stream",
     "text": [
      "Requirement already satisfied: beautifulsoup4 in c:\\users\\wma22\\anaconda3\\lib\\site-packages (4.9.3)\n",
      "Requirement already satisfied: soupsieve>1.2; python_version >= \"3.0\" in c:\\users\\wma22\\anaconda3\\lib\\site-packages (from beautifulsoup4) (2.0.1)\n"
     ]
    }
   ],
   "source": [
    "!pip install beautifulsoup4"
   ]
  },
  {
   "cell_type": "code",
   "execution_count": 162,
   "metadata": {},
   "outputs": [],
   "source": [
    "import requests"
   ]
  },
  {
   "cell_type": "code",
   "execution_count": 163,
   "metadata": {},
   "outputs": [],
   "source": [
    "import pandas as pd"
   ]
  },
  {
   "cell_type": "code",
   "execution_count": 174,
   "metadata": {},
   "outputs": [],
   "source": [
    "with open (\"data/sample.txt\", \"r\") as f:\n",
    "    data = f.read()\n",
    "    data = data+\"\\nThis is a fourth line.\""
   ]
  },
  {
   "cell_type": "code",
   "execution_count": 175,
   "metadata": {},
   "outputs": [],
   "source": [
    "with open (\"data/sample2.txt\", \"w\") as f:\n",
    "    f.write(data)"
   ]
  },
  {
   "cell_type": "code",
   "execution_count": 176,
   "metadata": {},
   "outputs": [
    {
     "name": "stdout",
     "output_type": "stream",
     "text": [
      "{'names': ['tina', 'jerry', 'bob', 'marge'], 'ages': [20, 22, 23, 24]}\n"
     ]
    }
   ],
   "source": [
    "print (dict2)"
   ]
  },
  {
   "cell_type": "code",
   "execution_count": 177,
   "metadata": {},
   "outputs": [],
   "source": [
    "import json"
   ]
  },
  {
   "cell_type": "code",
   "execution_count": 178,
   "metadata": {},
   "outputs": [],
   "source": [
    "with open (\"data/temp.json\", \"w\") as f:\n",
    "    json.dump(dict2, f, indent=4)"
   ]
  },
  {
   "cell_type": "code",
   "execution_count": 179,
   "metadata": {},
   "outputs": [],
   "source": [
    "with open (\"data/temp.json\", \"r\") as f:\n",
    "    temp = json.load(f)"
   ]
  },
  {
   "cell_type": "code",
   "execution_count": 180,
   "metadata": {},
   "outputs": [
    {
     "name": "stdout",
     "output_type": "stream",
     "text": [
      "{'names': ['tina', 'jerry', 'bob', 'marge'], 'ages': [20, 22, 23, 24]}\n"
     ]
    }
   ],
   "source": [
    "print (temp)"
   ]
  },
  {
   "cell_type": "code",
   "execution_count": 181,
   "metadata": {},
   "outputs": [],
   "source": [
    "import glob"
   ]
  },
  {
   "cell_type": "code",
   "execution_count": 190,
   "metadata": {},
   "outputs": [
    {
     "name": "stdout",
     "output_type": "stream",
     "text": [
      "['data\\\\sample.txt', 'data\\\\sample2.txt']\n"
     ]
    }
   ],
   "source": [
    "files = glob.glob(\"data/*.txt\")\n",
    "print (files)"
   ]
  },
  {
   "cell_type": "code",
   "execution_count": 191,
   "metadata": {},
   "outputs": [
    {
     "name": "stdout",
     "output_type": "stream",
     "text": [
      "data\\sample.txt\n",
      "This is a sample of a text\n",
      "This is another line of the same sample text\n",
      "This is a third line.\n",
      "data\\sample2.txt\n",
      "This is a sample of a text\n",
      "This is another line of the same sample text\n",
      "This is a third line.\n",
      "This is a fourth line.\n"
     ]
    }
   ],
   "source": [
    "for file in files:\n",
    "    print (file)\n",
    "    with open (file, \"r\") as f:\n",
    "        data = f.read()\n",
    "        print (data)"
   ]
  },
  {
   "cell_type": "code",
   "execution_count": 192,
   "metadata": {},
   "outputs": [
    {
     "name": "stdout",
     "output_type": "stream",
     "text": [
      "['data\\\\other\\\\sample3.txt', 'data\\\\other2\\\\sample4.txt']\n"
     ]
    }
   ],
   "source": [
    "files2 = glob.glob(\"data/*/*.txt\")\n",
    "print (files2)"
   ]
  },
  {
   "cell_type": "code",
   "execution_count": 193,
   "metadata": {},
   "outputs": [],
   "source": [
    "import os"
   ]
  },
  {
   "cell_type": "code",
   "execution_count": 198,
   "metadata": {},
   "outputs": [],
   "source": [
    "walking = os.walk(\"data/\")"
   ]
  },
  {
   "cell_type": "code",
   "execution_count": 195,
   "metadata": {},
   "outputs": [
    {
     "name": "stdout",
     "output_type": "stream",
     "text": [
      "<generator object walk at 0x0000026106CD6120>\n"
     ]
    }
   ],
   "source": [
    "print (walking)"
   ]
  },
  {
   "cell_type": "code",
   "execution_count": 196,
   "metadata": {},
   "outputs": [
    {
     "name": "stdout",
     "output_type": "stream",
     "text": [
      "[('data/', ['.ipynb_checkpoints', 'other', 'other2'], ['sample.txt', 'sample2.txt', 'sample_json.json', 'temp.json']), ('data/.ipynb_checkpoints', [], ['sample-checkpoint.txt', 'sample2-checkpoint.txt', 'temp-checkpoint.json']), ('data/other', [], ['sample3.txt']), ('data/other2', [], ['sample4.txt'])]\n"
     ]
    }
   ],
   "source": [
    "print (list(walking))"
   ]
  },
  {
   "cell_type": "code",
   "execution_count": 199,
   "metadata": {},
   "outputs": [
    {
     "name": "stdout",
     "output_type": "stream",
     "text": [
      "('data/', ['.ipynb_checkpoints', 'other', 'other2'], ['sample.txt', 'sample2.txt', 'sample_json.json', 'temp.json'])\n",
      "('data/.ipynb_checkpoints', [], ['sample-checkpoint.txt', 'sample2-checkpoint.txt', 'temp-checkpoint.json'])\n",
      "('data/other', [], ['sample3.txt'])\n",
      "('data/other2', [], ['sample4.txt'])\n"
     ]
    }
   ],
   "source": [
    "walking = list(walking)\n",
    "for item in walking:\n",
    "    print (item)"
   ]
  },
  {
   "cell_type": "code",
   "execution_count": 200,
   "metadata": {},
   "outputs": [
    {
     "name": "stdout",
     "output_type": "stream",
     "text": [
      "This is the Root\n",
      "data/\n",
      "These are the Files\n",
      "['sample.txt', 'sample2.txt', 'sample_json.json', 'temp.json']\n",
      "\n",
      "\n",
      "This is the Root\n",
      "data/.ipynb_checkpoints\n",
      "These are the Files\n",
      "['sample-checkpoint.txt', 'sample2-checkpoint.txt', 'temp-checkpoint.json']\n",
      "\n",
      "\n",
      "This is the Root\n",
      "data/other\n",
      "These are the Files\n",
      "['sample3.txt']\n",
      "\n",
      "\n",
      "This is the Root\n",
      "data/other2\n",
      "These are the Files\n",
      "['sample4.txt']\n",
      "\n",
      "\n"
     ]
    }
   ],
   "source": [
    "final_files = []\n",
    "for item in walking:\n",
    "    root = item[0]\n",
    "    files = item[2]\n",
    "    print (\"This is the Root\")\n",
    "    print (root)\n",
    "    print (\"These are the Files\")\n",
    "    print (files)\n",
    "    print ()\n",
    "    print ()"
   ]
  },
  {
   "cell_type": "code",
   "execution_count": 201,
   "metadata": {},
   "outputs": [
    {
     "name": "stdout",
     "output_type": "stream",
     "text": [
      "data/sample.txt\n",
      "data/sample2.txt\n",
      "data/.ipynb_checkpoints\\sample-checkpoint.txt\n",
      "data/.ipynb_checkpoints\\sample2-checkpoint.txt\n",
      "data/other\\sample3.txt\n",
      "data/other2\\sample4.txt\n"
     ]
    }
   ],
   "source": [
    "for item in walking:\n",
    "    root = item[0]\n",
    "    files = item[2]\n",
    "    for file in files:\n",
    "        if file.endswith(\".txt\"):\n",
    "             print(os.path.join(root, file))"
   ]
  },
  {
   "cell_type": "code",
   "execution_count": 202,
   "metadata": {},
   "outputs": [],
   "source": [
    "import pandas as pd"
   ]
  },
  {
   "cell_type": "code",
   "execution_count": 203,
   "metadata": {},
   "outputs": [],
   "source": [
    "names_dict = {\"names\":\n",
    "        [\n",
    "            \"Tom\",\n",
    "            \"Mary\",\n",
    "            \"Jeff\",\n",
    "            \"Rose\",\n",
    "            \"Stephanie\",\n",
    "            \"Rodger\"\n",
    "        ]}"
   ]
  },
  {
   "cell_type": "code",
   "execution_count": 204,
   "metadata": {},
   "outputs": [
    {
     "name": "stdout",
     "output_type": "stream",
     "text": [
      "['Tom', 'Mary', 'Jeff', 'Rose', 'Stephanie', 'Rodger']\n"
     ]
    }
   ],
   "source": [
    "print (names_dict[\"names\"])"
   ]
  },
  {
   "cell_type": "code",
   "execution_count": 205,
   "metadata": {},
   "outputs": [],
   "source": [
    "df = pd.DataFrame(names_dict)"
   ]
  },
  {
   "cell_type": "code",
   "execution_count": 206,
   "metadata": {},
   "outputs": [
    {
     "data": {
      "text/html": [
       "<div>\n",
       "<style scoped>\n",
       "    .dataframe tbody tr th:only-of-type {\n",
       "        vertical-align: middle;\n",
       "    }\n",
       "\n",
       "    .dataframe tbody tr th {\n",
       "        vertical-align: top;\n",
       "    }\n",
       "\n",
       "    .dataframe thead th {\n",
       "        text-align: right;\n",
       "    }\n",
       "</style>\n",
       "<table border=\"1\" class=\"dataframe\">\n",
       "  <thead>\n",
       "    <tr style=\"text-align: right;\">\n",
       "      <th></th>\n",
       "      <th>names</th>\n",
       "    </tr>\n",
       "  </thead>\n",
       "  <tbody>\n",
       "    <tr>\n",
       "      <th>0</th>\n",
       "      <td>Tom</td>\n",
       "    </tr>\n",
       "    <tr>\n",
       "      <th>1</th>\n",
       "      <td>Mary</td>\n",
       "    </tr>\n",
       "    <tr>\n",
       "      <th>2</th>\n",
       "      <td>Jeff</td>\n",
       "    </tr>\n",
       "    <tr>\n",
       "      <th>3</th>\n",
       "      <td>Rose</td>\n",
       "    </tr>\n",
       "    <tr>\n",
       "      <th>4</th>\n",
       "      <td>Stephanie</td>\n",
       "    </tr>\n",
       "    <tr>\n",
       "      <th>5</th>\n",
       "      <td>Rodger</td>\n",
       "    </tr>\n",
       "  </tbody>\n",
       "</table>\n",
       "</div>"
      ],
      "text/plain": [
       "       names\n",
       "0        Tom\n",
       "1       Mary\n",
       "2       Jeff\n",
       "3       Rose\n",
       "4  Stephanie\n",
       "5     Rodger"
      ]
     },
     "execution_count": 206,
     "metadata": {},
     "output_type": "execute_result"
    }
   ],
   "source": [
    "df"
   ]
  },
  {
   "cell_type": "code",
   "execution_count": 207,
   "metadata": {},
   "outputs": [
    {
     "name": "stdout",
     "output_type": "stream",
     "text": [
      "       names\n",
      "0        Tom\n",
      "1       Mary\n",
      "2       Jeff\n",
      "3       Rose\n",
      "4  Stephanie\n",
      "5     Rodger\n"
     ]
    }
   ],
   "source": [
    "print (df)"
   ]
  },
  {
   "cell_type": "code",
   "execution_count": 209,
   "metadata": {},
   "outputs": [],
   "source": [
    "df.to_csv(\"data/names.csv\", index=False)"
   ]
  },
  {
   "cell_type": "code",
   "execution_count": 210,
   "metadata": {},
   "outputs": [],
   "source": [
    "df2 = pd.read_csv(\"data/names.csv\")"
   ]
  },
  {
   "cell_type": "code",
   "execution_count": 211,
   "metadata": {},
   "outputs": [
    {
     "data": {
      "text/html": [
       "<div>\n",
       "<style scoped>\n",
       "    .dataframe tbody tr th:only-of-type {\n",
       "        vertical-align: middle;\n",
       "    }\n",
       "\n",
       "    .dataframe tbody tr th {\n",
       "        vertical-align: top;\n",
       "    }\n",
       "\n",
       "    .dataframe thead th {\n",
       "        text-align: right;\n",
       "    }\n",
       "</style>\n",
       "<table border=\"1\" class=\"dataframe\">\n",
       "  <thead>\n",
       "    <tr style=\"text-align: right;\">\n",
       "      <th></th>\n",
       "      <th>names</th>\n",
       "    </tr>\n",
       "  </thead>\n",
       "  <tbody>\n",
       "    <tr>\n",
       "      <th>0</th>\n",
       "      <td>Tom</td>\n",
       "    </tr>\n",
       "    <tr>\n",
       "      <th>1</th>\n",
       "      <td>Mary</td>\n",
       "    </tr>\n",
       "    <tr>\n",
       "      <th>2</th>\n",
       "      <td>Jeff</td>\n",
       "    </tr>\n",
       "    <tr>\n",
       "      <th>3</th>\n",
       "      <td>Rose</td>\n",
       "    </tr>\n",
       "    <tr>\n",
       "      <th>4</th>\n",
       "      <td>Stephanie</td>\n",
       "    </tr>\n",
       "    <tr>\n",
       "      <th>5</th>\n",
       "      <td>Rodger</td>\n",
       "    </tr>\n",
       "  </tbody>\n",
       "</table>\n",
       "</div>"
      ],
      "text/plain": [
       "       names\n",
       "0        Tom\n",
       "1       Mary\n",
       "2       Jeff\n",
       "3       Rose\n",
       "4  Stephanie\n",
       "5     Rodger"
      ]
     },
     "execution_count": 211,
     "metadata": {},
     "output_type": "execute_result"
    }
   ],
   "source": [
    "df2"
   ]
  },
  {
   "cell_type": "code",
   "execution_count": 212,
   "metadata": {},
   "outputs": [],
   "source": [
    "df2[\"ages\"] = [20, 26, 20, 18, 52, 40]"
   ]
  },
  {
   "cell_type": "code",
   "execution_count": 213,
   "metadata": {},
   "outputs": [
    {
     "data": {
      "text/html": [
       "<div>\n",
       "<style scoped>\n",
       "    .dataframe tbody tr th:only-of-type {\n",
       "        vertical-align: middle;\n",
       "    }\n",
       "\n",
       "    .dataframe tbody tr th {\n",
       "        vertical-align: top;\n",
       "    }\n",
       "\n",
       "    .dataframe thead th {\n",
       "        text-align: right;\n",
       "    }\n",
       "</style>\n",
       "<table border=\"1\" class=\"dataframe\">\n",
       "  <thead>\n",
       "    <tr style=\"text-align: right;\">\n",
       "      <th></th>\n",
       "      <th>names</th>\n",
       "      <th>ages</th>\n",
       "    </tr>\n",
       "  </thead>\n",
       "  <tbody>\n",
       "    <tr>\n",
       "      <th>0</th>\n",
       "      <td>Tom</td>\n",
       "      <td>20</td>\n",
       "    </tr>\n",
       "    <tr>\n",
       "      <th>1</th>\n",
       "      <td>Mary</td>\n",
       "      <td>26</td>\n",
       "    </tr>\n",
       "    <tr>\n",
       "      <th>2</th>\n",
       "      <td>Jeff</td>\n",
       "      <td>20</td>\n",
       "    </tr>\n",
       "    <tr>\n",
       "      <th>3</th>\n",
       "      <td>Rose</td>\n",
       "      <td>18</td>\n",
       "    </tr>\n",
       "    <tr>\n",
       "      <th>4</th>\n",
       "      <td>Stephanie</td>\n",
       "      <td>52</td>\n",
       "    </tr>\n",
       "    <tr>\n",
       "      <th>5</th>\n",
       "      <td>Rodger</td>\n",
       "      <td>40</td>\n",
       "    </tr>\n",
       "  </tbody>\n",
       "</table>\n",
       "</div>"
      ],
      "text/plain": [
       "       names  ages\n",
       "0        Tom    20\n",
       "1       Mary    26\n",
       "2       Jeff    20\n",
       "3       Rose    18\n",
       "4  Stephanie    52\n",
       "5     Rodger    40"
      ]
     },
     "execution_count": 213,
     "metadata": {},
     "output_type": "execute_result"
    }
   ],
   "source": [
    "df2"
   ]
  },
  {
   "cell_type": "code",
   "execution_count": 214,
   "metadata": {},
   "outputs": [
    {
     "name": "stdout",
     "output_type": "stream",
     "text": [
      "0          Tom\n",
      "1         Mary\n",
      "2         Jeff\n",
      "3         Rose\n",
      "4    Stephanie\n",
      "5       Rodger\n",
      "Name: names, dtype: object\n"
     ]
    }
   ],
   "source": [
    "names = df2.names\n",
    "print (names)"
   ]
  },
  {
   "cell_type": "code",
   "execution_count": 215,
   "metadata": {},
   "outputs": [
    {
     "name": "stdout",
     "output_type": "stream",
     "text": [
      "0    20\n",
      "1    26\n",
      "2    20\n",
      "3    18\n",
      "4    52\n",
      "5    40\n",
      "Name: ages, dtype: int64\n"
     ]
    }
   ],
   "source": [
    "ages = df2.ages\n",
    "print (ages)"
   ]
  },
  {
   "cell_type": "code",
   "execution_count": 216,
   "metadata": {},
   "outputs": [
    {
     "name": "stdout",
     "output_type": "stream",
     "text": [
      "[20, 26, 20, 18, 52, 40]\n"
     ]
    }
   ],
   "source": [
    "ages = df2.ages.tolist()\n",
    "print (ages)"
   ]
  },
  {
   "cell_type": "code",
   "execution_count": 218,
   "metadata": {},
   "outputs": [
    {
     "name": "stdout",
     "output_type": "stream",
     "text": [
      "names    Mary\n",
      "ages       26\n",
      "Name: 1, dtype: object\n"
     ]
    }
   ],
   "source": [
    "row1 = df2.iloc[1]\n",
    "print (row1)"
   ]
  },
  {
   "cell_type": "code",
   "execution_count": 219,
   "metadata": {},
   "outputs": [
    {
     "name": "stdout",
     "output_type": "stream",
     "text": [
      "The monarchs of the Kingdom of France ruled from the establishment of the Kingdom of the West Franks in 843 until the fall of the Second French Empire in 1870, with several interruptions. Between the period from Charles the Bald  in 843 to Louis XVI in 1792, France had 45 kings. Adding the 3 kings and 2 emperors after the French Revolution, this comes to a total of 50 monarchs of France spread over 1027 years.\n",
      "\n",
      "Classical French historiography usually regards Clovis I (r. 481–511) as the first king of \"France\" (in its earliest phase), but technically speaking such kingdom didn't began until the establishment of West Francia.[1][2] In August 843 the Treaty of Verdun divided the Frankish realm into three kingdoms, one of which (Middle Francia) was short-lived; the other two evolved into France (West Francia) and, eventually, Germany (East Francia). By this time, the eastern and western parts of the land had already developed different languages and cultures.\n",
      "\n",
      "Initially, the kingdom was ruled primarily by two dynasties, the Carolingians and the Robertians, who alternated rule from 843 until 987, when Hugh Capet, the progenitor of the Capetian dynasty, took the throne. The kings use the title \"King of the Franks\" until the late twelfth century; the first to adopt the title of \"King of France\" was Philip II (r. 1180–1223). The Capetians ruled continuously from 987 to 1792 and again from 1814 to 1848. The branches of the dynasty which ruled after 1328, however, are generally given the specific branch names of Valois (until 1589), Bourbon (from 1589 until 1792 and from 1814 until 1830), and the Orléans (from 1830 until 1848).\n",
      "\n"
     ]
    }
   ],
   "source": [
    "import requests\n",
    "from bs4 import BeautifulSoup\n",
    "\n",
    "url = \"https://en.wikipedia.org/wiki/List_of_French_monarchs\"\n",
    "s = requests.get(url)\n",
    "\n",
    "soup = BeautifulSoup(s.content)\n",
    "body = soup.find(\"div\", {\"id\": \"mw-content-text\"})\n",
    "for paragraph in body.find_all(\"p\")[:5]:\n",
    "    if paragraph.text.strip() != \"\":\n",
    "        print (paragraph.text)"
   ]
  },
  {
   "cell_type": "code",
   "execution_count": 220,
   "metadata": {},
   "outputs": [],
   "source": [
    "import requests"
   ]
  },
  {
   "cell_type": "code",
   "execution_count": 221,
   "metadata": {},
   "outputs": [],
   "source": [
    "url = \"https://en.wikipedia.org/wiki/List_of_French_monarchs\""
   ]
  },
  {
   "cell_type": "code",
   "execution_count": 222,
   "metadata": {},
   "outputs": [],
   "source": [
    "s = requests.get(url)"
   ]
  },
  {
   "cell_type": "code",
   "execution_count": 223,
   "metadata": {},
   "outputs": [
    {
     "name": "stdout",
     "output_type": "stream",
     "text": [
      "<Response [200]>\n"
     ]
    }
   ],
   "source": [
    "print (s)"
   ]
  },
  {
   "cell_type": "code",
   "execution_count": 225,
   "metadata": {},
   "outputs": [
    {
     "name": "stdout",
     "output_type": "stream",
     "text": [
      "b'<!DOCTYPE html>\\n<html class=\"client-nojs\" lang=\"en\" dir=\"ltr\">\\n<head>\\n<meta charset=\"UTF-8\"/>\\n<title>List of French monarchs - Wikipedia</title>\\n<script>document.documentElement.className=\"client-js\";RLCONF={\"wgBreakFrames\":false,\"wgSeparatorTransformTable\":[\"\",\"\"],\"wgDigitTransformTable\":[\"\",\"\"],\"wgDefaultDateFormat\":\"dmy\",\"wgMonthNames\":[\"\",\"January\",\"February\",\"March\",\"April\",\"May\",\"June\",\"July\",\"August\",\"September\",\"October\",\"November\",\"December\"],\"wgRequestId\":\"fc4839e9-67e5-4a83-a76f-cf997'\n"
     ]
    }
   ],
   "source": [
    "print (s.content[:500])"
   ]
  },
  {
   "cell_type": "code",
   "execution_count": 224,
   "metadata": {},
   "outputs": [],
   "source": [
    "from bs4 import BeautifulSoup"
   ]
  },
  {
   "cell_type": "code",
   "execution_count": 226,
   "metadata": {},
   "outputs": [],
   "source": [
    "soup = BeautifulSoup(s.content)"
   ]
  },
  {
   "cell_type": "code",
   "execution_count": 228,
   "metadata": {},
   "outputs": [],
   "source": [
    "toc = soup.find(\"div\", {\"id\": \"toc\"})"
   ]
  },
  {
   "cell_type": "code",
   "execution_count": 230,
   "metadata": {},
   "outputs": [
    {
     "name": "stdout",
     "output_type": "stream",
     "text": [
      "Contents\n",
      "\n",
      "1 Titles\n",
      "2 Carolingian dynasty (843–987)\n",
      "3 Capetian dynasty (987–1792)\n",
      "\n",
      "3.1 House of Capet (987–1328)\n",
      "3.2 House of Valois (1328–1589)\n",
      "3.3 House of Bourbon (1589–1792)\n",
      "\n",
      "\n",
      "4 Long 19th-century (1792–1870)\n",
      "\n",
      "4.1 French First Republic (1792–1804)\n",
      "4.2 House of Bonaparte, 1st Empire (1804–1814)\n",
      "4.3 Capetian dynasty (1814–1815)\n",
      "4.4 House of Bonaparte, Hundred Days (1815)\n",
      "4.5 Capetian dynasty (1815–1848)\n",
      "\n",
      "4.5.1 Bourbon Restoration (1815–1830)\n",
      "4.5.2 House of Orléans, July Monarchy (1830–1848)\n",
      "\n",
      "\n",
      "4.6 House of Bonaparte, 2nd Empire (1852–1870)\n",
      "\n",
      "\n",
      "5 Later pretenders\n",
      "6 Timeline\n",
      "7 See also\n",
      "8 Notes\n",
      "\n",
      "8.1 Coronations\n",
      "\n",
      "\n",
      "9 References\n",
      "\n",
      "9.1 Citations\n",
      "9.2 Sources\n",
      "\n",
      "\n",
      "\n",
      "\n"
     ]
    }
   ],
   "source": [
    "print (toc.text)"
   ]
  },
  {
   "cell_type": "code",
   "execution_count": 237,
   "metadata": {},
   "outputs": [
    {
     "name": "stdout",
     "output_type": "stream",
     "text": [
      "Contents\n",
      "\n",
      "1 Titles\n",
      "2 Carolingian dynasty (843–987)\n",
      "3 Capetian dynasty (987–1792)\n",
      "\n",
      "3.1 House of Capet (987–1328)\n",
      "3.2 House of Valois (1328–1589)\n",
      "3.3 House of Bourbon (1589–1792)\n",
      "\n",
      "\n",
      "4 Long 19th-century (1792–1870)\n",
      "\n",
      "4.1 French First Republic (1792–1804)\n",
      "4.2 House of Bonaparte, 1st Empire (1804–1814)\n",
      "4.3 Capetian dynasty (1814–1815)\n",
      "4.4 House of Bonaparte, Hundred Days (1815)\n",
      "4.5 Capetian dynasty (1815–1848)\n",
      "\n",
      "4.5.1 Bourbon Restoration (1815–1830)\n",
      "4.5.2 House of Orléans, July Monarchy (1830–1848)\n",
      "\n",
      "\n",
      "4.6 House of Bonaparte, 2nd Empire (1852–1870)\n",
      "\n",
      "\n",
      "5 Later pretenders\n",
      "6 Timeline\n",
      "7 See also\n",
      "8 Notes\n",
      "\n",
      "8.1 Coronations\n",
      "\n",
      "\n",
      "9 References\n",
      "\n",
      "9.1 Citations\n",
      "9.2 Sources\n",
      "\n",
      "\n",
      "\n",
      "\n"
     ]
    }
   ],
   "source": [
    "first_div = soup.find(\"div\", {\"role\": \"navigation\"})\n",
    "print (first_div.text)"
   ]
  },
  {
   "cell_type": "code",
   "execution_count": 238,
   "metadata": {},
   "outputs": [
    {
     "name": "stdout",
     "output_type": "stream",
     "text": [
      "\n",
      "\n"
     ]
    }
   ],
   "source": [
    "p_tag = soup.find(\"p\")\n",
    "print (p_tag.text)"
   ]
  },
  {
   "cell_type": "code",
   "execution_count": 239,
   "metadata": {},
   "outputs": [
    {
     "name": "stdout",
     "output_type": "stream",
     "text": [
      "23\n"
     ]
    }
   ],
   "source": [
    "ptags = soup.find_all(\"p\")\n",
    "print (len(ptags))"
   ]
  },
  {
   "cell_type": "code",
   "execution_count": null,
   "metadata": {},
   "outputs": [],
   "source": []
  },
  {
   "cell_type": "code",
   "execution_count": 251,
   "metadata": {},
   "outputs": [
    {
     "name": "stdout",
     "output_type": "stream",
     "text": [
      "Portrait\n",
      "Name\n",
      "Start\n",
      "End\n",
      "Succession / Notes\n",
      "Title\n",
      "Ref.\n"
     ]
    }
   ],
   "source": [
    "table_data = []\n",
    "table = soup.find(\"table\", {\"class\": \"wikitable\"})\n",
    "rows = table.find_all(\"tr\")\n",
    "for row in rows:\n",
    "    headers = row.find_all(\"th\")\n",
    "    for header in headers:\n",
    "        print (header.text.strip())\n",
    "    cells = row.find_all(\"td\")\n",
    "    for cell in cells:\n",
    "        table_data.append(cell.text.strip())"
   ]
  },
  {
   "cell_type": "code",
   "execution_count": 252,
   "metadata": {},
   "outputs": [],
   "source": [
    "# print (table_data)"
   ]
  },
  {
   "cell_type": "code",
   "execution_count": 254,
   "metadata": {},
   "outputs": [
    {
     "data": {
      "text/html": [
       "<div>\n",
       "<style scoped>\n",
       "    .dataframe tbody tr th:only-of-type {\n",
       "        vertical-align: middle;\n",
       "    }\n",
       "\n",
       "    .dataframe tbody tr th {\n",
       "        vertical-align: top;\n",
       "    }\n",
       "\n",
       "    .dataframe thead th {\n",
       "        text-align: right;\n",
       "    }\n",
       "</style>\n",
       "<table border=\"1\" class=\"dataframe\">\n",
       "  <thead>\n",
       "    <tr style=\"text-align: right;\">\n",
       "      <th></th>\n",
       "      <th>Portrait</th>\n",
       "      <th>Name</th>\n",
       "      <th>Start</th>\n",
       "      <th>End</th>\n",
       "      <th>Succession / Notes</th>\n",
       "      <th>Title</th>\n",
       "      <th>Ref.</th>\n",
       "    </tr>\n",
       "  </thead>\n",
       "  <tbody>\n",
       "    <tr>\n",
       "      <th>0</th>\n",
       "      <td>NaN</td>\n",
       "      <td>Charles II \"the Bald\"[b]</td>\n",
       "      <td>c. 10 August 843[c][i]</td>\n",
       "      <td>6 October 877</td>\n",
       "      <td>• Son of Louis I and grandson of Charlemagne (...</td>\n",
       "      <td>King of the Franks(840–77)Emperor of the Roman...</td>\n",
       "      <td>[9][10][11][12]</td>\n",
       "    </tr>\n",
       "    <tr>\n",
       "      <th>1</th>\n",
       "      <td>NaN</td>\n",
       "      <td>Louis II \"the Stammerer\"[d]</td>\n",
       "      <td>6 October 877[ii]</td>\n",
       "      <td>10 April 879</td>\n",
       "      <td>• Son of Charles the Bald</td>\n",
       "      <td>King of the Franks</td>\n",
       "      <td>[10][9][13]</td>\n",
       "    </tr>\n",
       "    <tr>\n",
       "      <th>2</th>\n",
       "      <td>NaN</td>\n",
       "      <td>Louis III</td>\n",
       "      <td>10 April 879[iii]</td>\n",
       "      <td>5 August 882</td>\n",
       "      <td>• Son of Louis the Stammerer</td>\n",
       "      <td>King of the Franks</td>\n",
       "      <td>[10][14][15]</td>\n",
       "    </tr>\n",
       "    <tr>\n",
       "      <th>3</th>\n",
       "      <td>NaN</td>\n",
       "      <td>Carloman II</td>\n",
       "      <td>10 April 879[iv]</td>\n",
       "      <td>12 December 884</td>\n",
       "      <td>• Son of Louis the Stammerer</td>\n",
       "      <td>King of the Franks</td>\n",
       "      <td>[10][9][15]</td>\n",
       "    </tr>\n",
       "    <tr>\n",
       "      <th>4</th>\n",
       "      <td>NaN</td>\n",
       "      <td>Charles (III) \"the Fat\"[e]</td>\n",
       "      <td>12 December 884[v]</td>\n",
       "      <td>13 January 888</td>\n",
       "      <td>• Son of Louis II the German • Cousin once rem...</td>\n",
       "      <td>King of East Francia(871–88)Emperor of the Rom...</td>\n",
       "      <td>[16][17]</td>\n",
       "    </tr>\n",
       "    <tr>\n",
       "      <th>5</th>\n",
       "      <td>NaN</td>\n",
       "      <td>Eudes(Robertians)</td>\n",
       "      <td>13 January 888[vi]</td>\n",
       "      <td>1 January 898</td>\n",
       "      <td>• Son of Robert the Strong • Rivaled by Charle...</td>\n",
       "      <td>King of the Franks</td>\n",
       "      <td>[18][13]</td>\n",
       "    </tr>\n",
       "    <tr>\n",
       "      <th>6</th>\n",
       "      <td>NaN</td>\n",
       "      <td>Charles III\"the Simple\"</td>\n",
       "      <td>1 January 898[vii]</td>\n",
       "      <td>29 June 922</td>\n",
       "      <td>• Posthumous son of Louis II • Deposed</td>\n",
       "      <td>King of the Franks</td>\n",
       "      <td>[10][9]</td>\n",
       "    </tr>\n",
       "    <tr>\n",
       "      <th>7</th>\n",
       "      <td>NaN</td>\n",
       "      <td>Robert I(Robertians)</td>\n",
       "      <td>29 June 922[viii]</td>\n",
       "      <td>15 June 923</td>\n",
       "      <td>• Son of Robert the Strong and younger brother...</td>\n",
       "      <td>King of the Franks</td>\n",
       "      <td>[19][13]</td>\n",
       "    </tr>\n",
       "    <tr>\n",
       "      <th>8</th>\n",
       "      <td>NaN</td>\n",
       "      <td>Rudolph(Bosonids)</td>\n",
       "      <td>15 June 923[ix]</td>\n",
       "      <td>14 January 936</td>\n",
       "      <td>• Son of Richard, Duke of Burgundy • Son-in-la...</td>\n",
       "      <td>King of the Franks</td>\n",
       "      <td>[10][9]</td>\n",
       "    </tr>\n",
       "    <tr>\n",
       "      <th>9</th>\n",
       "      <td>NaN</td>\n",
       "      <td>Louis IV\"d'Outremer\"</td>\n",
       "      <td>19 June 936[x]</td>\n",
       "      <td>10 September 954</td>\n",
       "      <td>• Son of Charles III the Simple</td>\n",
       "      <td>King of the Franks</td>\n",
       "      <td>[10][9]</td>\n",
       "    </tr>\n",
       "    <tr>\n",
       "      <th>10</th>\n",
       "      <td>NaN</td>\n",
       "      <td>Lothair[f]</td>\n",
       "      <td>10 September 954[xi]</td>\n",
       "      <td>2 March 986</td>\n",
       "      <td>• Son of Louis IV</td>\n",
       "      <td>King of the Franks</td>\n",
       "      <td>[10][20]</td>\n",
       "    </tr>\n",
       "    <tr>\n",
       "      <th>11</th>\n",
       "      <td>NaN</td>\n",
       "      <td>Louis V\"the Do-Nothing\"</td>\n",
       "      <td>2 March 986[xii]</td>\n",
       "      <td>22 May 987</td>\n",
       "      <td>• Son of Lothair</td>\n",
       "      <td>King of the Franks</td>\n",
       "      <td>[21][22]</td>\n",
       "    </tr>\n",
       "  </tbody>\n",
       "</table>\n",
       "</div>"
      ],
      "text/plain": [
       "    Portrait                         Name                   Start  \\\n",
       "0        NaN     Charles II \"the Bald\"[b]  c. 10 August 843[c][i]   \n",
       "1        NaN  Louis II \"the Stammerer\"[d]       6 October 877[ii]   \n",
       "2        NaN                    Louis III       10 April 879[iii]   \n",
       "3        NaN                  Carloman II        10 April 879[iv]   \n",
       "4        NaN   Charles (III) \"the Fat\"[e]      12 December 884[v]   \n",
       "5        NaN            Eudes(Robertians)      13 January 888[vi]   \n",
       "6        NaN      Charles III\"the Simple\"      1 January 898[vii]   \n",
       "7        NaN         Robert I(Robertians)       29 June 922[viii]   \n",
       "8        NaN            Rudolph(Bosonids)         15 June 923[ix]   \n",
       "9        NaN         Louis IV\"d'Outremer\"          19 June 936[x]   \n",
       "10       NaN                   Lothair[f]    10 September 954[xi]   \n",
       "11       NaN      Louis V\"the Do-Nothing\"        2 March 986[xii]   \n",
       "\n",
       "                 End                                 Succession / Notes  \\\n",
       "0      6 October 877  • Son of Louis I and grandson of Charlemagne (...   \n",
       "1       10 April 879                          • Son of Charles the Bald   \n",
       "2       5 August 882                       • Son of Louis the Stammerer   \n",
       "3    12 December 884                       • Son of Louis the Stammerer   \n",
       "4     13 January 888  • Son of Louis II the German • Cousin once rem...   \n",
       "5      1 January 898  • Son of Robert the Strong • Rivaled by Charle...   \n",
       "6        29 June 922             • Posthumous son of Louis II • Deposed   \n",
       "7        15 June 923  • Son of Robert the Strong and younger brother...   \n",
       "8     14 January 936  • Son of Richard, Duke of Burgundy • Son-in-la...   \n",
       "9   10 September 954                    • Son of Charles III the Simple   \n",
       "10       2 March 986                                  • Son of Louis IV   \n",
       "11        22 May 987                                   • Son of Lothair   \n",
       "\n",
       "                                                Title             Ref.  \n",
       "0   King of the Franks(840–77)Emperor of the Roman...  [9][10][11][12]  \n",
       "1                                  King of the Franks      [10][9][13]  \n",
       "2                                  King of the Franks     [10][14][15]  \n",
       "3                                  King of the Franks      [10][9][15]  \n",
       "4   King of East Francia(871–88)Emperor of the Rom...         [16][17]  \n",
       "5                                  King of the Franks         [18][13]  \n",
       "6                                  King of the Franks          [10][9]  \n",
       "7                                  King of the Franks         [19][13]  \n",
       "8                                  King of the Franks          [10][9]  \n",
       "9                                  King of the Franks          [10][9]  \n",
       "10                                 King of the Franks         [10][20]  \n",
       "11                                 King of the Franks         [21][22]  "
      ]
     },
     "execution_count": 254,
     "metadata": {},
     "output_type": "execute_result"
    }
   ],
   "source": [
    "df3 = pd.read_html(url)[0]\n",
    "df3"
   ]
  },
  {
   "cell_type": "code",
   "execution_count": null,
   "metadata": {},
   "outputs": [],
   "source": []
  }
 ],
 "metadata": {
  "kernelspec": {
   "display_name": "Python 3",
   "language": "python",
   "name": "python3"
  },
  "language_info": {
   "codemirror_mode": {
    "name": "ipython",
    "version": 3
   },
   "file_extension": ".py",
   "mimetype": "text/x-python",
   "name": "python",
   "nbconvert_exporter": "python",
   "pygments_lexer": "ipython3",
   "version": "3.8.5"
  }
 },
 "nbformat": 4,
 "nbformat_minor": 4
}
