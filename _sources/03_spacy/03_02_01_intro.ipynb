{
 "cells": [
  {
   "cell_type": "markdown",
   "id": "613bae22-5138-407f-85c3-89e00a8d7ab3",
   "metadata": {},
   "source": [
    "# <center>Rules-Based spaCy</center>"
   ]
  },
  {
   "cell_type": "markdown",
   "id": "90f12495-b538-4adc-9750-3538e0ac7912",
   "metadata": {},
   "source": [
    "In this chapter, we will build upon our previous knowledge of spaCy by exploring some of its rules-based pipes, specifically the EntityRuler, Matcher, PhraseMatcher, and custom RegEx-based pipes. By the end of this chapter, you will understand how to apply each of these standard spaCy pipes to specific problems."
   ]
  },
  {
   "cell_type": "code",
   "execution_count": null,
   "id": "4267c7ef-d8b0-4c4c-9fd9-4cf6bc1b219e",
   "metadata": {},
   "outputs": [],
   "source": []
  }
 ],
 "metadata": {
  "kernelspec": {
   "display_name": "Python 3 (ipykernel)",
   "language": "python",
   "name": "python3"
  },
  "language_info": {
   "codemirror_mode": {
    "name": "ipython",
    "version": 3
   },
   "file_extension": ".py",
   "mimetype": "text/x-python",
   "name": "python",
   "nbconvert_exporter": "python",
   "pygments_lexer": "ipython3",
   "version": "3.9.12"
  }
 },
 "nbformat": 4,
 "nbformat_minor": 5
}
