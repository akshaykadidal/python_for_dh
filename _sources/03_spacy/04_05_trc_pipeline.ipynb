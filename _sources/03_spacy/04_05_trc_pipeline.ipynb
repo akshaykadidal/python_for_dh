{
 "cells": [
  {
   "cell_type": "code",
   "execution_count": null,
   "id": "4fb6dc02-0f32-4903-9fd6-22c92a1009cb",
   "metadata": {},
   "outputs": [],
   "source": []
  }
 ],
 "metadata": {
  "kernelspec": {
   "display_name": "Python 3 (ipykernel)",
   "language": "python",
   "name": "python3"
  },
  "language_info": {
   "codemirror_mode": {
    "name": "ipython",
    "version": 3
   },
   "file_extension": ".py",
   "mimetype": "text/x-python",
   "name": "python",
   "nbconvert_exporter": "python",
   "pygments_lexer": "ipython3",
   "version": "3.9.7"
  }
 },
 "nbformat": 4,
 "nbformat_minor": 5
}
