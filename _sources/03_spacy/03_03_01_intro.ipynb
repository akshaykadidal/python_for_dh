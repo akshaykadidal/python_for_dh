{
 "cells": [
  {
   "cell_type": "markdown",
   "id": "613bae22-5138-407f-85c3-89e00a8d7ab3",
   "metadata": {},
   "source": [
    "# Solving a Domain-Specific Problem: A Case Study with Holocaust NER"
   ]
  },
  {
   "cell_type": "markdown",
   "id": "2d325272-a557-43a4-a798-5e5f98fd4c12",
   "metadata": {},
   "source": [
    "Now that we have a basic understanding of the spaCy library, we can begin applying that knowledge towards a domain-specific problem. In our case, we will explore creating a rules-based NLP pipeline for performing named entity recognition (NER) on Holocaust-related documents."
   ]
  }
 ],
 "metadata": {
  "kernelspec": {
   "display_name": "Python 3 (ipykernel)",
   "language": "python",
   "name": "python3"
  },
  "language_info": {
   "codemirror_mode": {
    "name": "ipython",
    "version": 3
   },
   "file_extension": ".py",
   "mimetype": "text/x-python",
   "name": "python",
   "nbconvert_exporter": "python",
   "pygments_lexer": "ipython3",
   "version": "3.9.12"
  }
 },
 "nbformat": 4,
 "nbformat_minor": 5
}
