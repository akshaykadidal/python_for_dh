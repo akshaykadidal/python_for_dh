{
 "cells": [
  {
   "cell_type": "markdown",
   "id": "613bae22-5138-407f-85c3-89e00a8d7ab3",
   "metadata": {},
   "source": [
    "# <center>Introduction to spaCy</center>"
   ]
  },
  {
   "cell_type": "markdown",
   "id": "6a10fb05-aa85-4f5b-9c6a-c1dca3abb298",
   "metadata": {},
   "source": [
    "In this chapter, we will begin exploring natural language processing, or NLP, and the Python library spaCy. SpaCy is a framework for performing NLP via Python. Throughout this chapter, you will learn the basics of spaCy, from the key terminology and concepts, to processing texts via spaCy."
   ]
  },
  {
   "cell_type": "code",
   "execution_count": null,
   "id": "b367c0fc-d81a-4a7f-b5dc-f5a834db7309",
   "metadata": {},
   "outputs": [],
   "source": []
  }
 ],
 "metadata": {
  "kernelspec": {
   "display_name": "Python 3 (ipykernel)",
   "language": "python",
   "name": "python3"
  },
  "language_info": {
   "codemirror_mode": {
    "name": "ipython",
    "version": 3
   },
   "file_extension": ".py",
   "mimetype": "text/x-python",
   "name": "python",
   "nbconvert_exporter": "python",
   "pygments_lexer": "ipython3",
   "version": "3.9.12"
  }
 },
 "nbformat": 4,
 "nbformat_minor": 5
}
