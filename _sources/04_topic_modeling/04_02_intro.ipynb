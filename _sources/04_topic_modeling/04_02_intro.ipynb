{
 "cells": [
  {
   "cell_type": "markdown",
   "id": "613bae22-5138-407f-85c3-89e00a8d7ab3",
   "metadata": {},
   "source": [
    "# <center>Introduction to Python</center>"
   ]
  },
  {
   "cell_type": "markdown",
   "id": "2d325272-a557-43a4-a798-5e5f98fd4c12",
   "metadata": {},
   "source": [
    "<center>Dr. W.J.B. Mattingly</center>\n",
    "\n",
    "<center>Smithsonian Data Science Lab and United States Holocaust Memorial Museum</center>\n",
    "\n",
    "<center>January 2022</center>"
   ]
  },
  {
   "cell_type": "markdown",
   "id": "7ecd2f19-4f4a-45ec-b08e-4bcf16a6c4ca",
   "metadata": {},
   "source": [
    "## Covered in this Chapter"
   ]
  },
  {
   "cell_type": "markdown",
   "id": "8c19d23d-78e5-4f33-ae00-78b250835f97",
   "metadata": {},
   "source": [
    "1) Why should humanists learn to code?<br>\n",
    "2) Why use Python specifically?<br>\n",
    "3) What is covered in this textbook?<br>\n",
    "4) How to Use Python from this Textbook<br>\n",
    "5) How to Use Python on JupyterOrg<br>\n",
    "6) How to Install Python with Anaconda Navigator and Jupyter-Lab<br>"
   ]
  },
  {
   "cell_type": "markdown",
   "id": "84eca499-b3fc-4252-9770-cb9618b59cd1",
   "metadata": {},
   "source": [
    "## About the Author"
   ]
  },
  {
   "cell_type": "markdown",
   "id": "031bbffe-50ed-41e3-a451-4fa0a30e6bd3",
   "metadata": {},
   "source": [
    "I am Dr. William Mattingly. I hold a PhD in Medieval History from the University of Kentucky where I explored early medieval social networks. A lot of my research was aided by my ability to code, specifically in Python, for data cleaning and analysis. Currently, I am a Postdoctoral Fellow for the Analysis of Historical Documents at the Smithsonian Institution's Data Science Lab with a joint appointment at the United States Holocaust Memorial Museum. In both institutions, I use Python, machine learning, and natural language processing (NLP) to analyze historical texts in large quantities to generate new insights about the documents held in the archives. In all, I have nearly a decade of experience using Python as a historian.\n",
    "\n",
    "When I first started to explore Python, there were not many available tutorials geared towards humanists and, for that reason, four years ago I started PythonHumanities.com and Python Tutorials for Digital Humanities on YouTube. I structured these resources to humanists who had no prior knowledge about computing or coding. This new JupyterBook is the third iteration of this textbook that brings a lot of the material that first appeared on PythonHumanities.com years ago into a new, more accessible JupyterBook. It will forever remain free to all as will the video lectures embedded in each chapter."
   ]
  },
  {
   "cell_type": "markdown",
   "id": "5e4b3990-4341-402e-b3cc-6ec46485d5d6",
   "metadata": {},
   "source": [
    "## About this Textbook"
   ]
  },
  {
   "cell_type": "markdown",
   "id": "f22bb769-a9ed-43e9-a7d7-5981c064bdc1",
   "metadata": {},
   "source": [
    "If you are reading this textbook, then you are probably a humanist interested in coding. If you are here, then it is likely true that you have already been presented with or heard about the benefits of learning to program. Nevertheless, I will begin this textbook with the presumption that you need convincing. It is my hope that by the end of this chapter, you will not only have a clear understanding of the utility of coding, but its direct applications to humanities-based inquiry. You will also learn about Python specifically and where it sits within the realm of coding languages. This chapter will not argue that Python is the best programming language, rather it will present the strengths and weaknesses of it compared to others available. I will conclude this chapter with a brief outline of this textbook, so that you will have a clear picture of where we are going and, most importantly, why.\n",
    "\n",
    "If you have no coding experience, please do not worry. I presume no knowledge on the part of the reader about computers or programming. This textbook is meant to serve both as a primary and a refresher. As you progress through this textbook, you will notice video links. These videos are meant to serve as video-based lectures that cover the material in greater detail. While text is a well-suited medium for educating others, with programming it is sometimes important to watch live coding. More importantly, a person learning to code should engage with the language itself.\n",
    "\n",
    "This particular textbook is coded in JupyterBook. A good way to think about JupyterBook is as a regular electronic textbook that allows me, the author, to execute code so that you, the reader, can see the results. It also allows you, the reader, to download the book and execute the commands locally. I will be explaining all of this as we progress through the textbook.\n",
    "\n",
    "At the end of many chapters, there will be a quiz. These are designed to help you reinforce the key concepts that you have learned.\n",
    "\n",
    "Because this textbook is not peer-reviewed, typos may remain or errors may exist. I openly and freely admit to this. This textbook is community-inspired and I would like it to be community-supported. If you see a mistake, you can click thee GitHub logo inn the top right corner of the screen to submit a pull request or make a note for edits. I highly encourage this and I am open to and welcome any criticism to improve this textbook for all."
   ]
  }
 ],
 "metadata": {
  "kernelspec": {
   "display_name": "Python 3 (ipykernel)",
   "language": "python",
   "name": "python3"
  },
  "language_info": {
   "codemirror_mode": {
    "name": "ipython",
    "version": 3
   },
   "file_extension": ".py",
   "mimetype": "text/x-python",
   "name": "python",
   "nbconvert_exporter": "python",
   "pygments_lexer": "ipython3",
   "version": "3.8.5"
  }
 },
 "nbformat": 4,
 "nbformat_minor": 5
}
