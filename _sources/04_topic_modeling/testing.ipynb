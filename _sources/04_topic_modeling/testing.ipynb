{
 "cells": [
  {
   "cell_type": "code",
   "execution_count": 1,
   "id": "1f9eb156-bb9b-409f-8f0e-df3feb2160c9",
   "metadata": {},
   "outputs": [],
   "source": [
    "import pandas as pd"
   ]
  },
  {
   "cell_type": "code",
   "execution_count": 2,
   "id": "61954d9c-17a8-44d7-88a7-6d11bd06af28",
   "metadata": {},
   "outputs": [
    {
     "data": {
      "text/html": [
       "<div>\n",
       "<style scoped>\n",
       "    .dataframe tbody tr th:only-of-type {\n",
       "        vertical-align: middle;\n",
       "    }\n",
       "\n",
       "    .dataframe tbody tr th {\n",
       "        vertical-align: top;\n",
       "    }\n",
       "\n",
       "    .dataframe thead th {\n",
       "        text-align: right;\n",
       "    }\n",
       "</style>\n",
       "<table border=\"1\" class=\"dataframe\">\n",
       "  <thead>\n",
       "    <tr style=\"text-align: right;\">\n",
       "      <th></th>\n",
       "      <th>ObjectId</th>\n",
       "      <th>Last</th>\n",
       "      <th>First</th>\n",
       "      <th>Description</th>\n",
       "      <th>Place</th>\n",
       "      <th>Yr</th>\n",
       "      <th>Homeland</th>\n",
       "      <th>Province</th>\n",
       "      <th>Long</th>\n",
       "      <th>Lat</th>\n",
       "      <th>HRV</th>\n",
       "      <th>ORG</th>\n",
       "    </tr>\n",
       "  </thead>\n",
       "  <tbody>\n",
       "    <tr>\n",
       "      <th>0</th>\n",
       "      <td>1</td>\n",
       "      <td>AARON</td>\n",
       "      <td>Thabo Simon</td>\n",
       "      <td>An ANCYL member who was shot and severely inju...</td>\n",
       "      <td>Bethulie</td>\n",
       "      <td>1991.0</td>\n",
       "      <td>NaN</td>\n",
       "      <td>Orange Free State</td>\n",
       "      <td>25.97552</td>\n",
       "      <td>-30.50329</td>\n",
       "      <td>shoot|injure</td>\n",
       "      <td>ANC|ANCYL|Police|SAP</td>\n",
       "    </tr>\n",
       "  </tbody>\n",
       "</table>\n",
       "</div>"
      ],
      "text/plain": [
       "   ObjectId   Last        First  \\\n",
       "0         1  AARON  Thabo Simon   \n",
       "\n",
       "                                         Description     Place      Yr  \\\n",
       "0  An ANCYL member who was shot and severely inju...  Bethulie  1991.0   \n",
       "\n",
       "  Homeland           Province      Long       Lat           HRV  \\\n",
       "0      NaN  Orange Free State  25.97552 -30.50329  shoot|injure   \n",
       "\n",
       "                    ORG  \n",
       "0  ANC|ANCYL|Police|SAP  "
      ]
     },
     "execution_count": 2,
     "metadata": {},
     "output_type": "execute_result"
    }
   ],
   "source": [
    "df = pd.read_csv(\"../data/trc.csv\")\n",
    "df.head(1)"
   ]
  },
  {
   "cell_type": "code",
   "execution_count": 3,
   "id": "d62bf57e-00bb-4da5-9ed2-2abaf119dc9b",
   "metadata": {},
   "outputs": [],
   "source": [
    "new_df = df[:1000]"
   ]
  },
  {
   "cell_type": "code",
   "execution_count": 4,
   "id": "4a25c299-3160-43a2-8ba3-7d83ee592b76",
   "metadata": {},
   "outputs": [
    {
     "name": "stderr",
     "output_type": "stream",
     "text": [
      "/home/wjbmattingly/anaconda3/envs/python-textbook/lib/python3.9/site-packages/tqdm/auto.py:22: TqdmWarning: IProgress not found. Please update jupyter and ipywidgets. See https://ipywidgets.readthedocs.io/en/stable/user_install.html\n",
      "  from .autonotebook import tqdm as notebook_tqdm\n"
     ]
    }
   ],
   "source": [
    "from top2vec import Top2Vec"
   ]
  },
  {
   "cell_type": "code",
   "execution_count": 5,
   "id": "25ee62de-4c18-437e-afd9-2a1bd405c87c",
   "metadata": {},
   "outputs": [
    {
     "name": "stderr",
     "output_type": "stream",
     "text": [
      "2022-11-13 13:47:11,000 - top2vec - INFO - Pre-processing documents for training\n",
      "2022-11-13 13:47:11,071 - top2vec - INFO - Creating joint document/word embedding\n",
      "2022-11-13 13:47:12,622 - top2vec - INFO - Creating lower dimension embedding of documents\n",
      "2022-11-13 13:47:20,454 - top2vec - INFO - Finding dense areas of documents\n",
      "2022-11-13 13:47:20,478 - top2vec - INFO - Finding topics\n"
     ]
    },
    {
     "name": "stdout",
     "output_type": "stream",
     "text": [
      "HDBSCAN(min_cluster_size=15)\n",
      "Before: [ 1  1 -1  1 -1  0  1  0 -1 -1  1 -1  1  1  0  0  1 -1  1  0 -1  1 -1  1\n",
      " -1  0  1 -1 -1 -1  1  1 -1  1  0  1  0  0  1 -1  1  1  1  1  1  1 -1  1\n",
      "  1 -1  1 -1  1  1  1 -1  1 -1  1 -1  1  1 -1 -1  0  0  1  0  1  1  1  1\n",
      " -1 -1  0  1 -1 -1  1  1 -1  1 -1 -1  1 -1  0  1  1 -1 -1  1  1  1  1  1\n",
      "  1  1 -1 -1  1  1  0 -1  1  1 -1  0 -1  1  0  1  1 -1  0 -1 -1  0 -1 -1\n",
      "  0 -1 -1  0  1  0 -1  1  0  1  1  0 -1 -1  1 -1  1  0 -1  1 -1  1 -1 -1\n",
      "  1  1  1 -1 -1  0 -1  0  1 -1 -1  0  1  1  1  1 -1 -1  1  1  1  0  1  0\n",
      "  1  1  1 -1  1  0 -1 -1  0  0  0 -1 -1  1  1 -1  1 -1  1  0  1  1  0 -1\n",
      " -1  1 -1  1  1  1  1 -1  1  1  1 -1 -1  1  1  1  1  1  1  1  1  1  1  1\n",
      " -1  1  1  1  1  1  1  0  1  1  1 -1  1 -1 -1  0 -1 -1  0 -1  1  1  1 -1\n",
      "  0 -1  1  1 -1 -1  1 -1  1  1 -1  1 -1  1 -1  1  1 -1  0 -1  1  1  1  0\n",
      " -1 -1  1  1  1  1 -1  1  1 -1  1  1  0 -1  1  0  1 -1  1  1 -1 -1  0  1\n",
      "  1 -1 -1  1  1  1 -1  1  1 -1  1  1  0  1  1  1  1 -1  1  1  0  1 -1 -1\n",
      "  1 -1 -1 -1  1 -1  1  1 -1  1  1 -1 -1  0  1  1 -1  1  1  1  1  0  1  1\n",
      "  1  0  0  1  1  1  1  1  1  1  1 -1  1 -1  1  1 -1 -1  1 -1  1  1 -1 -1\n",
      "  1  0  1 -1  1  1  1  1  1  1  1 -1 -1  0  0  1  1  1 -1  1  0  0 -1 -1\n",
      "  1  0 -1 -1  1  1  0 -1  1 -1  1  1  0 -1  1 -1 -1  1  1  1 -1 -1 -1 -1\n",
      "  1  1  1 -1 -1  1 -1  0  0  1 -1  0  0 -1  1 -1 -1 -1  1 -1 -1 -1  1  0\n",
      "  0 -1  1 -1 -1 -1  1  0  0  1 -1  1  0  1 -1  1  1  1  1 -1  0  1 -1  1\n",
      "  1  1  0  0  1  0  1  1 -1 -1  1  1  0 -1  0 -1  0  1  1 -1  1 -1  1  1\n",
      "  1  1 -1  1 -1  1  1 -1 -1  1  1  1  1  1  1  0  1  1 -1 -1 -1  1 -1 -1\n",
      "  1 -1 -1  1  0 -1  1  0 -1 -1  0 -1  1  1 -1  0  0  1  0  1  0 -1  1  0\n",
      "  1  0  1  1 -1  0 -1  1  1  1  1 -1  1 -1  1  1 -1  1 -1  1 -1  1  1  1\n",
      "  1  1  1  1  0  1  1  1  1  0  0 -1 -1  1  1 -1  1  1  1 -1 -1 -1  1  1\n",
      " -1  0  1  1 -1 -1  0  0  1  0  0 -1 -1 -1 -1  0 -1 -1 -1 -1  0  0  1  1\n",
      " -1  0 -1  1 -1  1  0 -1  1 -1 -1 -1  1 -1 -1  1  1 -1 -1 -1  0  1  0 -1\n",
      " -1  0  1  1 -1  0  1 -1  1  1 -1 -1  1 -1  0  0  1  1  1 -1  1  1  1 -1\n",
      "  1 -1  1  1  0 -1  1  0  1 -1 -1 -1  1  0  1  0  1  1  1 -1  1  1  0  1\n",
      " -1 -1  0  1 -1  0 -1  1  1  1  1  1  1 -1 -1  1  0 -1 -1  0 -1  1  1  1\n",
      "  1  0 -1  0  1  1  1  1  1  0  1 -1 -1  1 -1  1 -1  1 -1  1  1  1 -1 -1\n",
      "  1 -1  0 -1 -1 -1  0 -1  1 -1 -1 -1  0  0  0  1 -1 -1  1  1 -1 -1  0  1\n",
      " -1 -1 -1 -1 -1  1 -1  1  1 -1 -1  1  1 -1  1 -1  1  0  1  0  0  1  0  0\n",
      " -1  0 -1 -1 -1  1  0  0  1  0  1 -1  0  1  0  1  1  1  1  0  0  0  1  1\n",
      " -1 -1  1  1  1  1 -1  1  0 -1  0 -1  1  1 -1  0  1  1  0  1  1  1  1  1\n",
      " -1 -1 -1 -1 -1 -1  1 -1  1 -1 -1 -1  1  1  1  1 -1 -1  1 -1 -1  1 -1 -1\n",
      "  1  1  1  1  1 -1  1 -1  0  0 -1  1  0 -1 -1  1  1 -1 -1  1  0  1  1  1\n",
      "  1  1  1  0  1  1 -1  1 -1 -1  0  1  0  1  1  1  1  0  1 -1 -1  1  1  1\n",
      "  1 -1  0  0  1  0  1  0  1  1  1  1  1 -1  1  1  1  1  1  1  0  1  1 -1\n",
      " -1  1  1  0 -1  0  1 -1  1  1 -1  1 -1  1  1  1  0 -1  1  1  0  1  1  1\n",
      "  1 -1  0  0 -1  1  1 -1  1  0 -1  0 -1  1 -1  0  1 -1 -1  1  1 -1  0  1\n",
      " -1  0 -1  0  0 -1  1  1 -1  0  1  1  0  1 -1  0  1  1 -1  1  0 -1 -1  1\n",
      "  1  1 -1  1 -1 -1  0  1  1  1 -1  0  1  0  0  1]\n",
      "An ANCYL member who was shot and severely injured by SAP members at Lephoi, Bethulie, Orange Free State (OFS) on 17 April 1991. Police opened fire on a gathering at an ANC supporter's house following a dispute between two neighbours, one of whom was linked to the ANC and the other to the SAP and a councillor. 1\n",
      "0 175\n",
      "1 488\n",
      "-1 337\n",
      "After [1 1 0 1 0 0 1 0 1 1 1 1 1 1 0 0 1 1 1 0 0 1 1 1 1 0 1 1 1 1 1 1 1 1 0 1 0\n",
      " 0 1 1 1 1 1 1 1 1 1 1 1 1 1 1 1 1 1 0 1 1 1 0 1 1 1 0 0 0 1 0 1 1 1 1 1 1\n",
      " 0 1 1 1 1 1 1 1 0 1 1 1 0 1 1 1 1 1 1 1 1 1 1 1 1 1 1 0 1 1 1 1 1 0 0 1 0\n",
      " 1 1 1 0 0 0 0 0 1 0 0 0 0 1 0 1 1 0 1 1 0 0 0 1 1 1 0 1 1 1 1 1 1 1 1 1 0\n",
      " 1 0 1 0 1 1 1 0 1 1 1 1 1 0 1 1 1 0 1 0 1 1 1 1 1 0 1 1 0 0 0 1 1 1 1 1 1\n",
      " 1 1 0 1 1 0 1 1 1 1 1 1 1 1 1 1 1 1 0 1 1 1 1 1 1 0 1 1 1 1 1 1 1 1 1 1 1\n",
      " 1 0 1 1 1 1 1 1 1 0 0 1 0 1 1 1 1 1 0 1 1 1 1 1 1 1 1 1 0 1 1 1 1 1 1 1 0\n",
      " 1 1 1 1 0 1 1 1 1 1 1 1 1 1 1 1 1 0 1 1 0 1 1 1 1 0 0 0 1 1 1 1 1 1 1 1 1\n",
      " 1 0 1 1 0 1 1 1 1 0 1 1 0 1 1 1 1 1 1 1 1 1 1 1 1 1 1 1 0 0 1 1 1 1 1 1 1\n",
      " 0 1 1 1 0 0 1 1 1 1 1 1 1 1 1 1 1 1 1 1 1 1 1 1 1 0 1 1 0 1 1 1 1 1 1 1 1\n",
      " 1 1 0 0 0 1 1 1 0 1 0 0 1 0 1 0 0 1 1 1 0 1 1 1 1 1 0 0 1 0 1 1 1 1 1 1 1\n",
      " 0 1 0 1 1 1 1 0 0 0 1 1 0 0 1 1 1 0 1 1 1 1 1 1 0 0 1 1 1 1 1 1 0 0 1 1 1\n",
      " 0 1 1 1 1 1 1 1 0 1 1 1 1 1 0 0 1 0 1 0 1 1 1 1 0 1 0 1 0 1 1 1 1 1 1 1 1\n",
      " 1 1 1 1 1 1 0 1 1 1 1 1 1 1 0 1 1 1 0 1 1 1 1 1 1 1 1 0 0 1 0 1 1 0 0 1 1\n",
      " 1 0 0 1 0 1 0 1 1 0 1 0 1 1 0 0 1 1 1 1 1 1 1 1 1 1 0 1 1 1 0 1 1 1 1 1 1\n",
      " 1 0 1 1 1 1 0 0 1 1 1 1 1 1 1 1 1 1 0 1 0 1 0 1 1 1 1 0 0 1 0 0 1 1 1 1 0\n",
      " 0 1 1 1 0 0 1 1 1 0 1 1 1 1 0 1 1 0 0 1 1 0 1 1 1 1 1 1 0 1 0 1 1 0 1 1 0\n",
      " 0 1 1 1 1 1 0 1 1 0 0 1 1 1 1 1 1 1 1 1 1 1 1 0 1 0 0 1 1 1 1 1 0 1 0 1 1\n",
      " 1 1 1 1 0 1 0 1 0 1 1 0 1 1 1 1 1 1 1 1 0 1 0 1 1 0 1 1 1 1 1 0 1 0 1 1 1\n",
      " 1 1 0 1 1 1 1 1 1 1 1 0 1 1 1 1 1 1 1 0 0 1 0 0 1 1 0 1 1 0 0 0 1 1 0 1 1\n",
      " 1 1 0 1 1 0 1 1 1 1 1 1 1 0 0 1 1 1 1 0 1 0 1 0 0 1 0 0 1 0 1 1 1 1 0 0 1\n",
      " 0 1 1 0 1 0 1 1 1 1 0 0 0 1 1 1 1 1 1 1 1 0 1 0 1 0 0 1 1 1 0 1 1 0 1 1 1\n",
      " 1 1 1 1 0 0 1 1 1 1 1 1 0 0 1 1 1 1 1 0 1 1 1 1 1 1 1 1 1 1 1 1 1 1 0 0 1\n",
      " 1 0 1 1 1 1 1 1 1 0 1 1 1 1 1 1 0 1 1 1 1 0 1 0 1 0 1 1 1 1 0 1 1 1 1 1 1\n",
      " 1 1 0 0 1 0 1 0 1 1 1 1 1 1 1 1 1 1 1 1 0 1 1 1 1 1 1 0 1 0 1 1 1 1 1 1 1\n",
      " 1 1 1 0 1 1 1 0 1 1 1 1 1 0 0 1 1 1 1 1 0 0 0 0 1 0 0 1 0 1 1 1 1 0 1 1 0\n",
      " 1 0 0 0 1 1 1 0 1 1 0 1 1 0 1 1 1 1 0 1 0 1 1 1 1 1 0 1 0 1 1 1 0 0 1 0 0\n",
      " 1]\n"
     ]
    }
   ],
   "source": [
    "model = Top2Vec(new_df.Description.tolist())"
   ]
  },
  {
   "cell_type": "code",
   "execution_count": 6,
   "id": "31a3889a-710e-436c-b0f1-f509b1edb3d3",
   "metadata": {},
   "outputs": [
    {
     "data": {
      "text/plain": [
       "array([0, 1])"
      ]
     },
     "execution_count": 6,
     "metadata": {},
     "output_type": "execute_result"
    }
   ],
   "source": [
    "t, a = model.get_topic_sizes()\n",
    "a"
   ]
  },
  {
   "cell_type": "code",
   "execution_count": 7,
   "id": "487d1545-1820-4bd7-9b2f-db83b4357939",
   "metadata": {},
   "outputs": [
    {
     "data": {
      "text/plain": [
       "1000"
      ]
     },
     "execution_count": 7,
     "metadata": {},
     "output_type": "execute_result"
    }
   ],
   "source": [
    "sum(t)"
   ]
  },
  {
   "cell_type": "code",
   "execution_count": 8,
   "id": "89ce5cf6-e7d7-4064-b970-62e17244139d",
   "metadata": {},
   "outputs": [],
   "source": [
    "cluster_labels = model.doc_top"
   ]
  },
  {
   "cell_type": "code",
   "execution_count": 9,
   "id": "1b2ec050-fc8d-4684-9c21-b523f396e9c6",
   "metadata": {},
   "outputs": [],
   "source": [
    "uniques = set(cluster_labels)"
   ]
  },
  {
   "cell_type": "code",
   "execution_count": 10,
   "id": "861bf19a-b392-47aa-a118-1b94ee81101e",
   "metadata": {},
   "outputs": [
    {
     "ename": "AttributeError",
     "evalue": "'numpy.ndarray' object has no attribute 'count'",
     "output_type": "error",
     "traceback": [
      "\u001b[0;31m---------------------------------------------------------------------------\u001b[0m",
      "\u001b[0;31mAttributeError\u001b[0m                            Traceback (most recent call last)",
      "Cell \u001b[0;32mIn [10], line 2\u001b[0m\n\u001b[1;32m      1\u001b[0m \u001b[38;5;28;01mfor\u001b[39;00m l \u001b[38;5;129;01min\u001b[39;00m uniques:\n\u001b[0;32m----> 2\u001b[0m     \u001b[38;5;28mprint\u001b[39m(l, \u001b[43mcluster_labels\u001b[49m\u001b[38;5;241;43m.\u001b[39;49m\u001b[43mcount\u001b[49m(l))\n",
      "\u001b[0;31mAttributeError\u001b[0m: 'numpy.ndarray' object has no attribute 'count'"
     ]
    }
   ],
   "source": [
    "for l in uniques:\n",
    "    print(l, cluster_labels.count(l))"
   ]
  },
  {
   "cell_type": "code",
   "execution_count": null,
   "id": "ef2c94b8-2075-4022-aec7-2b4e66f2e896",
   "metadata": {},
   "outputs": [],
   "source": [
    "cluster_labels[0]"
   ]
  },
  {
   "cell_type": "code",
   "execution_count": null,
   "id": "ea509dbe-acb8-4dd9-a4b3-7cf8162aafc9",
   "metadata": {},
   "outputs": [],
   "source": [
    "cluster_labels"
   ]
  },
  {
   "cell_type": "code",
   "execution_count": null,
   "id": "0a3bd14e-e52d-42e1-ace6-4bf845735956",
   "metadata": {},
   "outputs": [],
   "source": []
  }
 ],
 "metadata": {
  "kernelspec": {
   "display_name": "Python 3 (ipykernel)",
   "language": "python",
   "name": "python3"
  },
  "language_info": {
   "codemirror_mode": {
    "name": "ipython",
    "version": 3
   },
   "file_extension": ".py",
   "mimetype": "text/x-python",
   "name": "python",
   "nbconvert_exporter": "python",
   "pygments_lexer": "ipython3",
   "version": "3.9.12"
  }
 },
 "nbformat": 4,
 "nbformat_minor": 5
}
