{
 "cells": [
  {
   "cell_type": "markdown",
   "id": "613bae22-5138-407f-85c3-89e00a8d7ab3",
   "metadata": {},
   "source": [
    "# <center>What is LDA Topic Modeling?</center>"
   ]
  },
  {
   "cell_type": "markdown",
   "id": "e9c16519-2e6d-47b9-a485-6ad0a30af9e0",
   "metadata": {},
   "source": [
    "Latent Dirichlet Allocation (LDA) topic modeling originated in population genomics in 2000 as a way to understand larger patterns in genomics data. In 2003, it was applied to machine learning, specifically texts to solve the problem of topic discovery. It leverages statistics to identify topics across a distributed set of data."
   ]
  },
  {
   "cell_type": "code",
   "execution_count": null,
   "id": "8f5badc7-a917-4214-b8b5-6da4392bd981",
   "metadata": {},
   "outputs": [],
   "source": []
  }
 ],
 "metadata": {
  "kernelspec": {
   "display_name": "Python 3 (ipykernel)",
   "language": "python",
   "name": "python3"
  },
  "language_info": {
   "codemirror_mode": {
    "name": "ipython",
    "version": 3
   },
   "file_extension": ".py",
   "mimetype": "text/x-python",
   "name": "python",
   "nbconvert_exporter": "python",
   "pygments_lexer": "ipython3",
   "version": "3.9.7"
  }
 },
 "nbformat": 4,
 "nbformat_minor": 5
}
