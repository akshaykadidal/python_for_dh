{
 "cells": [
  {
   "cell_type": "markdown",
   "id": "511e4ca2-87f0-4c57-a000-45129630b7f7",
   "metadata": {},
   "source": [
    "# Topic Modeling: Concepts and Theory"
   ]
  },
  {
   "cell_type": "code",
   "execution_count": null,
   "id": "28ca8046-83c0-4b03-907e-c9e847572414",
   "metadata": {},
   "outputs": [],
   "source": []
  }
 ],
 "metadata": {
  "kernelspec": {
   "display_name": "Python 3 (ipykernel)",
   "language": "python",
   "name": "python3"
  },
  "language_info": {
   "codemirror_mode": {
    "name": "ipython",
    "version": 3
   },
   "file_extension": ".py",
   "mimetype": "text/x-python",
   "name": "python",
   "nbconvert_exporter": "python",
   "pygments_lexer": "ipython3",
   "version": "3.9.7"
  }
 },
 "nbformat": 4,
 "nbformat_minor": 5
}
