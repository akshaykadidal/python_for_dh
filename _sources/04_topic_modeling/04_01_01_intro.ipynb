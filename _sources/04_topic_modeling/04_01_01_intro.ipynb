{
 "cells": [
  {
   "cell_type": "markdown",
   "id": "511e4ca2-87f0-4c57-a000-45129630b7f7",
   "metadata": {},
   "source": [
    "# Topic Modeling: Concepts and Theory"
   ]
  },
  {
   "cell_type": "markdown",
   "id": "33ebf55d-e3ff-4eef-89b0-3b04775b9f26",
   "metadata": {},
   "source": [
    "The purposes of this part of the textbook is fivefold.\n",
    "\n",
    "1) Introduce the reader to the core concepts of topic modeling and text classification<br>\n",
    "2) Provide an introduction to three libraries used for traditional topic modeling (Scikit Learn, Gensim, and spaCy) for those with limited Python knowledge<br>\n",
    "3) Detail the problems and solutions to working with various topic modeling problems<br>\n",
    "4) Provide an overview of transformer-based topic modeling<br>\n",
    "5) Provide code that will be easily reproducible for readers who wish to apply these methods to their own domains.<br>\n",
    "\n",
    "Throughout this part of the textbook, we will work with one dataset, a collection of short descriptions of violence in Apartheid South Africa, which comes from Volume 7 of the Truth and Reconciliation Commission's final report (hereafter, TRC Vol. 7). I have chosen this dataset because I have experience with it and I know that the data is perfectly suited to topic modeling as hidden topics are found within it."
   ]
  },
  {
   "cell_type": "code",
   "execution_count": null,
   "id": "28ca8046-83c0-4b03-907e-c9e847572414",
   "metadata": {},
   "outputs": [],
   "source": []
  }
 ],
 "metadata": {
  "kernelspec": {
   "display_name": "Python 3 (ipykernel)",
   "language": "python",
   "name": "python3"
  },
  "language_info": {
   "codemirror_mode": {
    "name": "ipython",
    "version": 3
   },
   "file_extension": ".py",
   "mimetype": "text/x-python",
   "name": "python",
   "nbconvert_exporter": "python",
   "pygments_lexer": "ipython3",
   "version": "3.9.7"
  }
 },
 "nbformat": 4,
 "nbformat_minor": 5
}
