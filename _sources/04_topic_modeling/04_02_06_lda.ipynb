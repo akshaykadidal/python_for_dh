{
 "cells": [
  {
   "cell_type": "markdown",
   "metadata": {},
   "source": [
    "# Implementing LDA in Python"
   ]
  },
  {
   "cell_type": "markdown",
   "metadata": {},
   "source": [
    "## Introduction"
   ]
  },
  {
   "cell_type": "markdown",
   "metadata": {},
   "source": [
    " "
   ]
  },
  {
   "cell_type": "markdown",
   "metadata": {},
   "source": [
    "## Importing the Required Libraries"
   ]
  },
  {
   "cell_type": "code",
   "execution_count": 1,
   "metadata": {},
   "outputs": [],
   "source": [
    "import pandas as pd\n",
    "from nltk.corpus import stopwords\n",
    "import string\n",
    "import gensim.corpora as corpora\n",
    "from gensim.models import LdaMulticore"
   ]
  },
  {
   "cell_type": "code",
   "execution_count": 2,
   "metadata": {},
   "outputs": [
    {
     "data": {
      "text/html": [
       "<div>\n",
       "<style scoped>\n",
       "    .dataframe tbody tr th:only-of-type {\n",
       "        vertical-align: middle;\n",
       "    }\n",
       "\n",
       "    .dataframe tbody tr th {\n",
       "        vertical-align: top;\n",
       "    }\n",
       "\n",
       "    .dataframe thead th {\n",
       "        text-align: right;\n",
       "    }\n",
       "</style>\n",
       "<table border=\"1\" class=\"dataframe\">\n",
       "  <thead>\n",
       "    <tr style=\"text-align: right;\">\n",
       "      <th></th>\n",
       "      <th>Last</th>\n",
       "      <th>First</th>\n",
       "      <th>Description</th>\n",
       "    </tr>\n",
       "  </thead>\n",
       "  <tbody>\n",
       "    <tr>\n",
       "      <th>0</th>\n",
       "      <td>AARON</td>\n",
       "      <td>Thabo Simon</td>\n",
       "      <td>An ANCYL member who was shot and severely inju...</td>\n",
       "    </tr>\n",
       "    <tr>\n",
       "      <th>1</th>\n",
       "      <td>ABBOTT</td>\n",
       "      <td>Montaigne</td>\n",
       "      <td>A member of the SADF who was severely injured ...</td>\n",
       "    </tr>\n",
       "    <tr>\n",
       "      <th>2</th>\n",
       "      <td>ABRAHAM</td>\n",
       "      <td>Nzaliseko Christopher</td>\n",
       "      <td>A COSAS supporter who was kicked and beaten wi...</td>\n",
       "    </tr>\n",
       "    <tr>\n",
       "      <th>3</th>\n",
       "      <td>ABRAHAMS</td>\n",
       "      <td>Achmat Fardiel</td>\n",
       "      <td>Was shot and blinded in one eye by members of ...</td>\n",
       "    </tr>\n",
       "    <tr>\n",
       "      <th>4</th>\n",
       "      <td>ABRAHAMS</td>\n",
       "      <td>Annalene Mildred</td>\n",
       "      <td>Was shot and injured by members of the SAP in ...</td>\n",
       "    </tr>\n",
       "    <tr>\n",
       "      <th>...</th>\n",
       "      <td>...</td>\n",
       "      <td>...</td>\n",
       "      <td>...</td>\n",
       "    </tr>\n",
       "    <tr>\n",
       "      <th>20829</th>\n",
       "      <td>XUZA</td>\n",
       "      <td>Mandla</td>\n",
       "      <td>Was severely injured when he was stoned by a f...</td>\n",
       "    </tr>\n",
       "    <tr>\n",
       "      <th>20830</th>\n",
       "      <td>YAKA</td>\n",
       "      <td>Mbangomuni</td>\n",
       "      <td>An IFP supporter and acting induna who was sho...</td>\n",
       "    </tr>\n",
       "    <tr>\n",
       "      <th>20831</th>\n",
       "      <td>YALI</td>\n",
       "      <td>Khayalethu</td>\n",
       "      <td>Was shot by members of the SAP in Lingelihle, ...</td>\n",
       "    </tr>\n",
       "    <tr>\n",
       "      <th>20832</th>\n",
       "      <td>YALO</td>\n",
       "      <td>Bikiwe</td>\n",
       "      <td>An IFP supporter whose house and possessions w...</td>\n",
       "    </tr>\n",
       "    <tr>\n",
       "      <th>20833</th>\n",
       "      <td>YALOLO-BOOYSEN</td>\n",
       "      <td>Geoffrey Yali</td>\n",
       "      <td>An ANC supporter and youth activist who was to...</td>\n",
       "    </tr>\n",
       "  </tbody>\n",
       "</table>\n",
       "<p>20834 rows × 3 columns</p>\n",
       "</div>"
      ],
      "text/plain": [
       "                 Last                  First  \\\n",
       "0               AARON            Thabo Simon   \n",
       "1              ABBOTT              Montaigne   \n",
       "2             ABRAHAM  Nzaliseko Christopher   \n",
       "3            ABRAHAMS         Achmat Fardiel   \n",
       "4            ABRAHAMS       Annalene Mildred   \n",
       "...               ...                    ...   \n",
       "20829            XUZA                 Mandla   \n",
       "20830            YAKA             Mbangomuni   \n",
       "20831            YALI             Khayalethu   \n",
       "20832            YALO                 Bikiwe   \n",
       "20833  YALOLO-BOOYSEN          Geoffrey Yali   \n",
       "\n",
       "                                             Description  \n",
       "0      An ANCYL member who was shot and severely inju...  \n",
       "1      A member of the SADF who was severely injured ...  \n",
       "2      A COSAS supporter who was kicked and beaten wi...  \n",
       "3      Was shot and blinded in one eye by members of ...  \n",
       "4      Was shot and injured by members of the SAP in ...  \n",
       "...                                                  ...  \n",
       "20829  Was severely injured when he was stoned by a f...  \n",
       "20830  An IFP supporter and acting induna who was sho...  \n",
       "20831  Was shot by members of the SAP in Lingelihle, ...  \n",
       "20832  An IFP supporter whose house and possessions w...  \n",
       "20833  An ANC supporter and youth activist who was to...  \n",
       "\n",
       "[20834 rows x 3 columns]"
      ]
     },
     "execution_count": 2,
     "metadata": {},
     "output_type": "execute_result"
    }
   ],
   "source": [
    "df = pd.read_csv(\"../data/trc.csv\")\n",
    "df = df[[\"Last\", \"First\", \"Description\"]]\n",
    "df"
   ]
  },
  {
   "cell_type": "code",
   "execution_count": 3,
   "metadata": {},
   "outputs": [
    {
     "data": {
      "text/plain": [
       "[\"An ANCYL member who was shot and severely injured by SAP members at Lephoi, Bethulie, Orange Free State (OFS) on 17 April 1991. Police opened fire on a gathering at an ANC supporter's house following a dispute between two neighbours, one of whom was linked to the ANC and the other to the SAP and a councillor.\"]"
      ]
     },
     "execution_count": 3,
     "metadata": {},
     "output_type": "execute_result"
    }
   ],
   "source": [
    "docs = df.Description.tolist()\n",
    "docs[:1]"
   ]
  },
  {
   "cell_type": "code",
   "execution_count": null,
   "metadata": {},
   "outputs": [],
   "source": []
  },
  {
   "cell_type": "code",
   "execution_count": 4,
   "metadata": {},
   "outputs": [
    {
     "name": "stdout",
     "output_type": "stream",
     "text": [
      "['i', 'me', 'my', 'myself', 'we', 'our', 'ours', 'ourselves', 'you', \"you're\", \"you've\", \"you'll\", \"you'd\", 'your', 'yours', 'yourself', 'yourselves', 'he', 'him', 'his', 'himself', 'she', \"she's\", 'her', 'hers', 'herself', 'it', \"it's\", 'its', 'itself', 'they', 'them', 'their', 'theirs', 'themselves', 'what', 'which', 'who', 'whom', 'this', 'that', \"that'll\", 'these', 'those', 'am', 'is', 'are', 'was', 'were', 'be', 'been', 'being', 'have', 'has', 'had', 'having', 'do', 'does', 'did', 'doing', 'a', 'an', 'the', 'and', 'but', 'if', 'or', 'because', 'as', 'until', 'while', 'of', 'at', 'by', 'for', 'with', 'about', 'against', 'between', 'into', 'through', 'during', 'before', 'after', 'above', 'below', 'to', 'from', 'up', 'down', 'in', 'out', 'on', 'off', 'over', 'under', 'again', 'further', 'then', 'once', 'here', 'there', 'when', 'where', 'why', 'how', 'all', 'any', 'both', 'each', 'few', 'more', 'most', 'other', 'some', 'such', 'no', 'nor', 'not', 'only', 'own', 'same', 'so', 'than', 'too', 'very', 's', 't', 'can', 'will', 'just', 'don', \"don't\", 'should', \"should've\", 'now', 'd', 'll', 'm', 'o', 're', 've', 'y', 'ain', 'aren', \"aren't\", 'couldn', \"couldn't\", 'didn', \"didn't\", 'doesn', \"doesn't\", 'hadn', \"hadn't\", 'hasn', \"hasn't\", 'haven', \"haven't\", 'isn', \"isn't\", 'ma', 'mightn', \"mightn't\", 'mustn', \"mustn't\", 'needn', \"needn't\", 'shan', \"shan't\", 'shouldn', \"shouldn't\", 'wasn', \"wasn't\", 'weren', \"weren't\", 'won', \"won't\", 'wouldn', \"wouldn't\"]\n"
     ]
    }
   ],
   "source": [
    "stop_words = stopwords.words('english')\n",
    "print(stop_words)"
   ]
  },
  {
   "cell_type": "code",
   "execution_count": null,
   "metadata": {},
   "outputs": [],
   "source": []
  },
  {
   "cell_type": "code",
   "execution_count": 5,
   "metadata": {},
   "outputs": [
    {
     "name": "stdout",
     "output_type": "stream",
     "text": [
      "An ANCYL member who was shot and severely injured by SAP members at Lephoi, Bethulie, Orange Free State (OFS) on 17 April 1991. Police opened fire on a gathering at an ANC supporter's house following a dispute between two neighbours, one of whom was linked to the ANC and the other to the SAP and a councillor.\n",
      "['ancyl', 'member', 'shot', 'severely', 'injured', 'sap', 'members', 'lephoi', 'bethulie', 'orange', 'free', 'state', 'ofs', '17', 'april', '1991', 'police', 'opened', 'fire', 'gathering', 'anc', 'supporters', 'house', 'following', 'dispute', 'two', 'neighbours', 'one', 'linked', 'anc', 'sap', 'councillor']\n"
     ]
    }
   ],
   "source": [
    "def clean_doc(doc):\n",
    "    no_punct = ''\n",
    "    for c in doc:\n",
    "        if c not in string.punctuation:\n",
    "            no_punct = no_punct+c\n",
    "    # with list comprehension\n",
    "    # no_punct = ''.join([c for c in doc if c not in string.punctuation])\n",
    "    \n",
    "    words = no_punct.lower().split()\n",
    "    \n",
    "    final_words = []\n",
    "    for word in words:\n",
    "        if word not in stop_words:\n",
    "            final_words.append(word)\n",
    "    \n",
    "    # with list comprehension\n",
    "    # final_words = [word for word in words if word not in stop_words]\n",
    "\n",
    "    return final_words\n",
    "cleaned = clean_doc(docs[0])\n",
    "print(docs[0])\n",
    "print(cleaned)"
   ]
  },
  {
   "cell_type": "markdown",
   "metadata": {},
   "source": []
  },
  {
   "cell_type": "code",
   "execution_count": 6,
   "metadata": {},
   "outputs": [
    {
     "name": "stdout",
     "output_type": "stream",
     "text": [
      "[['ancyl', 'member', 'shot', 'severely', 'injured', 'sap', 'members', 'lephoi', 'bethulie', 'orange', 'free', 'state', 'ofs', '17', 'april', '1991', 'police', 'opened', 'fire', 'gathering', 'anc', 'supporters', 'house', 'following', 'dispute', 'two', 'neighbours', 'one', 'linked', 'anc', 'sap', 'councillor'], ['member', 'sadf', 'severely', 'injured', 'landmine', 'explosion', 'messina', 'transvaal', '5', 'may', '1987'], ['cosas', 'supporter', 'kicked', 'beaten', 'batons', 'riflebutts', 'members', 'ciskei', 'police', 'protests', 'ciskei', 'government', 'zwelitsha', 'mdantsane', 'ciskei', 'september', '1985']]\n"
     ]
    }
   ],
   "source": [
    "cleaned_docs = [clean_doc(doc) for doc in docs]\n",
    "print(cleaned_docs[:3])"
   ]
  },
  {
   "cell_type": "code",
   "execution_count": null,
   "metadata": {},
   "outputs": [],
   "source": []
  },
  {
   "cell_type": "markdown",
   "metadata": {},
   "source": [
    "## Create ID-Word Index"
   ]
  },
  {
   "cell_type": "code",
   "execution_count": 7,
   "metadata": {},
   "outputs": [],
   "source": [
    "id2word = corpora.Dictionary(cleaned_docs)"
   ]
  },
  {
   "cell_type": "code",
   "execution_count": 8,
   "metadata": {},
   "outputs": [
    {
     "data": {
      "text/plain": [
       "'bmw'"
      ]
     },
     "execution_count": 8,
     "metadata": {},
     "output_type": "execute_result"
    }
   ],
   "source": [
    "id2word[250]"
   ]
  },
  {
   "cell_type": "code",
   "execution_count": 9,
   "metadata": {},
   "outputs": [],
   "source": [
    "id_docs = [id2word.doc2bow(cleaned_doc) for cleaned_doc in cleaned_docs]"
   ]
  },
  {
   "cell_type": "code",
   "execution_count": 22,
   "metadata": {},
   "outputs": [
    {
     "name": "stdout",
     "output_type": "stream",
     "text": [
      "[(0, 1), (1, 1), (2, 2), (3, 1), (4, 1), (5, 1), (6, 1), (7, 1), (8, 1), (9, 1), (10, 1), (11, 1), (12, 1), (13, 1), (14, 1), (15, 1), (16, 1), (17, 1), (18, 1), (19, 1), (20, 1), (21, 1), (22, 1), (23, 1), (24, 2), (25, 1), (26, 1), (27, 1), (28, 1), (29, 1)]\n"
     ]
    }
   ],
   "source": [
    "print(id_docs[0])"
   ]
  },
  {
   "cell_type": "code",
   "execution_count": 11,
   "metadata": {},
   "outputs": [
    {
     "data": {
      "text/plain": [
       "['ancyl',\n",
       " 'member',\n",
       " 'shot',\n",
       " 'severely',\n",
       " 'injured',\n",
       " 'sap',\n",
       " 'members',\n",
       " 'lephoi',\n",
       " 'bethulie',\n",
       " 'orange',\n",
       " 'free',\n",
       " 'state',\n",
       " 'ofs',\n",
       " '17',\n",
       " 'april',\n",
       " '1991',\n",
       " 'police',\n",
       " 'opened',\n",
       " 'fire',\n",
       " 'gathering',\n",
       " 'anc',\n",
       " 'supporters',\n",
       " 'house',\n",
       " 'following',\n",
       " 'dispute',\n",
       " 'two',\n",
       " 'neighbours',\n",
       " 'one',\n",
       " 'linked',\n",
       " 'anc',\n",
       " 'sap',\n",
       " 'councillor']"
      ]
     },
     "execution_count": 11,
     "metadata": {},
     "output_type": "execute_result"
    }
   ],
   "source": [
    "cleaned_docs[0]"
   ]
  },
  {
   "cell_type": "code",
   "execution_count": 24,
   "metadata": {},
   "outputs": [
    {
     "name": "stdout",
     "output_type": "stream",
     "text": [
      "0\t17\n",
      "1\t1991\n",
      "2\tanc\n",
      "3\tancyl\n",
      "4\tapril\n",
      "5\tbethulie\n",
      "6\tcouncillor\n",
      "7\tdispute\n",
      "8\tfire\n",
      "9\tfollowing\n",
      "10\tfree\n",
      "11\tgathering\n",
      "12\thouse\n",
      "13\tinjured\n",
      "14\tlephoi\n",
      "15\tlinked\n",
      "16\tmember\n",
      "17\tmembers\n",
      "18\tneighbours\n",
      "19\tofs\n",
      "20\tone\n",
      "21\topened\n",
      "22\torange\n",
      "23\tpolice\n",
      "24\tsap\n",
      "25\tseverely\n",
      "26\tshot\n",
      "27\tstate\n",
      "28\tsupporters\n",
      "29\ttwo\n"
     ]
    }
   ],
   "source": [
    "for num in id_docs[0]:\n",
    "    num = num[0]\n",
    "    print(f\"{num}\\t{id2word[num]}\")"
   ]
  },
  {
   "cell_type": "markdown",
   "metadata": {},
   "source": [
    "## Creating LDA Topic Model"
   ]
  },
  {
   "cell_type": "code",
   "execution_count": 13,
   "metadata": {},
   "outputs": [],
   "source": [
    "topic_nums = 100\n",
    "lda_model = LdaMulticore(corpus=id_docs, id2word=id2word, num_topics=topic_nums)"
   ]
  },
  {
   "cell_type": "code",
   "execution_count": 14,
   "metadata": {},
   "outputs": [
    {
     "data": {
      "text/plain": [
       "[(35,\n",
       "  '0.032*\"supporters\" + 0.029*\"anc\" + 0.025*\"ifp\" + 0.019*\"supporter\" + 0.019*\"shot\" + 0.017*\"near\" + 0.016*\"natal\" + 0.016*\"burnt\" + 0.015*\"conflict\" + 0.014*\"home\"')]"
      ]
     },
     "execution_count": 14,
     "metadata": {},
     "output_type": "execute_result"
    }
   ],
   "source": [
    "lda_model.print_topics(1)"
   ]
  },
  {
   "cell_type": "markdown",
   "metadata": {},
   "source": [
    "## Analyze a Document"
   ]
  },
  {
   "cell_type": "code",
   "execution_count": 15,
   "metadata": {},
   "outputs": [
    {
     "data": {
      "text/plain": [
       "[(27, 0.5007427), (97, 0.46954644)]"
      ]
     },
     "execution_count": 15,
     "metadata": {},
     "output_type": "execute_result"
    }
   ],
   "source": [
    "topics = lda_model.get_document_topics(id_docs)\n",
    "topics[0]"
   ]
  },
  {
   "cell_type": "code",
   "execution_count": null,
   "metadata": {},
   "outputs": [],
   "source": []
  },
  {
   "cell_type": "code",
   "execution_count": 16,
   "metadata": {},
   "outputs": [
    {
     "name": "stdout",
     "output_type": "stream",
     "text": [
      "An ANCYL member who was shot and severely injured by SAP members at Lephoi, Bethulie, Orange Free State (OFS) on 17 April 1991. Police opened fire on a gathering at an ANC supporter's house following a dispute between two neighbours, one of whom was linked to the ANC and the other to the SAP and a councillor.\n"
     ]
    }
   ],
   "source": [
    "print(docs[0])"
   ]
  },
  {
   "cell_type": "code",
   "execution_count": null,
   "metadata": {},
   "outputs": [],
   "source": []
  },
  {
   "cell_type": "code",
   "execution_count": 17,
   "metadata": {},
   "outputs": [
    {
     "name": "stdout",
     "output_type": "stream",
     "text": [
      "(27, 0.595477)\n",
      "17 members\n",
      "26 shot\n",
      "2 anc\n",
      "136 amnesty\n",
      "49 supporter\n",
      "28 supporters\n",
      "13 injured\n",
      "94 attack\n",
      "24 sap\n",
      "23 police\n",
      "\n",
      "(56, 0.277554)\n",
      "26 shot\n",
      "2 anc\n",
      "17 members\n",
      "23 police\n",
      "28 supporters\n",
      "24 sap\n",
      "347 ifp\n",
      "4 april\n",
      "100 killed\n",
      "121 near\n",
      "\n",
      "(65, 0.09756228)\n",
      "2 anc\n",
      "17 members\n",
      "145 mk\n",
      "13 injured\n",
      "94 attack\n",
      "28 supporters\n",
      "136 amnesty\n",
      "49 supporter\n",
      "148 operatives\n",
      "143 granted\n",
      "\n"
     ]
    }
   ],
   "source": [
    "for topic in topics[0]:\n",
    "    terms = lda_model.get_topic_terms(topic[0], 10)\n",
    "    print(topic)\n",
    "    for num in terms:\n",
    "        num = num[0]\n",
    "        print(num, id2word[num])\n",
    "    print()"
   ]
  },
  {
   "cell_type": "code",
   "execution_count": null,
   "metadata": {},
   "outputs": [],
   "source": []
  },
  {
   "cell_type": "code",
   "execution_count": null,
   "metadata": {},
   "outputs": [],
   "source": []
  },
  {
   "cell_type": "code",
   "execution_count": null,
   "metadata": {},
   "outputs": [],
   "source": []
  },
  {
   "cell_type": "markdown",
   "metadata": {},
   "source": [
    "## Analyze the Topic Model"
   ]
  },
  {
   "cell_type": "code",
   "execution_count": 18,
   "metadata": {},
   "outputs": [
    {
     "name": "stderr",
     "output_type": "stream",
     "text": [
      "/home/wjbmattingly/anaconda3/envs/python-textbook/lib/python3.9/site-packages/past/builtins/misc.py:45: DeprecationWarning: the imp module is deprecated in favour of importlib; see the module's documentation for alternative uses\n",
      "  from imp import reload\n"
     ]
    }
   ],
   "source": [
    "import pyLDAvis.gensim_models\n",
    "pyLDAvis.enable_notebook()"
   ]
  },
  {
   "cell_type": "code",
   "execution_count": 19,
   "metadata": {},
   "outputs": [
    {
     "name": "stderr",
     "output_type": "stream",
     "text": [
      "/home/wjbmattingly/anaconda3/envs/python-textbook/lib/python3.9/site-packages/pyLDAvis/_prepare.py:246: FutureWarning: In a future version of pandas all arguments of DataFrame.drop except for the argument 'labels' will be keyword-only.\n",
      "  default_term_info = default_term_info.sort_values(\n",
      "/home/wjbmattingly/anaconda3/envs/python-textbook/lib/python3.9/site-packages/past/builtins/misc.py:45: DeprecationWarning: the imp module is deprecated in favour of importlib; see the module's documentation for alternative uses\n",
      "  from imp import reload\n",
      "/home/wjbmattingly/anaconda3/envs/python-textbook/lib/python3.9/site-packages/past/builtins/misc.py:45: DeprecationWarning: the imp module is deprecated in favour of importlib; see the module's documentation for alternative uses\n",
      "  from imp import reload\n",
      "/home/wjbmattingly/anaconda3/envs/python-textbook/lib/python3.9/site-packages/past/builtins/misc.py:45: DeprecationWarning: the imp module is deprecated in favour of importlib; see the module's documentation for alternative uses\n",
      "  from imp import reload\n",
      "/home/wjbmattingly/anaconda3/envs/python-textbook/lib/python3.9/site-packages/past/builtins/misc.py:45: DeprecationWarning: the imp module is deprecated in favour of importlib; see the module's documentation for alternative uses\n",
      "  from imp import reload\n",
      "/home/wjbmattingly/anaconda3/envs/python-textbook/lib/python3.9/site-packages/past/builtins/misc.py:45: DeprecationWarning: the imp module is deprecated in favour of importlib; see the module's documentation for alternative uses\n",
      "  from imp import reload\n",
      "/home/wjbmattingly/anaconda3/envs/python-textbook/lib/python3.9/site-packages/past/builtins/misc.py:45: DeprecationWarning: the imp module is deprecated in favour of importlib; see the module's documentation for alternative uses\n",
      "  from imp import reload\n",
      "/home/wjbmattingly/anaconda3/envs/python-textbook/lib/python3.9/site-packages/past/builtins/misc.py:45: DeprecationWarning: the imp module is deprecated in favour of importlib; see the module's documentation for alternative uses\n",
      "  from imp import reload\n",
      "/home/wjbmattingly/anaconda3/envs/python-textbook/lib/python3.9/site-packages/past/builtins/misc.py:45: DeprecationWarning: the imp module is deprecated in favour of importlib; see the module's documentation for alternative uses\n",
      "  from imp import reload\n"
     ]
    }
   ],
   "source": [
    "vis = pyLDAvis.gensim_models.prepare(lda_model, id_docs, id2word, mds=\"mmds\", R=30)"
   ]
  },
  {
   "cell_type": "code",
   "execution_count": 20,
   "metadata": {},
   "outputs": [],
   "source": [
    "# vis"
   ]
  },
  {
   "cell_type": "code",
   "execution_count": null,
   "metadata": {},
   "outputs": [],
   "source": []
  }
 ],
 "metadata": {
  "kernelspec": {
   "display_name": "Python 3 (ipykernel)",
   "language": "python",
   "name": "python3"
  },
  "language_info": {
   "codemirror_mode": {
    "name": "ipython",
    "version": 3
   },
   "file_extension": ".py",
   "mimetype": "text/x-python",
   "name": "python",
   "nbconvert_exporter": "python",
   "pygments_lexer": "ipython3",
   "version": "3.9.12"
  }
 },
 "nbformat": 4,
 "nbformat_minor": 4
}
