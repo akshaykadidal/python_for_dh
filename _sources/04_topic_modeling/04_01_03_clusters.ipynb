{
 "cells": [
  {
   "cell_type": "markdown",
   "metadata": {},
   "source": [
    "# Topics and Clusters"
   ]
  },
  {
   "cell_type": "markdown",
   "metadata": {},
   "source": [
    "## What are Topics?"
   ]
  },
  {
   "cell_type": "markdown",
   "metadata": {},
   "source": [
    "**Topics** are labels assigned to textual data that detail the subjects contained within a given text. In topic modeling we try to create computer systems that can assign topics the way a human would. In order to understand this process, it's best if we take a step back and think about how we assign topics as humans.\n",
    "\n",
    "To do this, let's examine these two texts.\n",
    " \n",
    "| Number | Text                                                                                  |\n",
    "|--------|---------------------------------------------------------------------------------------|\n",
    "| Text 1 | Thomas enjoys playing basketball. He is an exceptionally good point guard.            |\n",
    "| Text 2 | Victoria enjoys playing baseball. She is an exceptionally good at playing first base. |\n",
    "\n",
    " \n",
    "If I asked you to provide two topics to these texts, what might they be? Basketball and baseball are likely two top candidates. `Text 1` would have the topic of `basketball`, while `Text 2` would have the topic of `baseball`. Now, let's consider these same texts, but add two more into the mix.\n",
    "\n",
    "\n",
    "| Number | Text                                                                                  |\n",
    "|--------|---------------------------------------------------------------------------------------|\n",
    "| Text 1 | Thomas enjoys playing basketball. He is an exceptionally good point guard.            |\n",
    "| Text 2 | Victoria enjoys playing baseball. She is an exceptionally good at playing first base. |\n",
    "| Text 3 | John is a talented chef. He enjoys making pasta professionally.                       |\n",
    "| Text 4 | Jeff is a talented cook. He owns a pizzeria.                                          |\n",
    "\n",
    "\n",
    "Now, if I asked you to assign two topics to all four texts, what might those topics be? It is likely that your answer changed. No longer are the two topics of baseball and basketball relevant because `Text 3` and `Text 4` do not align well with those topics. Instead, a better pair of topics might be sports and cooking, or something like that. What changed? The collection of texts in our corpus changed.\n",
    "\n",
    "What does this demonstrate? It tells us that topics are corpus-dependent, meaning the topics we assign to texts depend on their context against surrounding texts. The same holds true for topic modeling via computer systems."
   ]
  },
  {
   "cell_type": "markdown",
   "metadata": {},
   "source": [
    "## What are Clusters?"
   ]
  },
  {
   "cell_type": "markdown",
   "metadata": {},
   "source": [
    "In topic modeling, computer systems do not generate topics, rather they generate a list of high concentration words. Texts that share common terms are clustered together by similarity. A **cluster** is nothing more than a collection of similar pieces of data. When we are working with texts, a cluster is a collection of texts that have similar overlapping themes.\n",
    "\n",
    "There are various ways to cluster textual data that we will explore throughout this chapter."
   ]
  },
  {
   "cell_type": "code",
   "execution_count": null,
   "metadata": {},
   "outputs": [],
   "source": []
  }
 ],
 "metadata": {
  "kernelspec": {
   "display_name": "Python 3 (ipykernel)",
   "language": "python",
   "name": "python3"
  },
  "language_info": {
   "codemirror_mode": {
    "name": "ipython",
    "version": 3
   },
   "file_extension": ".py",
   "mimetype": "text/x-python",
   "name": "python",
   "nbconvert_exporter": "python",
   "pygments_lexer": "ipython3",
   "version": "3.9.12"
  }
 },
 "nbformat": 4,
 "nbformat_minor": 4
}
