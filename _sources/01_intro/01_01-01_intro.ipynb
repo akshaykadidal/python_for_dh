{
 "cells": [
  {
   "cell_type": "markdown",
   "id": "613bae22-5138-407f-85c3-89e00a8d7ab3",
   "metadata": {},
   "source": [
    "# <center>Introduction to Python</center>"
   ]
  },
  {
   "cell_type": "markdown",
   "id": "2d325272-a557-43a4-a798-5e5f98fd4c12",
   "metadata": {},
   "source": [
    "<center>Dr. W.J.B. Mattingly</center>\n",
    "\n",
    "<center>Smithsonian Data Science Lab and United States Holocaust Memorial Museum</center>\n",
    "\n",
    "<center>January 2022</center>"
   ]
  },
  {
   "cell_type": "markdown",
   "id": "7ecd2f19-4f4a-45ec-b08e-4bcf16a6c4ca",
   "metadata": {},
   "source": [
    "## Covered in this Chapter"
   ]
  },
  {
   "cell_type": "markdown",
   "id": "8c19d23d-78e5-4f33-ae00-78b250835f97",
   "metadata": {},
   "source": [
    "1) What is Data?<br>\n",
    "2) Types of Python Data<br>\n",
    "3) Strings<br>\n",
    "4) Numbers (Integers and Floats)<br>\n",
    "5) Booleans<br>\n",
    "6) Manipulating Strings<br>\n",
    "7) Mathematical Operations<br>\n",
    "8) What is a Data Structure?<br>\n",
    "9) Lists<br>\n",
    "10) Tuples<br>\n",
    "11) Sets<br>\n",
    "12) Dictionaries<br>\n",
    "13) Indexing<br>"
   ]
  }
 ],
 "metadata": {
  "kernelspec": {
   "display_name": "Python 3 (ipykernel)",
   "language": "python",
   "name": "python3"
  },
  "language_info": {
   "codemirror_mode": {
    "name": "ipython",
    "version": 3
   },
   "file_extension": ".py",
   "mimetype": "text/x-python",
   "name": "python",
   "nbconvert_exporter": "python",
   "pygments_lexer": "ipython3",
   "version": "3.8.5"
  }
 },
 "nbformat": 4,
 "nbformat_minor": 5
}
