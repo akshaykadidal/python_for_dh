{
 "cells": [
  {
   "cell_type": "markdown",
   "id": "613bae22-5138-407f-85c3-89e00a8d7ab3",
   "metadata": {},
   "source": [
    "# Introduction to Python"
   ]
  },
  {
   "cell_type": "markdown",
   "id": "7ecd2f19-4f4a-45ec-b08e-4bcf16a6c4ca",
   "metadata": {},
   "source": [
    "Covered in this Chapter"
   ]
  },
  {
   "cell_type": "markdown",
   "id": "8c19d23d-78e5-4f33-ae00-78b250835f97",
   "metadata": {},
   "source": [
    "1) Why should humanists learn to code?<br>\n",
    "2) Why use Python specifically?<br>\n",
    "3) What is covered in this textbook?<br>\n",
    "4) How to Use Python from this Textbook<br>\n",
    "5) How to Use Python on JupyterOrg<br>\n",
    "6) How to Install Python with Anaconda Navigator and Jupyter-Lab<br>"
   ]
  }
 ],
 "metadata": {
  "kernelspec": {
   "display_name": "Python 3 (ipykernel)",
   "language": "python",
   "name": "python3"
  },
  "language_info": {
   "codemirror_mode": {
    "name": "ipython",
    "version": 3
   },
   "file_extension": ".py",
   "mimetype": "text/x-python",
   "name": "python",
   "nbconvert_exporter": "python",
   "pygments_lexer": "ipython3",
   "version": "3.9.12"
  }
 },
 "nbformat": 4,
 "nbformat_minor": 5
}
