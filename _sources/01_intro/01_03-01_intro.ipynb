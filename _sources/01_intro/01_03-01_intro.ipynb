{
 "cells": [
  {
   "cell_type": "markdown",
   "id": "613bae22-5138-407f-85c3-89e00a8d7ab3",
   "metadata": {},
   "source": [
    "# <center>Introduction to Python</center>"
   ]
  },
  {
   "cell_type": "markdown",
   "id": "7ecd2f19-4f4a-45ec-b08e-4bcf16a6c4ca",
   "metadata": {},
   "source": [
    "## Covered in this Chapter"
   ]
  },
  {
   "cell_type": "markdown",
   "id": "158b0db5-f074-498e-927c-3f0beed2a569",
   "metadata": {},
   "source": [
    "1) What are Loops?<br>\n",
    "2) Iterations<br>\n",
    "3) Why are Loops Important?<br>\n",
    "4) For Loops<br>\n",
    "5) While Loops<br>\n",
    "6) What conditional statements are<br>\n",
    "7) What the logic is behind them<br>\n",
    "8) If<br>\n",
    "9) Else<br>\n",
    "10) Elif (or if)<br>\n",
    "11) The in Operator<br>\n",
    "12) The not in Operator"
   ]
  },
  {
   "cell_type": "code",
   "execution_count": null,
   "id": "92a51982-c381-4c82-bf10-1a7688d240f7",
   "metadata": {},
   "outputs": [],
   "source": []
  }
 ],
 "metadata": {
  "kernelspec": {
   "display_name": "Python 3 (ipykernel)",
   "language": "python",
   "name": "python3"
  },
  "language_info": {
   "codemirror_mode": {
    "name": "ipython",
    "version": 3
   },
   "file_extension": ".py",
   "mimetype": "text/x-python",
   "name": "python",
   "nbconvert_exporter": "python",
   "pygments_lexer": "ipython3",
   "version": "3.9.7"
  }
 },
 "nbformat": 4,
 "nbformat_minor": 5
}
