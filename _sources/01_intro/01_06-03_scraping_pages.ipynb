{
 "cells": [
  {
   "cell_type": "markdown",
   "id": "suited-breathing",
   "metadata": {},
   "source": [
    "# <center>Scraping Web Pages with Requests and BeautifulSoup</center>"
   ]
  },
  {
   "cell_type": "markdown",
   "id": "posted-netherlands",
   "metadata": {},
   "source": [
    "## Introduction"
   ]
  },
  {
   "cell_type": "markdown",
   "id": "weekly-locking",
   "metadata": {},
   "source": [
    "In the last section, we learned about the basics of HTML and the BeautifulSoup library. We were not, however, working with data found on the web, rather our HTML was stored locally. In this section, we will learn how to make calls to a remote server with the requests library and then parse that data with BeautifulSoup."
   ]
  },
  {
   "cell_type": "markdown",
   "id": "exposed-ethiopia",
   "metadata": {},
   "source": [
    "## Requests"
   ]
  },
  {
   "cell_type": "markdown",
   "id": "buried-remove",
   "metadata": {},
   "source": [
    "The **requests** library allows us to send a signal via Python to server. A good way to think about requests is as an invisible browser that opens in the background of your computer. Requests does the precise thing your browser does. It sends a signal over the internet to connect to a specific server address. While all servers have a unique IP address. Often the internet links a specific and unique address that can be used as a way to connect to a server without having to type out an IP address. Unlike your browser, however, requests does not will up the results for you to see. Instead, it receives the return signal and simply stores the HTML data in memory.\n",
    "\n",
    "To begin learning how requests works, let's first import the requests library"
   ]
  },
  {
   "cell_type": "code",
   "execution_count": 1,
   "id": "beginning-socket",
   "metadata": {},
   "outputs": [],
   "source": [
    "import requests"
   ]
  },
  {
   "cell_type": "markdown",
   "id": "3bf7a346-988b-43e1-b9ec-ae5d6dea588c",
   "metadata": {},
   "source": [
    "Now that we have imported requests, let's go ahead and create a string object that will be the website we want to scrape. I always call this string \"url\" in my code. "
   ]
  },
  {
   "cell_type": "code",
   "execution_count": 2,
   "id": "three-action",
   "metadata": {},
   "outputs": [],
   "source": [
    "url = \"https://en.wikipedia.org/wiki/List_of_French_monarchs\""
   ]
  },
  {
   "cell_type": "markdown",
   "id": "fef3e8b3-eb1d-40d4-b519-918aac67bee2",
   "metadata": {},
   "source": [
    "Excellent! Now we can use the requests library to make a call to this particular page. We will do this via the get function in the requests library. The get function has one mandatory argument: the website that you want to request. In our case, this will be our \"url\" string."
   ]
  },
  {
   "cell_type": "code",
   "execution_count": 3,
   "id": "invisible-military",
   "metadata": {},
   "outputs": [],
   "source": [
    "s = requests.get(url)"
   ]
  },
  {
   "cell_type": "markdown",
   "id": "ebd78656-86df-4f8a-bc95-ed6a2a3d4f3c",
   "metadata": {},
   "source": [
    "Now that we have created a request object, let's take a look at what this looks like."
   ]
  },
  {
   "cell_type": "code",
   "execution_count": 4,
   "id": "d9a4835e-b418-4718-936a-e6e7f497788d",
   "metadata": {},
   "outputs": [
    {
     "name": "stdout",
     "output_type": "stream",
     "text": [
      "<Response [200]>\n"
     ]
    }
   ],
   "source": [
    "print (s)"
   ]
  },
  {
   "cell_type": "markdown",
   "id": "298f20ef-0204-46e7-8e72-f3be096282b3",
   "metadata": {},
   "source": [
    "On the surface, this looks like we may have failed. What is this odd \"response 200\" and what does it mean? This particular response means that our attempt to connect to a server was successful. There are many types of responses, but 200 is the one we want to see. If you ever see a response that is not 200, you can Google the particular server response and you will find out what is happening. Sometimes, a response indicates that your request was blocked. This may be because the website has anti-web scraping measures in place. In other cases, the page may be protected, meaning that it lies behind a login. There are too many potential errors that may surface that I cannot detail them all in this basic introduction chapter. I will, however, give you a solution to a very common problem that can allow you to get around a common 403 response. For that solution, check out the final section of this chapter."
   ]
  },
  {
   "cell_type": "markdown",
   "id": "f8a79a16-0f26-4a71-b1f0-839fa94dc46d",
   "metadata": {},
   "source": [
    "## BeautifulSoup"
   ]
  },
  {
   "cell_type": "markdown",
   "id": "9253b7c0-f6fa-4b94-9a2e-6794e8bdef83",
   "metadata": {},
   "source": [
    "Now that we have learned how to make a call to a server and stored the response (the HTML) in memory, we need a way to parse that data. Buried within the s request object is the HTML content. We can access that data by accessing the content method of the response object class. Let's do that and check out the first 100 characters."
   ]
  },
  {
   "cell_type": "code",
   "execution_count": 5,
   "id": "ee722a71-2b17-4cb0-b635-81df38b69556",
   "metadata": {},
   "outputs": [
    {
     "name": "stdout",
     "output_type": "stream",
     "text": [
      "b'<!DOCTYPE html>\\n<html class=\"client-nojs\" lang=\"en\" dir=\"ltr\">\\n<head>\\n<meta charset=\"UTF-8\"/>\\n<title'\n"
     ]
    }
   ],
   "source": [
    "print (s.content[:100])"
   ]
  },
  {
   "cell_type": "markdown",
   "id": "7653fd94-2dbe-46b4-ad51-bb1e1603cde9",
   "metadata": {},
   "source": [
    "Notice that this data is HTML. At this stage, however, we do not have an easy way to take this string and process it as structured data. This is where BeautifulSoup comes into play. BeautifulSoup allows us to convert s.content into structured data that we can then parse. To do this, we first need to import BeautifulSoup. Unlike most libraries, BeautifulSoup installs as bs4 (BeautifulSoup4). Because of this we need to import the BeautifulSoup class from bs4. The command below does this for us."
   ]
  },
  {
   "cell_type": "code",
   "execution_count": 1,
   "id": "7c92fba9-23df-420d-8997-c608aadf7b48",
   "metadata": {},
   "outputs": [],
   "source": [
    "from bs4 import BeautifulSoup"
   ]
  },
  {
   "cell_type": "markdown",
   "id": "dbce2a95-353b-49ae-83ba-be15aa045912",
   "metadata": {},
   "source": [
    "Next, we need to create a new soup object."
   ]
  },
  {
   "cell_type": "code",
   "execution_count": 7,
   "id": "f62efdb5-85e3-4eb6-bcfe-ecb7746e9842",
   "metadata": {},
   "outputs": [],
   "source": [
    "soup = BeautifulSoup(s.content)"
   ]
  },
  {
   "cell_type": "markdown",
   "id": "c40df9c6-6507-47be-89d3-f2015670371d",
   "metadata": {},
   "source": [
    "If we don't see an error, then it means we have successfully created a soup object. Let's print it off to see what it looks like:"
   ]
  },
  {
   "cell_type": "code",
   "execution_count": 17,
   "id": "a028b365-4780-443c-8371-0db51c4bf72a",
   "metadata": {},
   "outputs": [
    {
     "name": "stdout",
     "output_type": "stream",
     "text": [
      "<!DOCTYPE html>\n",
      "<html class=\"client-nojs\" dir=\"ltr\" lang=\"en\">\n",
      "<head>\n",
      "<meta charset=\"utf-8\"/>\n",
      "<title>List of French monarchs - Wikipedia</title>\n",
      "<script>document.documentElement.className=\"client-js\";\n"
     ]
    }
   ],
   "source": [
    "print (str(soup)[:200])"
   ]
  },
  {
   "cell_type": "markdown",
   "id": "3b939107-18d1-4b58-893d-b97082ec0dc9",
   "metadata": {},
   "source": [
    "While the soup object looks precisely the same as the s.content, it is entirely different. It retains the structure of the HTML because BeautifulSoup has parsed it for us. This means that we can use special methods. In this section of the textbook, we will use find and find_all.\n",
    "\n",
    "- find - this will allow us to find the first instance of a tag being used and grab that tag and all its nested components.\n",
    "- find_all - this will return a list of all tags and their nested components that align to this specific tag.\n",
    "\n",
    "Let's take a look at a basic example of the find method."
   ]
  },
  {
   "cell_type": "code",
   "execution_count": 9,
   "id": "1bc1c892-f5b6-4903-9437-7218162b6859",
   "metadata": {},
   "outputs": [],
   "source": [
    "div = soup.find(\"div\")"
   ]
  },
  {
   "cell_type": "markdown",
   "id": "6a0f53b0-c828-4a80-adee-d676d95e192b",
   "metadata": {},
   "source": [
    "Here, we grabbed the first div tag on the page. Div tags, however, are quite common because they are one of the essential building blocks of HTML. Let's take a look at how many there are on the entire page. We can do this with the find_all method and then count the list size with the len function that we met in chapter 02_02."
   ]
  },
  {
   "cell_type": "code",
   "execution_count": 10,
   "id": "132c4d25-982a-4330-b68e-c6a2f5b5541e",
   "metadata": {},
   "outputs": [
    {
     "name": "stdout",
     "output_type": "stream",
     "text": [
      "97\n"
     ]
    }
   ],
   "source": [
    "all_divs = soup.find_all(\"div\")\n",
    "print (len(all_divs))"
   ]
  },
  {
   "cell_type": "markdown",
   "id": "e573814e-330a-4cb3-9375-277ffd5729bc",
   "metadata": {},
   "source": [
    "So, if we want to grab a specific div with only find and find_all, we would have to count all the div tags and find the right index and grab it. This would not work at scale because this would vary from page to page, even if the HTML data structure were similar across all pages on a site. We need a better solution. This is where our second optional argument comes in. The find function can also take a dictionary that allows us to pass some specificity to our parsing of the soup object.\n",
    "\n",
    "Let's say I want to grab the main body of the Wikipedia article. If I inspect the page, I will notice that one particular div tag contains all the data corresponding to the body of the Wikipedia article. This div tag has a special unique id attribute. This id attribute's name is \"mw-content-text\". This means that I can pass as a econd argument a dictionary where id is the key and the corresponding id name is the value. This will tell BeautifulSoup to find the first div tag that has an id attribute that matches mw-content-text. Let's take a look at this in code."
   ]
  },
  {
   "cell_type": "code",
   "execution_count": 11,
   "id": "be6740ee-dcd6-493b-8fc8-a74288c8cad7",
   "metadata": {},
   "outputs": [],
   "source": [
    "body = soup.find(\"div\", {\"id\": \"mw-content-text\"})"
   ]
  },
  {
   "cell_type": "markdown",
   "id": "117fd17c-5bd0-48b6-8a38-ebf404f42474",
   "metadata": {},
   "source": [
    "Now that we have grabbed this body portion of the article, we can print it off with the text method."
   ]
  },
  {
   "cell_type": "code",
   "execution_count": 18,
   "id": "c6ea4be4-0ae0-4955-bae2-25cba020370c",
   "metadata": {},
   "outputs": [
    {
     "name": "stdout",
     "output_type": "stream",
     "text": [
      "\n",
      "\n",
      "This article is about French monarchs. For Frankish kings, see List of Frankish kings.\n",
      "\n",
      "\n",
      " Division of the Frankish Empire at the Treaty of Verdun in 843\n",
      "The monarchs of the Kingdom of France ruled from the establishment of the Kingdom of the West Franks in 843 until the fall of the Second French Empire in 1870, with several interruptions. Between the period from King Charles the Bald in 843 to King Louis XVI in 1792, France had 45 kings. Adding the 7 emperors and kings after the French Revolut\n"
     ]
    }
   ],
   "source": [
    "print (body.text[:500])"
   ]
  },
  {
   "cell_type": "markdown",
   "id": "6e6be50e-f435-46e9-a634-fa9e3c913602",
   "metadata": {},
   "source": [
    "This is fantastic! But, what if we wanted to grab the text and maintain the structure of the paragraphs. We can do this by searching the soup object at the body level. The body object that we created is still a soup object that retains all that HTML data, but it only contains the data for the data found under that particular div. We can use find all now to grab all the paragraphs from within the body. We can use find_all on the body object to find all the paragraphs like so:"
   ]
  },
  {
   "cell_type": "code",
   "execution_count": 13,
   "id": "76620d88-aab9-434a-ba09-5d812f8f5e7e",
   "metadata": {},
   "outputs": [],
   "source": [
    "paragraphs = body.find_all(\"p\")"
   ]
  },
  {
   "cell_type": "markdown",
   "id": "2549ca72-d77e-45f2-a843-1349379815e4",
   "metadata": {},
   "source": [
    "We can now iterate over the paragraphs. Let's do that now over the first five paragraphs and print off the text."
   ]
  },
  {
   "cell_type": "code",
   "execution_count": 14,
   "id": "5b7267ca-4ab0-4acc-aadc-98e20ebd851b",
   "metadata": {},
   "outputs": [
    {
     "name": "stdout",
     "output_type": "stream",
     "text": [
      "\n",
      "\n",
      "\n",
      "\n",
      "The monarchs of the Kingdom of France ruled from the establishment of the Kingdom of the West Franks in 843 until the fall of the Second French Empire in 1870, with several interruptions. Between the period from King Charles the Bald in 843 to King Louis XVI in 1792, France had 45 kings. Adding the 7 emperors and kings after the French Revolution, this comes to a total of 52 monarchs of France.\n",
      "\n",
      "In August 843 the Treaty of Verdun divided the Frankish realm into three kingdoms, one of which (Middle Francia) was short-lived; the other two evolved into France (West Francia) and, eventually, Germany (East Francia). By this time, the eastern and western parts of the land had already developed different languages and cultures.\n",
      "\n",
      "Initially, the kingdom was ruled primarily by two dynasties, the Carolingians and the Robertians, who alternated rule from 843 until 987, when Hugh Capet, the progenitor of the Capetian dynasty, took the throne.  The kings use the title \"King of the Franks\" until the late twelfth century; the first to adopt the title of \"King of France\" was Philip II (r. 1180–1223).  The Capetians ruled continuously from 987 to 1792 and again from 1814 to 1848. The branches of the dynasty which ruled after 1328, however, are generally given the specific branch names of Valois (until 1589), Bourbon (from 1589 until 1792 and from 1814 until 1830), and the Orléans (from 1830 until 1848).\n",
      "\n"
     ]
    }
   ],
   "source": [
    "for paragraph in paragraphs[:5]:\n",
    "    print (paragraph.text)"
   ]
  },
  {
   "cell_type": "markdown",
   "id": "0d51b335-c585-4235-9b82-0e9d6587e7e7",
   "metadata": {},
   "source": [
    "Viola! You have now officially webscraped your first page in Python and grabbed some relevant data. Scraping data from the web is never a copy-and-paste task because every website structures its HTML a bit differently. Nevertheless, the mechanics are the same. The basic methods you learned in this chapter should allow you to scrape the majority of static websites."
   ]
  },
  {
   "cell_type": "code",
   "execution_count": null,
   "id": "317c2f29-2b32-4598-9ae6-94bfada258d6",
   "metadata": {},
   "outputs": [],
   "source": []
  }
 ],
 "metadata": {
  "kernelspec": {
   "display_name": "Python 3 (ipykernel)",
   "language": "python",
   "name": "python3"
  },
  "language_info": {
   "codemirror_mode": {
    "name": "ipython",
    "version": 3
   },
   "file_extension": ".py",
   "mimetype": "text/x-python",
   "name": "python",
   "nbconvert_exporter": "python",
   "pygments_lexer": "ipython3",
   "version": "3.9.7"
  }
 },
 "nbformat": 4,
 "nbformat_minor": 5
}
