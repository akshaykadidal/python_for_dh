{
 "cells": [
  {
   "cell_type": "markdown",
   "id": "613bae22-5138-407f-85c3-89e00a8d7ab3",
   "metadata": {},
   "source": [
    "# <center>Introduction to Python</center>"
   ]
  },
  {
   "cell_type": "markdown",
   "id": "7ecd2f19-4f4a-45ec-b08e-4bcf16a6c4ca",
   "metadata": {},
   "source": [
    "## Covered in this Chapter"
   ]
  },
  {
   "cell_type": "markdown",
   "id": "8c19d23d-78e5-4f33-ae00-78b250835f97",
   "metadata": {},
   "source": [
    "1) What is Data?<br>\n",
    "2) Types of Python Data<br>\n",
    "3) Strings<br>\n",
    "4) Numbers (Integers and Floats)<br>\n",
    "5) Booleans<br>\n",
    "6) Manipulating Strings<br>\n",
    "7) Mathematical Operations<br>\n",
    "8) What is a Data Structure?<br>\n",
    "9) Lists<br>\n",
    "10) Tuples<br>\n",
    "11) Sets<br>\n",
    "12) Dictionaries<br>\n",
    "13) Indexing<br>"
   ]
  },
  {
   "cell_type": "markdown",
   "id": "d6cd9b4f-aee6-4d70-b174-65f3d0e28048",
   "metadata": {},
   "source": [
    "In this chapter, we will be learning about data and data structures. As with any programming language, it is important to have a basic understanding in these two concepts as they are the building blocks for most things you will do in Python. Whenever you write a program or do something with code, you are essentially writing commands to load, save, interact with, and manipulate data in some way. Understanding the different types of data and how to structure and store them is, therefore, essential."
   ]
  },
  {
   "cell_type": "code",
   "execution_count": null,
   "id": "e83e92c4-5ef2-4bcc-9320-2590e328758d",
   "metadata": {},
   "outputs": [],
   "source": []
  }
 ],
 "metadata": {
  "kernelspec": {
   "display_name": "Python 3 (ipykernel)",
   "language": "python",
   "name": "python3"
  },
  "language_info": {
   "codemirror_mode": {
    "name": "ipython",
    "version": 3
   },
   "file_extension": ".py",
   "mimetype": "text/x-python",
   "name": "python",
   "nbconvert_exporter": "python",
   "pygments_lexer": "ipython3",
   "version": "3.9.7"
  }
 },
 "nbformat": 4,
 "nbformat_minor": 5
}
