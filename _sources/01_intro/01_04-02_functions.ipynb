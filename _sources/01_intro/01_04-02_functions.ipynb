{
 "cells": [
  {
   "cell_type": "markdown",
   "id": "efficient-practice",
   "metadata": {},
   "source": [
    "# <center>Functions</center>"
   ]
  },
  {
   "cell_type": "markdown",
   "id": "bottom-census",
   "metadata": {},
   "source": [
    "## Introduction"
   ]
  },
  {
   "cell_type": "markdown",
   "id": "neither-prevention",
   "metadata": {},
   "source": [
    "In this section, you will learn all about functions. You have already been exposed to several functions in this textbook, such as the `print()` function. My goal in this section is to teach you how to create your own functions.\n",
    "\n",
    "**Functions** exist in all programming languages. They allow you to write a set of code that can be used later in your program. They are essential because they allow you to not rewrite the same block of code over and over again. Good code is code that does not repeat. In other words, if your program has a task that it needs to do repetitively, then you should develop that code into a clean function (or class which we will meet in the next section).\n",
    "\n",
    "A function, as we will see has four parts:\n",
    "\n",
    "1. the name of the function\n",
    "2. the arguments passed to the function (optional)\n",
    "3. a docstring that explains the function (optional)\n",
    "3. the code of the function\n",
    "4. the returned data (optional)\n",
    "\n",
    "By the end of this section, you will understand each of these components."
   ]
  },
  {
   "cell_type": "markdown",
   "id": "swiss-journalist",
   "metadata": {},
   "source": [
    "## Functions in Action"
   ]
  },
  {
   "cell_type": "markdown",
   "id": "ancient-friendly",
   "metadata": {},
   "source": [
    "I think the best way to learn about functions is to see them in action before breaking down what is happening. Let's take a look at the code below."
   ]
  },
  {
   "cell_type": "code",
   "execution_count": 2,
   "id": "disciplinary-provincial",
   "metadata": {},
   "outputs": [],
   "source": [
    "def adding_one(number):\n",
    "    x = number+1\n",
    "    return x"
   ]
  },
  {
   "cell_type": "markdown",
   "id": "infrared-string",
   "metadata": {},
   "source": [
    "Let's break down the code above by starting with line one.\n",
    "```\n",
    "def adding_one(number):\n",
    "```\n",
    "\n",
    "Here, we use the word `def`. In Python, `def` stands for define because we are defining a function. When Python sees `def` it is expecting that what follows will follow the syntax of a function.\n",
    "\n",
    "The next component in line one is `adding_one`. This is the name of the function. The `print` function's name, as you may expect, is `print`. This is what you will use when you want to call your function later in your script.\n",
    "\n",
    "Next, we see `(number)`. A python function name must be followed by parentheses. Inside your parentheses, you can place one or multiple parameters. These are optional. Parameters allow you to pass arguments to a function. These arguments can be used by the function to perform some sort of action by either manipulating that parameter or using it in some capacity to do some task. In the case of our function, the only parameter is `number`. If you are creating multiple parameters, these should be separated by a comma, as we will see below. Notice that parameters do not have quotation marks around them. This is because they are not strings, rather parameters that will function like variables inside the code of the function.\n",
    "\n",
    "Finally, in this first line, we see `:`. This tells Python two things. First, the syntax for defining the function is complete and that the next line will be indented within which the code for your function will sit. This `:` and the indentation are mandatory.\n",
    "\n",
    "The next line of code is:\n",
    "```\n",
    "x = number+1\n",
    "```\n",
    "\n",
    "This is the code of the function. Here we are creating a variable within the function called `x` which will be the result of the `number` passed to the function and `1`.\n",
    "\n",
    "The final portion of the cell is\n",
    "\n",
    "```\n",
    "return x\n",
    "```\n",
    "\n",
    "This will return for the user `x` that we created temporarily in the function.\n",
    "\n",
    "Let's now call this function in the cell bellow to see how it works."
   ]
  },
  {
   "cell_type": "code",
   "execution_count": 5,
   "id": "fleet-tribe",
   "metadata": {},
   "outputs": [],
   "source": [
    "result = adding_one(1)"
   ]
  },
  {
   "cell_type": "markdown",
   "id": "desperate-reporter",
   "metadata": {},
   "source": [
    "In the code above, we have created a new object, `result`. This will be the result of our function. Like all objects, it can be named whatever you like, save for the forbidden object names in Python.\n",
    "\n",
    "We then call the function, `adding_one` and pass a single argument to it, an integer. In this case, `1`.\n",
    "\n",
    "I want you to take a moment and try and guess what result will be. Go ahead and try and recreate this code in your own notebook, or, if you are using this textbook with the built-in Binder environment, create a new cell below and print off \"result\"."
   ]
  },
  {
   "cell_type": "code",
   "execution_count": 6,
   "id": "c12b4243-d2de-404c-ae8f-6aeb6252ed46",
   "metadata": {
    "tags": [
     "hide-output"
    ]
   },
   "outputs": [
    {
     "name": "stdout",
     "output_type": "stream",
     "text": [
      "2\n"
     ]
    }
   ],
   "source": [
    "print(result)"
   ]
  },
  {
   "cell_type": "markdown",
   "id": "f6955ff9-04fe-41a3-b9e2-472d426e9920",
   "metadata": {},
   "source": [
    "Did you guess correctly? If so, great. If not, that's okay. Why do you think your answer was wrong? Do you understand why? These are some of the core questions you should be asking yourself at this moment.\n",
    "\n",
    "If we give the function the number `1`, then our output will be `2` Likewise, if we do this with `3`, we will get `4`. But what would happen if we tried to pass the string `\"one\"`?"
   ]
  },
  {
   "cell_type": "code",
   "execution_count": 8,
   "id": "muslim-ranking",
   "metadata": {},
   "outputs": [
    {
     "ename": "TypeError",
     "evalue": "can only concatenate str (not \"int\") to str",
     "output_type": "error",
     "traceback": [
      "\u001b[0;31m---------------------------------------------------------------------------\u001b[0m",
      "\u001b[0;31mTypeError\u001b[0m                                 Traceback (most recent call last)",
      "Input \u001b[0;32mIn [8]\u001b[0m, in \u001b[0;36m<cell line: 1>\u001b[0;34m()\u001b[0m\n\u001b[0;32m----> 1\u001b[0m bad_result \u001b[38;5;241m=\u001b[39m \u001b[43madding_one\u001b[49m\u001b[43m(\u001b[49m\u001b[38;5;124;43m\"\u001b[39;49m\u001b[38;5;124;43mone\u001b[39;49m\u001b[38;5;124;43m\"\u001b[39;49m\u001b[43m)\u001b[49m\n",
      "Input \u001b[0;32mIn [2]\u001b[0m, in \u001b[0;36madding_one\u001b[0;34m(number)\u001b[0m\n\u001b[1;32m      1\u001b[0m \u001b[38;5;28;01mdef\u001b[39;00m \u001b[38;5;21madding_one\u001b[39m(number):\n\u001b[0;32m----> 2\u001b[0m     x \u001b[38;5;241m=\u001b[39m \u001b[43mnumber\u001b[49m\u001b[38;5;241;43m+\u001b[39;49m\u001b[38;5;241;43m1\u001b[39;49m\n\u001b[1;32m      3\u001b[0m     \u001b[38;5;28;01mreturn\u001b[39;00m x\n",
      "\u001b[0;31mTypeError\u001b[0m: can only concatenate str (not \"int\") to str"
     ]
    }
   ],
   "source": [
    "bad_result = adding_one(\"one\")"
   ]
  },
  {
   "cell_type": "markdown",
   "id": "german-bumper",
   "metadata": {},
   "source": [
    "We receive an error. This error message allows us to debug the problem. It is a `TypeError`, meaning we tried to use the wrong object type. We know that the error occurs in line 2 of our cell, `x = number+1`. Why do you think we received this error?\n",
    "\n",
    "If you said because `\"one\"` is a string and you cannot add a string by the integer `1`, then you would be right. If we were writing this program for ourselves, we would know this and never try to pass a string to the function, but what if someone else is trying to use our code and does not know precisely what it is supposed to do? In Python, we can pass in some key information to help our users."
   ]
  },
  {
   "cell_type": "markdown",
   "id": "e7e61053-dcc0-4c1f-b3d3-b7f48a422d36",
   "metadata": {},
   "source": [
    "## Docstrings"
   ]
  },
  {
   "cell_type": "markdown",
   "id": "9f0df37a-f4d8-45ec-8286-4e28b7aecdb6",
   "metadata": {},
   "source": [
    "To help users, we can provide them with a long string at the start of the function that explains what the function does. This is known as a `docstring`. Let's create a new function called `adding_two` with a docstring. This function will do the same as our earlier function, but add two to `number` and return that result."
   ]
  },
  {
   "cell_type": "code",
   "execution_count": 9,
   "id": "3ac08626-882b-427d-9e7f-137b91ff0741",
   "metadata": {},
   "outputs": [],
   "source": [
    "def adding_two(number):\n",
    "    \"\"\"\n",
    "    This function expects an integer and will return that integer plus 2.\n",
    "    \"\"\"\n",
    "    x = x+2\n",
    "    return x"
   ]
  },
  {
   "cell_type": "markdown",
   "id": "0d3e915b-e68d-4a11-a0cb-ed61d4d93f77",
   "metadata": {},
   "source": [
    "Notice that the `docstring` is wrapped around three `\"` at the beginning and end of the string. I can access this `docstring` by calling the function and using `.__doc__`."
   ]
  },
  {
   "cell_type": "code",
   "execution_count": 12,
   "id": "998d65e2-bfda-46ce-8d07-8b574af238d3",
   "metadata": {},
   "outputs": [
    {
     "name": "stdout",
     "output_type": "stream",
     "text": [
      "\n",
      "    This function expects an integer and will return that integer plus 2.\n",
      "    \n"
     ]
    }
   ],
   "source": [
    "print(adding_two.__doc__)"
   ]
  },
  {
   "cell_type": "markdown",
   "id": "greek-marker",
   "metadata": {},
   "source": [
    "## Functions with Multiple Arguments"
   ]
  },
  {
   "cell_type": "markdown",
   "id": "entertaining-nicaragua",
   "metadata": {},
   "source": [
    "In the above section, we saw a simple function that had a single argument. In Python, you can assign as many arguments you want to a function. Let's try to make a slightly different function that adds two numbers together, each supplied by the user."
   ]
  },
  {
   "cell_type": "code",
   "execution_count": 1,
   "id": "registered-ceremony",
   "metadata": {},
   "outputs": [],
   "source": [
    "def my_function2(number1, number2):\n",
    "    x = number1+number2\n",
    "    return x"
   ]
  },
  {
   "cell_type": "markdown",
   "id": "private-relay",
   "metadata": {},
   "source": [
    "Notice that my_function2 is the precise same as the function above except we have two arguments, \"number1\" and \"number2\". Also, in the function x is the result of number1 plus number2.\n",
    "\n",
    "Now, let's try and use this function by passing two numbers to it: 1 and 3."
   ]
  },
  {
   "cell_type": "code",
   "execution_count": 2,
   "id": "charitable-wealth",
   "metadata": {},
   "outputs": [
    {
     "name": "stdout",
     "output_type": "stream",
     "text": [
      "4\n"
     ]
    }
   ],
   "source": [
    "result2 = my_function2(1,3)\n",
    "print (result2)"
   ]
  },
  {
   "cell_type": "markdown",
   "id": "studied-dimension",
   "metadata": {},
   "source": [
    "Yay! We got the result we desired. These are known as positional arguments because we are relying on the position of the argument in the function's () section. Let's modify this function slightly again so that you can see what I mean."
   ]
  },
  {
   "cell_type": "code",
   "execution_count": 3,
   "id": "architectural-grain",
   "metadata": {},
   "outputs": [],
   "source": [
    "def my_function3(number1, number2):\n",
    "    print (\"Number 1 is \", number1)\n",
    "    print (\"Number 2 is \", number2)"
   ]
  },
  {
   "cell_type": "code",
   "execution_count": 4,
   "id": "liberal-mailman",
   "metadata": {},
   "outputs": [
    {
     "name": "stdout",
     "output_type": "stream",
     "text": [
      "Number 1 is  1\n",
      "Number 2 is  3\n"
     ]
    }
   ],
   "source": [
    "my_function3(1, 3)"
   ]
  },
  {
   "cell_type": "markdown",
   "id": "hollywood-authentication",
   "metadata": {},
   "source": [
    "Notice that I have deleted the return line. This is because this function does not need to return anything to the user. Instead, it's sole purpose is to simply print off what the two arguments are. Let's reverse the order of our arguments now."
   ]
  },
  {
   "cell_type": "code",
   "execution_count": 5,
   "id": "present-mattress",
   "metadata": {},
   "outputs": [
    {
     "name": "stdout",
     "output_type": "stream",
     "text": [
      "Number 1 is  3\n",
      "Number 2 is  1\n"
     ]
    }
   ],
   "source": [
    "my_function3(3, 1)"
   ]
  },
  {
   "cell_type": "markdown",
   "id": "available-petroleum",
   "metadata": {},
   "source": [
    "Because these are positional arguments, we are dependent upon the position of the arguments to assign them correctly. We can get around this by specifying which argument we want to assign things to, thus avoiding the reliance on the order in which we pass the arguments to the function. Check out the code below to see this in action."
   ]
  },
  {
   "cell_type": "code",
   "execution_count": 6,
   "id": "imposed-spending",
   "metadata": {},
   "outputs": [
    {
     "name": "stdout",
     "output_type": "stream",
     "text": [
      "Number 1 is  1\n",
      "Number 2 is  3\n"
     ]
    }
   ],
   "source": [
    "my_function3(number2=3, number1=1)"
   ]
  },
  {
   "cell_type": "markdown",
   "id": "assisted-monte",
   "metadata": {},
   "source": [
    "## Keyword Argument"
   ]
  },
  {
   "cell_type": "markdown",
   "id": "studied-danish",
   "metadata": {},
   "source": [
    "Sometimes when we create a function, we want to make it optional for the user to pass an argument. In these instances, we will create what is known as a keyword argument, something that is set to a default. In the function below, we want to give the user the option to pass a last name to the function. Notice, though, it defaults to \"Mattingly\"."
   ]
  },
  {
   "cell_type": "code",
   "execution_count": 7,
   "id": "formal-modern",
   "metadata": {},
   "outputs": [],
   "source": [
    "def add_surname(first_name, last_name = \"Mattingly\"):\n",
    "    print (first_name, last_name)"
   ]
  },
  {
   "cell_type": "code",
   "execution_count": 8,
   "id": "aggressive-investing",
   "metadata": {},
   "outputs": [
    {
     "name": "stdout",
     "output_type": "stream",
     "text": [
      "William Mattingly\n"
     ]
    }
   ],
   "source": [
    "add_surname(\"William\")"
   ]
  },
  {
   "cell_type": "markdown",
   "id": "killing-publicity",
   "metadata": {},
   "source": [
    "That worked well, but a user still has the ability to change the last_name object."
   ]
  },
  {
   "cell_type": "code",
   "execution_count": 9,
   "id": "fifteen-buffalo",
   "metadata": {},
   "outputs": [
    {
     "name": "stdout",
     "output_type": "stream",
     "text": [
      "William Smith\n"
     ]
    }
   ],
   "source": [
    "add_surname(\"William\", \"Smith\")"
   ]
  },
  {
   "cell_type": "markdown",
   "id": "associate-redhead",
   "metadata": {},
   "source": [
    "## Keyword Arbitrary Arguments"
   ]
  },
  {
   "cell_type": "markdown",
   "id": "unauthorized-champion",
   "metadata": {},
   "source": [
    "In rare instances, you will not know precisely how many arguments a user will need to pass to your function, so you want to give them the option to pass as many as they wish. In these instances, you will use what are known as arbitrary arguments. You assign these with an * before the argument name."
   ]
  },
  {
   "cell_type": "code",
   "execution_count": 10,
   "id": "rough-shame",
   "metadata": {},
   "outputs": [],
   "source": [
    "def print_names(*names):\n",
    "    for name in names:\n",
    "        print (name)"
   ]
  },
  {
   "cell_type": "code",
   "execution_count": 11,
   "id": "lovely-windsor",
   "metadata": {},
   "outputs": [
    {
     "name": "stdout",
     "output_type": "stream",
     "text": [
      "William\n",
      "Marge\n",
      "Sally\n",
      "Alex\n"
     ]
    }
   ],
   "source": [
    "print_names(\"William\", \"Marge\", \"Sally\", \"Alex\")"
   ]
  },
  {
   "cell_type": "markdown",
   "id": "baking-parks",
   "metadata": {},
   "source": [
    "Notice that the function has allowed the user to pass as many arguments as they wish to the function. In my entire time coding, I have only used an arbitrary argument a handful of times, but it is important to keep it in the back of your mind in case you are ever in that situation."
   ]
  },
  {
   "cell_type": "markdown",
   "id": "unexpected-saying",
   "metadata": {},
   "source": [
    "## Conclusion"
   ]
  },
  {
   "cell_type": "markdown",
   "id": "handmade-while",
   "metadata": {},
   "source": [
    "Hopefully, you now have a basic understanding about what functions are and how they work in practice. I recommend spending a few hours playing around with some basic functions to do some tasks you need to perform on your own personal data. If you get stuck, try Googling your question. You would be surprised how many responses are available. Pay particular attention to StackOverflow responses."
   ]
  },
  {
   "cell_type": "markdown",
   "id": "matched-cycle",
   "metadata": {},
   "source": [
    "## Answer for Result"
   ]
  },
  {
   "cell_type": "code",
   "execution_count": 4,
   "id": "french-drive",
   "metadata": {},
   "outputs": [
    {
     "name": "stdout",
     "output_type": "stream",
     "text": [
      "2\n"
     ]
    }
   ],
   "source": [
    "print (result)"
   ]
  },
  {
   "cell_type": "code",
   "execution_count": null,
   "id": "better-stage",
   "metadata": {},
   "outputs": [],
   "source": []
  }
 ],
 "metadata": {
  "kernelspec": {
   "display_name": "Python 3 (ipykernel)",
   "language": "python",
   "name": "python3"
  },
  "language_info": {
   "codemirror_mode": {
    "name": "ipython",
    "version": 3
   },
   "file_extension": ".py",
   "mimetype": "text/x-python",
   "name": "python",
   "nbconvert_exporter": "python",
   "pygments_lexer": "ipython3",
   "version": "3.9.7"
  }
 },
 "nbformat": 4,
 "nbformat_minor": 5
}
