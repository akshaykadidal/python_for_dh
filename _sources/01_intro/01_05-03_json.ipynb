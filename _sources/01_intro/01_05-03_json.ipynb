{
 "cells": [
  {
   "cell_type": "markdown",
   "id": "forced-flush",
   "metadata": {},
   "source": [
    "# <center>Working with JSON Data</center>"
   ]
  },
  {
   "cell_type": "markdown",
   "id": "designed-reform",
   "metadata": {},
   "source": [
    "## Introduction"
   ]
  },
  {
   "cell_type": "markdown",
   "id": "danish-solution",
   "metadata": {},
   "source": [
    "In this chapter, you will meet JSON data. JSON is a data format that is frequently used online. It stands for JavaScript Object Notation. It is the principal way in which data is stored for websites and called by JavaScript. There are two reasons to learn JSON data structures early in your coding career.\n",
    "\n",
    "1) JSON is universally recognized by all browsers.\n",
    "2) JSON allows you to structure hierarchical data.\n",
    "\n",
    "What is hierarchical data? This is data that may be nested within other data. This type of data is sometimes difficult to represent cleanly in CSV format. A good way to think about this is with the following data structure. Imagine you wanted to store a series of texts in Excel. In one column, you would have a text and then in the next column, you would store a list of speakers. Now, how do you represent the list of names? You could do it like this:"
   ]
  },
  {
   "cell_type": "markdown",
   "id": "fundamental-mortality",
   "metadata": {},
   "source": [
    "| Text                                                             | Names                        |\n",
    "|------------------------------------------------------------------|------------------------------|\n",
    "| John and Kathy both know each other. Marge and Francois do not. | John, Kathy, Marge, Francois |"
   ]
  },
  {
   "cell_type": "markdown",
   "id": "responsible-coffee",
   "metadata": {},
   "source": [
    "But this can get messy really quickly because lists are difficult to store as a data structure within a cell. There are ways to get around this, but when you start working with this type of CSV data computationally, it can get complicated the deeper the hierarchies go. Imagine if for each person, we had an age and a role. How would we store that data? Perhaps like this:"
   ]
  },
  {
   "cell_type": "markdown",
   "id": "center-feeding",
   "metadata": {},
   "source": [
    "| Text                                                             | Names                        | Age            |\n",
    "|------------------------------------------------------------------|------------------------------|----------------|\n",
    "| John and Kathy both know each other. Marge and Francois do not. | John, Kathy, Marge, Francois | 20, 25, 30, 35 |"
   ]
  },
  {
   "cell_type": "markdown",
   "id": "aboriginal-world",
   "metadata": {},
   "source": [
    "If I want to update the data, I need to make sure that the list of ages corresponds to the list of names. Again, this can lead to issues down the road. The solution is to stop using CSV or Excel to store this type of data and use a format that is more flexible and able to handle things like lists and nested hierarchical data. In Python, the easiest solution is JSON. To use JSON, you do not need to install any special libraries. It comes prebuilt with a special library called JSON. The only methods you need to know to use JSON: json.dump() and json.load(). But first, let's import json."
   ]
  },
  {
   "cell_type": "code",
   "execution_count": 1,
   "id": "usual-documentary",
   "metadata": {},
   "outputs": [],
   "source": [
    "import json"
   ]
  },
  {
   "cell_type": "markdown",
   "id": "surprising-dispute",
   "metadata": {},
   "source": [
    "Let's create the data above as a data structure within Python."
   ]
  },
  {
   "cell_type": "code",
   "execution_count": 1,
   "id": "south-feeling",
   "metadata": {},
   "outputs": [
    {
     "data": {
      "text/plain": [
       "{'text': 'John and Kathy both know each other. Marge and Francois do not.',\n",
       " 'names': ['John', 'Kathy', 'Marge', 'Francois']}"
      ]
     },
     "execution_count": 1,
     "metadata": {},
     "output_type": "execute_result"
    }
   ],
   "source": [
    "data = {\"text\": \"John and Kathy both know each other. Marge and Francois do not.\",\n",
    "        \"names\": [\"John\", \"Kathy\", \"Marge\", \"Francois\"]}\n",
    "data"
   ]
  },
  {
   "cell_type": "markdown",
   "id": "pending-figure",
   "metadata": {},
   "source": [
    "## json.dump()"
   ]
  },
  {
   "cell_type": "markdown",
   "id": "failing-elevation",
   "metadata": {},
   "source": [
    "Now, let's try and store that data outside of Python as a JSON file. To do that, we with use the with open operator we learned about in the last chapter. Instead of naming this a .txt file, however, we will name is .json. Next, we will execute the command json.dump(). This will take 2 essential arguments: the data that you want to dump to the file and the object in which you want to dump the data, in this case \"f\". The other keyword argument here is indent. I always like to use this because it makes the JSON file easier to read. It indents the data 4 spaces each time it goes deeper into the hierarchy."
   ]
  },
  {
   "cell_type": "code",
   "execution_count": 12,
   "id": "unique-atlas",
   "metadata": {},
   "outputs": [],
   "source": [
    "with open (\"data/sample_json.json\", \"w\") as f:\n",
    "    json.dump(data, f, indent=4)"
   ]
  },
  {
   "cell_type": "markdown",
   "id": "above-agriculture",
   "metadata": {},
   "source": [
    "## json.load()"
   ]
  },
  {
   "cell_type": "markdown",
   "id": "million-current",
   "metadata": {},
   "source": [
    "Now that we have dumped the data into a file, let's try and load it back up. Here, we will open the same JSON file, but this time as readable. We will create a new object, new_data and use json.load(). This will take one argument, the file object that you want to load from. So long as your JSON file is not corrupted, the data will load successfully."
   ]
  },
  {
   "cell_type": "code",
   "execution_count": 14,
   "id": "respiratory-surgery",
   "metadata": {},
   "outputs": [
    {
     "data": {
      "text/plain": [
       "{'text': 'John and Kathy both know each other. Marge and Francois do not.',\n",
       " 'names': ['John', 'Kathy', 'Marge', 'Francois']}"
      ]
     },
     "execution_count": 14,
     "metadata": {},
     "output_type": "execute_result"
    }
   ],
   "source": [
    "with open (\"data/sample_json.json\", \"r\") as f:\n",
    "    new_data = json.load(f)\n",
    "new_data"
   ]
  },
  {
   "cell_type": "markdown",
   "id": "earlier-festival",
   "metadata": {},
   "source": [
    "These are the only two commands that you need to know to start working with JSON data in Python. I highly encourage you to spend a few minutes playing with these commands and trying to store data with json.dump() and load data with json.load()"
   ]
  },
  {
   "cell_type": "code",
   "execution_count": null,
   "id": "surrounded-protest",
   "metadata": {},
   "outputs": [],
   "source": []
  }
 ],
 "metadata": {
  "kernelspec": {
   "display_name": "Python 3 (ipykernel)",
   "language": "python",
   "name": "python3"
  },
  "language_info": {
   "codemirror_mode": {
    "name": "ipython",
    "version": 3
   },
   "file_extension": ".py",
   "mimetype": "text/x-python",
   "name": "python",
   "nbconvert_exporter": "python",
   "pygments_lexer": "ipython3",
   "version": "3.9.7"
  }
 },
 "nbformat": 4,
 "nbformat_minor": 5
}
