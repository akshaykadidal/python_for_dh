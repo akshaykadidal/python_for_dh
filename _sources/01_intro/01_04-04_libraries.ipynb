{
 "cells": [
  {
   "cell_type": "markdown",
   "id": "a020828c",
   "metadata": {},
   "source": [
    "# Libraries in Python"
   ]
  },
  {
   "cell_type": "markdown",
   "id": "f87ec03a",
   "metadata": {},
   "source": [
    "## Introduction"
   ]
  },
  {
   "cell_type": "markdown",
   "id": "7712475b",
   "metadata": {},
   "source": [
    "Libraries are common across all programming languages. They allow you to import large amounts of code that contain functions and classes that you can leverage in your own code. A good way to think about a library is as the old expression: \"don't reinvent the wheel\". Use what others have done! Open-source is open for a reason! People who make these libraries do it so that you don't have to solve certain problems. They've done it for you.\n",
    "\n",
    "In this chapter, we will learn how to install and import libraries. The reason we are doing this now is because the remainder of this textbook will require external libraries, specifically pandas, requests, and BeautifulSoup."
   ]
  },
  {
   "cell_type": "markdown",
   "id": "63d94fc6",
   "metadata": {},
   "source": [
    "## How to Install Python Libraries"
   ]
  },
  {
   "cell_type": "markdown",
   "id": "776ad3fd",
   "metadata": {},
   "source": [
    "Python comes preinstalled with pip. <b>Pip</b> is a package manager. It downloads, installs, and manages different versions of software on your machine. If you are coming to this textbook from windows, this concept might be a bit foreign. Think of pip something that will manage all your libraries for you. If you have installed Python via Anaconda, as I recommended, then pip will be automatically put into your system's Path. <b>Path</b> on Windows is a way that your computer can understand commands for exe files that you have on your system. If you open the terminal and you type \"pip --version\". On Windows, the terminal is command prompt.\n",
    "\n",
    "Because I am using JupyterNotebook for this textbook, I can make terminal commands with the \"!\" before a block of code. When you type \"pip --version\", you should see something like the following output."
   ]
  },
  {
   "cell_type": "code",
   "execution_count": 2,
   "id": "1f9ce99c",
   "metadata": {},
   "outputs": [
    {
     "name": "stdout",
     "output_type": "stream",
     "text": [
      "pip 21.2.4 from /home/wjbmattingly/anaconda3/lib/python3.9/site-packages/pip (python 3.9)\n"
     ]
    }
   ],
   "source": [
    "!pip --version"
   ]
  },
  {
   "cell_type": "markdown",
   "id": "f471293f",
   "metadata": {},
   "source": [
    "If pip is working, then it means we can install the libraries that we will need for the remainder of the textbook. We will require three libraries:\n",
    "\n",
    "- Pandas\n",
    "- requests\n",
    "- BeautifulSoup\n",
    "\n",
    "To install a library, you use the pip command \"pip install library_name\", like so:"
   ]
  },
  {
   "cell_type": "markdown",
   "id": "607ccd96",
   "metadata": {},
   "source": [
    "!pip install pandas"
   ]
  },
  {
   "cell_type": "markdown",
   "id": "cab0d590",
   "metadata": {},
   "source": [
    "You should see an output similar to this. If you do, then pandas has installed correctly. Let's now do the same thing for requests and BeautifulSoup."
   ]
  },
  {
   "cell_type": "code",
   "execution_count": 5,
   "id": "39daea1a",
   "metadata": {},
   "outputs": [
    {
     "name": "stdout",
     "output_type": "stream",
     "text": [
      "Requirement already satisfied: requests in /home/wjbmattingly/anaconda3/lib/python3.9/site-packages (2.27.1)\n",
      "Requirement already satisfied: idna<4,>=2.5 in /home/wjbmattingly/anaconda3/lib/python3.9/site-packages (from requests) (3.3)\n",
      "Requirement already satisfied: urllib3<1.27,>=1.21.1 in /home/wjbmattingly/anaconda3/lib/python3.9/site-packages (from requests) (1.26.8)\n",
      "Requirement already satisfied: charset-normalizer~=2.0.0 in /home/wjbmattingly/anaconda3/lib/python3.9/site-packages (from requests) (2.0.4)\n",
      "Requirement already satisfied: certifi>=2017.4.17 in /home/wjbmattingly/anaconda3/lib/python3.9/site-packages (from requests) (2021.10.8)\n"
     ]
    }
   ],
   "source": [
    "!pip install requests"
   ]
  },
  {
   "cell_type": "markdown",
   "id": "f2428b7d",
   "metadata": {},
   "source": [
    "If you have already installed a library, the output will look something like this above.\n",
    "\n",
    "For BeautifulSoup, we need to say pip install beautifulsoup4 (I will explain why later in this textbook.)"
   ]
  },
  {
   "cell_type": "code",
   "execution_count": 6,
   "id": "facd7960",
   "metadata": {},
   "outputs": [
    {
     "name": "stdout",
     "output_type": "stream",
     "text": [
      "Collecting beautifulsoup4\n",
      "  Downloading beautifulsoup4-4.10.0-py3-none-any.whl (97 kB)\n",
      "\u001b[K     |████████████████████████████████| 97 kB 2.5 MB/s eta 0:00:011\n",
      "\u001b[?25hCollecting soupsieve>1.2\n",
      "  Downloading soupsieve-2.3.1-py3-none-any.whl (37 kB)\n",
      "Installing collected packages: soupsieve, beautifulsoup4\n",
      "Successfully installed beautifulsoup4-4.10.0 soupsieve-2.3.1\n"
     ]
    }
   ],
   "source": [
    "!pip install beautifulsoup4"
   ]
  },
  {
   "cell_type": "markdown",
   "id": "10d7084d",
   "metadata": {},
   "source": [
    "And that's it! You have installed 3 new Python libraries! We need to learn one last thing, though, before we conclude this chapter. We need to learn how to import libraries within a Python script."
   ]
  },
  {
   "cell_type": "markdown",
   "id": "d32c3a5c",
   "metadata": {},
   "source": [
    "## How to Import a Library"
   ]
  },
  {
   "cell_type": "markdown",
   "id": "fab4503a",
   "metadata": {},
   "source": [
    "To import a library, we use the command import library_name, like so:"
   ]
  },
  {
   "cell_type": "code",
   "execution_count": 8,
   "id": "bde38c4b",
   "metadata": {},
   "outputs": [],
   "source": [
    "import requests"
   ]
  },
  {
   "cell_type": "markdown",
   "id": "463a51cb",
   "metadata": {},
   "source": [
    "Sometimes, when we work with libraries, there is a certain Pythonic way to import the library. A classic case is pandas. With pandas, we import it \"as pd\". The \"as pd\" means that the name in the script will not be \"pandas\", rather \"pd\"."
   ]
  },
  {
   "cell_type": "code",
   "execution_count": 7,
   "id": "77b9d0fb",
   "metadata": {},
   "outputs": [],
   "source": [
    "import pandas as pd"
   ]
  },
  {
   "cell_type": "markdown",
   "id": "b35e5d7c",
   "metadata": {},
   "source": [
    "## Conclusion"
   ]
  },
  {
   "cell_type": "markdown",
   "id": "4d194363",
   "metadata": {},
   "source": [
    "That's all we need to cover in this chapter about libraries. You should feel a bit more comfortable about what libraries are, why they are useful, how to install them, and how to import them. As we continue through the final parts of this textbook, you will become more comfortable with libraries."
   ]
  }
 ],
 "metadata": {
  "kernelspec": {
   "display_name": "Python 3 (ipykernel)",
   "language": "python",
   "name": "python3"
  },
  "language_info": {
   "codemirror_mode": {
    "name": "ipython",
    "version": 3
   },
   "file_extension": ".py",
   "mimetype": "text/x-python",
   "name": "python",
   "nbconvert_exporter": "python",
   "pygments_lexer": "ipython3",
   "version": "3.9.12"
  }
 },
 "nbformat": 4,
 "nbformat_minor": 5
}
