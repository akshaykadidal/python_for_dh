{
 "cells": [
  {
   "cell_type": "markdown",
   "id": "e7ec6b0a-2a2c-4edb-a9b7-6fdd09e2109f",
   "metadata": {},
   "source": [
    "# Formal Coding: Functions, Classes, and Libraries"
   ]
  },
  {
   "cell_type": "markdown",
   "id": "67f34a7c-9486-4cbc-b58a-8fdca2a59b29",
   "metadata": {},
   "source": [
    "Covered in this Chapter"
   ]
  },
  {
   "cell_type": "markdown",
   "id": "6e7bb295-708b-4fa5-a496-538307d4d762",
   "metadata": {},
   "source": [
    "1) What a function is conceptually<br>\n",
    "2) How to create a function<br>\n",
    "3) How to assign arguments to a function<br>\n",
    "4) How to assign variable keyword arguments to a function<br>\n",
    "5) How to assign variable arbitrary arguments to a function<br>\n",
    "6) Classes<br>\n",
    "7) Methods<br>\n",
    "8) How to Create Class<br>\n",
    "9) External Libraries<br>\n",
    "10) How to Install Libraries<br>\n",
    "11) How to Import Libraries<br>"
   ]
  },
  {
   "cell_type": "code",
   "execution_count": null,
   "id": "d9aa660c-3704-412d-a93b-51667be18bfd",
   "metadata": {},
   "outputs": [],
   "source": []
  }
 ],
 "metadata": {
  "kernelspec": {
   "display_name": "Python 3 (ipykernel)",
   "language": "python",
   "name": "python3"
  },
  "language_info": {
   "codemirror_mode": {
    "name": "ipython",
    "version": 3
   },
   "file_extension": ".py",
   "mimetype": "text/x-python",
   "name": "python",
   "nbconvert_exporter": "python",
   "pygments_lexer": "ipython3",
   "version": "3.8.5"
  }
 },
 "nbformat": 4,
 "nbformat_minor": 5
}
