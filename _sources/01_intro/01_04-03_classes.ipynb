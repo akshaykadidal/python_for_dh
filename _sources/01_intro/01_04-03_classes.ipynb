{
 "cells": [
  {
   "cell_type": "markdown",
   "id": "025bc8cf",
   "metadata": {},
   "source": [
    "# <center>Classes</center>"
   ]
  },
  {
   "cell_type": "markdown",
   "id": "2d0c6fc5",
   "metadata": {},
   "source": [
    "## Introduction"
   ]
  },
  {
   "cell_type": "markdown",
   "id": "f1f6c520",
   "metadata": {},
   "source": [
    "In this section, we will meet classes. **Classes** are rather like data structures, but they differ in one significant way. They can have functions attached to them. When you create a class in Python, you are essentially creating a special kind of data object that can have functions. Functions embedded within classes are known as **methods**. You have actually already met methods. In chapter 02_01 when we first learned about strings, you may recall that when we altered the data, we used a \".\" after the string object name followed by the function (method) that we wanted to call, e.g. str1.replace(something, something_else). This is what separates a function from a method syntactically in python. While a function is called by itself, a method must be called from a class object. While there is no easy way to explain this distinction, I hope that this explanation will be aided by working with classes and methods at a closer level below."
   ]
  },
  {
   "cell_type": "markdown",
   "id": "5a7a3eea",
   "metadata": {},
   "source": [
    "## Creating a Class"
   ]
  },
  {
   "cell_type": "markdown",
   "id": "747a63e7",
   "metadata": {},
   "source": [
    "Let's try creating a basic Class. Our class with store data specifically related to emperors, so let's go ahead and give it the name `Emperor`. We expect each emperor in our dataset to have four attributes: name, birth, coronation, and death."
   ]
  },
  {
   "cell_type": "code",
   "execution_count": 9,
   "id": "2a2e0b6c",
   "metadata": {},
   "outputs": [],
   "source": [
    "class Emperor:\n",
    "    def __init__(self, name, birth, coronation, death):\n",
    "        self.name = name\n",
    "        self.birth = birth\n",
    "        self.coronation = coronation\n",
    "        self.death = death"
   ]
  },
  {
   "cell_type": "markdown",
   "id": "64f665d2",
   "metadata": {},
   "source": [
    "This is the way this basic class will look. It can be a bit difficult to parse what is happening here when you see it for the first time, so let's break it down a bit.\n",
    "\n",
    "In line one, we state:\n",
    "\n",
    "```\n",
    "class Emperor:\n",
    "```\n",
    "The first word we see is the keyword `class`. Python will see this and expect the syntax for a `class object` to follow. This is rather like the function's `def` which starts to define a new function.\n",
    "\n",
    "The next thing we see is the class name. In our case, this is `Emperor`. After the class name, we have `()`. This is followed by `:` which concludes our first line. This also means that Python will expect the next line to be indented.\n",
    "\n",
    "The next line reads:\n",
    "```\n",
    "def __init__(self, name, birth coronation, death)\n",
    "```\n",
    "\n",
    "This is the structure you will use for most classes. The def `__init__()` is a special method that loads when the class instance is created. Next, we see the parameters the function will take within the `()`. There are five parameters. The first is `self` which points to the instance of the class itself. You should always write `self` here first. The next four parameters are `name`, `birth`, `coronation`, and `death`.\n",
    "\n",
    "The `self` parameter also allows each of the attributes: `name`, `birth`, `coronation`, and `death`, to be associated with a unique instance of class. This will become more clear as we proceed.\n",
    "\n",
    "The next four lines are indented and read:\n",
    "\n",
    "```\n",
    "self.name = name\n",
    "self.birth = birth\n",
    "self.coronation = coronation\n",
    "self.death = death\n",
    "```\n",
    "\n",
    "This function will attach these attributes and bind them to the instance of the class, by stating `self.name = name` and so forth. With this, our class is created. Now, let's try and make an object that is associated with this class.\n",
    "\n",
    "As a Carolingianist, I studied Charlemagne, one of the most popular medieval kings who was the second Carolingian king. He was born in 742, coronated as Roman Emperor in 800 and died in 814. These are the four essential pieces of data we need for our class.\n",
    "\n",
    "We can create our special class object Emperor for Charlemagne by writing the following line of code."
   ]
  },
  {
   "cell_type": "code",
   "execution_count": 10,
   "id": "0dcda463",
   "metadata": {},
   "outputs": [],
   "source": [
    "charlemagne = Emperor(\"Charlemagne\", 742, 800, 814)"
   ]
  },
  {
   "cell_type": "markdown",
   "id": "2a55a4fe",
   "metadata": {},
   "source": [
    "Notice that we create the class object by using the class name, Emperor() and passing four arguments associated with the four attributes: name, birth, coronation, death.\n",
    "\n",
    "Let's now try and print off that class object."
   ]
  },
  {
   "cell_type": "code",
   "execution_count": 11,
   "id": "e7757153",
   "metadata": {},
   "outputs": [
    {
     "name": "stdout",
     "output_type": "stream",
     "text": [
      "<__main__.Emperor object at 0x7fdd6c16fc70>\n"
     ]
    }
   ],
   "source": [
    "print (charlemagne)"
   ]
  },
  {
   "cell_type": "markdown",
   "id": "2b99d5fe",
   "metadata": {},
   "source": [
    "This is new and likely not what you expected. This indicates that the object is a special class object. We can get the data from this class object by using the vars() command."
   ]
  },
  {
   "cell_type": "code",
   "execution_count": 12,
   "id": "5476cacd",
   "metadata": {},
   "outputs": [
    {
     "name": "stdout",
     "output_type": "stream",
     "text": [
      "{'name': 'Charlemagne', 'birth': 742, 'coronation': 800, 'death': 814}\n"
     ]
    }
   ],
   "source": [
    "print(vars(charlemagne))"
   ]
  },
  {
   "cell_type": "markdown",
   "id": "2811f9f8-ddc4-426b-97b2-c0353a974d0d",
   "metadata": {},
   "source": [
    "We can access specific pieces of data in our class by calling our class object and then using `.name_of_attribute`. If we wanted to access Charlemagne's birth year, for example, we could use the following command."
   ]
  },
  {
   "cell_type": "code",
   "execution_count": 5,
   "id": "8c52df93-0798-4ea6-9bac-29e0d53b65db",
   "metadata": {},
   "outputs": [
    {
     "name": "stdout",
     "output_type": "stream",
     "text": [
      "742\n"
     ]
    }
   ],
   "source": [
    "print(charlemagne.birth)"
   ]
  },
  {
   "cell_type": "markdown",
   "id": "044117a3",
   "metadata": {},
   "source": [
    "At this point, you may be thinking to yourself: \"...what's the big deal? I've just made a dictionary.\"\n",
    "\n",
    "And, at this point, you would be right. Our class, the way it is structured is really nothing more than a dictionary of data stored in a special way. This really is not a good usecase for a class. Remember, what makes classes unique is the ability to attach functions to them. Let's learn how to do that now!"
   ]
  },
  {
   "cell_type": "markdown",
   "id": "13ac1c30",
   "metadata": {},
   "source": [
    "## Adding Functions to a Class"
   ]
  },
  {
   "cell_type": "markdown",
   "id": "fe65f457",
   "metadata": {},
   "source": [
    "To create a function within a class, we create a function within it. Let's make a simple function that will print off a string that states who the emperor is and when that emperor was born. To do that, we will alter a class as so:"
   ]
  },
  {
   "cell_type": "code",
   "execution_count": 6,
   "id": "1fe9b8a2",
   "metadata": {},
   "outputs": [],
   "source": [
    "class Emperor():\n",
    "    def __init__(self, name, birth, coron, death):\n",
    "        self.name = name\n",
    "        self.birth = birth\n",
    "        self.coron = coron\n",
    "        self.death = death\n",
    "    def birth_date(self):\n",
    "        print (f\"{self.name} was born in {self.birth}\")"
   ]
  },
  {
   "cell_type": "markdown",
   "id": "9863488d",
   "metadata": {},
   "source": [
    "Notice that we have now added a function within our class called `birth_date()`. This will receive self, or all the data associated with that particular class. This function will now strictly print off an f string that will state when a specific emperor was born.\n",
    "\n",
    "Now, we just need to create a new class for Charlemagne."
   ]
  },
  {
   "cell_type": "code",
   "execution_count": 7,
   "id": "df006e3d",
   "metadata": {},
   "outputs": [],
   "source": [
    "charlemagne = Emperor(\"Charlemagne\", 742, 800, 814)"
   ]
  },
  {
   "cell_type": "markdown",
   "id": "c173fa06",
   "metadata": {},
   "source": [
    "Within this class, we can access the method `birth_date()`, like so:"
   ]
  },
  {
   "cell_type": "code",
   "execution_count": 8,
   "id": "3f640a64",
   "metadata": {},
   "outputs": [
    {
     "name": "stdout",
     "output_type": "stream",
     "text": [
      "Charlemagne was born in 742\n"
     ]
    }
   ],
   "source": [
    "charlemagne.birth_date()"
   ]
  },
  {
   "cell_type": "markdown",
   "id": "a1f089d8",
   "metadata": {},
   "source": [
    "And viola! You have now created your first class that has a specific function associated with it. Classes and functions are the two building blocks of any project. They allow for you to have tight, neater code that will be easier to read and look polished and professional. They prevent the writing of duplicate code. While it may appear unnecessary at times to view your code through functions and classes, I highly encourage you to start looking at it that way. It will make you a better programmer and you are less likely to have mistakes in your code."
   ]
  },
  {
   "cell_type": "code",
   "execution_count": null,
   "id": "0b3d6f75",
   "metadata": {},
   "outputs": [],
   "source": []
  }
 ],
 "metadata": {
  "kernelspec": {
   "display_name": "Python 3 (ipykernel)",
   "language": "python",
   "name": "python3"
  },
  "language_info": {
   "codemirror_mode": {
    "name": "ipython",
    "version": 3
   },
   "file_extension": ".py",
   "mimetype": "text/x-python",
   "name": "python",
   "nbconvert_exporter": "python",
   "pygments_lexer": "ipython3",
   "version": "3.9.7"
  }
 },
 "nbformat": 4,
 "nbformat_minor": 5
}
