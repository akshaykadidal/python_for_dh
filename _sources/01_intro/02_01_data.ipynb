{
 "cells": [
  {
   "cell_type": "markdown",
   "id": "marked-cruise",
   "metadata": {},
   "source": [
    "# <center>Introduction to Data</center>"
   ]
  },
  {
   "cell_type": "markdown",
   "id": "romance-aside",
   "metadata": {},
   "source": [
    "## Some Quick Notes about Terminology and Commands we will Use"
   ]
  },
  {
   "cell_type": "markdown",
   "id": "retained-booth",
   "metadata": {},
   "source": [
    "### Objects"
   ]
  },
  {
   "cell_type": "markdown",
   "id": "raising-catalog",
   "metadata": {},
   "source": [
    "When we import or create data within Python, we are essentially creating an object in memory with a variable. These two words, <b>object</b> and <b>variable</b> mean slightly different things and, but are often used interchangeably. We will not get into the complexities of their differences and why they exist in this textbook, but for now, view an object as something that is created by a Python script and stored in your computer's memory so that it can be used later in a program.\n",
    "\n",
    "Think of your <b>computer's memory</b> rather like your own brain. Imagine if you needed to remember what the word for \"hello\" in German. You may use your memory rather like a flashcard, where \"hello\" in English equates to \"hallo\" in German. In Python, we create objects in a similar way. The object would be the dictionary entry of \"hello: hallo\".created"
   ]
  },
  {
   "cell_type": "markdown",
   "id": "1de1f033-8442-481e-87f4-8e32dbed1c3d",
   "metadata": {},
   "source": [
    "### Variables"
   ]
  },
  {
   "cell_type": "markdown",
   "id": "7bfa1c70-52a9-409c-b1a0-7acfacc1ece3",
   "metadata": {},
   "source": [
    "In order to reference this dictionary entry in memory, we need a way to reference it. We do this with a variable. The variable is simply the name of the item in our script that will point to that object in memory. Variables make it so that we can have an easy-to-remember name to reference, call, and change that object in memory.\n",
    "\n",
    "Variables can be created by typing a unique word, followed by an = sign, followed by the specific data. As we will learn throughout this chapter, there are many types of data that are created differently. Let's create our first object before we begin. This will be a string, or a piece of text. (We will learn about these in more detail below.) In my case, I want to create the object author. I want author to be associated with my name in memory. In the cell, or block of code, below, let's do this."
   ]
  },
  {
   "cell_type": "code",
   "execution_count": 1,
   "id": "equal-vietnam",
   "metadata": {},
   "outputs": [],
   "source": [
    "author = \"William Mattingly\""
   ]
  },
  {
   "cell_type": "markdown",
   "id": "bright-stereo",
   "metadata": {
    "tags": []
   },
   "source": [
    "### The Print Function"
   ]
  },
  {
   "cell_type": "markdown",
   "id": "intended-commissioner",
   "metadata": {},
   "source": [
    "Excellent! We have created our first object. Now, it is time to use that object. Below, we will learn about ways we can manipulate strings, but for now, let's simply see if that object exists in memory. We can do this with the print function.\n",
    "\n",
    "The print function will become your best friend in Python. It is, perhaps, the function I use most commonly. The reason for this is because the print function allows for you to easily debug, or identify problems and fix them, within your code. It allows us to print off objects that are stored in memory.\n",
    "\n",
    "To use the print function, we type the word print followed by an open parentheses. After the open parentheses, we place the object or that or piece of data that we want to print. After that, we close the function with the close parentheses. Let's try to print off our new object author to make sure it is in memory."
   ]
  },
  {
   "cell_type": "code",
   "execution_count": 2,
   "id": "reported-multiple",
   "metadata": {},
   "outputs": [
    {
     "name": "stdout",
     "output_type": "stream",
     "text": [
      "William Mattingly\n"
     ]
    }
   ],
   "source": [
    "print(author)"
   ]
  },
  {
   "cell_type": "markdown",
   "id": "given-undergraduate",
   "metadata": {},
   "source": [
    "Notice that when I execute the cell above, I see an output that relates to the object we created above. What would happen if I tried to print off that object, but I used a capital letter, rather than a lowercase one at the beginning, so Author, rather than author?"
   ]
  },
  {
   "cell_type": "markdown",
   "id": "adapted-chrome",
   "metadata": {},
   "source": [
    "### Case Sensitivity"
   ]
  },
  {
   "cell_type": "code",
   "execution_count": 3,
   "id": "defensive-presentation",
   "metadata": {},
   "outputs": [
    {
     "ename": "NameError",
     "evalue": "name 'Author' is not defined",
     "output_type": "error",
     "traceback": [
      "\u001b[0;31m---------------------------------------------------------------------------\u001b[0m",
      "\u001b[0;31mNameError\u001b[0m                                 Traceback (most recent call last)",
      "Input \u001b[0;32mIn [3]\u001b[0m, in \u001b[0;36m<cell line: 1>\u001b[0;34m()\u001b[0m\n\u001b[0;32m----> 1\u001b[0m \u001b[38;5;28mprint\u001b[39m (\u001b[43mAuthor\u001b[49m)\n",
      "\u001b[0;31mNameError\u001b[0m: name 'Author' is not defined"
     ]
    }
   ],
   "source": [
    "print(Author)"
   ]
  },
  {
   "cell_type": "markdown",
   "id": "racial-rochester",
   "metadata": {},
   "source": [
    "The scary looking block of text above indicates that we have produced an error in Python. This mistake teaches us two things. First, python is case sensitive. This means that if any object (or string) will need to be matched in not only letters, but also the case of those letters. Second, this mistake teaches us that we can only call objects that have been created and stored in memory."
   ]
  },
  {
   "cell_type": "markdown",
   "id": "4612462d-b2ca-4f29-a2dc-ffbc014de222",
   "metadata": {},
   "source": [
    "### Reserved Words"
   ]
  },
  {
   "cell_type": "markdown",
   "id": "9899fd1b-74fe-40e9-8b5c-baad0023f9f8",
   "metadata": {},
   "source": [
    "When working with Python, there are a number of words known as **reserve words**. These are words that cannot be used as variable names. As of Python version 3.6, there are a total of 33 reserve words. In can sometimes be difficult to remember all of these reserve words, so Python has a nice built in function, \"help\". If we execute the following command, we will see an entire list."
   ]
  },
  {
   "cell_type": "code",
   "execution_count": 13,
   "id": "d8a3eff4-f172-425c-b0b8-eafc51c6affa",
   "metadata": {},
   "outputs": [
    {
     "name": "stdout",
     "output_type": "stream",
     "text": [
      "\n",
      "Here is a list of the Python keywords.  Enter any keyword to get more help.\n",
      "\n",
      "False               class               from                or\n",
      "None                continue            global              pass\n",
      "True                def                 if                  raise\n",
      "and                 del                 import              return\n",
      "as                  elif                in                  try\n",
      "assert              else                is                  while\n",
      "async               except              lambda              with\n",
      "await               finally             nonlocal            yield\n",
      "break               for                 not                 \n",
      "\n"
     ]
    }
   ],
   "source": [
    "help(\"keywords\")"
   ]
  },
  {
   "cell_type": "markdown",
   "id": "43eb4d99-8a9d-4cad-a027-f6688849c648",
   "metadata": {},
   "source": [
    "These are words that you cannot use as a variable name."
   ]
  },
  {
   "cell_type": "markdown",
   "id": "90b30f6b-f6da-49c2-95a7-bd4ad82df909",
   "metadata": {},
   "source": [
    "### Built-in Types"
   ]
  },
  {
   "cell_type": "markdown",
   "id": "1f05b7bc-2eef-490c-8a20-88dd51e0535d",
   "metadata": {},
   "source": [
    "In addition to reserve words, there are also built-in types in Python. These are words that you can use (as we will see) to convert one type of data into another. There are 94 of these in total. Unlike reserve words, you *can* use a built-in type as a variable name. It is, however, strongly discouraged to do so because it will overwrite the intended use of these variable names in your script."
   ]
  },
  {
   "cell_type": "code",
   "execution_count": 8,
   "id": "a9b54a30-e785-494e-8554-89042364454d",
   "metadata": {},
   "outputs": [
    {
     "data": {
      "text/plain": [
       "[ArithmeticError,\n",
       " AssertionError,\n",
       " AttributeError,\n",
       " BaseException,\n",
       " BlockingIOError,\n",
       " BrokenPipeError,\n",
       " BufferError,\n",
       " BytesWarning,\n",
       " ChildProcessError,\n",
       " ConnectionAbortedError,\n",
       " ConnectionError,\n",
       " ConnectionRefusedError,\n",
       " ConnectionResetError,\n",
       " DeprecationWarning,\n",
       " EOFError,\n",
       " OSError,\n",
       " Exception,\n",
       " FileExistsError,\n",
       " FileNotFoundError,\n",
       " FloatingPointError,\n",
       " FutureWarning,\n",
       " GeneratorExit,\n",
       " OSError,\n",
       " ImportError,\n",
       " ImportWarning,\n",
       " IndentationError,\n",
       " IndexError,\n",
       " InterruptedError,\n",
       " IsADirectoryError,\n",
       " KeyError,\n",
       " KeyboardInterrupt,\n",
       " LookupError,\n",
       " MemoryError,\n",
       " ModuleNotFoundError,\n",
       " NameError,\n",
       " NotADirectoryError,\n",
       " NotImplementedError,\n",
       " OSError,\n",
       " OverflowError,\n",
       " PendingDeprecationWarning,\n",
       " PermissionError,\n",
       " ProcessLookupError,\n",
       " RecursionError,\n",
       " ReferenceError,\n",
       " ResourceWarning,\n",
       " RuntimeError,\n",
       " RuntimeWarning,\n",
       " StopAsyncIteration,\n",
       " StopIteration,\n",
       " SyntaxError,\n",
       " SyntaxWarning,\n",
       " SystemError,\n",
       " SystemExit,\n",
       " TabError,\n",
       " TimeoutError,\n",
       " TypeError,\n",
       " UnboundLocalError,\n",
       " UnicodeDecodeError,\n",
       " UnicodeEncodeError,\n",
       " UnicodeError,\n",
       " UnicodeTranslateError,\n",
       " UnicodeWarning,\n",
       " UserWarning,\n",
       " ValueError,\n",
       " Warning,\n",
       " OSError,\n",
       " ZeroDivisionError,\n",
       " _frozen_importlib.BuiltinImporter,\n",
       " bool,\n",
       " bytearray,\n",
       " bytes,\n",
       " classmethod,\n",
       " complex,\n",
       " dict,\n",
       " enumerate,\n",
       " filter,\n",
       " float,\n",
       " frozenset,\n",
       " int,\n",
       " list,\n",
       " map,\n",
       " memoryview,\n",
       " object,\n",
       " property,\n",
       " range,\n",
       " reversed,\n",
       " set,\n",
       " slice,\n",
       " staticmethod,\n",
       " str,\n",
       " super,\n",
       " tuple,\n",
       " type,\n",
       " zip]"
      ]
     },
     "execution_count": 8,
     "metadata": {},
     "output_type": "execute_result"
    }
   ],
   "source": [
    "import builtins\n",
    "[getattr(builtins, d) for d in dir(builtins) if isinstance(getattr(builtins, d), type)]"
   ]
  },
  {
   "cell_type": "markdown",
   "id": "b998c21c-ab3d-49b1-a4ee-865a78b9c718",
   "metadata": {},
   "source": [
    "Of this long list, I recommend paying particular attention to the ones that you are more likely to write naturally: bool, dict, float, int, list, map, object, property, range, reversed, set, slice, str, super, tuple, type, and zip. You are more likely to use these as variable names by accident than, say, ZeroDivisionError; and this shorter list is a lot easier to memorize."
   ]
  },
  {
   "cell_type": "markdown",
   "id": "trained-observation",
   "metadata": {},
   "source": [
    "## What is Data?"
   ]
  },
  {
   "cell_type": "markdown",
   "id": "southwest-binary",
   "metadata": {},
   "source": [
    "In Python there are seven key pieces of data and data structures with which we will be working:\n",
    "\n",
    "- strings (text)\n",
    "- integers (whole numbers)\n",
    "- floats (decimal numbers)\n",
    "- Booleans (True or False)\n",
    "- lists\n",
    "- tuples (lists that cannot be changed in memory)\n",
    "- dictionaries (key : value)\n",
    "\n",
    "In the next two chapters, we will explore each of these. While this chapter focuses on data: strings, integers, floats, and Booleans; the next chapter will focus on data structures: lists, tuples, and dictionaries.\n",
    "\n",
    "Data are pieces of information (the singular is datum)i.e., integers, floats, and strings. Data structures are objects that make data relational, i.e. lists, tuples, and dictionaries. Before you proceed to lesson three, you MUST have a basic understanding of the ways in which you create data in Python and the ways in which you make that data relational through data structures. Start to train your brain to recognize the Python syntax for these pieces of data and data structures discussed below."
   ]
  },
  {
   "cell_type": "markdown",
   "id": "selective-dutch",
   "metadata": {},
   "source": [
    "## Strings"
   ]
  },
  {
   "cell_type": "markdown",
   "id": "valid-karma",
   "metadata": {},
   "source": [
    "<b>Strings</b> are a sequence of characters. A good way to think about a string is as a text. We can create a string in python by designating a unique variable name and setting = to something within quotation marks, i.e. ” ” or ‘ ‘.\n",
    "\n",
    "The opening of a quotation mark indicates to Python that a string has begun and the closing of the same style of a quotation mark indicates the close of a string. It is important to use the same style of quotation mark for a string, either a double or a single. In the examples below, we have two string objects: a_string and b_string, the former corresponds to the string “Hello” and the latter corresponds to the string “Bye”.\n",
    "\n",
    "Let's take a look at a few examples of strings."
   ]
  },
  {
   "cell_type": "markdown",
   "id": "partial-found",
   "metadata": {},
   "source": [
    "### Examples of Strings"
   ]
  },
  {
   "cell_type": "code",
   "execution_count": 4,
   "id": "swiss-cardiff",
   "metadata": {},
   "outputs": [],
   "source": [
    "#Strings - any kind of text\n",
    "str1 = \"This is a string.\""
   ]
  },
  {
   "cell_type": "code",
   "execution_count": 5,
   "id": "exterior-camcorder",
   "metadata": {},
   "outputs": [
    {
     "name": "stdout",
     "output_type": "stream",
     "text": [
      "This is a string.\n"
     ]
    }
   ],
   "source": [
    "print (str1)"
   ]
  },
  {
   "cell_type": "code",
   "execution_count": 10,
   "id": "unique-hampton",
   "metadata": {},
   "outputs": [],
   "source": [
    "str2 = 'This is a string too.'"
   ]
  },
  {
   "cell_type": "code",
   "execution_count": 7,
   "id": "middle-hampshire",
   "metadata": {},
   "outputs": [
    {
     "name": "stdout",
     "output_type": "stream",
     "text": [
      "This is a string too.\n"
     ]
    }
   ],
   "source": [
    "print (str2)"
   ]
  },
  {
   "cell_type": "code",
   "execution_count": 8,
   "id": "sharp-nursery",
   "metadata": {},
   "outputs": [
    {
     "ename": "SyntaxError",
     "evalue": "invalid syntax (124381001.py, line 1)",
     "output_type": "error",
     "traceback": [
      "\u001b[0;36m  Input \u001b[0;32mIn [8]\u001b[0;36m\u001b[0m\n\u001b[0;31m    str3 = \"This is a \"bad\" example of a string\"\u001b[0m\n\u001b[0m                       ^\u001b[0m\n\u001b[0;31mSyntaxError\u001b[0m\u001b[0;31m:\u001b[0m invalid syntax\n"
     ]
    }
   ],
   "source": [
    "str3 = \"This is a \"bad\" example of a string\""
   ]
  },
  {
   "cell_type": "code",
   "execution_count": 10,
   "id": "thermal-spokesman",
   "metadata": {},
   "outputs": [],
   "source": [
    "str4 = '''\n",
    "This is a verrry long string.\n",
    "\n",
    "'''"
   ]
  },
  {
   "cell_type": "code",
   "execution_count": 11,
   "id": "interpreted-review",
   "metadata": {},
   "outputs": [
    {
     "name": "stdout",
     "output_type": "stream",
     "text": [
      "\n",
      "This is a verrry long string.\n",
      "\n",
      "\n"
     ]
    }
   ],
   "source": [
    "print (str4)"
   ]
  },
  {
   "cell_type": "markdown",
   "id": "exotic-morrison",
   "metadata": {},
   "source": [
    "## Numbers (Integers and Floats)"
   ]
  },
  {
   "cell_type": "markdown",
   "id": "falling-relay",
   "metadata": {},
   "source": [
    "Numbers are represented in programming languages in two several ways. The two we will deal with are integers and floats.\n",
    "\n",
    "An <b>integer</b> is a digit that does not contain a decimal place, i.e. 1 or 2 or 3. This can be a number of any size, such as 100,001,200. A float, on the other hand, is a digit with a decimal place. So, while 1 is an integer, 1.0 is a float. Floats, like integers, can be of any size, but they necessarily have a decimal place, i.e. 200.0020002938. In python, you do not need any special characters to create an integer or float object. You simply need an equal sign. In the example below, we have two objects which are created with a single equal sign. These objects are titled an_integer and a_float with the former being an object that corresponds to the integer 1 and the latter being an object that corresponds to the float 1.1."
   ]
  },
  {
   "cell_type": "markdown",
   "id": "preceding-transfer",
   "metadata": {},
   "source": [
    "### Examples of Numbers"
   ]
  },
  {
   "cell_type": "code",
   "execution_count": 12,
   "id": "olympic-slovenia",
   "metadata": {},
   "outputs": [],
   "source": [
    "int1 = 1"
   ]
  },
  {
   "cell_type": "code",
   "execution_count": 13,
   "id": "cheap-register",
   "metadata": {},
   "outputs": [
    {
     "name": "stdout",
     "output_type": "stream",
     "text": [
      "1\n"
     ]
    }
   ],
   "source": [
    "print (int1)"
   ]
  },
  {
   "cell_type": "code",
   "execution_count": 14,
   "id": "southeast-membership",
   "metadata": {},
   "outputs": [],
   "source": [
    "float1 = 1.1"
   ]
  },
  {
   "cell_type": "code",
   "execution_count": 15,
   "id": "later-vehicle",
   "metadata": {},
   "outputs": [
    {
     "name": "stdout",
     "output_type": "stream",
     "text": [
      "1.1\n"
     ]
    }
   ],
   "source": [
    "print (float1)"
   ]
  },
  {
   "cell_type": "markdown",
   "id": "improving-egyptian",
   "metadata": {},
   "source": [
    "## Booleans"
   ]
  },
  {
   "cell_type": "markdown",
   "id": "married-topic",
   "metadata": {},
   "source": [
    "The term boolean comes from Boolean algebra, which is a type of mathematics that works in binary logic. Binary is the basis for all computers, save for the more nascent quantum computers. Binary is 0 or 1; off or on; true or false. A boolean object in programming languages is either True or False. True is 1, while False is 0. In Python we can express these concepts with capitalized T or F in True or False. Let's make one such object now."
   ]
  },
  {
   "cell_type": "markdown",
   "id": "connected-registrar",
   "metadata": {},
   "source": [
    "### Examples of Booleans"
   ]
  },
  {
   "cell_type": "code",
   "execution_count": 16,
   "id": "funny-belize",
   "metadata": {},
   "outputs": [],
   "source": [
    "bool1 = True"
   ]
  },
  {
   "cell_type": "code",
   "execution_count": 17,
   "id": "outdoor-canada",
   "metadata": {},
   "outputs": [
    {
     "name": "stdout",
     "output_type": "stream",
     "text": [
      "True\n"
     ]
    }
   ],
   "source": [
    "print (bool1)"
   ]
  },
  {
   "cell_type": "code",
   "execution_count": 18,
   "id": "junior-evidence",
   "metadata": {},
   "outputs": [],
   "source": [
    "bool2 = True"
   ]
  },
  {
   "cell_type": "code",
   "execution_count": 19,
   "id": "stock-unemployment",
   "metadata": {},
   "outputs": [],
   "source": [
    "bool3 = False"
   ]
  },
  {
   "cell_type": "code",
   "execution_count": 20,
   "id": "structural-percentage",
   "metadata": {},
   "outputs": [
    {
     "name": "stdout",
     "output_type": "stream",
     "text": [
      "False\n"
     ]
    }
   ],
   "source": [
    "print (bool3)"
   ]
  },
  {
   "cell_type": "code",
   "execution_count": 21,
   "id": "promising-exploration",
   "metadata": {},
   "outputs": [],
   "source": [
    "bool4 = False"
   ]
  },
  {
   "cell_type": "markdown",
   "id": "lyric-fleet",
   "metadata": {},
   "source": [
    "## Working with Strings as Data"
   ]
  },
  {
   "cell_type": "markdown",
   "id": "scheduled-thomas",
   "metadata": {},
   "source": [
    "Often when working within Python, you will not be simply creating data, you will be manipulating it and changing it. Because humanists frequently work with strings, I recommend spending a good deal of time practicing and memorizing the basic ways we work with strings in Python via the built-in methods.\n",
    "\n",
    "In order to interact with strings as pieces of data, we use <b>methods</b> and <b>functions</b>. The chief functions for interacting with strings on a basic level come standard with Python. This means that you do not need to install third-party libraries. Later in this textbook we will do more advanced things with strings using third-party libraries, such as Regex, but for now, we will simply work with the basic methods.\n",
    "\n",
    "Let's learn to manipulate strings now through code, but first we need to create a string. Let's call it str6."
   ]
  },
  {
   "cell_type": "code",
   "execution_count": 22,
   "id": "latest-reading",
   "metadata": {},
   "outputs": [],
   "source": [
    "str6 = \"This is a new string.\""
   ]
  },
  {
   "cell_type": "markdown",
   "id": "intense-vampire",
   "metadata": {},
   "source": [
    "It is not a very clever name, but it will work for our purposes. Now, let's try to convert the entire string into all uppercase letters. We can do this with the method <b>.upper()</b>. Notice that the .upper() is coming after the string and within the () are no arguments. This is a way you can easily identify a method (as opposed to a function). We will learn more about these distinctions in the chapters on functions and classes."
   ]
  },
  {
   "cell_type": "code",
   "execution_count": 23,
   "id": "stylish-roller",
   "metadata": {},
   "outputs": [
    {
     "name": "stdout",
     "output_type": "stream",
     "text": [
      "THIS IS A NEW STRING.\n"
     ]
    }
   ],
   "source": [
    "print (str6.upper())"
   ]
  },
  {
   "cell_type": "markdown",
   "id": "computational-inspector",
   "metadata": {},
   "source": [
    "Noice that our string is now all uppercase. We can do the same thing with the <b>.lower()</b> method, but this method will make everything in the string lowercase."
   ]
  },
  {
   "cell_type": "code",
   "execution_count": 24,
   "id": "medical-priority",
   "metadata": {},
   "outputs": [
    {
     "name": "stdout",
     "output_type": "stream",
     "text": [
      "this is a new string.\n"
     ]
    }
   ],
   "source": [
    "print (str6.lower())"
   ]
  },
  {
   "cell_type": "markdown",
   "id": "single-aging",
   "metadata": {},
   "source": [
    "On the surface, these methods may appear to only be useful in niche circumstances. While these methods are useful for making strings look the way you want them to look, they have far greater utility. Imagine if you wanted to search for a name, \"William\", in a string. What if the data you are examining is from emails, text messages, etc. William may be capitalized or not. This means that you would have to run two searches for William across a string. If, however, you lowercase the string before you search, you can simply search for \"william\" and you will find all hits. This is one of the things that happens on the back-end of most search engines to ensure that your search is not strictly case-sensitive. In Python, however, it is important to do this step of data cleaning before running searches over strings.\n",
    "\n",
    "Let's explore another method, <b>.capitalize()</b>. This method will allow you to capitalize a string."
   ]
  },
  {
   "cell_type": "code",
   "execution_count": 25,
   "id": "discrete-peeing",
   "metadata": {},
   "outputs": [],
   "source": [
    "str7 = \"william\""
   ]
  },
  {
   "cell_type": "code",
   "execution_count": 26,
   "id": "medieval-price",
   "metadata": {},
   "outputs": [
    {
     "name": "stdout",
     "output_type": "stream",
     "text": [
      "William\n"
     ]
    }
   ],
   "source": [
    "print (str7.capitalize())"
   ]
  },
  {
   "cell_type": "markdown",
   "id": "diagnostic-eagle",
   "metadata": {},
   "source": [
    "I will use this in niche circumstances, particularly when I am performing data cleaning and need to ensure that all names or proper nouns in a dataset are cleaned and well-structured.\n",
    "\n",
    "Perhaps the most useful string method is .replace(). Notice in the cells below, replace takes a mandatory of two arguments, or things passed between the parentheses. Each is separated by a comma. The first argument is the substring or piece of the string that you want to replace and the second argument is what you want to replace it with. Why is this so useful? If you are using Python to analyze texts, those texts will, I promise, never be well-cleaned. They may have bad encoding, characters that will throw off searches, bad OCR, multiple line breaks, hyphenated characters, the list goes on. The <b>.replace()</b> method allows you to quickly and effectively clean textual data so that it can be standardized.\n",
    "\n",
    "Unlike the above methods, for .replace(), we need to put two things within the parentheses. These are known as arguments. This method requires two and they must be in order. The first is the thing that you want to replace and the second is the thing that you want to replace it with. These will be separated by a parentheses and both must be strings. It should, therefore, look something like this:\n",
    "\n",
    ".replace(\"the thing to replace\", \"the thing you want to replace it with\")\n",
    "\n",
    "In the example below, let's try and replace the period at the end of \"Mattingly.\""
   ]
  },
  {
   "cell_type": "code",
   "execution_count": 27,
   "id": "competent-saturday",
   "metadata": {},
   "outputs": [],
   "source": [
    "str8 = \"My name is William Mattingly.\""
   ]
  },
  {
   "cell_type": "code",
   "execution_count": 28,
   "id": "bacterial-milan",
   "metadata": {},
   "outputs": [
    {
     "name": "stdout",
     "output_type": "stream",
     "text": [
      "My name is William Mattingly\n"
     ]
    }
   ],
   "source": [
    "print (str8.replace(\".\", \"\"))"
   ]
  },
  {
   "cell_type": "markdown",
   "id": "retained-giving",
   "metadata": {},
   "source": [
    "Excellent! Now, let's try and reprint off str8 and see what happens."
   ]
  },
  {
   "cell_type": "code",
   "execution_count": 29,
   "id": "sudden-cooling",
   "metadata": {},
   "outputs": [
    {
     "name": "stdout",
     "output_type": "stream",
     "text": [
      "My name is William Mattingly.\n"
     ]
    }
   ],
   "source": [
    "print (str8)"
   ]
  },
  {
   "cell_type": "markdown",
   "id": "announced-chamber",
   "metadata": {},
   "source": [
    "Uh oh! Something is not right. Nothing has changed! Indeed, this is because strings are <b>immutable objects</b>. Immutable objects are objects that cannot be changed in memory. As we will see in the next chapter with lists, the other type of object is one that <i>can</i> be changed in memory. These are known as <b>mutable objects</b>. In order to change a string, therefore, you must recreate it in memory or create a new string object from it. Let's try and do that below."
   ]
  },
  {
   "cell_type": "code",
   "execution_count": 30,
   "id": "occupied-politics",
   "metadata": {},
   "outputs": [],
   "source": [
    "str9 = str8.replace(\".\", \"\")"
   ]
  },
  {
   "cell_type": "code",
   "execution_count": 31,
   "id": "satisfied-sphere",
   "metadata": {},
   "outputs": [
    {
     "name": "stdout",
     "output_type": "stream",
     "text": [
      "My name is William Mattingly\n"
     ]
    }
   ],
   "source": [
    "print (str9)"
   ]
  },
  {
   "cell_type": "markdown",
   "id": "statistical-stroke",
   "metadata": {},
   "source": [
    "Excellent! Now we have a new string that has been cleaned, but let's say I am only interested in grabbing what comes after the phrase \"My name is\". I have a couple different methods to do this. I could use the .replace() method."
   ]
  },
  {
   "cell_type": "code",
   "execution_count": 32,
   "id": "artificial-device",
   "metadata": {},
   "outputs": [],
   "source": [
    "str10 = str9.replace(\"My name is\", \"\")"
   ]
  },
  {
   "cell_type": "markdown",
   "id": "cognitive-practice",
   "metadata": {},
   "source": [
    "Everything looks good when we print it off below, but notice, there is a leading white space before the W. This is uncleaned data. We often want to remove leading or trailing whitespaces so that all data is consistent in our dataset. We can do this by using the .strip() method."
   ]
  },
  {
   "cell_type": "code",
   "execution_count": 33,
   "id": "regulation-surfing",
   "metadata": {},
   "outputs": [
    {
     "name": "stdout",
     "output_type": "stream",
     "text": [
      " William Mattingly\n"
     ]
    }
   ],
   "source": [
    "print (str10)"
   ]
  },
  {
   "cell_type": "code",
   "execution_count": 34,
   "id": "spare-marsh",
   "metadata": {},
   "outputs": [
    {
     "name": "stdout",
     "output_type": "stream",
     "text": [
      "William Mattingly\n"
     ]
    }
   ],
   "source": [
    "print (str10.strip())"
   ]
  },
  {
   "cell_type": "markdown",
   "id": "included-alexander",
   "metadata": {},
   "source": [
    "Now, our data is cleaned."
   ]
  },
  {
   "cell_type": "code",
   "execution_count": 35,
   "id": "breathing-scoop",
   "metadata": {},
   "outputs": [
    {
     "name": "stdout",
     "output_type": "stream",
     "text": [
      "My name is William Mattingly\n"
     ]
    }
   ],
   "source": [
    "print (str9)"
   ]
  },
  {
   "cell_type": "markdown",
   "id": "toxic-application",
   "metadata": {},
   "source": [
    "Strings have a lot of other useful methods that we will be learning about throughout this textbook, such as the split() method which returns a list of substrings that are split by the delimiter, which is the argument of the method. By default, split() will split your string at the whitespace."
   ]
  },
  {
   "cell_type": "code",
   "execution_count": 36,
   "id": "wooden-cross",
   "metadata": {},
   "outputs": [
    {
     "name": "stdout",
     "output_type": "stream",
     "text": [
      "['My', 'name', 'is', 'William', 'Mattingly']\n"
     ]
    }
   ],
   "source": [
    "print (str9.split())"
   ]
  },
  {
   "cell_type": "markdown",
   "id": "solar-separate",
   "metadata": {},
   "source": [
    "As we learn about lists in the next chapter, you will be able to use split to grab specific items from that list. Notice that in the output below, we have the same output as our method of replace and strip above. It is important to remember that in programming, there is rarely one right answer. Usually a problem can be solved many ways, but some are more efficient or easier to parse when another programmer tries to read your code."
   ]
  },
  {
   "cell_type": "code",
   "execution_count": 37,
   "id": "behind-respondent",
   "metadata": {},
   "outputs": [
    {
     "name": "stdout",
     "output_type": "stream",
     "text": [
      "William Mattingly\n"
     ]
    }
   ],
   "source": [
    "print (str9.split(\"My name is \")[1])"
   ]
  },
  {
   "cell_type": "code",
   "execution_count": 38,
   "id": "ancient-senator",
   "metadata": {},
   "outputs": [],
   "source": [
    "#Pythonic => the standard way to do something in Python"
   ]
  },
  {
   "cell_type": "markdown",
   "id": "committed-dollar",
   "metadata": {},
   "source": [
    "## Working with Numbers as Data"
   ]
  },
  {
   "cell_type": "markdown",
   "id": "rotary-compact",
   "metadata": {},
   "source": [
    "Now that you understand how strings work, let’s begin exploring another type of data: numbers. Numbers in Python exist in two chief forms:\n",
    "\n",
    "- integers\n",
    "- floats\n",
    "\n",
    "As noted above, integers are numbers without a decimal point, whereas floats are numbers with a decimal point. This is am important distinction that you MUST remember, especially when working with data imported from and exported to Excel.\n",
    "\n",
    "As digital humanists, you might be thinking to yourself, “I just work with text, why should I care so much about numbers?” The answer? Numbers allow us to perform quantitative analysis. What if you want to know the times a specific author wrote to a colleague or to which places he wrote most frequently, as was the case with the Republic of Letters project at Stanford? In order to perform that kind of analysis, you MUST have a command of how numbers work in Python, how to perform basic mathematical functions on those numbers, and how to interact with them. Further, numbers are essential to understand for performing more advanced functions in Python, such as Loops, explored in Chapter 03.01.\n",
    "\n",
    "The way in which you create a number object in Python is the to create an object name, use the equal sign and type the number. If your number has a decimal, Python will automatically consider it a float. If it does not, it will automatically consider it an integer."
   ]
  },
  {
   "cell_type": "code",
   "execution_count": 39,
   "id": "funky-morning",
   "metadata": {},
   "outputs": [],
   "source": [
    "num1 = 1\n",
    "num2 = 2"
   ]
  },
  {
   "cell_type": "markdown",
   "id": "middle-article",
   "metadata": {},
   "source": [
    "Throughout your DH project, you will very likely need to manipulate numbers through mathematical operations. Here is a list of the common operations:\n",
    "\n",
    "1. Addition +\n",
    "2. Subtraction –\n",
    "3. Multiplication *\n",
    "4. Exponential Multiplication **\n",
    "5. Division /\n",
    "6. Modulo % #This will return the remainder, e.g. 2%7 will yield 1.\n",
    "7. Floor // #This will return the max number of times two numbers can be divided into each other, e.g. 2//7 will yield 3."
   ]
  },
  {
   "cell_type": "code",
   "execution_count": 40,
   "id": "coral-universe",
   "metadata": {},
   "outputs": [
    {
     "name": "stdout",
     "output_type": "stream",
     "text": [
      "3\n"
     ]
    }
   ],
   "source": [
    "print (num1+num2)"
   ]
  },
  {
   "cell_type": "code",
   "execution_count": 41,
   "id": "violent-bradley",
   "metadata": {},
   "outputs": [
    {
     "name": "stdout",
     "output_type": "stream",
     "text": [
      "-1\n"
     ]
    }
   ],
   "source": [
    "print (num1-num2)"
   ]
  },
  {
   "cell_type": "code",
   "execution_count": 42,
   "id": "radical-jenny",
   "metadata": {},
   "outputs": [
    {
     "name": "stdout",
     "output_type": "stream",
     "text": [
      "2\n"
     ]
    }
   ],
   "source": [
    "print (num1*num2)"
   ]
  },
  {
   "cell_type": "code",
   "execution_count": 43,
   "id": "hydraulic-render",
   "metadata": {},
   "outputs": [
    {
     "name": "stdout",
     "output_type": "stream",
     "text": [
      "0.5\n"
     ]
    }
   ],
   "source": [
    "print (num1/num2)"
   ]
  },
  {
   "cell_type": "code",
   "execution_count": 44,
   "id": "legal-funeral",
   "metadata": {},
   "outputs": [
    {
     "name": "stdout",
     "output_type": "stream",
     "text": [
      "800\n"
     ]
    }
   ],
   "source": [
    "print (100*8)"
   ]
  },
  {
   "cell_type": "code",
   "execution_count": 45,
   "id": "narrow-rescue",
   "metadata": {},
   "outputs": [
    {
     "name": "stdout",
     "output_type": "stream",
     "text": [
      "0.5\n"
     ]
    }
   ],
   "source": [
    "print (num1/num2)"
   ]
  },
  {
   "cell_type": "code",
   "execution_count": 46,
   "id": "human-baghdad",
   "metadata": {},
   "outputs": [
    {
     "name": "stdout",
     "output_type": "stream",
     "text": [
      "0\n"
     ]
    }
   ],
   "source": [
    "print (num1//num2)"
   ]
  },
  {
   "cell_type": "code",
   "execution_count": 47,
   "id": "pretty-tourist",
   "metadata": {},
   "outputs": [
    {
     "name": "stdout",
     "output_type": "stream",
     "text": [
      "2.5\n"
     ]
    }
   ],
   "source": [
    "print (5/2)"
   ]
  },
  {
   "cell_type": "code",
   "execution_count": 48,
   "id": "annual-somerset",
   "metadata": {},
   "outputs": [
    {
     "name": "stdout",
     "output_type": "stream",
     "text": [
      "2\n"
     ]
    }
   ],
   "source": [
    "print (5//2)"
   ]
  },
  {
   "cell_type": "markdown",
   "id": "isolated-officer",
   "metadata": {},
   "source": [
    "In addition to this, you will very often in loops need to identify Comparison Operators (equal to, less than, etc). Here is a list of those:\n",
    "1. Equal to (==)\n",
    "2. Greater than (>)\n",
    "3. Less than (<)\n",
    "4. Less than or equal to (<=)\n",
    "5. Greater than or equal to (>=)\n",
    "6. Not equal to (!=)\n",
    "\n",
    "We will address these in greater detail in a later chapter as they are particularly useful when you work with loops."
   ]
  },
  {
   "cell_type": "markdown",
   "id": "reliable-catalog",
   "metadata": {},
   "source": [
    "## Conclusion"
   ]
  },
  {
   "cell_type": "markdown",
   "id": "designing-relation",
   "metadata": {},
   "source": [
    "This chapter has introduced you two some of the essential types of data: strings, integers, floats, and booleans. It has also introduced you to some of the key methods and operations that you can perform on strings and numbers. Before moving onto the next chapter, I recommend spending some time and testing out these methods on your own data. Try and manipulate an input text to locate and retrieve specific information.\n",
    "\n",
    "If you haven't yet installed Python, that's okay! There are free compilers online, including the one I have available at https://pythonhumanities.com/lesson-02-storing-data-in-python/. Once you feel comfortable with types of data and how to create and interact with them in Python, feel free to continue into the next chapter as we explore data structures."
   ]
  },
  {
   "cell_type": "markdown",
   "id": "93ce0ac6-253a-489d-ba14-d2b0963e1316",
   "metadata": {},
   "source": [
    "## Quiz"
   ]
  },
  {
   "cell_type": "code",
   "execution_count": 53,
   "id": "528555be-0a24-40b7-b7c9-f39cb808c2b0",
   "metadata": {},
   "outputs": [],
   "source": [
    "from jupyterquiz import display_quiz\n",
    "import md2json\n",
    "import json"
   ]
  },
  {
   "cell_type": "code",
   "execution_count": 57,
   "id": "6e9dae9f-dd6b-4ca3-a6dd-74f3b125174a",
   "metadata": {
    "tags": [
     "hide-input"
    ]
   },
   "outputs": [],
   "source": [
    "quiz = '''\n",
    "# What type of data is associated with text?\n",
    "mc\n",
    "* Strings\n",
    "-c t\n",
    "-f Correct! Strings are how we create text in Python.\n",
    "\n",
    "* Integers\n",
    "-c f\n",
    "-f While a type of data, Integers are not text\n",
    "\n",
    "* Floats\n",
    "-c f\n",
    "-f While a type of data, Floats are not text\n",
    "\n",
    "* Boolean\n",
    "-c f\n",
    "-f Booleans are not text.\n",
    "\n",
    "\n",
    "# How do we create strings?\n",
    "mc\n",
    "* With \"\"\n",
    "-c t\n",
    "-f Correct!\n",
    "\n",
    "* With ''\n",
    "-c t\n",
    "-f Correct!\n",
    "\n",
    "* With :\n",
    "-c f\n",
    "-f\n",
    "\n",
    "* With <>\n",
    "-c f\n",
    "-f\n",
    "\n",
    "# What are the two types of numbers?\n",
    "mc\n",
    "* Integers\n",
    "-c t\n",
    "-f\n",
    "\n",
    "* Floats\n",
    "-c t\n",
    "-f\n",
    "\n",
    "* Strings\n",
    "-c f\n",
    "-f\n",
    "\n",
    "* Booleans\n",
    "-c f\n",
    "-f\n",
    "\n",
    "# What are the types of Booleans?\n",
    "mc\n",
    "* True\n",
    "-c t\n",
    "-f\n",
    "\n",
    "* False\n",
    "-c t\n",
    "-f\n",
    "\n",
    "* true\n",
    "-c f\n",
    "-f Close. Remember, case matters in Python.\n",
    "\n",
    "* false\n",
    "-c f\n",
    "-f Close. Remember, case matters in Python.\n",
    "'''"
   ]
  },
  {
   "cell_type": "code",
   "execution_count": null,
   "id": "3787d05b-fef6-4b97-96e3-372cdba0f24b",
   "metadata": {},
   "outputs": [],
   "source": []
  },
  {
   "cell_type": "code",
   "execution_count": 58,
   "id": "53d344eb-b1f4-4dbd-8a2c-b9aacef3897d",
   "metadata": {
    "tags": []
   },
   "outputs": [
    {
     "name": "stdout",
     "output_type": "stream",
     "text": [
      "\n"
     ]
    },
    {
     "data": {
      "text/html": [
       "<div id=\"DvQdJgepeSpt\" data-shufflequestions=\"False\"\n",
       "               data-shuffleanswers=\"True\"\n",
       "               data-numquestions=\"1000000\"> <style>:root {\n",
       "    --medium-slate-blue: #6f78ffff;\n",
       "    --orange-pantone: #f75c03ff;\n",
       "    --russian-violet: #392061ff;\n",
       "    --maximum-yellow-red: #ffc857ff;\n",
       "    --viridian-green: #119da4ff;\n",
       "    --incorrect-red: #c80202;\n",
       "    --correct-green: #009113;\n",
       "}\n",
       "\n",
       ".Quiz {\n",
       "    max-width: 600px;\n",
       "    margin-top: 15px;\n",
       "    margin-left: auto;\n",
       "    margin-right: auto;\n",
       "    margin-bottom: 15px;\n",
       "    padding-bottom: 4px;\n",
       "    padding-top: 4px;\n",
       "    line-height: 1.1;\n",
       "    font-size: 16pt;\n",
       "}\n",
       "\n",
       ".QuizCode {\n",
       "    font-size: 14pt;\n",
       "    margin-top: 10px;\n",
       "    margin-left: 20px;\n",
       "    margin-right: 20px;\n",
       "}\n",
       "\n",
       ".QuizCode>pre {\n",
       "    padding: 4px;\n",
       "}\n",
       "\n",
       ".Answer {\n",
       "    margin: 10px 0;\n",
       "    display: grid;\n",
       "    grid-template-columns: auto auto;\n",
       "    grid-gap: 10px;\n",
       "}\n",
       "\n",
       ".Feedback {\n",
       "    font-size: 16pt;\n",
       "    text-align: center;\n",
       "    min-height: 2em;\n",
       "}\n",
       "\n",
       ".Input {\n",
       "    align: left;\n",
       "    font-size: 20pt;\n",
       "}\n",
       "\n",
       ".Input-text {\n",
       "    display: block;\n",
       "    margin: 10px;\n",
       "    color: inherit;\n",
       "    width: 140px;\n",
       "    background-color: #c0c0c0;\n",
       "    color: #fff;\n",
       "    padding: 5px;\n",
       "    padding-left: 10px;\n",
       "    font-family: inherit;\n",
       "    font-size: 20px;\n",
       "    font-weight: inherit;\n",
       "    line-height: 20pt;\n",
       "    border: none;\n",
       "    border-radius: 0.2rem;\n",
       "    transition: box-shadow 0.1s);\n",
       "}\n",
       "\n",
       ".Input-text:focus {\n",
       "    outline: none;\n",
       "    background-color: #c0c0c0;\n",
       "    box-shadow: 0.6rem 0.8rem 1.4rem -0.5rem #999999;\n",
       "}\n",
       "\n",
       ".MCButton {\n",
       "    background: #fafafa;\n",
       "    border: 1px solid #eee;\n",
       "    border-radius: 10px;\n",
       "    padding: 10px;\n",
       "    font-size: 16px;\n",
       "    cursor: pointer;\n",
       "    text-align: center;\n",
       "}\n",
       "\n",
       ".MCButton p {\n",
       "    color: inherit;\n",
       "}\n",
       "\n",
       ".MultipleChoiceQn {\n",
       "    padding: 10px;\n",
       "    background: var(--medium-slate-blue);\n",
       "    color: #fafafa;\n",
       "    border-radius: 10px;\n",
       "}\n",
       "\n",
       ".ManyChoiceQn {\n",
       "    padding: 10px;\n",
       "    background: var(--orange-pantone);\n",
       "    color: #fafafa;\n",
       "    border-radius: 10px;\n",
       "}\n",
       "\n",
       ".NumericQn {\n",
       "    padding: 10px;\n",
       "    background: var(--russian-violet);\n",
       "    color: #fafafa;\n",
       "    border-radius: 10px;\n",
       "}\n",
       "\n",
       ".NumericQn p {\n",
       "    color: inherit;\n",
       "}\n",
       "\n",
       ".InpLabel {\n",
       "    line-height: 34px;\n",
       "    float: left;\n",
       "    margin-right: 10px;\n",
       "    color: #101010;\n",
       "    font-size: 15pt;\n",
       "}\n",
       "\n",
       ".incorrect {\n",
       "    color: var(--incorrect-red);\n",
       "}\n",
       "\n",
       ".correct {\n",
       "    color: var(--correct-green);\n",
       "}\n",
       "\n",
       ".correctButton {\n",
       "    /*\n",
       "    background: var(--correct-green);\n",
       "   */\n",
       "    animation: correct-anim 0.6s ease;\n",
       "    animation-fill-mode: forwards;\n",
       "    color: #fafafa;\n",
       "    box-shadow: inset 0px 0px 5px #555555;\n",
       "    outline: none;\n",
       "}\n",
       "\n",
       ".incorrectButton {\n",
       "    animation: incorrect-anim 0.8s ease;\n",
       "    animation-fill-mode: forwards;\n",
       "    color: #fafafa;\n",
       "    box-shadow: inset 0px 0px 5px #555555;\n",
       "    outline: none;\n",
       "}\n",
       "\n",
       "@keyframes incorrect-anim {\n",
       "    100% {\n",
       "        background-color: var(--incorrect-red);\n",
       "    }\n",
       "}\n",
       "\n",
       "@keyframes correct-anim {\n",
       "    100% {\n",
       "        background-color: var(--correct-green);\n",
       "    }\n",
       "}</style><script type=\"text/Javascript\">var questionsDvQdJgepeSpt=[{\"question\": \"How do we create strings?\", \"type\": \"many_choice\", \"answers\": [{\"answer\": \"With \\\"\\\"\", \"correct\": true, \"feedback\": \"Correct!\"}, {\"answer\": \"With ''\", \"correct\": true, \"feedback\": \"Correct!\"}, {\"answer\": \"With :\", \"correct\": false, \"feedback\": \"Incorrect.\"}, {\"answer\": \"With <>\", \"correct\": false, \"feedback\": \"Incorrect.\"}]}, {\"question\": \"What are the two types of numbers?\", \"type\": \"many_choice\", \"answers\": [{\"answer\": \"Integers\", \"correct\": true, \"feedback\": \"Correct!\"}, {\"answer\": \"Floats\", \"correct\": true, \"feedback\": \"Correct!\"}, {\"answer\": \"Strings\", \"correct\": false, \"feedback\": \"Incorrect.\"}, {\"answer\": \"Booleans\", \"correct\": false, \"feedback\": \"Incorrect.\"}]}, {\"question\": \"What type of data is associated with text?\", \"type\": \"multiple_choice\", \"answers\": [{\"answer\": \"Strings\", \"correct\": true, \"feedback\": \"Correct! Strings are how we create text in Python.\"}, {\"answer\": \"Integers\", \"correct\": false, \"feedback\": \"While a type of data, Integers are not text\"}, {\"answer\": \"Floats\", \"correct\": false, \"feedback\": \"While a type of data, Floats are not text\"}, {\"answer\": \"Boolean\", \"correct\": false, \"feedback\": \"Booleans are not text.\"}]}, {\"question\": \"What are the types of Booleans?\", \"type\": \"many_choice\", \"answers\": [{\"answer\": \"True\", \"correct\": true, \"feedback\": \"Correct!\"}, {\"answer\": \"False\", \"correct\": true, \"feedback\": \"Correct!\"}, {\"answer\": \"true\", \"correct\": false, \"feedback\": \"Close. Remember, case matters in Python.\"}, {\"answer\": \"false\", \"correct\": false, \"feedback\": \"Close. Remember, case matters in Python.\"}]}];\n",
       "    // Make a random ID\n",
       "function makeid(length) {\n",
       "    var result = [];\n",
       "    var characters = 'ABCDEFGHIJKLMNOPQRSTUVWXYZabcdefghijklmnopqrstuvwxyz';\n",
       "    var charactersLength = characters.length;\n",
       "    for (var i = 0; i < length; i++) {\n",
       "        result.push(characters.charAt(Math.floor(Math.random() * charactersLength)));\n",
       "    }\n",
       "    return result.join('');\n",
       "}\n",
       "\n",
       "// Choose a random subset of an array. Can also be used to shuffle the array\n",
       "function getRandomSubarray(arr, size) {\n",
       "    var shuffled = arr.slice(0), i = arr.length, temp, index;\n",
       "    while (i--) {\n",
       "        index = Math.floor((i + 1) * Math.random());\n",
       "        temp = shuffled[index];\n",
       "        shuffled[index] = shuffled[i];\n",
       "        shuffled[i] = temp;\n",
       "    }\n",
       "    return shuffled.slice(0, size);\n",
       "}\n",
       "function check_mc() {\n",
       "    var id = this.id.split('-')[0];\n",
       "\n",
       "    //console.log(\"In check_mc(), id=\"+id);\n",
       "    //console.log(event.srcElement.id)           \n",
       "    //console.log(event.srcElement.dataset.correct)   \n",
       "    //console.log(event.srcElement.dataset.feedback)\n",
       "\n",
       "    var label = event.srcElement;\n",
       "    //console.log(label, label.nodeName);\n",
       "    var depth = 0;\n",
       "    while ((label.nodeName != \"LABEL\") && (depth < 20)) {\n",
       "        label = label.parentElement;\n",
       "        console.log(depth, label);\n",
       "        depth++;\n",
       "    }\n",
       "\n",
       "\n",
       "\n",
       "    var answers = label.parentElement.children;\n",
       "\n",
       "    //console.log(answers);\n",
       "\n",
       "\n",
       "    // Split behavior based on multiple choice vs many choice:\n",
       "    var fb = document.getElementById(\"fb\" + id);\n",
       "    //console.log(id, \", got numcorrect=\",fb.dataset.numcorrect);\n",
       "    if (fb.dataset.numcorrect == 1) {\n",
       "        for (var i = 0; i < answers.length; i++) {\n",
       "            var child = answers[i];\n",
       "            //console.log(child);\n",
       "            child.className = \"MCButton\";\n",
       "        }\n",
       "\n",
       "\n",
       "\n",
       "        if (label.dataset.correct == \"true\") {\n",
       "            // console.log(\"Correct action\");\n",
       "            if (\"feedback\" in label.dataset) {\n",
       "                fb.textContent = jaxify(label.dataset.feedback);\n",
       "            } else {\n",
       "                fb.textContent = \"Correct!\";\n",
       "            }\n",
       "            label.classList.add(\"correctButton\");\n",
       "\n",
       "            fb.className = \"Feedback\";\n",
       "            fb.classList.add(\"correct\");\n",
       "\n",
       "        } else {\n",
       "            if (\"feedback\" in label.dataset) {\n",
       "                fb.textContent = jaxify(label.dataset.feedback);\n",
       "            } else {\n",
       "                fb.textContent = \"Incorrect -- try again.\";\n",
       "            }\n",
       "            //console.log(\"Error action\");\n",
       "            label.classList.add(\"incorrectButton\");\n",
       "            fb.className = \"Feedback\";\n",
       "            fb.classList.add(\"incorrect\");\n",
       "        }\n",
       "    }\n",
       "    else {\n",
       "        var reset = false;\n",
       "        var feedback;\n",
       "        if (label.dataset.correct == \"true\") {\n",
       "            if (\"feedback\" in label.dataset) {\n",
       "                feedback = jaxify(label.dataset.feedback);\n",
       "            } else {\n",
       "                feedback = \"Correct!\";\n",
       "            }\n",
       "            if (label.dataset.answered <= 0) {\n",
       "                if (fb.dataset.answeredcorrect < 0) {\n",
       "                    fb.dataset.answeredcorrect = 1;\n",
       "                    reset = true;\n",
       "                } else {\n",
       "                    fb.dataset.answeredcorrect++;\n",
       "                }\n",
       "                if (reset) {\n",
       "                    for (var i = 0; i < answers.length; i++) {\n",
       "                        var child = answers[i];\n",
       "                        child.className = \"MCButton\";\n",
       "                        child.dataset.answered = 0;\n",
       "                    }\n",
       "                }\n",
       "                label.classList.add(\"correctButton\");\n",
       "                label.dataset.answered = 1;\n",
       "                fb.className = \"Feedback\";\n",
       "                fb.classList.add(\"correct\");\n",
       "\n",
       "            }\n",
       "        } else {\n",
       "            if (\"feedback\" in label.dataset) {\n",
       "                feedback = jaxify(label.dataset.feedback);\n",
       "            } else {\n",
       "                feedback = \"Incorrect -- try again.\";\n",
       "            }\n",
       "            if (fb.dataset.answeredcorrect > 0) {\n",
       "                fb.dataset.answeredcorrect = -1;\n",
       "                reset = true;\n",
       "            } else {\n",
       "                fb.dataset.answeredcorrect--;\n",
       "            }\n",
       "\n",
       "            if (reset) {\n",
       "                for (var i = 0; i < answers.length; i++) {\n",
       "                    var child = answers[i];\n",
       "                    child.className = \"MCButton\";\n",
       "                    child.dataset.answered = 0;\n",
       "                }\n",
       "            }\n",
       "            label.classList.add(\"incorrectButton\");\n",
       "            fb.className = \"Feedback\";\n",
       "            fb.classList.add(\"incorrect\");\n",
       "        }\n",
       "\n",
       "\n",
       "        var numcorrect = fb.dataset.numcorrect;\n",
       "        var answeredcorrect = fb.dataset.answeredcorrect;\n",
       "        if (answeredcorrect >= 0) {\n",
       "            fb.textContent = feedback + \" [\" + answeredcorrect + \"/\" + numcorrect + \"]\";\n",
       "        } else {\n",
       "            fb.textContent = feedback + \" [\" + 0 + \"/\" + numcorrect + \"]\";\n",
       "        }\n",
       "\n",
       "\n",
       "    }\n",
       "\n",
       "    if (typeof MathJax != 'undefined') {\n",
       "        var version = MathJax.version;\n",
       "        console.log('MathJax version', version);\n",
       "        if (version[0] == \"2\") {\n",
       "            MathJax.Hub.Queue([\"Typeset\", MathJax.Hub]);\n",
       "        } else if (version[0] == \"3\") {\n",
       "            MathJax.typeset([fb]);\n",
       "        }\n",
       "    } else {\n",
       "        console.log('MathJax not detected');\n",
       "    }\n",
       "\n",
       "}\n",
       "\n",
       "function make_mc(qa, shuffle_answers, outerqDiv, qDiv, aDiv, id) {\n",
       "    var shuffled;\n",
       "    if (shuffle_answers == \"True\") {\n",
       "        //console.log(shuffle_answers+\" read as true\");\n",
       "        shuffled = getRandomSubarray(qa.answers, qa.answers.length);\n",
       "    } else {\n",
       "        //console.log(shuffle_answers+\" read as false\");\n",
       "        shuffled = qa.answers;\n",
       "    }\n",
       "\n",
       "\n",
       "    var num_correct = 0;\n",
       "\n",
       "\n",
       "\n",
       "    shuffled.forEach((item, index, ans_array) => {\n",
       "        //console.log(answer);\n",
       "\n",
       "        // Make input element\n",
       "        var inp = document.createElement(\"input\");\n",
       "        inp.type = \"radio\";\n",
       "        inp.id = \"quizo\" + id + index;\n",
       "        inp.style = \"display:none;\";\n",
       "        aDiv.append(inp);\n",
       "\n",
       "        //Make label for input element\n",
       "        var lab = document.createElement(\"label\");\n",
       "        lab.className = \"MCButton\";\n",
       "        lab.id = id + '-' + index;\n",
       "        lab.onclick = check_mc;\n",
       "        var aSpan = document.createElement('span');\n",
       "        aSpan.classsName = \"\";\n",
       "        //qDiv.id=\"quizQn\"+id+index;\n",
       "        if (\"answer\" in item) {\n",
       "            aSpan.innerHTML = jaxify(item.answer);\n",
       "            //aSpan.innerHTML=item.answer;\n",
       "        }\n",
       "        lab.append(aSpan);\n",
       "\n",
       "        // Create div for code inside question\n",
       "        var codeSpan;\n",
       "        if (\"code\" in item) {\n",
       "            codeSpan = document.createElement('span');\n",
       "            codeSpan.id = \"code\" + id + index;\n",
       "            codeSpan.className = \"QuizCode\";\n",
       "            var codePre = document.createElement('pre');\n",
       "            codeSpan.append(codePre);\n",
       "            var codeCode = document.createElement('code');\n",
       "            codePre.append(codeCode);\n",
       "            codeCode.innerHTML = item.code;\n",
       "            lab.append(codeSpan);\n",
       "            //console.log(codeSpan);\n",
       "        }\n",
       "\n",
       "        //lab.textContent=item.answer;\n",
       "\n",
       "        // Set the data attributes for the answer\n",
       "        lab.setAttribute('data-correct', item.correct);\n",
       "        if (item.correct) {\n",
       "            num_correct++;\n",
       "        }\n",
       "        if (\"feedback\" in item) {\n",
       "            lab.setAttribute('data-feedback', item.feedback);\n",
       "        }\n",
       "        lab.setAttribute('data-answered', 0);\n",
       "\n",
       "        aDiv.append(lab);\n",
       "\n",
       "    });\n",
       "\n",
       "    if (num_correct > 1) {\n",
       "        outerqDiv.className = \"ManyChoiceQn\";\n",
       "    } else {\n",
       "        outerqDiv.className = \"MultipleChoiceQn\";\n",
       "    }\n",
       "\n",
       "    return num_correct;\n",
       "\n",
       "}\n",
       "function check_numeric(ths, event) {\n",
       "\n",
       "    if (event.keyCode === 13) {\n",
       "        ths.blur();\n",
       "\n",
       "        var id = ths.id.split('-')[0];\n",
       "\n",
       "        var submission = ths.value;\n",
       "        if (submission.indexOf('/') != -1) {\n",
       "            sub_parts = submission.split('/');\n",
       "            //console.log(sub_parts);\n",
       "            submission = sub_parts[0] / sub_parts[1];\n",
       "        }\n",
       "        //console.log(\"Reader entered\", submission);\n",
       "\n",
       "        if (\"precision\" in ths.dataset) {\n",
       "            precision = ths.dataset.precision;\n",
       "            // console.log(\"1:\", submission)\n",
       "            submission = Math.round((1 * submission + Number.EPSILON) * 10 ** precision) / 10 ** precision;\n",
       "            // console.log(\"Rounded to \", submission, \" precision=\", precision  );\n",
       "        }\n",
       "\n",
       "\n",
       "        //console.log(\"In check_numeric(), id=\"+id);\n",
       "        //console.log(event.srcElement.id)           \n",
       "        //console.log(event.srcElement.dataset.feedback)\n",
       "\n",
       "        var fb = document.getElementById(\"fb\" + id);\n",
       "        fb.style.display = \"none\";\n",
       "        fb.textContent = \"Incorrect -- try again.\";\n",
       "\n",
       "        answers = JSON.parse(ths.dataset.answers);\n",
       "        //console.log(answers);\n",
       "\n",
       "        var defaultFB = \"\";\n",
       "        var correct;\n",
       "        var done = false;\n",
       "        answers.every(answer => {\n",
       "            //console.log(answer.type);\n",
       "\n",
       "            correct = false;\n",
       "            // if (answer.type==\"value\"){\n",
       "            if ('value' in answer) {\n",
       "                if (submission == answer.value) {\n",
       "                    fb.textContent = jaxify(answer.feedback);\n",
       "                    correct = answer.correct;\n",
       "                    //console.log(answer.correct);\n",
       "                    done = true;\n",
       "                }\n",
       "                // } else if (answer.type==\"range\") {\n",
       "            } else if ('range' in answer) {\n",
       "                //console.log(answer.range);\n",
       "                if ((submission >= answer.range[0]) && (submission < answer.range[1])) {\n",
       "                    fb.textContent = jaxify(answer.feedback);\n",
       "                    correct = answer.correct;\n",
       "                    //console.log(answer.correct);\n",
       "                    done = true;\n",
       "                }\n",
       "            } else if (answer.type == \"default\") {\n",
       "                defaultFB = answer.feedback;\n",
       "            }\n",
       "            if (done) {\n",
       "                return false; // Break out of loop if this has been marked correct\n",
       "            } else {\n",
       "                return true; // Keep looking for case that includes this as a correct answer\n",
       "            }\n",
       "        });\n",
       "\n",
       "        if ((!done) && (defaultFB != \"\")) {\n",
       "            fb.innerHTML = jaxify(defaultFB);\n",
       "            //console.log(\"Default feedback\", defaultFB);\n",
       "        }\n",
       "\n",
       "        fb.style.display = \"block\";\n",
       "        if (correct) {\n",
       "            ths.className = \"Input-text\";\n",
       "            ths.classList.add(\"correctButton\");\n",
       "            fb.className = \"Feedback\";\n",
       "            fb.classList.add(\"correct\");\n",
       "        } else {\n",
       "            ths.className = \"Input-text\";\n",
       "            ths.classList.add(\"incorrectButton\");\n",
       "            fb.className = \"Feedback\";\n",
       "            fb.classList.add(\"incorrect\");\n",
       "        }\n",
       "        if (typeof MathJax != 'undefined') {\n",
       "            var version = MathJax.version;\n",
       "            console.log('MathJax version', version);\n",
       "            if (version[0] == \"2\") {\n",
       "                MathJax.Hub.Queue([\"Typeset\", MathJax.Hub]);\n",
       "            } else if (version[0] == \"3\") {\n",
       "                MathJax.typeset([fb]);\n",
       "            }\n",
       "        } else {\n",
       "            console.log('MathJax not detected');\n",
       "        }\n",
       "        return false;\n",
       "    }\n",
       "\n",
       "}\n",
       "\n",
       "function isValid(el, charC) {\n",
       "    //console.log(\"Input char: \", charC);\n",
       "    if (charC == 46) {\n",
       "        if (el.value.indexOf('.') === -1) {\n",
       "            return true;\n",
       "        } else if (el.value.indexOf('/') != -1) {\n",
       "            parts = el.value.split('/');\n",
       "            if (parts[1].indexOf('.') === -1) {\n",
       "                return true;\n",
       "            }\n",
       "        }\n",
       "        else {\n",
       "            return false;\n",
       "        }\n",
       "    } else if (charC == 47) {\n",
       "        if (el.value.indexOf('/') === -1) {\n",
       "            if ((el.value != \"\") && (el.value != \".\")) {\n",
       "                return true;\n",
       "            } else {\n",
       "                return false;\n",
       "            }\n",
       "        } else {\n",
       "            return false;\n",
       "        }\n",
       "    } else if (charC == 45) {\n",
       "        edex = el.value.indexOf('e');\n",
       "        if (edex == -1) {\n",
       "            edex = el.value.indexOf('E');\n",
       "        }\n",
       "\n",
       "        if (el.value == \"\") {\n",
       "            return true;\n",
       "        } else if (edex == (el.value.length - 1)) { // If just after e or E\n",
       "            return true;\n",
       "        } else {\n",
       "            return false;\n",
       "        }\n",
       "    } else if (charC == 101) { // \"e\"\n",
       "        if ((el.value.indexOf('e') === -1) && (el.value.indexOf('E') === -1) && (el.value.indexOf('/') == -1)) {\n",
       "            // Prev symbol must be digit or decimal point:\n",
       "            if (el.value.slice(-1).search(/\\d/) >= 0) {\n",
       "                return true;\n",
       "            } else if (el.value.slice(-1).search(/\\./) >= 0) {\n",
       "                return true;\n",
       "            } else {\n",
       "                return false;\n",
       "            }\n",
       "        } else {\n",
       "            return false;\n",
       "        }\n",
       "    } else {\n",
       "        if (charC > 31 && (charC < 48 || charC > 57))\n",
       "            return false;\n",
       "    }\n",
       "    return true;\n",
       "}\n",
       "\n",
       "function numeric_keypress(evnt) {\n",
       "    var charC = (evnt.which) ? evnt.which : evnt.keyCode;\n",
       "\n",
       "    if (charC == 13) {\n",
       "        check_numeric(this, evnt);\n",
       "    } else {\n",
       "        return isValid(this, charC);\n",
       "    }\n",
       "}\n",
       "\n",
       "\n",
       "\n",
       "\n",
       "\n",
       "function make_numeric(qa, outerqDiv, qDiv, aDiv, id) {\n",
       "\n",
       "\n",
       "\n",
       "    //console.log(answer);\n",
       "\n",
       "\n",
       "    outerqDiv.className = \"NumericQn\";\n",
       "    aDiv.style.display = 'block';\n",
       "\n",
       "    var lab = document.createElement(\"label\");\n",
       "    lab.className = \"InpLabel\";\n",
       "    lab.textContent = \"Type numeric answer here:\";\n",
       "    aDiv.append(lab);\n",
       "\n",
       "    var inp = document.createElement(\"input\");\n",
       "    inp.type = \"text\";\n",
       "    //inp.id=\"input-\"+id;\n",
       "    inp.id = id + \"-0\";\n",
       "    inp.className = \"Input-text\";\n",
       "    inp.setAttribute('data-answers', JSON.stringify(qa.answers));\n",
       "    if (\"precision\" in qa) {\n",
       "        inp.setAttribute('data-precision', qa.precision);\n",
       "    }\n",
       "    aDiv.append(inp);\n",
       "    //console.log(inp);\n",
       "\n",
       "    //inp.addEventListener(\"keypress\", check_numeric);\n",
       "    //inp.addEventListener(\"keypress\", numeric_keypress);\n",
       "    /*\n",
       "    inp.addEventListener(\"keypress\", function(event) {\n",
       "        return numeric_keypress(this, event);\n",
       "    }\n",
       "                        );\n",
       "                        */\n",
       "    //inp.onkeypress=\"return numeric_keypress(this, event)\";\n",
       "    inp.onkeypress = numeric_keypress;\n",
       "    inp.onpaste = event => false;\n",
       "\n",
       "    inp.addEventListener(\"focus\", function (event) {\n",
       "        this.value = \"\";\n",
       "        return false;\n",
       "    }\n",
       "    );\n",
       "\n",
       "\n",
       "}\n",
       "function jaxify(string) {\n",
       "    var mystring = string;\n",
       "\n",
       "    count = 0;\n",
       "    var loc = mystring.search(/([^\\\\]|^)(\\$)/);\n",
       "\n",
       "    count2 = 0;\n",
       "    var loc2 = mystring.search(/([^\\\\]|^)(\\$\\$)/);\n",
       "\n",
       "    //console.log(loc);\n",
       "\n",
       "    while ((loc >= 0) || (loc2 >= 0)) {\n",
       "\n",
       "        /* Have to replace all the double $$ first with current implementation */\n",
       "        if (loc2 >= 0) {\n",
       "            if (count2 % 2 == 0) {\n",
       "                mystring = mystring.replace(/([^\\\\]|^)(\\$\\$)/, \"$1\\\\[\");\n",
       "            } else {\n",
       "                mystring = mystring.replace(/([^\\\\]|^)(\\$\\$)/, \"$1\\\\]\");\n",
       "            }\n",
       "            count2++;\n",
       "        } else {\n",
       "            if (count % 2 == 0) {\n",
       "                mystring = mystring.replace(/([^\\\\]|^)(\\$)/, \"$1\\\\(\");\n",
       "            } else {\n",
       "                mystring = mystring.replace(/([^\\\\]|^)(\\$)/, \"$1\\\\)\");\n",
       "            }\n",
       "            count++;\n",
       "        }\n",
       "        loc = mystring.search(/([^\\\\]|^)(\\$)/);\n",
       "        loc2 = mystring.search(/([^\\\\]|^)(\\$\\$)/);\n",
       "        //console.log(mystring,\", loc:\",loc,\", loc2:\",loc2);\n",
       "    }\n",
       "\n",
       "    //console.log(mystring);\n",
       "    return mystring;\n",
       "}\n",
       "\n",
       "\n",
       "function show_questions(json, mydiv) {\n",
       "    //var mydiv=document.getElementById(myid);\n",
       "    var shuffle_questions = mydiv.dataset.shufflequestions;\n",
       "    var num_questions = mydiv.dataset.numquestions;\n",
       "    var shuffle_answers = mydiv.dataset.shuffleanswers;\n",
       "\n",
       "    if (num_questions > json.length) {\n",
       "        num_questions = json.length;\n",
       "    }\n",
       "\n",
       "    var questions;\n",
       "    if ((num_questions < json.length) || (shuffle_questions == \"True\")) {\n",
       "        //console.log(num_questions+\",\"+json.length);\n",
       "        questions = getRandomSubarray(json, num_questions);\n",
       "    } else {\n",
       "        questions = json;\n",
       "    }\n",
       "\n",
       "    //console.log(\"SQ: \"+shuffle_questions+\", NQ: \" + num_questions + \", SA: \", shuffle_answers);\n",
       "\n",
       "    // Iterate over questions\n",
       "    questions.forEach((qa, index, array) => {\n",
       "        //console.log(qa.question); \n",
       "\n",
       "        var id = makeid(8);\n",
       "        //console.log(id);\n",
       "\n",
       "\n",
       "        // Create Div to contain question and answers\n",
       "        var iDiv = document.createElement('div');\n",
       "        iDiv.id = 'quizWrap' + id + index;\n",
       "        iDiv.className = 'Quiz';\n",
       "        mydiv.appendChild(iDiv);\n",
       "        // iDiv.innerHTML=qa.question;\n",
       "\n",
       "        var outerqDiv = document.createElement('div');\n",
       "        outerqDiv.id = \"OuterquizQn\" + id + index;\n",
       "        //qDiv.textContent=qa.question;\n",
       "        iDiv.append(outerqDiv);\n",
       "\n",
       "        // Create div to contain question part\n",
       "        var qDiv = document.createElement('div');\n",
       "        qDiv.id = \"quizQn\" + id + index;\n",
       "        //qDiv.textContent=qa.question;\n",
       "        qDiv.innerHTML = jaxify(qa.question);\n",
       "        outerqDiv.append(qDiv);\n",
       "\n",
       "        // Create div for code inside question\n",
       "        var codeDiv;\n",
       "        if (\"code\" in qa) {\n",
       "            codeDiv = document.createElement('div');\n",
       "            codeDiv.id = \"code\" + id + index;\n",
       "            codeDiv.className = \"QuizCode\";\n",
       "            var codePre = document.createElement('pre');\n",
       "            codeDiv.append(codePre);\n",
       "            var codeCode = document.createElement('code');\n",
       "            codePre.append(codeCode);\n",
       "            codeCode.innerHTML = qa.code;\n",
       "            outerqDiv.append(codeDiv);\n",
       "            //console.log(codeDiv);\n",
       "        }\n",
       "\n",
       "\n",
       "        // Create div to contain answer part\n",
       "        var aDiv = document.createElement('div');\n",
       "        aDiv.id = \"quizAns\" + id + index;\n",
       "        aDiv.className = 'Answer';\n",
       "        iDiv.append(aDiv);\n",
       "\n",
       "        //console.log(qa.type);\n",
       "\n",
       "        var num_correct;\n",
       "        if (qa.type == \"multiple_choice\") {\n",
       "            num_correct = make_mc(qa, shuffle_answers, outerqDiv, qDiv, aDiv, id);\n",
       "        } else if (qa.type == \"many_choice\") {\n",
       "            num_correct = make_mc(qa, shuffle_answers, outerqDiv, qDiv, aDiv, id);\n",
       "        } else if (qa.type == \"numeric\") {\n",
       "            //console.log(\"numeric\");\n",
       "            make_numeric(qa, outerqDiv, qDiv, aDiv, id);\n",
       "        }\n",
       "\n",
       "\n",
       "        //Make div for feedback\n",
       "        var fb = document.createElement(\"div\");\n",
       "        fb.id = \"fb\" + id;\n",
       "        //fb.style=\"font-size: 20px;text-align:center;\";\n",
       "        fb.className = \"Feedback\";\n",
       "        fb.setAttribute(\"data-answeredcorrect\", 0);\n",
       "        fb.setAttribute(\"data-numcorrect\", num_correct);\n",
       "        iDiv.append(fb);\n",
       "\n",
       "\n",
       "    });\n",
       "    //console.log(\"At end of show_questions\");\n",
       "    if (typeof MathJax != 'undefined') {\n",
       "        console.log(\"MathJax version\", MathJax.version);\n",
       "        var version = MathJax.version;\n",
       "        setTimeout(function(){\n",
       "            var version = MathJax.version;\n",
       "            console.log('After sleep, MathJax version', version);\n",
       "            if (version[0] == \"2\") {\n",
       "                MathJax.Hub.Queue([\"Typeset\", MathJax.Hub]);\n",
       "            } else if (version[0] == \"3\") {\n",
       "                MathJax.typeset([mydiv]);\n",
       "            }\n",
       "        }, 500);\n",
       "if (typeof version == 'undefined') {\n",
       "        } else\n",
       "        {\n",
       "            if (version[0] == \"2\") {\n",
       "                MathJax.Hub.Queue([\"Typeset\", MathJax.Hub]);\n",
       "            } else if (version[0] == \"3\") {\n",
       "                MathJax.typeset([mydiv]);\n",
       "            } else {\n",
       "                console.log(\"MathJax not found\");\n",
       "            }\n",
       "        }\n",
       "    }\n",
       "    return false;\n",
       "}\n",
       "\n",
       "        {\n",
       "        show_questions(questionsDvQdJgepeSpt,  DvQdJgepeSpt);\n",
       "        }\n",
       "        </script>\n",
       "        "
      ],
      "text/plain": [
       "<IPython.core.display.HTML object>"
      ]
     },
     "metadata": {},
     "output_type": "display_data"
    }
   ],
   "source": [
    "myquiz = md2json.convert(quiz)\n",
    "myquiz = json.loads(myquiz)\n",
    "display_quiz(myquiz)"
   ]
  },
  {
   "cell_type": "code",
   "execution_count": null,
   "id": "ba5431cf-20bb-4c2d-b108-ff54bb6570f1",
   "metadata": {},
   "outputs": [],
   "source": []
  },
  {
   "cell_type": "code",
   "execution_count": null,
   "id": "9c809672-bf2a-4596-a13a-d61191254edc",
   "metadata": {},
   "outputs": [],
   "source": []
  }
 ],
 "metadata": {
  "kernelspec": {
   "display_name": "Python 3 (ipykernel)",
   "language": "python",
   "name": "python3"
  },
  "language_info": {
   "codemirror_mode": {
    "name": "ipython",
    "version": 3
   },
   "file_extension": ".py",
   "mimetype": "text/x-python",
   "name": "python",
   "nbconvert_exporter": "python",
   "pygments_lexer": "ipython3",
   "version": "3.8.5"
  }
 },
 "nbformat": 4,
 "nbformat_minor": 5
}
