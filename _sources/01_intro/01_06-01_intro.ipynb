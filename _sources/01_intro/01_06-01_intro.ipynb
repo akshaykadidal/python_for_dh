{
 "cells": [
  {
   "cell_type": "markdown",
   "id": "e7ec6b0a-2a2c-4edb-a9b7-6fdd09e2109f",
   "metadata": {},
   "source": [
    "# <center>Working with Data on the Web</center>"
   ]
  },
  {
   "cell_type": "markdown",
   "id": "67f34a7c-9486-4cbc-b58a-8fdca2a59b29",
   "metadata": {},
   "source": [
    "Covered in this Chapter"
   ]
  },
  {
   "cell_type": "markdown",
   "id": "6e7bb295-708b-4fa5-a496-538307d4d762",
   "metadata": {},
   "source": [
    "1) HTML<br>\n",
    "2) Tags<br>\n",
    "3) Attributes<br>"
   ]
  },
  {
   "cell_type": "code",
   "execution_count": null,
   "id": "d9aa660c-3704-412d-a93b-51667be18bfd",
   "metadata": {},
   "outputs": [],
   "source": []
  }
 ],
 "metadata": {
  "kernelspec": {
   "display_name": "Python 3 (ipykernel)",
   "language": "python",
   "name": "python3"
  },
  "language_info": {
   "codemirror_mode": {
    "name": "ipython",
    "version": 3
   },
   "file_extension": ".py",
   "mimetype": "text/x-python",
   "name": "python",
   "nbconvert_exporter": "python",
   "pygments_lexer": "ipython3",
   "version": "3.9.7"
  }
 },
 "nbformat": 4,
 "nbformat_minor": 5
}
