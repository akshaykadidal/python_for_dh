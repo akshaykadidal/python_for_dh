{
 "cells": [
  {
   "cell_type": "markdown",
   "id": "mineral-hierarchy",
   "metadata": {},
   "source": [
    "# <center>Installing Python</center>"
   ]
  },
  {
   "cell_type": "markdown",
   "id": "looking-harrison",
   "metadata": {},
   "source": [
    "## Introduction"
   ]
  },
  {
   "cell_type": "markdown",
   "id": "exempt-naples",
   "metadata": {},
   "source": [
    "The most challenging thing about working with Python (or any programming language) is learning how to install it correctly. Why is this such a challenge? Because installing Python differs dramatically by operating system and version of operating system. I present to you three different ways you can start programming Python from the easiest to the more challenging.\n",
    "\n",
    "1. Using the Trinket applications embedded throughout this textbook.\n",
    "2. Using the free built-in Binder feature of this textbook\n",
    "3. Using a free online Jupyter Notebook\n",
    "4. Installing Python locally via Anaconda Navigator and using Jupyter-Lab"
   ]
  },
  {
   "cell_type": "markdown",
   "id": "23232476-67a0-4548-827f-3b82a0ecab49",
   "metadata": {},
   "source": [
    "## Trinket\n",
    "\n",
    "Throughout this textbook, you will see [Trinket](https://trinket.io/) applications embedded within each page. Trinket allows you to practice your coding skills without ever installing Python. If you are new to coding and want to get started immediately without installing Python, I recommend working with Trinket inside the digital version of this textbook.\n",
    "\n",
    "These will allow for you to practice the lesson right inside the digital textbook. The Trinket applications look like this:"
   ]
  },
  {
   "cell_type": "code",
   "execution_count": 3,
   "id": "62d343b5-282b-443f-a80f-874784d8a152",
   "metadata": {
    "tags": [
     "hide-tag"
    ]
   },
   "outputs": [
    {
     "data": {
      "text/html": [
       "\n",
       "        <iframe\n",
       "            width=\"700\"\n",
       "            height=\"500\"\n",
       "            src=\"https://trinket.io/embed/python3/3fe4c8f3f4\"\n",
       "            frameborder=\"0\"\n",
       "            allowfullscreen\n",
       "            \n",
       "        ></iframe>\n",
       "        "
      ],
      "text/plain": [
       "<IPython.lib.display.IFrame at 0x7f31c81ee790>"
      ]
     },
     "execution_count": 3,
     "metadata": {},
     "output_type": "execute_result"
    }
   ],
   "source": [
    "from IPython.display import IFrame\n",
    "IFrame('https://trinket.io/embed/python3/3fe4c8f3f4', 700, 500)"
   ]
  },
  {
   "cell_type": "markdown",
   "id": "aedad649-bb4d-4089-a54d-bdad1764545b",
   "metadata": {},
   "source": [
    "You will be able to write your code inside this Trinket application and then click the play button at the top. This will execute your code and populate the results on the right hand output."
   ]
  },
  {
   "cell_type": "markdown",
   "id": "golden-round",
   "metadata": {},
   "source": [
    "## Using Binder from this JupyterBook"
   ]
  },
  {
   "cell_type": "markdown",
   "id": "disabled-title",
   "metadata": {},
   "source": [
    "Perhaps the easiest solution to getting started with Python, is to not even bother installing it. If you have access to this textbook, then you likely have internet access. If that is the case, then you can create a binder environment from this textbook. To begin, put your mouse over the rocket ship icon in the top-left portion of the page."
   ]
  },
  {
   "cell_type": "markdown",
   "id": "tight-acoustic",
   "metadata": {},
   "source": [
    "```{image} ../images/install/binder_rocket.JPG\n",
    ":alt: jupyter_org\n",
    ":class: bg-primary\n",
    ":width: 500px\n",
    ":align: center\n",
    "```"
   ]
  },
  {
   "cell_type": "markdown",
   "id": "patent-contributor",
   "metadata": {},
   "source": [
    "A button that says binder should emerge that says \"Binder\". Click it."
   ]
  },
  {
   "cell_type": "markdown",
   "id": "considerable-assault",
   "metadata": {},
   "source": [
    "```{image} ../images/install/binder_button.JPG\n",
    ":alt: jupyter_org\n",
    ":class: bg-primary\n",
    ":width: 500px\n",
    ":align: center\n",
    "```"
   ]
  },
  {
   "cell_type": "markdown",
   "id": "portable-penny",
   "metadata": {},
   "source": [
    "At this stage, your screen should look like this:"
   ]
  },
  {
   "cell_type": "markdown",
   "id": "regulated-liverpool",
   "metadata": {},
   "source": [
    "```{image} ../images/install/binder_build.JPG\n",
    ":alt: jupyter_org\n",
    ":class: bg-primary\n",
    ":width: 500px\n",
    ":align: center\n",
    "```"
   ]
  },
  {
   "cell_type": "markdown",
   "id": "searching-fisher",
   "metadata": {},
   "source": [
    "If it does, then sit back and relax. It may take a few minutes as binder builds the environment. Once Binder is finished, click on File in the top left corner of the screen and then select New Notebook"
   ]
  },
  {
   "cell_type": "markdown",
   "id": "failing-furniture",
   "metadata": {},
   "source": [
    "```{image} ../images/install/binder_new_notebook.JPG\n",
    ":alt: jupyter_org\n",
    ":class: bg-primary\n",
    ":width: 500px\n",
    ":align: center\n",
    "```"
   ]
  },
  {
   "cell_type": "markdown",
   "id": "lonely-missile",
   "metadata": {},
   "source": [
    "After this, select Python 3 (ipykernal). This will open a fresh, new notebook."
   ]
  },
  {
   "cell_type": "markdown",
   "id": "personal-institute",
   "metadata": {},
   "source": [
    "```{image} ../images/install/binder_new_notebook_click.JPG\n",
    ":alt: jupyter_org\n",
    ":class: bg-primary\n",
    ":width: 500px\n",
    ":align: center\n",
    "```"
   ]
  },
  {
   "cell_type": "markdown",
   "id": "popular-niger",
   "metadata": {},
   "source": [
    "Now you should have a new notebook that looks like this:"
   ]
  },
  {
   "cell_type": "markdown",
   "id": "relevant-sound",
   "metadata": {},
   "source": [
    "```{image} ../images/install/binder_new_notebook_page.JPG\n",
    ":alt: jupyter_org\n",
    ":class: bg-primary\n",
    ":width: 500px\n",
    ":align: center\n",
    "```"
   ]
  },
  {
   "cell_type": "markdown",
   "id": "multiple-supplement",
   "metadata": {},
   "source": [
    "And now, you can fully follow along with this textbook."
   ]
  },
  {
   "cell_type": "markdown",
   "id": "white-acrobat",
   "metadata": {},
   "source": [
    "## Using Jupyter Notebooks Online"
   ]
  },
  {
   "cell_type": "markdown",
   "id": "pacific-cycle",
   "metadata": {},
   "source": [
    "If you want to be a bit more independent and learn how to code in Python online without Binder and this textbook, you can! You do not need to download and install Python on your local computer either. Instead, you can use free online compilers that allow you follow along with nearly all of this textbook without issue.\n",
    "\n",
    "If this is your view at the moment, then click the link this link: https://jupyter.org/try\n",
    "\n",
    "Once on the page click the picture that says Jupyter Notebook"
   ]
  },
  {
   "cell_type": "markdown",
   "id": "southwest-education",
   "metadata": {},
   "source": [
    "```{image} ../images/install/jupyter_org.JPG\n",
    ":alt: jupyter_org\n",
    ":class: bg-primary\n",
    ":width: 500px\n",
    ":align: center\n",
    "```"
   ]
  },
  {
   "cell_type": "markdown",
   "id": "cordless-burlington",
   "metadata": {},
   "source": [
    "After that, you will see a screen that looks like this:"
   ]
  },
  {
   "cell_type": "markdown",
   "id": "liberal-wrestling",
   "metadata": {},
   "source": [
    "```{image} ../images/install/jupyter_org_binder.JPG\n",
    ":alt: jupyter_org\n",
    ":class: bg-primary\n",
    ":width: 500px\n",
    ":align: center\n",
    "```"
   ]
  },
  {
   "cell_type": "markdown",
   "id": "light-parallel",
   "metadata": {},
   "source": [
    "After a few minutes, the environment will load and you should see a notebook. Click File in the top left corner, New Notebook, and Select Python 3."
   ]
  },
  {
   "cell_type": "markdown",
   "id": "armed-lexington",
   "metadata": {},
   "source": [
    "```{image} ../images/install/jupyter_org_new.JPG\n",
    ":alt: jupyter_org\n",
    ":class: bg-primary\n",
    ":width: 500px\n",
    ":align: center\n",
    "```"
   ]
  },
  {
   "cell_type": "markdown",
   "id": "expanded-possession",
   "metadata": {},
   "source": [
    "Once loaded, you can following along with this textbook in this new notebook."
   ]
  },
  {
   "cell_type": "markdown",
   "id": "fancy-former",
   "metadata": {},
   "source": [
    "```{image} ../images/install/jupyter_org_new_page.JPG\n",
    ":alt: jupyter_org\n",
    ":class: bg-primary\n",
    ":width: 500px\n",
    ":align: center\n",
    "```"
   ]
  },
  {
   "cell_type": "markdown",
   "id": "protecting-decimal",
   "metadata": {},
   "source": [
    "## Installing Python Locally"
   ]
  },
  {
   "cell_type": "markdown",
   "id": "baking-ceiling",
   "metadata": {},
   "source": [
    "If you wish to install Python locally and it is your first time, there are many problems that can surface. For this reason, I am now recommending all students install via Anaconda Navigator. It adds extra steps into the installation process, but it eliminates the potential for mistakes to occur. If a mistake occurs during the install process, it could mean that you write a program that never executes.\n",
    "\n",
    "Anaconda Navigator is a user-friendly interface that handles the installation for you. It also allows for you to create environments, which are small areas on your computer that have a unique version of Python and libraries installed. We will learn more about this in Part 06 when we explore libraries.\n",
    "\n",
    "In this chapter, I will walk you through the steps of installing Anaconda Navigator on your machine, regardless of operating system. In addition, I highly encourage you to watch the video on how to do this.\n",
    "\n",
    "When we write code in Python, we do so a few different ways, depending on that code's use. Because this is a textbook and the code I am writing is for presentation purposes, I am using a Jupyter Notebook. Other times, you may write a program in an IDE, or an Integrated Development Environment. Some of these include PyCharm, Atom, etc. In other cases, you will use Python in the terminal to perform quick tasks on data in a directory. Anaconda Navigator removes the need for you to learn how to do all of this because it allows for you to easily install Jupyter-Lab which functions like an IDE but is a bit more forgiving. In addition, you can call terminal sessions. I know these terms do not make sense right now, but as your understanding of programming expands, this paragraph will make more sense. For now, simply trust me that Anaconda Navigator and Jupyter-Lab (both of which we install in this chapter), make your start to learning to code much, much simpler."
   ]
  },
  {
   "cell_type": "markdown",
   "id": "according-smile",
   "metadata": {},
   "source": [
    "### Download Anaconda Navigator"
   ]
  },
  {
   "cell_type": "markdown",
   "id": "90d482fe-1ca8-49b1-ada3-ba0fa4521089",
   "metadata": {},
   "source": [
    "In order to download Anaconda Navigator go to this link here: https://www.anaconda.com/. Next, hover over Products and select Individual Edition, as seen in the image below."
   ]
  },
  {
   "cell_type": "markdown",
   "id": "269e3a05-aae9-4a63-ad16-50e90ffa1f60",
   "metadata": {},
   "source": [
    "```{image} ../images/install/anaconda_navigator1.JPG\n",
    ":alt: jupyter_org\n",
    ":class: bg-primary\n",
    ":width: 500px\n",
    ":align: center\n",
    "```"
   ]
  },
  {
   "cell_type": "markdown",
   "id": "3093250a-b78b-48ad-b298-6623206218d5",
   "metadata": {},
   "source": [
    "Now, click on the Download button as seen in the image below and walk through the installation process on your computer. Once complete, you will have Anaconda Navigator installed."
   ]
  },
  {
   "cell_type": "markdown",
   "id": "561a2522-2b5e-42eb-9cf6-eb2afefcb12c",
   "metadata": {},
   "source": [
    "```{image} ../images/install/anaconda_navigator2.JPG\n",
    ":alt: jupyter_org\n",
    ":class: bg-primary\n",
    ":width: 500px\n",
    ":align: center\n",
    "```"
   ]
  },
  {
   "cell_type": "markdown",
   "id": "juvenile-stations",
   "metadata": {},
   "source": [
    "### Using Anaconda Navigator"
   ]
  },
  {
   "cell_type": "markdown",
   "id": "rapid-seattle",
   "metadata": {},
   "source": [
    "Now that Anaconda Navigator is installed, you can use it by opening it up on your computer. When you first see Anaconda Navigator, you will see several options on the left. In environments, you will only see one environment: base. Don't worry about environments this early in your Python career. For now, we will simply click the Home button on the left."
   ]
  },
  {
   "cell_type": "markdown",
   "id": "5abcd440-3c73-4058-b886-ed60d8e6721f",
   "metadata": {},
   "source": [
    "```{image} ../images/install/anaconda_navigator3.JPG\n",
    ":alt: jupyter_org\n",
    ":class: bg-primary\n",
    ":width: 500px\n",
    ":align: center\n",
    "```"
   ]
  },
  {
   "cell_type": "markdown",
   "id": "comprehensive-restaurant",
   "metadata": {},
   "source": [
    "### Installing Jupyter-Lab"
   ]
  },
  {
   "cell_type": "markdown",
   "id": "09d23d57-a19e-47e5-8e18-c9bb18b32688",
   "metadata": {},
   "source": [
    "In order to start using Python, there are a few different options available to you. You could use a terminal and following along with the textbook, but that can be quite difficult if you are just starting out. Since this textbook was designed in JupyterLab, I think it makes the most sense to install that software. Go ahead and click Install under JupyterLab. Once installed, you will be able to Launch it and follow along with the textbook.\n",
    "\n",
    "```{image} ../images/install/anaconda_navigator4.JPG\n",
    ":alt: jupyter_org\n",
    ":class: bg-primary\n",
    ":width: 500px\n",
    ":align: center\n",
    "```"
   ]
  },
  {
   "cell_type": "markdown",
   "id": "0c21cc20-2483-4a46-9c52-a34a0f4831ba",
   "metadata": {},
   "source": [
    "## Conclusion"
   ]
  },
  {
   "cell_type": "markdown",
   "id": "a1b82792-396d-463b-8fb2-fc456b3d1d8f",
   "metadata": {},
   "source": [
    "If at any point in the installation process, you get frustrated, simply launch this textbook in Binder. It will be much easier and allow you to get started with the whole reason you got this textbook in the first place: to learn Python. Once you are all set, head on over to the next chapter where we will begin working with data."
   ]
  }
 ],
 "metadata": {
  "kernelspec": {
   "display_name": "Python 3 (ipykernel)",
   "language": "python",
   "name": "python3"
  },
  "language_info": {
   "codemirror_mode": {
    "name": "ipython",
    "version": 3
   },
   "file_extension": ".py",
   "mimetype": "text/x-python",
   "name": "python",
   "nbconvert_exporter": "python",
   "pygments_lexer": "ipython3",
   "version": "3.9.7"
  }
 },
 "nbformat": 4,
 "nbformat_minor": 5
}
