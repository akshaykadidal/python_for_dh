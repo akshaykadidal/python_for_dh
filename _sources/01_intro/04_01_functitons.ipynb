{
 "cells": [
  {
   "cell_type": "markdown",
   "id": "efficient-practice",
   "metadata": {},
   "source": [
    "# <center>Functions</center>"
   ]
  },
  {
   "cell_type": "markdown",
   "id": "ancient-blair",
   "metadata": {},
   "source": [
    "<center>Dr. W.J.B. Mattingly</center>\n",
    "\n",
    "<center>Smithsonian Data Science Lab and United States Holocaust Memorial Museum</center>\n",
    "\n",
    "<center>January 2022</center>"
   ]
  },
  {
   "cell_type": "markdown",
   "id": "infrared-product",
   "metadata": {},
   "source": [
    "## Covered in this Chapter"
   ]
  },
  {
   "cell_type": "markdown",
   "id": "announced-notion",
   "metadata": {},
   "source": [
    "1) What a function is conceptually<br>\n",
    "2) How to create a function<br>\n",
    "3) How to assign arguments to a function<br>\n",
    "4) How to assign variable keyword arguments to a function<br>\n",
    "5) How to assign variable arbitrary arguments to a function<br>"
   ]
  },
  {
   "cell_type": "markdown",
   "id": "bottom-census",
   "metadata": {},
   "source": [
    "## Introduction"
   ]
  },
  {
   "cell_type": "markdown",
   "id": "neither-prevention",
   "metadata": {},
   "source": [
    "In this chapter, you will learn all about functions. You have already been exposed to several functions in this textbook, such as the print() function. My goal in this chapter is to teach you how to create your own functions.\n",
    "\n",
    "<b>Functions</b> exist in all programming languages. They allow you to write a set of code that can be used later in your program. They are essential because they allow you to not rewrite the same block of text over and over again. Good code is code that does not repeat. In other words, if your program has a task that it needs to do repetitively, then you should develop that code into a cleaned function.\n",
    "\n",
    "A function, as we will see has four parts:\n",
    "1. the name of the function\n",
    "2. the arguments passed to the function\n",
    "3. the code\n",
    "4. the returned piece of data (optional)"
   ]
  },
  {
   "cell_type": "markdown",
   "id": "swiss-journalist",
   "metadata": {},
   "source": [
    "## Functions in Action"
   ]
  },
  {
   "cell_type": "markdown",
   "id": "ancient-friendly",
   "metadata": {},
   "source": [
    "I think the best way to learn about functions is to see them in action before breaking down what is happening. Let's take a look at the code below."
   ]
  },
  {
   "cell_type": "code",
   "execution_count": 1,
   "id": "disciplinary-provincial",
   "metadata": {},
   "outputs": [],
   "source": [
    "def my_function(number):\n",
    "    x = number+1\n",
    "    return x"
   ]
  },
  {
   "cell_type": "markdown",
   "id": "infrared-string",
   "metadata": {},
   "source": [
    "In the above cell, I have told Python that I am creating a function by using the command \"def\". This is followed by the name of the function, \"my_function\". After this we see open and a close parentheses, between which sit the word \"number\". This is the argument that the function expects to take. This is then followed with our \":\", which, if you remember from the previous two chapters, means that the next block of text must be indented. Whatever is indented will belong to the function.\n",
    "\n",
    "The code of the function is \"x = number+1\". Before moving on, pause for a moment and think about what this function might do. Once you have an idea, proceed reading to the next paragraph.\n",
    "\n",
    "The final portion of the cell is \"return x\". This is the bit of code. This will return for the user the x object that we created temporarily in the function.\n",
    "\n",
    "Let's now call this function in the cell bellow to see how it works."
   ]
  },
  {
   "cell_type": "code",
   "execution_count": 2,
   "id": "fleet-tribe",
   "metadata": {},
   "outputs": [],
   "source": [
    "result = my_function(1)"
   ]
  },
  {
   "cell_type": "markdown",
   "id": "desperate-reporter",
   "metadata": {},
   "source": [
    "In the code above, we have created a new object, \"result\". This will be the result of our function. Like all objects, it can be named whatever you like, save for the forbidden object names in Python.\n",
    "\n",
    "We then call the function, \"my_function\" and pass a single argument to it, an integer. In this case, 1.\n",
    "\n",
    "I want you to take a moment and try and guess what result will be. Go ahead and try and recreate this code in your own notebook, or, if you are using this textbook with the built-in Binder environment, create a new cell below and print off \"result\"."
   ]
  },
  {
   "cell_type": "code",
   "execution_count": 3,
   "id": "c12b4243-d2de-404c-ae8f-6aeb6252ed46",
   "metadata": {
    "tags": [
     "hide-output"
    ]
   },
   "outputs": [
    {
     "name": "stdout",
     "output_type": "stream",
     "text": [
      "2\n"
     ]
    }
   ],
   "source": [
    "print (result)"
   ]
  },
  {
   "cell_type": "markdown",
   "id": "f6955ff9-04fe-41a3-b9e2-472d426e9920",
   "metadata": {},
   "source": [
    "Did you guess correctly? If so, great. If not, that's okay. Why do you think your answer was wrong? Do you understand why? These are some of the core questions you should be asking yourself at this moment.\n",
    "\n",
    "Let's break down the function now from a logical point of view. The key piece of code is \"x = number+1\". This code tells Python to create a new object called \"x\". This will be equal to whatever the input argument, \"number\", is plus 1. If we give the function the number 1, then our output will be 2. Likewise, if we do this with 3, we will get 4. But what would happen if we tried to pass the string \"one\"?"
   ]
  },
  {
   "cell_type": "code",
   "execution_count": 5,
   "id": "muslim-ranking",
   "metadata": {},
   "outputs": [
    {
     "ename": "TypeError",
     "evalue": "can only concatenate str (not \"int\") to str",
     "output_type": "error",
     "traceback": [
      "\u001b[1;31m---------------------------------------------------------------------------\u001b[0m",
      "\u001b[1;31mTypeError\u001b[0m                                 Traceback (most recent call last)",
      "\u001b[1;32m<ipython-input-5-727ec5ed3632>\u001b[0m in \u001b[0;36m<module>\u001b[1;34m\u001b[0m\n\u001b[1;32m----> 1\u001b[1;33m \u001b[0mbad_result\u001b[0m \u001b[1;33m=\u001b[0m \u001b[0mmy_function\u001b[0m\u001b[1;33m(\u001b[0m\u001b[1;34m\"one\"\u001b[0m\u001b[1;33m)\u001b[0m\u001b[1;33m\u001b[0m\u001b[1;33m\u001b[0m\u001b[0m\n\u001b[0m",
      "\u001b[1;32m<ipython-input-1-52cfa1c566a4>\u001b[0m in \u001b[0;36mmy_function\u001b[1;34m(number)\u001b[0m\n\u001b[0;32m      1\u001b[0m \u001b[1;32mdef\u001b[0m \u001b[0mmy_function\u001b[0m\u001b[1;33m(\u001b[0m\u001b[0mnumber\u001b[0m\u001b[1;33m)\u001b[0m\u001b[1;33m:\u001b[0m\u001b[1;33m\u001b[0m\u001b[1;33m\u001b[0m\u001b[0m\n\u001b[1;32m----> 2\u001b[1;33m     \u001b[0mx\u001b[0m \u001b[1;33m=\u001b[0m \u001b[0mnumber\u001b[0m\u001b[1;33m+\u001b[0m\u001b[1;36m1\u001b[0m\u001b[1;33m\u001b[0m\u001b[1;33m\u001b[0m\u001b[0m\n\u001b[0m\u001b[0;32m      3\u001b[0m     \u001b[1;32mreturn\u001b[0m \u001b[1;33m(\u001b[0m\u001b[0mx\u001b[0m\u001b[1;33m)\u001b[0m\u001b[1;33m\u001b[0m\u001b[1;33m\u001b[0m\u001b[0m\n",
      "\u001b[1;31mTypeError\u001b[0m: can only concatenate str (not \"int\") to str"
     ]
    }
   ],
   "source": [
    "bad_result = my_function(\"one\")"
   ]
  },
  {
   "cell_type": "markdown",
   "id": "german-bumper",
   "metadata": {},
   "source": [
    "We receive an error. This error message allows us to debug the problem. It is a TypeError, meaning we tried to use the wrong object type. We know that the error occurs in line 2 of our cell, \"x = number+1\". Why do you think we received this error?\n",
    "\n",
    "If you said because \"one\" is a string and you cannot add a string by the integer 1, then you would be right. If we were writing this program for ourselves, we would know this and never try to pass a string to the function, but what if someone else is trying to use our code and does not know precisely what it is supposed to do? In Python, we can pass in some key information to help our users."
   ]
  },
  {
   "cell_type": "markdown",
   "id": "greek-marker",
   "metadata": {},
   "source": [
    "## Functions with Multiple Arguments"
   ]
  },
  {
   "cell_type": "markdown",
   "id": "entertaining-nicaragua",
   "metadata": {},
   "source": [
    "In the above section, we saw a simple function that had a single argument. In Python, you can assign as many arguments you want to a function. Let's try to make a slightly different function that adds two numbers together, each supplied by the user."
   ]
  },
  {
   "cell_type": "code",
   "execution_count": 1,
   "id": "registered-ceremony",
   "metadata": {},
   "outputs": [],
   "source": [
    "def my_function2(number1, number2):\n",
    "    x = number1+number2\n",
    "    return x"
   ]
  },
  {
   "cell_type": "markdown",
   "id": "private-relay",
   "metadata": {},
   "source": [
    "Notice that my_function2 is the precise same as the function above except we have two arguments, \"number1\" and \"number2\". Also, in the function x is the result of number1 plus number2.\n",
    "\n",
    "Now, let's try and use this function by passing two numbers to it: 1 and 3."
   ]
  },
  {
   "cell_type": "code",
   "execution_count": 2,
   "id": "charitable-wealth",
   "metadata": {},
   "outputs": [
    {
     "name": "stdout",
     "output_type": "stream",
     "text": [
      "4\n"
     ]
    }
   ],
   "source": [
    "result2 = my_function2(1,3)\n",
    "print (result2)"
   ]
  },
  {
   "cell_type": "markdown",
   "id": "studied-dimension",
   "metadata": {},
   "source": [
    "Yay! We got the result we desired. These are known as positional arguments because we are relying on the position of the argument in the function's () section. Let's modify this function slightly again so that you can see what I mean."
   ]
  },
  {
   "cell_type": "code",
   "execution_count": 3,
   "id": "architectural-grain",
   "metadata": {},
   "outputs": [],
   "source": [
    "def my_function3(number1, number2):\n",
    "    print (\"Number 1 is \", number1)\n",
    "    print (\"Number 2 is \", number2)"
   ]
  },
  {
   "cell_type": "code",
   "execution_count": 4,
   "id": "liberal-mailman",
   "metadata": {},
   "outputs": [
    {
     "name": "stdout",
     "output_type": "stream",
     "text": [
      "Number 1 is  1\n",
      "Number 2 is  3\n"
     ]
    }
   ],
   "source": [
    "my_function3(1, 3)"
   ]
  },
  {
   "cell_type": "markdown",
   "id": "hollywood-authentication",
   "metadata": {},
   "source": [
    "Notice that I have deleted the return line. This is because this function does not need to return anything to the user. Instead, it's sole purpose is to simply print off what the two arguments are. Let's reverse the order of our arguments now."
   ]
  },
  {
   "cell_type": "code",
   "execution_count": 5,
   "id": "present-mattress",
   "metadata": {},
   "outputs": [
    {
     "name": "stdout",
     "output_type": "stream",
     "text": [
      "Number 1 is  3\n",
      "Number 2 is  1\n"
     ]
    }
   ],
   "source": [
    "my_function3(3, 1)"
   ]
  },
  {
   "cell_type": "markdown",
   "id": "available-petroleum",
   "metadata": {},
   "source": [
    "Because these are positional arguments, we are dependent upon the position of the arguments to assign them correctly. We can get around this by specifying which argument we want to assign things to, thus avoiding the reliance on the order in which we pass the arguments to the function. Check out the code below to see this in action."
   ]
  },
  {
   "cell_type": "code",
   "execution_count": 6,
   "id": "imposed-spending",
   "metadata": {},
   "outputs": [
    {
     "name": "stdout",
     "output_type": "stream",
     "text": [
      "Number 1 is  1\n",
      "Number 2 is  3\n"
     ]
    }
   ],
   "source": [
    "my_function3(number2=3, number1=1)"
   ]
  },
  {
   "cell_type": "markdown",
   "id": "assisted-monte",
   "metadata": {},
   "source": [
    "## Keyword Argument"
   ]
  },
  {
   "cell_type": "markdown",
   "id": "studied-danish",
   "metadata": {},
   "source": [
    "Sometimes when we create a function, we want to make it optional for the user to pass an argument. In these instances, we will create what is known as a keyword argument, something that is set to a default. In the function below, we want to give the user the option to pass a last name to the function. Notice, though, it defaults to \"Mattingly\"."
   ]
  },
  {
   "cell_type": "code",
   "execution_count": 7,
   "id": "formal-modern",
   "metadata": {},
   "outputs": [],
   "source": [
    "def add_surname(first_name, last_name = \"Mattingly\"):\n",
    "    print (first_name, last_name)"
   ]
  },
  {
   "cell_type": "code",
   "execution_count": 8,
   "id": "aggressive-investing",
   "metadata": {},
   "outputs": [
    {
     "name": "stdout",
     "output_type": "stream",
     "text": [
      "William Mattingly\n"
     ]
    }
   ],
   "source": [
    "add_surname(\"William\")"
   ]
  },
  {
   "cell_type": "markdown",
   "id": "killing-publicity",
   "metadata": {},
   "source": [
    "That worked well, but a user still has the ability to change the last_name object."
   ]
  },
  {
   "cell_type": "code",
   "execution_count": 9,
   "id": "fifteen-buffalo",
   "metadata": {},
   "outputs": [
    {
     "name": "stdout",
     "output_type": "stream",
     "text": [
      "William Smith\n"
     ]
    }
   ],
   "source": [
    "add_surname(\"William\", \"Smith\")"
   ]
  },
  {
   "cell_type": "markdown",
   "id": "associate-redhead",
   "metadata": {},
   "source": [
    "## Keyword Arbitrary Arguments"
   ]
  },
  {
   "cell_type": "markdown",
   "id": "unauthorized-champion",
   "metadata": {},
   "source": [
    "In rare instances, you will not know precisely how many arguments a user will need to pass to your function, so you want to give them the option to pass as many as they wish. In these instances, you will use what are known as arbitrary arguments. You assign these with an * before the argument name."
   ]
  },
  {
   "cell_type": "code",
   "execution_count": 10,
   "id": "rough-shame",
   "metadata": {},
   "outputs": [],
   "source": [
    "def print_names(*names):\n",
    "    for name in names:\n",
    "        print (name)"
   ]
  },
  {
   "cell_type": "code",
   "execution_count": 11,
   "id": "lovely-windsor",
   "metadata": {},
   "outputs": [
    {
     "name": "stdout",
     "output_type": "stream",
     "text": [
      "William\n",
      "Marge\n",
      "Sally\n",
      "Alex\n"
     ]
    }
   ],
   "source": [
    "print_names(\"William\", \"Marge\", \"Sally\", \"Alex\")"
   ]
  },
  {
   "cell_type": "markdown",
   "id": "baking-parks",
   "metadata": {},
   "source": [
    "Notice that the function has allowed the user to pass as many arguments as they wish to the function. In my entire time coding, I have only used an arbitrary argument a handful of times, but it is important to keep it in the back of your mind in case you are ever in that situation."
   ]
  },
  {
   "cell_type": "markdown",
   "id": "unexpected-saying",
   "metadata": {},
   "source": [
    "## Conclusion"
   ]
  },
  {
   "cell_type": "markdown",
   "id": "handmade-while",
   "metadata": {},
   "source": [
    "Hopefully, you now have a basic understanding about what functions are and how they work in practice. I recommend spending a few hours playing around with some basic functions to do some tasks you need to perform on your own personal data. If you get stuck, try Googling your question. You would be surprised how many responses are available. Pay particular attention to StackOverflow responses."
   ]
  },
  {
   "cell_type": "markdown",
   "id": "matched-cycle",
   "metadata": {},
   "source": [
    "## Answer for Result"
   ]
  },
  {
   "cell_type": "code",
   "execution_count": 4,
   "id": "french-drive",
   "metadata": {},
   "outputs": [
    {
     "name": "stdout",
     "output_type": "stream",
     "text": [
      "2\n"
     ]
    }
   ],
   "source": [
    "print (result)"
   ]
  },
  {
   "cell_type": "code",
   "execution_count": null,
   "id": "better-stage",
   "metadata": {},
   "outputs": [],
   "source": []
  }
 ],
 "metadata": {
  "kernelspec": {
   "display_name": "Python 3",
   "language": "python",
   "name": "python3"
  },
  "language_info": {
   "codemirror_mode": {
    "name": "ipython",
    "version": 3
   },
   "file_extension": ".py",
   "mimetype": "text/x-python",
   "name": "python",
   "nbconvert_exporter": "python",
   "pygments_lexer": "ipython3",
   "version": "3.8.5"
  }
 },
 "nbformat": 4,
 "nbformat_minor": 5
}
