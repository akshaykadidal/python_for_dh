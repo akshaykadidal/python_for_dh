{
 "cells": [
  {
   "cell_type": "markdown",
   "id": "legendary-nicholas",
   "metadata": {},
   "source": [
    "# <center>Working with Textual Data</center>"
   ]
  },
  {
   "cell_type": "markdown",
   "id": "legal-sociology",
   "metadata": {},
   "source": [
    "<center>Dr. W.J.B. Mattingly</center>\n",
    "\n",
    "<center>Smithsonian Data Science Lab and United States Holocaust Memorial Museum</center>\n",
    "\n",
    "<center>January 2022</center>"
   ]
  },
  {
   "cell_type": "markdown",
   "id": "loved-holiday",
   "metadata": {},
   "source": [
    "## Covered in this Chapter"
   ]
  },
  {
   "cell_type": "markdown",
   "id": "increasing-fifteen",
   "metadata": {},
   "source": [
    "1) Text Files<br>\n",
    "2) The With Operator<br>\n",
    "3) How to Open Text Files in Python<br>\n",
    "4) How to Read from Text Files in Python<br>\n",
    "5) How to Write to Text Files in Python<br>"
   ]
  },
  {
   "cell_type": "markdown",
   "id": "prepared-superior",
   "metadata": {},
   "source": [
    "## Introduction"
   ]
  },
  {
   "cell_type": "markdown",
   "id": "further-application",
   "metadata": {},
   "source": [
    "Up until now, we have strictly worked with data that we have produced within our own code. Rarely will you ever copy-and-paste data into a Python script. Instead, you will need to interact with external data. Further, you will often need to save data in some way. This chapter is the first of two that walk you through how to interact with external data. We will be working with textual data in this chapter, while in the following chapter we will work with JSON, or JavaScript Object Notation data. In Part 07, Chapter 02, we will work with tabular data."
   ]
  },
  {
   "cell_type": "markdown",
   "id": "social-letter",
   "metadata": {},
   "source": [
    "## The With Operator"
   ]
  },
  {
   "cell_type": "markdown",
   "id": "adjacent-input",
   "metadata": {},
   "source": [
    "The with operator in Python is an essential command that allows for you to do something in memory for so long as the operator is open. This is really important when opening text files. There are several ways to open text files in Python, but I am only showing you this method because it is the most Pythonic. Other methods require you to close the text file in code. If you do not, it will remain open in memory. If you are working with 10,000 text files (I have done this before), and forget to add a close command in your code while iterating over all 10,000 files, your computer will run out of memory and crash. The with operator avoids this problem entirely."
   ]
  },
  {
   "cell_type": "markdown",
   "id": "bc0547de-0c2e-4897-b3de-6b0a9ed260ab",
   "metadata": {},
   "source": [
    "## How to Open a Text File"
   ]
  },
  {
   "cell_type": "markdown",
   "id": "94b031ba-6f9a-4089-b131-54c302815ab7",
   "metadata": {},
   "source": [
    "Let's see what it looks like in action and then we will break down what is happening."
   ]
  },
  {
   "cell_type": "code",
   "execution_count": 1,
   "id": "threatened-right",
   "metadata": {},
   "outputs": [],
   "source": [
    "with open ('data/sample.txt', \"r\") as f:\n",
    "    data = f.read()"
   ]
  },
  {
   "cell_type": "markdown",
   "id": "novel-sphere",
   "metadata": {},
   "source": [
    "The first line in our code is\n",
    "\n",
    "with open (file, \"r\") as f:\n",
    "\n",
    "We can see that we start clearly with the \"with\" operator. Next, we specify what we are going to do with the with operator. In this case, we will be using the open command. Open tells Python to open a file. Within the parentheses, we pass two arguments. The first argument is a string that corresponds to where the file is located. Here, the file is in our data subfolder and is called \"sample.txt\". The final component of this line is \"as f\". This tells Python to open that file up temporarily as the object name \"f\". The final colon, which we have seen before, indicates that we are about to do something indented.\n",
    "\n",
    "The next line is indented because this is a nested bit of code that is being done within the with operator. The line reads:\n",
    "\n",
    "data = f.read()\n",
    "\n",
    "The name data is the object name that we are assigning to the contents of the file. Next, we see f.read(). This command tells Python to take the f object, in this case the temporary file, open it and read its contents.\n",
    "\n",
    "Now, let's take a look at those contents! We can print them off with the print command."
   ]
  },
  {
   "cell_type": "code",
   "execution_count": 2,
   "id": "9d299047-80d7-496a-8f26-55272120903e",
   "metadata": {},
   "outputs": [
    {
     "name": "stdout",
     "output_type": "stream",
     "text": [
      "This is a sample of a text\n",
      "This is another line of the same sample text\n",
      "This is a third line.\n"
     ]
    }
   ],
   "source": [
    "print (data)"
   ]
  },
  {
   "cell_type": "markdown",
   "id": "141f8387-20ad-4a83-8437-0ae63f3bb3ad",
   "metadata": {},
   "source": [
    "We can see that the text file contains three lines. It is frequently necessary to split up input data by linebreaks. Sometimes this is necessary when the text file is a list of data with each piece of data stored on a new line. Other times, you need to clean the data so that a paragraph of a scanned book is a continuous string of text. One of the easiest ways to do this is to use the built-in method, splitlines()."
   ]
  },
  {
   "cell_type": "code",
   "execution_count": 4,
   "id": "descending-dollar",
   "metadata": {},
   "outputs": [
    {
     "name": "stdout",
     "output_type": "stream",
     "text": [
      "['This is a sample of a text', 'This is another line of the same sample text', 'This is a third line.']\n"
     ]
    }
   ],
   "source": [
    "print (data.splitlines())"
   ]
  },
  {
   "cell_type": "markdown",
   "id": "concerned-communist",
   "metadata": {},
   "source": [
    "As you can see, splitlines allows us to convert our string into a list of strings that are separated by linebreaks."
   ]
  },
  {
   "cell_type": "markdown",
   "id": "prostate-westminster",
   "metadata": {},
   "source": [
    "## How to Write Data to a Text File"
   ]
  },
  {
   "cell_type": "markdown",
   "id": "45217c19-98df-4a73-b2f8-5a21786fe314",
   "metadata": {},
   "source": [
    "Just as it is necessary to access external data via Python, you will find yourself frequently needing to storing data outside of a Python script. Let's take a look at how to do this in the following block of code."
   ]
  },
  {
   "cell_type": "code",
   "execution_count": 5,
   "id": "electronic-paris",
   "metadata": {},
   "outputs": [],
   "source": [
    "new_string = \"This is a new string.\"\n",
    "with open (\"data/sample2.txt\", \"w\") as f:\n",
    "    f.write(new_string)"
   ]
  },
  {
   "cell_type": "markdown",
   "id": "sorted-butterfly",
   "metadata": {},
   "source": [
    "This block of code looks very similar to the one above, but with a few exceptions. First, we created a string called new_string. Next, we need to drop that new string into a text file. In this case, we will drop it into data/sample2.txt. Notice, that we have replaced the \"r\" with \"w\". This is because we are telling Python that we want to write to the file, not read it.\n",
    "\n",
    "In the indented bit of code, we use f.write(), rather than f.read(). This allows us to write to the f object, rather than read from it. It will take one argument, the string that we want to write to the file. In our case, it is the string object, new_string."
   ]
  },
  {
   "cell_type": "code",
   "execution_count": null,
   "id": "dependent-boxing",
   "metadata": {},
   "outputs": [],
   "source": []
  },
  {
   "cell_type": "markdown",
   "id": "rubber-lambda",
   "metadata": {},
   "source": []
  },
  {
   "cell_type": "code",
   "execution_count": null,
   "id": "south-slave",
   "metadata": {},
   "outputs": [],
   "source": []
  },
  {
   "cell_type": "code",
   "execution_count": null,
   "id": "ranging-system",
   "metadata": {},
   "outputs": [],
   "source": []
  },
  {
   "cell_type": "code",
   "execution_count": null,
   "id": "perfect-relief",
   "metadata": {},
   "outputs": [],
   "source": []
  }
 ],
 "metadata": {
  "kernelspec": {
   "display_name": "Python 3",
   "language": "python",
   "name": "python3"
  },
  "language_info": {
   "codemirror_mode": {
    "name": "ipython",
    "version": 3
   },
   "file_extension": ".py",
   "mimetype": "text/x-python",
   "name": "python",
   "nbconvert_exporter": "python",
   "pygments_lexer": "ipython3",
   "version": "3.8.5"
  }
 },
 "nbformat": 4,
 "nbformat_minor": 5
}
