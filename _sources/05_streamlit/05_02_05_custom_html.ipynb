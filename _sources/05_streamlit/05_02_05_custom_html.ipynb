{
 "cells": [
  {
   "cell_type": "markdown",
   "id": "e7a24e50-e078-4780-a148-78e2c72e8e18",
   "metadata": {},
   "source": [
    "# Custom HTML"
   ]
  },
  {
   "cell_type": "code",
   "execution_count": null,
   "id": "c5ed6be2-8a52-4d9d-9296-336bd4eaec3c",
   "metadata": {},
   "outputs": [],
   "source": []
  }
 ],
 "metadata": {
  "kernelspec": {
   "display_name": "Python 3 (ipykernel)",
   "language": "python",
   "name": "python3"
  },
  "language_info": {
   "codemirror_mode": {
    "name": "ipython",
    "version": 3
   },
   "file_extension": ".py",
   "mimetype": "text/x-python",
   "name": "python",
   "nbconvert_exporter": "python",
   "pygments_lexer": "ipython3",
   "version": "3.9.12"
  }
 },
 "nbformat": 4,
 "nbformat_minor": 5
}
