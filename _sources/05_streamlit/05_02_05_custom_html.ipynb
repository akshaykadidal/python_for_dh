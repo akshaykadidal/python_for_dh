{
 "cells": [
  {
   "cell_type": "markdown",
   "id": "e7a24e50-e078-4780-a148-78e2c72e8e18",
   "metadata": {},
   "source": [
    "# Custom HTML"
   ]
  },
  {
   "cell_type": "markdown",
   "id": "b634bd9f-5ac9-45c0-9f7d-2e0c59aa189b",
   "metadata": {},
   "source": [
    "Adding custom HTML in Streamlit allows you to develop more customized applications that fit your need. While it is not always necessary, it is useful to understand how to embed HTML within an application.\n",
    "\n",
    "Custom HTML can be added via `st.markdown()`. In order for your HTML to appear on the page, however, you must pass a keyword argument `unsafe_allow_html=True`. This allows the HTML to be rendered. Let's look at a basic example where we want to display text with a background color of yellow. We can do this by wrapping our text in an `a tag` in HTML and setting the style's background color to yellow.\n",
    "\n",
    "```\n",
    "html = \"\"\"\n",
    "<a style='background:yellow'>This text has a yellow background</a>\n",
    "\"\"\"\n",
    "st.header(\"Without unsafe_allow_html=True\")\n",
    "st.markdown(html)\n",
    "```\n",
    "\n",
    "If we do not set `unsafe_allow_html` to `True`, then our result will look like this:\n",
    "\n",
    "![custom html in streamlit without argument](../images/streamlit/custom_html1.png)\n",
    "\n",
    "If we do set it to `True`, then our result will look like this:\n",
    "\n",
    "![custom html in streamlit with argument](../images/streamlit/custom_html2.png)\n",
    "\n",
    "While this lets you design more robust apps, it does introduce certain security issues."
   ]
  },
  {
   "cell_type": "code",
   "execution_count": null,
   "id": "164c5e90-06a4-4678-9f72-b020b37d6a71",
   "metadata": {},
   "outputs": [],
   "source": []
  }
 ],
 "metadata": {
  "kernelspec": {
   "display_name": "Python 3 (ipykernel)",
   "language": "python",
   "name": "python3"
  },
  "language_info": {
   "codemirror_mode": {
    "name": "ipython",
    "version": 3
   },
   "file_extension": ".py",
   "mimetype": "text/x-python",
   "name": "python",
   "nbconvert_exporter": "python",
   "pygments_lexer": "ipython3",
   "version": "3.9.12"
  }
 },
 "nbformat": 4,
 "nbformat_minor": 5
}
