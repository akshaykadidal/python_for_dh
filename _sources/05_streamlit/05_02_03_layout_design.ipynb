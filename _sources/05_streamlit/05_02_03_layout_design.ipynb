{
 "cells": [
  {
   "cell_type": "markdown",
   "id": "8f8a700f-0de1-45f5-8779-e2fdb08661ed",
   "metadata": {},
   "source": [
    "# Layout Design"
   ]
  },
  {
   "cell_type": "markdown",
   "id": "22e222f2-f4ba-4465-b10d-cecfa3a6092a",
   "metadata": {},
   "source": [
    "Controlling the layout of an application is essential from both an aesthetic and programmatic perspective. In Streamlit, we have a number of ways to control our app's layout. Streamlit offers six different ways of controling the layout of your application through widgets. Further customization is also possible by controling the page configuration of your application as well as custom HTML. Here, we will focus on the first two; we will treat custom HTML later in this chapter."
   ]
  },
  {
   "cell_type": "markdown",
   "id": "63953247-5b98-4a63-bb02-074480fad614",
   "metadata": {},
   "source": [
    "## Layout Widgets"
   ]
  },
  {
   "cell_type": "markdown",
   "id": "7f382585-d4e2-4362-85f0-3cc4b3e62cd7",
   "metadata": {},
   "source": [
    "\n",
    "### Sidebar\n",
    "The sidebar is one of the more useful layout features in Streamlit. If you are creating a multi-page app, you will have a sidebar by default. If, however, you are not using a multi-page app, you simply need to do something within the `st.sidebar()` widget and the sidebar will automatically appear for you. We can access the sidebar widget at any place in our Python file by writing `st.sidebar.[widget]()`\n",
    "\n",
    "If we were to use the following code in our Python file, for example, we would immediately have a sidebar with a header entityled `Sidebar Header`.\n",
    "\n",
    "```\n",
    "st.sidebar.header(\"Sidebar Header\")\n",
    "```\n",
    "\n",
    "The output will look like this:\n",
    "\n",
    "![sidebar widget in Streamlit](../images/streamlit/sidebar.png)\n",
    "\n",
    "Notice on the left-hand side of the application, we have our header appear. We can populate any widget we desire into the sidebar by calling `st.sidebar` and then following this up with `.[widget]`.\n",
    "\n",
    "### Columns\n",
    "We can also control the horizontal layout of our application with Streamlit's `st.columns()` widget. This will take a single mandatory argument, an integer that corresponds to the number of columns you wish to create. This will return a list of column widgets that you can write to. As with the sidebar, to write to the column widget, you will use its variable name proceeded by `.[widget (write, header, etc.)]`\n",
    "\n",
    "```\n",
    "st.header(\"Columns\")\n",
    "cols = st.columns(2)\n",
    "cols[0].write(\"Column 1\")\n",
    "cols[1].write(\"Column 2\")\n",
    "```\n",
    "\n",
    "The output will look like this:\n",
    "\n",
    "![columns widget in Streamlit](../images/streamlit/columns.png)\n",
    "\n",
    "### Expander\n",
    "In some cases, we will want to allow a user to view a large amount of data, but this will detract from the application and put some of the main features very low on the main page of the app. In these, cases we want a user to be able to expand certain aspects of the application when they wish and compress them when they are finished using them. Streamlit comes built with this feature in the `st.expander()` widget.\n",
    "\n",
    "Once we create an expander in our application, we can then insert any other Streamlit we wish inside of it, just like columns and the sidebar. In the code below, we are creating a simple expander and then writing into it.\n",
    "\n",
    "```\n",
    "expander = st.expander(\"This is an Expander\")\n",
    "expander.write(\"This is some text in an expander...\")\n",
    "```\n",
    "\n",
    "The output will look like this:\n",
    "\n",
    "![expander_before widget in Streamlit](../images/streamlit/expander_before.png)\n",
    "\n",
    "Notice how we see a new widget on our page. In the top-right corner, you can press the carrot and the expander will reveal the contents.\n",
    "\n",
    "![expander_after widget in Streamlit](../images/streamlit/expander_after.png)\n",
    "\n",
    "### Container\n",
    "We also have the ability to create containers in our application with the  `st.container()` widget. Remember, Streamlit widgets are populated in the order that Streamlit reads your Python file. This means that if your user performs an action and you want to display that data later in your file, then that data will populate at the bottom of your application. This is not ideal. In these scenarios, you need a way to populate a result higher in your application's page. You can do this with the container. The container will sit in that precise position and it can then be populated at a later time.\n",
    "\n",
    "```\n",
    "st.header(\"Container\")\n",
    "container = st.container()\n",
    "container.write(\"This is some text inside a container...\")\n",
    "```\n",
    "The output will look like this:\n",
    "\n",
    "![container widget in Streamlit](../images/streamlit/container.png)\n",
    "\n",
    "### Tabs\n",
    "\n",
    "The output will look like this:\n",
    "\n",
    "![tabs widget in Streamlit](../images/streamlit/tabs.png)\n",
    "\n",
    "### Empty\n",
    "\n",
    "The output will look like this:\n",
    "\n",
    "![empty widget in Streamlit](../images/streamlit/empty.png)"
   ]
  },
  {
   "cell_type": "code",
   "execution_count": null,
   "id": "34cafbb1-992d-4535-b19c-eb7550c472e2",
   "metadata": {},
   "outputs": [],
   "source": []
  }
 ],
 "metadata": {
  "kernelspec": {
   "display_name": "Python 3 (ipykernel)",
   "language": "python",
   "name": "python3"
  },
  "language_info": {
   "codemirror_mode": {
    "name": "ipython",
    "version": 3
   },
   "file_extension": ".py",
   "mimetype": "text/x-python",
   "name": "python",
   "nbconvert_exporter": "python",
   "pygments_lexer": "ipython3",
   "version": "3.9.12"
  }
 },
 "nbformat": 4,
 "nbformat_minor": 5
}
