{
 "cells": [
  {
   "cell_type": "markdown",
   "id": "e8037bd4-ffd4-4fa3-b938-225f011cf023",
   "metadata": {},
   "source": [
    "# Multi-Page Applications"
   ]
  },
  {
   "cell_type": "code",
   "execution_count": null,
   "id": "78717e23-f58d-435e-9332-82a42e5ca3fe",
   "metadata": {},
   "outputs": [],
   "source": []
  }
 ],
 "metadata": {
  "kernelspec": {
   "display_name": "Python 3 (ipykernel)",
   "language": "python",
   "name": "python3"
  },
  "language_info": {
   "codemirror_mode": {
    "name": "ipython",
    "version": 3
   },
   "file_extension": ".py",
   "mimetype": "text/x-python",
   "name": "python",
   "nbconvert_exporter": "python",
   "pygments_lexer": "ipython3",
   "version": "3.9.12"
  }
 },
 "nbformat": 4,
 "nbformat_minor": 5
}
