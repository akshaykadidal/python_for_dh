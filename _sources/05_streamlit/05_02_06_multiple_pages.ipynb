{
 "cells": [
  {
   "cell_type": "markdown",
   "id": "e8037bd4-ffd4-4fa3-b938-225f011cf023",
   "metadata": {},
   "source": [
    "# Multi-Page Applications"
   ]
  },
  {
   "cell_type": "markdown",
   "id": "95ab6374-519a-4fa2-9be1-9b141389afa8",
   "metadata": {},
   "source": [
    "Finally, Streamlit allows users to design applications that have multiple pages. In order to design a multi-page application, you must have a `pages` subfolder in your main directory. All Python files inside this directory will be considered to be pages for your application. If you wish to have your pages appear in a special order, you can do so by naming each page `01-page name` and `02-page_name`. Streamlit will automatically remove the leading numbers and dash."
   ]
  },
  {
   "cell_type": "code",
   "execution_count": null,
   "id": "617bc57b-75d6-414c-94f4-2c3f84150529",
   "metadata": {},
   "outputs": [],
   "source": []
  }
 ],
 "metadata": {
  "kernelspec": {
   "display_name": "Python 3 (ipykernel)",
   "language": "python",
   "name": "python3"
  },
  "language_info": {
   "codemirror_mode": {
    "name": "ipython",
    "version": 3
   },
   "file_extension": ".py",
   "mimetype": "text/x-python",
   "name": "python",
   "nbconvert_exporter": "python",
   "pygments_lexer": "ipython3",
   "version": "3.9.12"
  }
 },
 "nbformat": 4,
 "nbformat_minor": 5
}
