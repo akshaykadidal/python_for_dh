{
 "cells": [
  {
   "cell_type": "markdown",
   "id": "2242715b-1d05-4e03-af0e-7082df4b1759",
   "metadata": {},
   "source": [
    "# Displaying Data in Streamlit"
   ]
  },
  {
   "cell_type": "markdown",
   "id": "7b85c1ea-0173-40f8-8e8f-ba728f11055b",
   "metadata": {},
   "source": [
    "Streamlit offers numerous ways to display different types of data. In this section, we will be looking at a few of those methods from raw text, to structured markdown, to Pandas DataFrames."
   ]
  },
  {
   "cell_type": "markdown",
   "id": "090be367-7e8a-4c7f-b91c-6347c197f397",
   "metadata": {
    "tags": []
   },
   "source": [
    "## Displaying Text to Users"
   ]
  },
  {
   "cell_type": "markdown",
   "id": "2698cb10-8fd1-4f73-b953-6f85ad1e1c74",
   "metadata": {},
   "source": [
    "Once you have imported streamlit, you can use the Streamlit library to create an application with just a few lines of code. To follow along in the repository, you can view the ```01-Displaying Data.py``` file or the ```Displaying Data``` page of the application.\n",
    "\n",
    "Streamlit offers a number of ways to display information to the users of your application. One of the most common things we must convey to a user is text. This can be a title, it can explain basic information about the application, or it can be to display results from some prompt. Streamlit offers several ways to display information to users.\n",
    "\n",
    "\n",
    "### ```st.title```\n",
    "Every application needs a name. If you want the title of your application to stand out on the page, you can use ```st.title()``` to output a title on your application page. This will take one argument, a string which will be your application title. It is entirely optional to have a title. To add the title, you would place the following line into your Python file.\n",
    "\n",
    "```st.title(\"This a Title.\")```\n",
    "\n",
    "Once you have added this to your Python file, you can hit refresh in your Streamlit application, and you should see a title page now appear at the top of your page.\n",
    "\n",
    "### ```st.header```\n",
    "Now that we have a title, we can add some extra layers to our application, rather like a traditional HTML website. We can add headers, for example, with ```st.header()```. Again, this will take a single argument, the text that you wish to display as a header. You can add a header to your application by adding the following line to the same Python file and hitting refresh:\n",
    "\n",
    "```st.header(\"This a Header.\")```\n",
    "\n",
    "Notice that our header appears below our title. This is because Streamlit reads the Python file top-to-bottom as it reruns in the background. If you want an item to appear higher in the application, you must place it earlier in your Python file. Additionally, you can use containers which we will meet later in this chapter.\n",
    "\n",
    "\n",
    "### ```st.subheader```\n",
    "Just like ```st.header```, ```st.subheader``` adds a subheading to your application to allow you to have even greater nested structure. If you add the following line to your Python file and hit refresh, you will see a subheading appear.\n",
    "\n",
    "```st.header(\"This a Subheader.\")```\n",
    "\n",
    "\n",
    "### ```st.write```\n",
    "The most common way to display text to a user is with ```st.write()```. With this command, we can pass a single argument, some sort of data that we want to display. Let's use this command and display the string ```This is text.```. To do this, we would add the following line to our Python file:\n",
    "\n",
    "```st.write(\"This is text.\")```\n",
    "\n",
    "Streamlit's ```st.write```is quite powerful. As we will see below, it can display data structures, such as lists and dictionaries, as well as entire dataframes, automatically.\n",
    "\n",
    "### ```st.caption```\n",
    "In Streamlit, it may be necessary to caption something. As we will see, images can be captioned separately. To caption something in your application, you will use```st.caption()```. Again, this will take a single argument, the string that we wish to display as a caption. We can add a caption to our application by adding the following line to our Python file:\n",
    "\n",
    "```st.caption(\"This a Caption.\")```\n",
    "\n",
    "### ```st.markdown```\n",
    "Finally, we have ```st.markdown```. Markdown is a type of language that allows you to structure text quickly. Markdown is easy-to-read for both humans and machines and is the standard language used for README pages. Markdown files end with a `.md` extension.\n",
    "\n",
    "Streamlit allows users to leverage the power of markdown inside a Streamlit application. This means that we can read in a markdown file stored in the same directory as our application and automatically display that file's contents in our application. This is really useful when you have pages or sections on a page that require longer section of text or, perhaps, things like lists. These types of long strings can often crowd a Python file. In our demonstration Streamlit application, for example, we can see this in action with the following lines added to our Python file.\n",
    "\n",
    "```\n",
    "with open(\"./markdown/sample.md\", \"r\") as f:\n",
    "    markdown_text = f.read()\n",
    "st.markdown(markdown_text)\n",
    "```\n",
    "\n",
    "As we will learn later in this book, ```st.markdown``` can also be used to display HTML which makes it even more powerful."
   ]
  },
  {
   "cell_type": "code",
   "execution_count": null,
   "id": "11be75f9-fdf2-41f2-a09f-1ed9a69e0648",
   "metadata": {},
   "outputs": [],
   "source": []
  }
 ],
 "metadata": {
  "kernelspec": {
   "display_name": "Python 3 (ipykernel)",
   "language": "python",
   "name": "python3"
  },
  "language_info": {
   "codemirror_mode": {
    "name": "ipython",
    "version": 3
   },
   "file_extension": ".py",
   "mimetype": "text/x-python",
   "name": "python",
   "nbconvert_exporter": "python",
   "pygments_lexer": "ipython3",
   "version": "3.9.12"
  }
 },
 "nbformat": 4,
 "nbformat_minor": 5
}
