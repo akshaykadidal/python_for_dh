{
 "cells": [
  {
   "cell_type": "markdown",
   "id": "756f7e96-c530-445c-b9b4-441ddda10268",
   "metadata": {},
   "source": [
    "# Building a Database Query Application"
   ]
  },
  {
   "cell_type": "markdown",
   "id": "08b190a7-ffcd-4170-a3ce-c3b0f0293dcc",
   "metadata": {},
   "source": [
    "Throughout this section, we will be working with the following code:\n",
    "\n",
    "```\n",
    "import streamlit as st\n",
    "import pandas as pd\n",
    "\n",
    "# Cache our data\n",
    "@st.cache()\n",
    "def load_df():\n",
    "    df = pd.read_csv(\"./data/titanic.csv\")\n",
    "    survival_options = df.Survived.unique()\n",
    "    p_class_options = df.Pclass.unique()\n",
    "    sex_options = df.Sex.unique()\n",
    "    embark_options = df.Embarked.unique()\n",
    "\n",
    "\n",
    "    min_fare = df.Fare.min()\n",
    "    max_fare = df.Fare.max()\n",
    "\n",
    "    min_age = df.Age.min()\n",
    "    max_age = df.Age.max()\n",
    "\n",
    "    return df, survival_options, p_class_options, sex_options, embark_options, min_fare, max_fare, min_age, max_age\n",
    "\n",
    "def check_rows(column, options):\n",
    "    return res.loc[res[column].isin(options)]\n",
    "\n",
    "st.title(\"Demo DataFrame Query App\")\n",
    "\n",
    "df, survival_options, p_class_options, sex_options, embark_options, min_fare, max_fare, min_age, max_age = load_df()\n",
    "res = df\n",
    "\n",
    "name_query = st.text_input(\"String match for Name\")\n",
    "\n",
    "cols = st.columns(4)\n",
    "survival = cols[0].multiselect(\"Survived\", survival_options)\n",
    "p_class = cols[1].multiselect(\"Passenger Class\", p_class_options)\n",
    "sex = cols[2].multiselect(\"Sex\", sex_options)\n",
    "embark = cols[3].multiselect(\"Embarked\", embark_options)\n",
    "\n",
    "range_cols = st.columns(3)\n",
    "min_fare_range, max_fare_range = range_cols[0].slider(\"Lowest Fare\", float(min_fare), float(max_fare),\n",
    "                                        [float(min_fare), float(max_fare)])\n",
    "min_age_range, max_age_range = range_cols[2].slider(\"Lowest Age\", float(min_age), float(max_age),\n",
    "                                        [float(min_age), float(max_age)])\n",
    "\n",
    "\n",
    "if name_query != \"\":\n",
    "    res = res.loc[res.Name.str.contains(name_query)]\n",
    "\n",
    "if survival:\n",
    "    res = check_rows(\"Survived\", survival)\n",
    "if p_class:\n",
    "    res = check_rows(\"Pclass\", p_class)\n",
    "if sex:\n",
    "    res = check_rows(\"Sex\", sex)\n",
    "if embark:\n",
    "    res = check_rows(\"Embarked\", embark)\n",
    "if range_cols[0].checkbox(\"Use Fare Range\"):\n",
    "    res = res.loc[(res.Fare > min_fare_range) & (res.Age < max_fare_range)]\n",
    "if range_cols[2].checkbox(\"Use Age Range\"):\n",
    "    res = res.loc[(res.Age > min_age_range) & (res.Age < max_age_range)]\n",
    "removal_columns = st.multiselect(\"Select Columns to Remove\", df.columns.tolist())\n",
    "for column in removal_columns:\n",
    "    res = res.drop(column, axis=1)\n",
    "st.write(res)\n",
    "\n",
    "```"
   ]
  },
  {
   "cell_type": "markdown",
   "id": "675b1f0a-5266-4590-9c7d-62639f25dafe",
   "metadata": {},
   "source": [
    "By the end of this chapter, you will be able to understand and parse each line of this code."
   ]
  },
  {
   "cell_type": "markdown",
   "id": "68cf3aae-5ac3-4bb8-9cbb-7b97b29d1b63",
   "metadata": {},
   "source": [
    "## Importing the Libraries"
   ]
  },
  {
   "cell_type": "code",
   "execution_count": null,
   "id": "e34f0964-9ea4-4cb5-897a-766ac2bfbd5d",
   "metadata": {},
   "outputs": [],
   "source": []
  },
  {
   "cell_type": "markdown",
   "id": "9d07582d-ede3-47f0-b7f6-f6f26b5909f1",
   "metadata": {},
   "source": [
    "## Caching Data"
   ]
  },
  {
   "cell_type": "code",
   "execution_count": null,
   "id": "5a5266f7-3457-4fcb-8d85-a963776842c9",
   "metadata": {},
   "outputs": [],
   "source": []
  },
  {
   "cell_type": "markdown",
   "id": "6f8b740b-10a1-4ed0-be7c-82e3c1ea0734",
   "metadata": {},
   "source": [
    "## Creating our App Layout"
   ]
  },
  {
   "cell_type": "code",
   "execution_count": null,
   "id": "3ecbe978-17cc-469d-84a2-2ee815b0d9b3",
   "metadata": {},
   "outputs": [],
   "source": []
  },
  {
   "cell_type": "markdown",
   "id": "ac67effb-dfbc-41ff-9721-dc0c825beb5c",
   "metadata": {},
   "source": [
    "## Using User Inputs to Produce a New DataFrame"
   ]
  },
  {
   "cell_type": "code",
   "execution_count": null,
   "id": "b49eb6bc-79ac-4106-9bdb-0d86f1a3db80",
   "metadata": {},
   "outputs": [],
   "source": []
  }
 ],
 "metadata": {
  "kernelspec": {
   "display_name": "Python 3 (ipykernel)",
   "language": "python",
   "name": "python3"
  },
  "language_info": {
   "codemirror_mode": {
    "name": "ipython",
    "version": 3
   },
   "file_extension": ".py",
   "mimetype": "text/x-python",
   "name": "python",
   "nbconvert_exporter": "python",
   "pygments_lexer": "ipython3",
   "version": "3.9.12"
  }
 },
 "nbformat": 4,
 "nbformat_minor": 5
}
