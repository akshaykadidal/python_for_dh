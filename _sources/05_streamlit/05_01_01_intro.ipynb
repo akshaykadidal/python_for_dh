{
 "cells": [
  {
   "cell_type": "markdown",
   "id": "6836e737-7dd9-4951-9a33-56c3488d091c",
   "metadata": {},
   "source": [
    "# Introduction to Streamlit"
   ]
  },
  {
   "cell_type": "markdown",
   "id": "3505c71b-4df6-48d3-85ff-eb89db97b559",
   "metadata": {},
   "source": [
    "In this part of the textbook, we will learn how to build a custom application in Python with Streamlit and host that application in the cloud. In Chapter 1, we cover the basic of Streamlit, its utility, the key terminology, and how to display data on a page for a user. Here, readers will gain an understanding of the main widgets Streamlit offers, how to use them and why their useful. In Chapter 2, we dive into more advanced features of Streamlit to produce  better looking and more complex applications by creating data visualizations, controlling the layout of our application, caching data, leveraging custom HTML, and how to design multi-page apps. In Chapter 3, readers will build upon this knowledge and learn how to develop a custom application and deploy it on Streamlit Share. We will design a database querying application that will be based around Pandas."
   ]
  },
  {
   "cell_type": "code",
   "execution_count": null,
   "id": "ef3a153a-fd9f-4575-a870-385bf3be2101",
   "metadata": {},
   "outputs": [],
   "source": []
  }
 ],
 "metadata": {
  "kernelspec": {
   "display_name": "Python 3 (ipykernel)",
   "language": "python",
   "name": "python3"
  },
  "language_info": {
   "codemirror_mode": {
    "name": "ipython",
    "version": 3
   },
   "file_extension": ".py",
   "mimetype": "text/x-python",
   "name": "python",
   "nbconvert_exporter": "python",
   "pygments_lexer": "ipython3",
   "version": "3.9.12"
  }
 },
 "nbformat": 4,
 "nbformat_minor": 5
}
