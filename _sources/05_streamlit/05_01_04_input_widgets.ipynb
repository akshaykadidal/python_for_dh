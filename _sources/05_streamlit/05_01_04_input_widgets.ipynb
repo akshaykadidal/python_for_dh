{
 "cells": [
  {
   "cell_type": "markdown",
   "id": "3f570596-f36f-470f-87b9-2fc0633b0de4",
   "metadata": {},
   "source": [
    "# Streamlit Input Widgets"
   ]
  },
  {
   "cell_type": "markdown",
   "id": "03719d0c-9f53-444e-bed6-76d85ce58f66",
   "metadata": {},
   "source": [
    "Often when you are designing your application, you will need a way to allow the user to interact with the app. When this occurs, you want a way to do something that that user input. There are many ways that we can allow a user to interact with our data in Streamlit. In this section, we will cover five of the main categories:\n",
    "\n",
    "- text input\n",
    "- numerical input\n",
    "- date input\n",
    "- boolean input\n",
    "- selection input\n",
    "\n",
    "`````{admonition} Cheatsheet for Widgets in Streamlit\n",
    "| Widget       | Return           | Description                                       |\n",
    "|--------------|------------------|---------------------------------------------------|\n",
    "| text_input   | string           | A small text region                               |\n",
    "| text_area    | string           | A large text region                               |\n",
    "| number_input | integer or float | A typed number input                              |\n",
    "| slider       | integer or float | A slider for number input                         |\n",
    "| date_input   | timeseries       | A calendar for selecting a date                   |\n",
    "| time_input   | timeseries       | A dropdown menu for selecting a time              |\n",
    "| checkbox     | Boolean          | A checkbox for marking something as true or false |\n",
    "| button       | Boolean          | A button for triggering an event                  |\n",
    "| radio        | string           | A selection for a single option                   |\n",
    "| selectbox    | string           | A selection for a single option (dropdown menu)   |\n",
    "| multiselect  | list             | A selection for multiple options (dropdown menu)  |\n",
    "`````"
   ]
  },
  {
   "cell_type": "markdown",
   "id": "3ea23e2f-40f0-4305-ad9c-fab4a66b19bc",
   "metadata": {},
   "source": [
    "## Text Input Widgets"
   ]
  },
  {
   "cell_type": "markdown",
   "id": "a93ec117-662c-476c-91db-11f627e1eb42",
   "metadata": {},
   "source": [
    "Streamlit offers two ways to allow users to input textual data into an application. You can either use ```st.text_input()``` or ```st.text_area()```. Both essentially do precisely the same thing, that is, return a string from the user; but each should be used in specific situations. Streamlit's ```st.text_input()``` is designed for shorter text (such as names, queries, etc.), while ```st.text_area()``` should be used for longer string input data, such as text that can be processed via a spaCy pipeline.\n",
    "\n",
    "### st.text_input()\n",
    "\n",
    "```\n",
    "user_text = st.text_input(\"Input some text here\")\n",
    "st.write(user_text)\n",
    "```\n",
    "The output will look like this in your application:\n",
    "\n",
    "![text_input widget in Streamlit](../images/streamlit/text_input.png)\n",
    "\n",
    "### st.text_area()\n",
    "To create a text area style input, you can use the precise same code, but replace ```text_input``` with ```text_area```. Both of these classes also let us pass an additional argument for some default text as the second parameter. We can add some default text that will prepopulate the text field with a predetermined string.\n",
    "\n",
    "```\n",
    "default_text = st.text_area(\"Input some text here\", \"default text\")\n",
    "st.write(default_text)\n",
    "```\n",
    "\n",
    "The output will look like this in your application:\n",
    "\n",
    "![text_area widget in Streamlit](../images/streamlit/text_area.png)"
   ]
  },
  {
   "cell_type": "markdown",
   "id": "382b9b98-3940-4139-b1a9-9a917c4803bc",
   "metadata": {},
   "source": [
    "## Numerical Input Widgets"
   ]
  },
  {
   "cell_type": "markdown",
   "id": "7f106bb1-52a6-4002-91ea-5140d3dd175c",
   "metadata": {},
   "source": [
    "While you could let a user input numerical data inside of ```st.text_input()```or `st.text_area()`, this really would be inappropriate. Both of these input options return strings. This means that if you gave the user the ability to input numerical data, you would have to convert it to either an integer or float. In addition to this, the text input widgets do not offer any special keyword arguments that you can pass to the widget that are specific to numerical data, such as minimum value and maximum value.\n",
    "\n",
    "It is far better in these scenarios to use one of two options for numerical input.\n",
    "\n",
    "### st.number_input()\n",
    "The first option is `st.number_input()`. This feature lets a user input a numerical data that they can tick up or down via a minus or plus sign in the widget. The widget will return an integer or float, depending on how you structure the widget.\n",
    "\n",
    "Users can also manually type in a specific number. Another feature of this widget is the ability to specify a minimum value (with the `min_value` argument) and maximum value (with the `max_value` argument). You can also give the user a default value by setting the `value` argument to a specific number. Finally, you can even provide a `step` argument which will step up every n-numbers, so a step of 2 would increase the value by two each time the user clicks the plus symbol in the widget.\n",
    "\n",
    "```\n",
    "user_number = st.number_input(\"Input Number\",\n",
    "                            min_value=1,\n",
    "                            max_value=10,\n",
    "                            value=5,\n",
    "                            step=1)\n",
    "st.write(user_number)\n",
    "```\n",
    "\n",
    "The output will look like this in your application:\n",
    "\n",
    "![number_input widget in Streamlit](../images/streamlit/number_input.png)\n",
    "\n",
    "### st.slider()\n",
    "Another way to let a user input data is via the `st.slider()` widget. This widget will also return an integer or a float, depending on if your values are in decimal form. \n",
    "\n",
    "```\n",
    "slider_number = st.slider(\"Select your Number\",\n",
    "                            min_value=1,\n",
    "                            max_value=10,\n",
    "                            value=5,\n",
    "                            step=1)\n",
    "st.write(slider_number)\n",
    "```\n",
    "\n",
    "The output will look like this in your application:\n",
    "\n",
    "![slider widget in Streamlit](../images/streamlit/slider.png)"
   ]
  },
  {
   "cell_type": "markdown",
   "id": "01daf4eb-9176-4829-8da4-3fd790e3b8f6",
   "metadata": {},
   "source": [
    "## Date and Time Input Widgets"
   ]
  },
  {
   "cell_type": "markdown",
   "id": "3d55f935-5538-4e5a-9694-334049512b64",
   "metadata": {},
   "source": [
    "Working with dates and times is essential in a lot of applications and Streamlit has two widgets for receiving time-series data. Both will require the use of the built-in library `datetime`, so be sure to import this if you intend to work time time-series data in your application.\n",
    "\n",
    "### st.date_input()\n",
    "The first widget is `st.date_input()`, this allows you to receive a date object which will allow you to structure robust logic, such as finding all data that fall between a start date and end date. When creating the widget, you can simply use the defaults, but if you expect all your data to fall between two dates, it may be wise to set minimum and maximum values. You can do this via the `datetime` library `date` method. You should ensure that all values in the `st.date_input()` widget conform to the following format:\n",
    "\n",
    "```\n",
    "datetime.date(2000, 6, 12)\n",
    "```\n",
    "\n",
    "In practice, this is what your widget would look like.\n",
    "\n",
    "```\n",
    "import datetime\n",
    "user_date = st.date_input(\"Select your Date\",\n",
    "                            value = datetime.date(2000, 6, 12),\n",
    "                            min_value = datetime.date(2000, 1, 12),\n",
    "                            max_value = datetime.date(2001, 1, 12)\n",
    "                            )\n",
    "\n",
    "st.write(user_date)\n",
    "```\n",
    "\n",
    "The output will look like this in your application:\n",
    "\n",
    "![date_input widget in Streamlit](../images/streamlit/date_input.png)\n",
    "\n",
    "### st.time_input()\n",
    "You can do precisely the same thing with time via the `st.time_input()` widget. With time, however, we cannot set min or max values. Also, unlike the `st.date_input()`, the `st.time_input()` will use the `time` method from the datetime library.\n",
    "\n",
    "```\n",
    "import datetime\n",
    "user_time = st.time_input(\"Select your Time\",\n",
    "                            value = datetime.time(6, 12),\n",
    "                            )\n",
    "st.write(user_time)\n",
    "```\n",
    "\n",
    "The output will look like this in your application:\n",
    "\n",
    "![time_input widget in Streamlit](../images/streamlit/time_input.png)"
   ]
  },
  {
   "cell_type": "markdown",
   "id": "f248799e-5e5f-4787-887b-ce27d3d6ebdd",
   "metadata": {},
   "source": [
    "## Boolean Input Widgets"
   ]
  },
  {
   "cell_type": "markdown",
   "id": "fd8a8874-5a05-4c14-b376-41cba2c39268",
   "metadata": {},
   "source": [
    "Another important feature for controlling the logic of your application is understanding Boolean (True or False) values from a user input. In Streamlit, we have two ways of using Boolean inputs to control the logic and they both function a bit differently.\n",
    "\n",
    "### st.checkbox()\n",
    "The first is `st.checkbox()`. This allows us to create a checkbox. Its state can be constantly changed. So a box can be checked or unchecked. As a user changes the state of the checkbox, the Boolean output from the widget will change. We can create a checkbox widget and write out the results with the following lines of code.\n",
    "\n",
    "```\n",
    "checked = st.checkbox(\"Select this checkbox\")\n",
    "st.write(f\"Current state of checkbox: {checked}\")\n",
    "```\n",
    "\n",
    "The output will look like this in your application:\n",
    "\n",
    "![checkbox widget in Streamlit](../images/streamlit/checkbox.png)\n",
    "\n",
    "### st.button()\n",
    "Unlike the `st.checkbox()` widget, the `st.button()` widget will have a continuous state. This means that once the button is clicked, its Boolean output value will forever change unless you specifically change it in your script. In other words, the button's state at the start of the application is `False`, but once a user clicks the button, that state will be `True` continuously. This is important because it means that the click of a button can trigger a one-time event, such as draw a map or run a machine learning model.\n",
    "\n",
    "You can create a basic button with the code sample below.\n",
    "\n",
    "```\n",
    "state = st.button(\"Click to Change current state\")\n",
    "st.write(f\"Button has been pressed: {state}\")\n",
    "```\n",
    "\n",
    "The output will look like this in your application:\n",
    "\n",
    "![button widget in Streamlit](../images/streamlit/button.png)"
   ]
  },
  {
   "cell_type": "markdown",
   "id": "84fc55f7-fe5c-40b3-b24d-3d3ef160fc2d",
   "metadata": {},
   "source": [
    "## Selection Widgets"
   ]
  },
  {
   "cell_type": "markdown",
   "id": "48b00581-83a5-454a-a534-d3ba071e6668",
   "metadata": {},
   "source": [
    "The final collection of important widgets in Streamlit are the selection widgets. These allow you to give users a set of options to choose from. There are three types of selection widgets.\n",
    "\n",
    "### st.radio()\n",
    "The first is `st.radio()`. This widget allows you to give the user the ability to second one item from a list of options. Only one option can be selected by the user.\n",
    "\n",
    "You can use the code below to give the user the ability to choose between three different colors.\n",
    "\n",
    "```\n",
    "options = [\"Red\", \"Blue\", \"Yellow\"]\n",
    "radio_selection = st.radio(\"Select Color\", options)\n",
    "st.write(f\"Color selected is {radio_selection}\")\n",
    "```\n",
    "The output will look like this in your application:\n",
    "\n",
    "![radio widget in Streamlit](../images/streamlit/radio.png)\n",
    "\n",
    "The `st.radio()` widget will return a string of the selected option.\n",
    "\n",
    "### st.selectbox()\n",
    "The same logic holds true for the `st.selectbox()` widget. The only difference between this and the `st.radio()` widget is the aesthetic way the options are presented. A selectbox is often more appropriate if you are presenting a user with a larger selection of options, which would be clunky with radio buttons. This will return a string of the selected item.\n",
    "```\n",
    "options = [\"Red\", \"Blue\", \"Yellow\"]\n",
    "selectbox_selection = st.selectbox(\"Select Color\", options)\n",
    "st.write(f\"Color selected is {selectbox_selection}\")\n",
    "```\n",
    "\n",
    "The output will look like this in your application:\n",
    "\n",
    "![selectbox widget in Streamlit](../images/streamlit/selectbox.png)\n",
    "\n",
    "### st.multiselect()\n",
    "The final selection widget is the `st.multiselect()` widget which allows a user to select multiple items from a selectbox. This will return a list of the selected items in the options.\n",
    "\n",
    "```\n",
    "options = [\"Red\", \"Blue\", \"Yellow\"]\n",
    "multiselect_selection = st.multiselect(\"Select Color\", options)\n",
    "st.write(f\"Color selected is {multiselect_selection}\")\n",
    "```\n",
    "\n",
    "The output will look like this in your application:\n",
    "\n",
    "![multiselect widget in Streamlit](../images/streamlit/multiselect}\").png)"
   ]
  },
  {
   "cell_type": "code",
   "execution_count": null,
   "id": "78eae5b4-2ac3-4cc9-b7ad-4c99097f267b",
   "metadata": {},
   "outputs": [],
   "source": []
  }
 ],
 "metadata": {
  "kernelspec": {
   "display_name": "Python 3 (ipykernel)",
   "language": "python",
   "name": "python3"
  },
  "language_info": {
   "codemirror_mode": {
    "name": "ipython",
    "version": 3
   },
   "file_extension": ".py",
   "mimetype": "text/x-python",
   "name": "python",
   "nbconvert_exporter": "python",
   "pygments_lexer": "ipython3",
   "version": "3.9.12"
  }
 },
 "nbformat": 4,
 "nbformat_minor": 5
}
