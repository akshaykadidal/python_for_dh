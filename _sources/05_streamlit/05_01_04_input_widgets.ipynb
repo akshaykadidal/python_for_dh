{
 "cells": [
  {
   "cell_type": "markdown",
   "id": "3f570596-f36f-470f-87b9-2fc0633b0de4",
   "metadata": {},
   "source": [
    "# Streamlit Input Widgets"
   ]
  },
  {
   "cell_type": "markdown",
   "id": "03719d0c-9f53-444e-bed6-76d85ce58f66",
   "metadata": {},
   "source": [
    "Often when you are designing your application, you will need a way to allow the user to interact with the app. When this occurs, you want a way to do something that that user input. There are many ways that we can allow a user to interact with our data in Streamlit. In this section, we will cover five of the main categories:\n",
    "\n",
    "- text input\n",
    "- numerical input\n",
    "- date input\n",
    "- boolean input\n",
    "- selection input"
   ]
  },
  {
   "cell_type": "markdown",
   "id": "3ea23e2f-40f0-4305-ad9c-fab4a66b19bc",
   "metadata": {},
   "source": [
    "## Text Input Widgets"
   ]
  },
  {
   "cell_type": "markdown",
   "id": "a93ec117-662c-476c-91db-11f627e1eb42",
   "metadata": {},
   "source": [
    "Streamlit offers two ways to allow users to input textual data into an application. You can either use ```st.text_input()``` or ```st.text_area()```. Both essentially do precisely the same thing, but should be used in specific situations. Streamlit's ```st.text_input()``` is designed for shorter text (such as names, queries, etc.), while ```st.text_area()``` should be used for longer string input data, such as text that can be processed via a spaCy pipeline.\n",
    "\n",
    "### st.text_input()\n",
    "\n",
    "```\n",
    "user_text = st.text_input(\"Input some text here\")\n",
    "st.write(user_text)\n",
    "```\n",
    "\n",
    "### st.text_area()\n",
    "To create a text area style input, you can use the precise same code, but replace ```text_input``` with ```text_area```. Both of these classes also let us pass an additional argument for some default text as the second parameter. We can add some default text that will prepopulate the text field with a predetermined string.\n",
    "\n",
    "```\n",
    "default_text = st.text_area(\"Input some text here\", \"default text\")\n",
    "st.write(default_text)\n",
    "```\n"
   ]
  },
  {
   "cell_type": "markdown",
   "id": "382b9b98-3940-4139-b1a9-9a917c4803bc",
   "metadata": {},
   "source": [
    "## Numerical Input Widgets"
   ]
  },
  {
   "cell_type": "markdown",
   "id": "7f106bb1-52a6-4002-91ea-5140d3dd175c",
   "metadata": {},
   "source": [
    "\n",
    "\n",
    "\n",
    "\n",
    "### st.number_input()\n",
    "```\n",
    "user_number = st.number_input(\"Input Number\",\n",
    "                            min_value=1,\n",
    "                            max_value=10,\n",
    "                            value=5,\n",
    "                            step=1)\n",
    "st.write(user_number)\n",
    "```\n",
    "\n",
    "### st.slider()\n",
    "\n",
    "```\n",
    "slider_number = st.slider(\"Select your Number\",\n",
    "                            min_value=1,\n",
    "                            max_value=10,\n",
    "                            value=5,\n",
    "                            step=1)\n",
    "st.write(slider_number)\n",
    "```"
   ]
  },
  {
   "cell_type": "markdown",
   "id": "01daf4eb-9176-4829-8da4-3fd790e3b8f6",
   "metadata": {},
   "source": [
    "## Date and Time Input Widgets"
   ]
  },
  {
   "cell_type": "markdown",
   "id": "3d55f935-5538-4e5a-9694-334049512b64",
   "metadata": {},
   "source": [
    "\n",
    "\n",
    "### Date\n",
    "```\n",
    "import datetime\n",
    "user_date = st.date_input(\"Select your Date\",\n",
    "                            value = datetime.date(2000, 6, 12),\n",
    "                            min_value = datetime.date(2000, 1, 12),\n",
    "                            max_value = datetime.date(2001, 1, 12)\n",
    "                            )\n",
    "\n",
    "st.write(user_date)\n",
    "```\n"
   ]
  },
  {
   "cell_type": "markdown",
   "id": "f248799e-5e5f-4787-887b-ce27d3d6ebdd",
   "metadata": {},
   "source": [
    "## Boolean Input Widgets"
   ]
  },
  {
   "cell_type": "markdown",
   "id": "fd8a8874-5a05-4c14-b376-41cba2c39268",
   "metadata": {},
   "source": [
    "\n",
    "\n",
    "### st.checkbox()\n",
    "```\n",
    "checked = st.checkbox(\"Select this checkbox\")\n",
    "st.write(f\"Current state of checkbox: {checked}\")\n",
    "```\n",
    "\n",
    "\n",
    "### st.button()\n",
    "```\n",
    "state = st.button(\"Click to Change current state\")\n",
    "st.write(f\"Button has been pressed: {state}\")\n",
    "```\n",
    "\n",
    "\n"
   ]
  },
  {
   "cell_type": "markdown",
   "id": "84fc55f7-fe5c-40b3-b24d-3d3ef160fc2d",
   "metadata": {},
   "source": [
    "## Selection Widgets"
   ]
  },
  {
   "cell_type": "markdown",
   "id": "48b00581-83a5-454a-a534-d3ba071e6668",
   "metadata": {},
   "source": [
    "\n",
    "### st.radio()\n",
    "\n",
    "```\n",
    "options = [\"Red\", \"Blue\", \"Yellow\"]\n",
    "radio_selection = st.radio(\"Select Color\", options)\n",
    "st.write(f\"Color selected is {radio_selection}\")\n",
    "```\n",
    "\n",
    "### st.selectbox()\n",
    "\n",
    "```\n",
    "options = [\"Red\", \"Blue\", \"Yellow\"]\n",
    "selectbox_selection = st.selectbox(\"Select Color\", options)\n",
    "st.write(f\"Color selected is {selectbox_selection}\")\n",
    "```\n",
    "\n",
    "### st.multiselect()\n",
    "\n",
    "```\n",
    "options = [\"Red\", \"Blue\", \"Yellow\"]\n",
    "multiselect_selection = st.multiselect(\"Select Color\", options)\n",
    "st.write(f\"Color selected is {multiselect_selection}\")\n",
    "```"
   ]
  },
  {
   "cell_type": "code",
   "execution_count": null,
   "id": "78eae5b4-2ac3-4cc9-b7ad-4c99097f267b",
   "metadata": {},
   "outputs": [],
   "source": []
  }
 ],
 "metadata": {
  "kernelspec": {
   "display_name": "Python 3 (ipykernel)",
   "language": "python",
   "name": "python3"
  },
  "language_info": {
   "codemirror_mode": {
    "name": "ipython",
    "version": 3
   },
   "file_extension": ".py",
   "mimetype": "text/x-python",
   "name": "python",
   "nbconvert_exporter": "python",
   "pygments_lexer": "ipython3",
   "version": "3.9.12"
  }
 },
 "nbformat": 4,
 "nbformat_minor": 5
}
