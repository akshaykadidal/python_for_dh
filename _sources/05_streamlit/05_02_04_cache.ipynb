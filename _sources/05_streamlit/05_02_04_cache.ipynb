{
 "cells": [
  {
   "cell_type": "markdown",
   "id": "bd9fd803-c3b7-486c-919e-a7cdf8d23ce3",
   "metadata": {},
   "source": [
    "# Streamlit Cache and Session States"
   ]
  },
  {
   "cell_type": "markdown",
   "id": "75ba811b-8e3a-40cf-aff9-03d848998f55",
   "metadata": {},
   "source": [
    "Being able to make more modular, custom, and dynamic applications means getting to know how to leverage advanced features in Streamlit when it comes to working with data stored in memory. In Streamlit, we have two ways to store data in memory, either by caching the data with `@st.cache()` or with the `st.session_state`."
   ]
  },
  {
   "cell_type": "markdown",
   "id": "39b06872-e833-4eed-aa43-ebc3710417ff",
   "metadata": {},
   "source": [
    "## Caching Data with st.cache`"
   ]
  },
  {
   "cell_type": "markdown",
   "id": "365e0162-179a-461f-b71c-9047e0dbddc3",
   "metadata": {},
   "source": [
    "When working with large data-driven projects, run time will become an issue with Streamlit. This is because Streamlit reruns the Python file each time something changes in the application. With large datasets, this means that each time a user does anything within your application, Streamlit will need to reload all the data. For this reason, it is essential to know how to store large datasets (or models) in cache so that Streamlit does not need to reload large memory-intensive data or models each item it reruns.\n",
    "\n",
    "We can cache our data with an `@st.cache()` above a function that loads the data. If we wanted to load our Titanic dataset and store it in memory, therefore, we would use the following code snippet.\n",
    "\n",
    "```\n",
    "@st.cache()\n",
    "def load_df():\n",
    "    df = pd.read_csv(\"./data/titanic.csv\")\n",
    "    return df\n",
    "```\n",
    "\n",
    "This is precisely the code that we will walk through when we create our first application in Streamlit later in this part of the textbook."
   ]
  },
  {
   "cell_type": "markdown",
   "id": "3a8ef2be-e2d1-4e4d-bb25-637aa67c0b63",
   "metadata": {},
   "source": [
    "# Storing Data with st.session_state"
   ]
  },
  {
   "cell_type": "markdown",
   "id": "d93b4ccd-a1ff-4419-93ee-604a6b0f0eb9",
   "metadata": {},
   "source": [
    "Aside from storing large data with cache, we can also store previous states of data with the `st.session_state`. The Streamlit Session State gives greater flexibility to an application. It functions as a dictionary that stores data that remains the same during any given state of the app. This means that if your app is rerun by the user because they interacted with the application, then the variable stored in the session state would remain the same.\n",
    "\n",
    "This is essential for more complex data-driven applications. Let's consider the simple example that we saw earlier in this chapter when we examined the `st.metric()` widget.\n",
    "\n",
    "```\n",
    "if \"prev_word_count\" not in st.session_state:\n",
    "    st.session_state[\"prev_word_count\"] = 5\n",
    "text = st.text_area(\"Paste text here to get word count.\", \"This is some default text.\")\n",
    "word_count = len(text.split())\n",
    "change = word_count-st.session_state.prev_word_count\n",
    "st.metric(\"Word Count\", word_count, change)\n",
    "st.session_state.prev_word_count = word_count\n",
    "```\n",
    "\n",
    "In this sample, we start off with a conditional:\n",
    "\n",
    "```\n",
    "if \"prev_word_count\" not in st.session_state:\n",
    "```\n",
    "\n",
    "This line looks to see if a variable name that we want to use is stored in our session state. If it is not stored there, then we want to create that new key. We do that with the following line:\n",
    "\n",
    "```\n",
    "    st.session_state[\"prev_word_count\"] = 5\n",
    "```\n",
    "\n",
    "Here we are setting the `prev_word_count` key to 5.\n",
    "\n",
    "Next, we give the user the ability to input some text for which they wish to receive a word count. In order for the metric to know if the new metric is higher or lower than the previous one, we must store the previous text's total word count. To do this, we access the previous session state in the final line of the snippet below.\n",
    "\n",
    "```\n",
    "text = st.text_area(\"Paste text here to get word count.\", \"This is some default text.\")\n",
    "word_count = len(text.split())\n",
    "change = word_count-st.session_state.prev_word_count\n",
    "```\n",
    "\n",
    "Once we have populated those results, we then can update the `st.session_state.previous_word_count` value to the new value. This allows us to always know the state of the previous word count, so that when we display the change value, we know precisely how much our metric has changed.\n",
    "\n",
    "```\n",
    "st.metric(\"Word Count\", word_count, change)\n",
    "st.session_state.prev_word_count = word_count\n",
    "```"
   ]
  },
  {
   "cell_type": "code",
   "execution_count": null,
   "id": "6666afa9-0739-4b80-8d65-a80450dc9ff1",
   "metadata": {},
   "outputs": [],
   "source": []
  }
 ],
 "metadata": {
  "kernelspec": {
   "display_name": "Python 3 (ipykernel)",
   "language": "python",
   "name": "python3"
  },
  "language_info": {
   "codemirror_mode": {
    "name": "ipython",
    "version": 3
   },
   "file_extension": ".py",
   "mimetype": "text/x-python",
   "name": "python",
   "nbconvert_exporter": "python",
   "pygments_lexer": "ipython3",
   "version": "3.9.12"
  }
 },
 "nbformat": 4,
 "nbformat_minor": 5
}
