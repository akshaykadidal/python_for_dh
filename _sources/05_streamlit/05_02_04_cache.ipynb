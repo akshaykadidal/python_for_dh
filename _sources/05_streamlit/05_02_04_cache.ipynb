{
 "cells": [
  {
   "cell_type": "markdown",
   "id": "bd9fd803-c3b7-486c-919e-a7cdf8d23ce3",
   "metadata": {},
   "source": [
    "# Streamlit Cache and Session States"
   ]
  },
  {
   "cell_type": "code",
   "execution_count": null,
   "id": "e8a175cc-22bb-4014-ac70-18b8315bdbb7",
   "metadata": {},
   "outputs": [],
   "source": []
  }
 ],
 "metadata": {
  "kernelspec": {
   "display_name": "Python 3 (ipykernel)",
   "language": "python",
   "name": "python3"
  },
  "language_info": {
   "codemirror_mode": {
    "name": "ipython",
    "version": 3
   },
   "file_extension": ".py",
   "mimetype": "text/x-python",
   "name": "python",
   "nbconvert_exporter": "python",
   "pygments_lexer": "ipython3",
   "version": "3.9.12"
  }
 },
 "nbformat": 4,
 "nbformat_minor": 5
}
