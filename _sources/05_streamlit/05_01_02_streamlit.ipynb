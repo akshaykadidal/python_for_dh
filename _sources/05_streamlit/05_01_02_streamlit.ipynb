{
 "cells": [
  {
   "cell_type": "markdown",
   "id": "99f37177-2bbe-4690-82fd-04d3922006bf",
   "metadata": {},
   "source": [
    "# Creating Our First App"
   ]
  },
  {
   "cell_type": "markdown",
   "id": "9e3e4b30-c809-4be1-92b6-2a4563753729",
   "metadata": {},
   "source": [
    "## Options for Application Development in Python"
   ]
  },
  {
   "cell_type": "markdown",
   "id": "9d129799-b35c-42bb-b92b-718c7aaf1182",
   "metadata": {},
   "source": [
    "In Python, there are several options available to those interested in designing applications. Selecting the right one depends on a few different factors, from customization, deployment (where the application will sit), performance, and speed with which it can be designed. Five years ago, if one wanted to design an application in Python, one needed to use the library Tkinter. This would have a Python-based application that could run locally. The key issue with Tkinter is that it has a steep learning curve, it can only run locally (unless you are willing to package a massive and slow .exe for a simple application), and its aesthetics leaves something to be desired.\n",
    "\n",
    "If one wanted to deploy an application on the web, there were two options available to researchers until a few years ago: flask and Django. Django has a steep learning curve but allows users to design and build entire websites that are entirely Python based. t also requires a detailed knowledge of servers in order to get an app running in the cloud effectively. Flask a simplified version of Django that does not require knowledge of server side development for deployment.\n",
    "\n",
    "Today, there are two options that allow researchers to make applications in minutes. The first is Bokeh. Bokeh allows one to create a Python server based application or write custom JavaScript functions that allow for an application to be compiled and distributed as a single HTML file. Bokeh excels at interactive applications where a user can manipulate a graph that simultaneously changes the output of a table, for example.\n",
    "\n",
    "For this textbook, we will learn how to design applications with Streamlit. I have chosen Streamlit for this textbook for a few reasons. First, Streamlit is relatively easy to learn. You can have your first application up and running in minutes. Second, it is well-maintained. This means that new features are added regularly. The maintainers of the library listen to their users and consistently provide features that they need. Third, Streamlit was just purchased by Snowflake which means it should continue to exist far into the future. This means that this section of the textbook will not likely go out of date quickly. Fourth, spaCy has pre-built Streamlit components, meaning you can create a spaCy-based application in seconds, not hours. Fifth, Streamlit has a large community and an active forum and Discord channel. This means that if you need to do something in Streamlit, there is likely a tutorial available; if you encounter a bug, there is likely a solution on the forum; if a solution is not on the forum, someone will help you if you ask.\n",
    "\n",
    "All of these reasons make Streamlit the logical choice for a textbook designed for those with limited coding experience."
   ]
  },
  {
   "cell_type": "code",
   "execution_count": null,
   "id": "43c7d5a7-a0d9-4b8f-ae7b-152787729e35",
   "metadata": {},
   "outputs": [],
   "source": []
  },
  {
   "cell_type": "markdown",
   "id": "b2a71663-a47d-4f0f-96e6-3da164c8604e",
   "metadata": {},
   "source": [
    "## Getting Started with Streamlit"
   ]
  },
  {
   "cell_type": "markdown",
   "id": "589ca4b6-0db1-4983-a7e4-629bc4903dc3",
   "metadata": {},
   "source": [
    "In order to begin designing applications with Streamlit, you first need to install it. Like all other Python libraries, you can do so by using `pip`. Once you execute the code below, you will install Streamlit locally."
   ]
  },
  {
   "cell_type": "code",
   "execution_count": 2,
   "id": "aa132916-9724-4970-ab24-3657f0f7ecb6",
   "metadata": {},
   "outputs": [],
   "source": [
    "# !pip install streamlit"
   ]
  },
  {
   "cell_type": "markdown",
   "id": "1008a280-50ff-481c-9c3a-1f09d79c3cc1",
   "metadata": {},
   "source": [
    "In order to create a Streamlit application, we must leave the Jupyter Notebook and begin writing Python in a script, or Python (.py) file."
   ]
  },
  {
   "cell_type": "code",
   "execution_count": null,
   "id": "424c2afa-76d4-4901-92a9-2573ffe5b51d",
   "metadata": {},
   "outputs": [],
   "source": []
  }
 ],
 "metadata": {
  "kernelspec": {
   "display_name": "Python 3 (ipykernel)",
   "language": "python",
   "name": "python3"
  },
  "language_info": {
   "codemirror_mode": {
    "name": "ipython",
    "version": 3
   },
   "file_extension": ".py",
   "mimetype": "text/x-python",
   "name": "python",
   "nbconvert_exporter": "python",
   "pygments_lexer": "ipython3",
   "version": "3.9.7"
  }
 },
 "nbformat": 4,
 "nbformat_minor": 5
}
