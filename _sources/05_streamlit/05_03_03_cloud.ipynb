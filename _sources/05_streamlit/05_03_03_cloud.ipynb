{
 "cells": [
  {
   "cell_type": "markdown",
   "id": "67df806d-1d06-484a-a3ba-a4455d573715",
   "metadata": {},
   "source": [
    "# Deploying an App in the Cloud with Streamlit Share"
   ]
  },
  {
   "cell_type": "markdown",
   "id": "85f574e5-82a3-4b9b-aeff-660e873b9236",
   "metadata": {},
   "source": [
    "Once you have designed an application and have tested it locally, it comes time to share it with others. We can do this with Streamlit by leveraging several different cloud-based services. Fortunately, Streamlit offers a free Streamlit Share service that lets users share their apps for free. This section of the notebook will walk you through this process."
   ]
  },
  {
   "cell_type": "markdown",
   "id": "0d61756d-edc9-4950-93eb-00b3f7fa0e64",
   "metadata": {},
   "source": [
    "## Create a GitHub Account"
   ]
  },
  {
   "cell_type": "markdown",
   "id": "3a7551b6-c601-4422-bc79-f95469624ed8",
   "metadata": {},
   "source": [
    "In order to deploy your application, you will need a place to store your application's source code. The easiest way to do this is via GitHub which Streamlit and many other application hosting services support."
   ]
  },
  {
   "cell_type": "markdown",
   "id": "d11c21f0-90e5-490d-a883-dbd4c1a83d3c",
   "metadata": {},
   "source": [
    "## Upload Application to GitHub"
   ]
  },
  {
   "cell_type": "markdown",
   "id": "713b982b-f950-4d23-83b4-91ecc7894a9a",
   "metadata": {},
   "source": [
    "Once you have created your GitHub account, you can create a repository and upload the code into the repository. If you are just starting out with GitHub, getting used to Git can be a bit daunting. Git is powerful, but has a steep learning curve. It allows you to maintain your code, especially in teams, and version control everything. This means that your code is always backed up and you can access previous versions of your code at any single time.\n",
    "\n",
    "To upload your application formally, you would want to be familiar with Git and how to perform basic tasks, such as cloning a repository, adding files to it, committing those changes, and then pushing them to the repository. While this is the better approach, it is not the only one. For now, you can get your application up and running entirely in your browser.\n",
    "\n",
    "First, we will create a new repository.\n",
    "\n",
    "Next, we need upload our application and data to our repository."
   ]
  },
  {
   "cell_type": "markdown",
   "id": "5d0b05b0-e106-4d91-9594-a1145e7594c7",
   "metadata": {},
   "source": [
    "## Connect Streamlit Share to your GitHub"
   ]
  },
  {
   "cell_type": "markdown",
   "id": "aea3a302-9628-4a09-8040-0b21daf20ef6",
   "metadata": {},
   "source": [
    "## Create a New App"
   ]
  },
  {
   "cell_type": "markdown",
   "id": "01aae7bd-d93d-4231-b791-66492f0c9b4e",
   "metadata": {},
   "source": [
    "## Set Custom Domain"
   ]
  },
  {
   "cell_type": "code",
   "execution_count": null,
   "id": "1faaa443-31e9-4ed1-b860-6c98be08e6c9",
   "metadata": {},
   "outputs": [],
   "source": []
  }
 ],
 "metadata": {
  "kernelspec": {
   "display_name": "Python 3 (ipykernel)",
   "language": "python",
   "name": "python3"
  },
  "language_info": {
   "codemirror_mode": {
    "name": "ipython",
    "version": 3
   },
   "file_extension": ".py",
   "mimetype": "text/x-python",
   "name": "python",
   "nbconvert_exporter": "python",
   "pygments_lexer": "ipython3",
   "version": "3.9.12"
  }
 },
 "nbformat": 4,
 "nbformat_minor": 5
}
