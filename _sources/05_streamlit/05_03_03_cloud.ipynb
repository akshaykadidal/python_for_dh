{
 "cells": [
  {
   "cell_type": "markdown",
   "id": "67df806d-1d06-484a-a3ba-a4455d573715",
   "metadata": {},
   "source": [
    "# Putting Your App in the Cloud with Streamlit Share"
   ]
  },
  {
   "cell_type": "code",
   "execution_count": null,
   "id": "5d9657c2-e08e-4368-aa95-ff9fa05ea1ad",
   "metadata": {},
   "outputs": [],
   "source": []
  }
 ],
 "metadata": {
  "kernelspec": {
   "display_name": "Python 3 (ipykernel)",
   "language": "python",
   "name": "python3"
  },
  "language_info": {
   "codemirror_mode": {
    "name": "ipython",
    "version": 3
   },
   "file_extension": ".py",
   "mimetype": "text/x-python",
   "name": "python",
   "nbconvert_exporter": "python",
   "pygments_lexer": "ipython3",
   "version": "3.9.12"
  }
 },
 "nbformat": 4,
 "nbformat_minor": 5
}
