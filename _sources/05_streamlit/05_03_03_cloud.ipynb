{
 "cells": [
  {
   "cell_type": "markdown",
   "id": "67df806d-1d06-484a-a3ba-a4455d573715",
   "metadata": {},
   "source": [
    "# Deploying an App in the Cloud with Streamlit Share"
   ]
  },
  {
   "cell_type": "markdown",
   "id": "85f574e5-82a3-4b9b-aeff-660e873b9236",
   "metadata": {},
   "source": [
    "Once you have designed an application and have tested it locally, it comes time to share it with others. We can do this with Streamlit by leveraging several different cloud-based services. Fortunately, Streamlit offers a free Streamlit Share service that lets users share their apps for free."
   ]
  },
  {
   "cell_type": "markdown",
   "id": "0d61756d-edc9-4950-93eb-00b3f7fa0e64",
   "metadata": {},
   "source": [
    "## Create a GitHub Account"
   ]
  },
  {
   "cell_type": "markdown",
   "id": "3a7551b6-c601-4422-bc79-f95469624ed8",
   "metadata": {},
   "source": [
    "In order to deploy your application, you will need a place to store your application's source code. The easiest way to do this is via GitHub which Streamlit and many other application hosting services support."
   ]
  },
  {
   "cell_type": "markdown",
   "id": "d11c21f0-90e5-490d-a883-dbd4c1a83d3c",
   "metadata": {},
   "source": [
    "## Upload Application to GitHub"
   ]
  },
  {
   "cell_type": "markdown",
   "id": "713b982b-f950-4d23-83b4-91ecc7894a9a",
   "metadata": {},
   "source": [
    "Once you have created your GitHub account, you can create a repository and upload the code into the repository. If you are just starting out with GitHub, getting used to Git can be a bit daunting. Git is powerful, but has a steep learning curve. It allows you to maintain your code, especially in teams, and version control everything. This means that your code is always backed up and you can access previous versions of your code at any single time.\n",
    "\n",
    "To upload your application formally, you would want to be familiar with Git and how to perform basic tasks, such as cloning a repository, adding files to it, committing those changes, and then pushing them to the repository. While this is the better approach, it is not the only one. For now, you can get your application up and running entirely in your browser.\n",
    "\n",
    "First, we will create a new repository. To do this, we will go to our GitHub main page and select `New`, found in the top-left side of your screen.\n",
    "\n",
    "```{figure} ../images/streamlit/github_new.png\n",
    "Creating a New GitHub Repository by Selecting New\n",
    "```\n",
    "\n",
    "Once you click `New`, you will see the following screen:\n",
    "\n",
    "```{figure} ../images/streamlit/github_create.png\n",
    "Example of GitHub Form for Creating New Repository\n",
    "```\n",
    "\n",
    "Here, we will fill out the details of our repository. We need to first give it a unique name. We can keep all other settings the default for now. Once done, we will click `Create repository`. After this, you will see a new screen that looks like this:\n",
    "\n",
    "```{figure} ../images/streamlit/github_setup.png\n",
    "Example of First Screen after Creating New Repository\n",
    "```\n",
    "\n",
    "You will now select `creating a new file`. Once you do, you will see a screen that looks like this:\n",
    "\n",
    "```{figure} ../images/streamlit/github_commit.png\n",
    "Example of Creating your First File and Commit in the New Repository\n",
    "```\n",
    "\n",
    "Here, you will create a file called `README.md` and assign some text to it. This will ideally describe your application. It will be what users see when they visit your GitHub repository. Once you have a description you are happy with, click `Commit new file`. This will lead to a final new screen.\n",
    "\n",
    "```{figure} ../images/streamlit/github_addfiles.png\n",
    "Example of Adding Files to the New Repository\n",
    "```\n",
    "\n",
    "Next, we need upload our application and data to our repository. To do this, we will click `Add file` and upload our local files that are necessary for running our Streamlit application. You will also want to make a `requirements.txt` file lists all required libraries, such as Pandas."
   ]
  },
  {
   "cell_type": "markdown",
   "id": "5d0b05b0-e106-4d91-9594-a1145e7594c7",
   "metadata": {},
   "source": [
    "## Connect Streamlit Share to your GitHub"
   ]
  },
  {
   "cell_type": "markdown",
   "id": "369db16f-4577-4a23-8c92-f72b613f6c74",
   "metadata": {},
   "source": [
    "Now that we have our repository created, we need to link Streamlit Share to our GitHub. To do so, you will need to visit `https://share.streamlit.io/` Once on this page, you will see a screen that looks like this:\n",
    "\n",
    "```{figure} ../images/streamlit/streamlit_signin.png\n",
    "Connecting GitHub to Streamlit Share\n",
    "```\n",
    "\n",
    "Select `Continue with GitHub` and use your GitHub credentials for login verification. Once you are logged in, you will see a screen that looks like this at the top:\n",
    "\n",
    "````{figure} `../images/streamlit/streamlit_mainpage.png\n",
    "Main Screen of Streamlit Share\n",
    "```"
   ]
  },
  {
   "cell_type": "markdown",
   "id": "aea3a302-9628-4a09-8040-0b21daf20ef6",
   "metadata": {},
   "source": [
    "## Create a New App"
   ]
  },
  {
   "cell_type": "markdown",
   "id": "042b9773-55dc-4254-8bf9-71d659df7502",
   "metadata": {},
   "source": [
    "Select `New App`. After a few seconds, you will be taken to a page that looks like this:\n",
    "\n",
    "```{figure} ../images/streamlit/streamlit_deployapp.png\n",
    "Form for Creating a New Application\n",
    "```\n",
    "\n",
    "Click on each of these fields. First, select your repository. Streamlit will be connected to your GitHub, so you will be able to see all your repositories, both private and public. Next, select the branch of your repository. We have not covered branches in this textbook. Branches are a function of Git. By default, your application will be on the main branch of your repository. Finally, select the main Python file in which your application rests. Once you have filled out these three fields, click `Deploy!`."
   ]
  },
  {
   "cell_type": "markdown",
   "id": "01aae7bd-d93d-4231-b791-66492f0c9b4e",
   "metadata": {},
   "source": [
    "## Set Custom Subdomain"
   ]
  },
  {
   "cell_type": "markdown",
   "id": "d999bc27-886f-4fae-974f-afe1afa431b8",
   "metadata": {},
   "source": [
    "It will take several minutes (depending on the complexity of your application and the number of required libraries you wish to have installed). At this point, Streamlit Share is building an environment on a server to host your application in the cloud. Once complete, it will provide you with a unique domain for your application with the extension. This will be based on your repository name and your GitHub username. We can create a custom subdomain for free by returning to our Streamlit Share homepage and selecting the three dots next to our application's name.\n",
    "\n",
    "```{figure} ../images/streamlit/streamlit_changeurl.png\n",
    "Select the Settings for your Application\n",
    "```\n",
    "\n",
    "Once here, select `Settings` and you will see a page that looks like this:\n",
    "\n",
    "```{figure} ../images/streamlit/streamlit_oldurl.png\n",
    "The Default URL for your Application\n",
    "```\n",
    "\n",
    "Note that in the middle of the screen, you will see your long subdomain. You can now change it to something unique and easier to remember for distributing to users. After you change your subdomain, click `Save`.\n",
    "\n",
    "```{figure} ../images/streamlit/streamlit_newurl.png\n",
    "The New URL for your Application\n",
    "```\n",
    "\n",
    "Now, your app is in the cloud with a unique and easy-to-remember subdomain!"
   ]
  },
  {
   "cell_type": "code",
   "execution_count": null,
   "id": "b545c802-77a8-4032-854c-37a8274e838e",
   "metadata": {},
   "outputs": [],
   "source": []
  }
 ],
 "metadata": {
  "kernelspec": {
   "display_name": "Python 3 (ipykernel)",
   "language": "python",
   "name": "python3"
  },
  "language_info": {
   "codemirror_mode": {
    "name": "ipython",
    "version": 3
   },
   "file_extension": ".py",
   "mimetype": "text/x-python",
   "name": "python",
   "nbconvert_exporter": "python",
   "pygments_lexer": "ipython3",
   "version": "3.8.5"
  }
 },
 "nbformat": 4,
 "nbformat_minor": 5
}
