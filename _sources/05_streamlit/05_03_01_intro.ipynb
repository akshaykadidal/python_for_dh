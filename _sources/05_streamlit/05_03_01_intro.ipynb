{
 "cells": [
  {
   "cell_type": "markdown",
   "id": "d0a5e221-d130-4e67-8333-3fbb982c992a",
   "metadata": {},
   "source": [
    "# Building a Database Query Application"
   ]
  },
  {
   "cell_type": "markdown",
   "id": "660769be-050b-4577-bbec-2da9d3704269",
   "metadata": {},
   "source": [
    "Now that you know the basics of Streamlit and some of its more advanced features, then it comes time to put that knowledge to practice. In this chapter, we will design a Streamlit application from scratch. It will be built around the Titanic dataset that we used in the Pandas portion of this textbook. We will not only design this application, we will also put it in the cloud so that users can access it.\n",
    "\n",
    "In Section 1 of this chapter we will walk through the basics of designing the application in Python. In Section 2, we will then focus on getting our application running in the cloud. The purpose of this chapter is to give you hands-on experience with designing an application as well as provide a template for you to use in a future project that requires querying a Pandas dataframe in Streamlit."
   ]
  },
  {
   "cell_type": "code",
   "execution_count": null,
   "id": "16a3a5ae-69a9-4984-8f4d-99605ae84955",
   "metadata": {},
   "outputs": [],
   "source": []
  }
 ],
 "metadata": {
  "kernelspec": {
   "display_name": "Python 3 (ipykernel)",
   "language": "python",
   "name": "python3"
  },
  "language_info": {
   "codemirror_mode": {
    "name": "ipython",
    "version": 3
   },
   "file_extension": ".py",
   "mimetype": "text/x-python",
   "name": "python",
   "nbconvert_exporter": "python",
   "pygments_lexer": "ipython3",
   "version": "3.8.5"
  }
 },
 "nbformat": 4,
 "nbformat_minor": 5
}
