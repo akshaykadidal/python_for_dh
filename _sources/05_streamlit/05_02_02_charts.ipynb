{
 "cells": [
  {
   "cell_type": "markdown",
   "id": "dc3e0a61-d78f-4956-9a27-fdd7b9765736",
   "metadata": {},
   "source": [
    "# Working with Charts in Streamlit"
   ]
  },
  {
   "cell_type": "markdown",
   "id": "4ed04033-cf9b-450d-ab04-72ae818f5075",
   "metadata": {},
   "source": [
    "When working with large quantities of data, it can often be difficult to present that data in a way that makes sense to non-experts. In these situations, we often rely on some form of chart to represent our data. Creating quality graphs in Python requires a lot of practice, but quality charts can be produced with Matplotlib, Altair, PyDeck, PyVis, Plotly, and Bokeh. Each has their own strengths. In this section, we will not go into these libraries, rather we will focus on how to present these different types of graphs in Streamlit.\n",
    "\n",
    "In Streamlit, we can leverage these libraries to produce visually appealing charts in just a few lines of code. We will focus on three types of graphs: Basic Plot Graphs, Map Graphs, and Network Graphs."
   ]
  },
  {
   "cell_type": "markdown",
   "id": "9537b85e-e4fa-4062-ab7d-3c0ab529f03f",
   "metadata": {},
   "source": [
    "## Plotting Basic Graphs with Streamlit"
   ]
  },
  {
   "cell_type": "markdown",
   "id": "cd4d65c7-8dbe-4327-b965-5edea3da2eef",
   "metadata": {},
   "source": [
    "We can plot basic graphs in Streamlit by passing a Pandas dataframe to different chart widgets in Streamlit. The first basic plot we can create is a line chart which we can create with the Streamlit widget `st.line_chart()`. We will be working with the Titanic dataset here that we first met in Part Two of this textbook. To prepare the data for visualization, we need to modify it a bit and group everything by the specific value that we want to plot. In our case, we want to visualize the number of survivors for different age groups on the Titanic. We can prepare our dataframe with the code below.\n",
    "\n",
    "```\n",
    "df = pd.read_csv(\"data/titanic.csv\")\n",
    "df = df[[\"Age\", \"Survived\"]]\n",
    "chart_df = df.groupby([\"Age\"]).sum()\n",
    "chart_df[\"Age\"] = chart_df.index\n",
    "```\n",
    "\n",
    "### Line Charts with st.line_chart()\n",
    "\n",
    "Once we have created our new `chart_df`, we can pass it to `st.line_chart()`. Here, we will pass the entire dataframe as the first argument and specify our x axis and y axis on the graph. In our case, we want to view the `Age` column on the x axis and the `Survived` column on the y axis.\n",
    "\n",
    "```\n",
    "st.line_chart(chart_df, x=\"Age\", y=[\"Survived\"])\n",
    "```\n",
    "\n",
    "The output will look like this:\n",
    "\n",
    "![line_chart widget in Streamlit](../images/streamlit/line_chart.png)\n",
    "\n",
    "\n",
    "### Bar Charts with st.bar_chart()\n",
    "Likewise, we can present this same data as a bar_chart with the widget `st.bar_chart()`. This will take the same arguments as above.\n",
    "\n",
    "```\n",
    "st.bar_chart(chart_df, x=\"Age\", y=[\"Survived\"])\n",
    "```\n",
    "\n",
    "The output will look like this:\n",
    "\n",
    "![bar_chart widget in Streamlit](../images/streamlit/bar_chart.png)\n",
    "\n",
    "### Area Charts with st.area_chart()\n",
    "\n",
    "And finally we can also use the same arguments to create an area chart with the `st.area_char()` widget.\n",
    "\n",
    "```\n",
    "st.area_chart(chart_df, x=\"Age\", y=[\"Survived\"])\n",
    "```\n",
    "\n",
    "The output will look like this:\n",
    "\n",
    "![area_chart widget in Streamlit](../images/streamlit/area_chart.png)"
   ]
  },
  {
   "cell_type": "markdown",
   "id": "9b3f176f-b906-42f5-9ebc-db1b036e9a3d",
   "metadata": {},
   "source": [
    "## Map Charts"
   ]
  },
  {
   "cell_type": "markdown",
   "id": "7d529073-f3d6-4817-8d7f-5befe6309dcb",
   "metadata": {},
   "source": [
    "A lot of digital humanities data is geospatial, or data that can be plotted on a map. Streamlit affords the ability to map geospatial data in several different ways; first, via the standard `st.map()` widget and second via the third-party chart libraries. Regardless of the library used, you will want to prepare your data well where your coordinates are labeled as either `lat` or `latitude` for the latitude and `lon` or `longitude` for the longitude. For this demonstration, we will be working with data from South Africa's Truth and Reconciliation Commission that we met in Part Four of this textbook when we explores Social Network Analysis.\n",
    "\n",
    "In order to prepare the dataframe, we can use the following code:\n",
    "\n",
    "```\n",
    "df = pd.read_feather(\"data/trc\")\n",
    "df = df.dropna()\n",
    "df = df[[\"full_name\", \"long\", \"lat\"]]\n",
    "df[\"lat\"] = pd.to_numeric(df[\"lat\"], downcast=\"float\")\n",
    "df[\"long\"] = pd.to_numeric(df[\"long\"], downcast=\"float\")\n",
    "df.columns = [\"full_name\", \"lon\", \"lat\"]\n",
    "```\n",
    "\n",
    "\n",
    "### Creating Maps with st.map()\n",
    "Once the data is prepared properly, we can then graph it with the standard Streamlit widget `st.map()` with a single line of code:\n",
    "\n",
    "```\n",
    "st.map(df)\n",
    "```\n",
    "\n",
    "The output will look like this:\n",
    "![basic_map widget in Streamlit](../images/streamlit/basic_map.png)\n",
    "\n",
    "Each node on this graph is a row in the dataframe. This is an interactive map that users can zoom in to each node on the graph. While this is useful for users to get a sense of the geospatial data quickly, the Streamlit `st.map()` widget is limited in what it can do. \n",
    "\n",
    "\n",
    "### Third-Party Maps - An Example with PyDeck\n",
    "For more advanced mapping features, you will need to rely on third-party libraries. Fortunately, Stremalit has wrappers pre-designed so that you can leverage the power and versatility of these other libraries all within your application Python file. \n",
    "\n",
    "For our purposes, we will use Streamlit's built in PyDeck wrapper with the `st.pydeck_chart()` widget. The code below will create a similar graph, but note that because we are creating a PyDeck map, rather than a standard Streamlit map, we can leverage the full power of the PyDeck library, including giving tooltips that pop out for each node, the radius of our nodes, the degree to which they come off the map in 3 dimensional space, the bitch of the map, and the default zoom.\n",
    "\n",
    "```\n",
    "st.pydeck_chart(pdk.Deck(\n",
    "    map_style=None,\n",
    "    initial_view_state=pdk.ViewState(\n",
    "        latitude=-25.97,\n",
    "        longitude=30.50,\n",
    "        zoom=5,\n",
    "        pitch=0,\n",
    "    ),\n",
    "    layers=[\n",
    "        pdk.Layer(\n",
    "            \"ScatterplotLayer\",\n",
    "            df,\n",
    "            pickable=True,\n",
    "            opacity=0.8,\n",
    "            stroked=True,\n",
    "            filled=False,\n",
    "            radius_scale=6,\n",
    "            radius_min_pixels=1,\n",
    "            radius_max_pixels=1000,\n",
    "            line_width_min_pixels=5,\n",
    "            get_position=\"[lon, lat]\",\n",
    "            get_radius=\"radius\",\n",
    "            get_fill_color=[255, 140, 0],\n",
    "            get_line_color=[255, 140, 0],\n",
    "                ),\n",
    "    ],\n",
    "))\n",
    "\n",
    "```\n",
    "\n",
    "The output will look like this:\n",
    "\n",
    "![pydeck_map widget in Streamlit](../images/streamlit/pydeck_map.png)"
   ]
  },
  {
   "cell_type": "code",
   "execution_count": null,
   "id": "0d959923-e3d7-4cfe-bade-452c5420576d",
   "metadata": {},
   "outputs": [],
   "source": []
  }
 ],
 "metadata": {
  "kernelspec": {
   "display_name": "Python 3 (ipykernel)",
   "language": "python",
   "name": "python3"
  },
  "language_info": {
   "codemirror_mode": {
    "name": "ipython",
    "version": 3
   },
   "file_extension": ".py",
   "mimetype": "text/x-python",
   "name": "python",
   "nbconvert_exporter": "python",
   "pygments_lexer": "ipython3",
   "version": "3.9.12"
  }
 },
 "nbformat": 4,
 "nbformat_minor": 5
}
